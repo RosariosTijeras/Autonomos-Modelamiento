{
 "cells": [
  {
   "cell_type": "markdown",
   "id": "23ad9f78",
   "metadata": {},
   "source": [
    "### install DMwR2 package desde GitHub"
   ]
  },
  {
   "cell_type": "code",
   "execution_count": 1,
   "id": "15849271",
   "metadata": {
    "vscode": {
     "languageId": "r"
    }
   },
   "outputs": [
    {
     "name": "stderr",
     "output_type": "stream",
     "text": [
      "Installing package into 'C:/Users/mario/AppData/Local/R/win-library/4.5'\n",
      "(as 'lib' is unspecified)\n",
      "\n"
     ]
    },
    {
     "name": "stdout",
     "output_type": "stream",
     "text": [
      "package 'remotes' successfully unpacked and MD5 sums checked\n",
      "\n",
      "The downloaded binary packages are in\n",
      "\tC:\\Users\\mario\\AppData\\Local\\Temp\\Rtmpg78BxJ\\downloaded_packages\n"
     ]
    },
    {
     "name": "stderr",
     "output_type": "stream",
     "text": [
      "Using GitHub PAT from the git credential store.\n",
      "\n",
      "Skipping install of 'DMwR2' from a github remote, the SHA1 (c19cb087) has not changed since last install.\n",
      "  Use `force = TRUE` to force installation\n",
      "\n"
     ]
    }
   ],
   "source": [
    "install.packages(\"remotes\")\n",
    "remotes::install_github(\"ltorgo/DMwR2\")"
   ]
  },
  {
   "cell_type": "markdown",
   "id": "30d39b3c",
   "metadata": {},
   "source": [
    "### instalar paquetes necesarios"
   ]
  },
  {
   "cell_type": "code",
   "execution_count": 2,
   "id": "c8d71bb6",
   "metadata": {
    "vscode": {
     "languageId": "r"
    }
   },
   "outputs": [
    {
     "name": "stderr",
     "output_type": "stream",
     "text": [
      "Installing package into 'C:/Users/mario/AppData/Local/R/win-library/4.5'\n",
      "(as 'lib' is unspecified)\n",
      "\n"
     ]
    },
    {
     "name": "stdout",
     "output_type": "stream",
     "text": [
      "package 'dplyr' successfully unpacked and MD5 sums checked\n"
     ]
    },
    {
     "name": "stderr",
     "output_type": "stream",
     "text": [
      "Warning message:\n",
      "\"cannot remove prior installation of package 'dplyr'\"\n",
      "Warning message in file.copy(savedcopy, lib, recursive = TRUE):\n",
      "\"problema al copiar C:\\Users\\mario\\AppData\\Local\\R\\win-library\\4.5\\00LOCK\\dplyr\\libs\\x64\\dplyr.dll  a C:\\Users\\mario\\AppData\\Local\\R\\win-library\\4.5\\dplyr\\libs\\x64\\dplyr.dll: Permission denied\"\n",
      "Warning message:\n",
      "\"restored 'dplyr'\"\n"
     ]
    },
    {
     "name": "stdout",
     "output_type": "stream",
     "text": [
      "\n",
      "The downloaded binary packages are in\n",
      "\tC:\\Users\\mario\\AppData\\Local\\Temp\\Rtmpg78BxJ\\downloaded_packages\n"
     ]
    },
    {
     "name": "stderr",
     "output_type": "stream",
     "text": [
      "Installing package into 'C:/Users/mario/AppData/Local/R/win-library/4.5'\n",
      "(as 'lib' is unspecified)\n",
      "\n"
     ]
    },
    {
     "name": "stdout",
     "output_type": "stream",
     "text": [
      "package 'corrplot' successfully unpacked and MD5 sums checked\n",
      "\n",
      "The downloaded binary packages are in\n",
      "\tC:\\Users\\mario\\AppData\\Local\\Temp\\Rtmpg78BxJ\\downloaded_packages\n"
     ]
    },
    {
     "name": "stderr",
     "output_type": "stream",
     "text": [
      "Installing package into 'C:/Users/mario/AppData/Local/R/win-library/4.5'\n",
      "(as 'lib' is unspecified)\n",
      "\n"
     ]
    },
    {
     "name": "stdout",
     "output_type": "stream",
     "text": [
      "package 'GGally' successfully unpacked and MD5 sums checked\n",
      "\n",
      "The downloaded binary packages are in\n",
      "\tC:\\Users\\mario\\AppData\\Local\\Temp\\Rtmpg78BxJ\\downloaded_packages\n"
     ]
    }
   ],
   "source": [
    "install.packages(\"dplyr\")\n",
    "install.packages(\"corrplot\")\n",
    "install.packages(\"GGally\")"
   ]
  },
  {
   "cell_type": "markdown",
   "id": "7c5c880b",
   "metadata": {},
   "source": [
    "### cargar librerías"
   ]
  },
  {
   "cell_type": "code",
   "execution_count": 3,
   "id": "e9d09d29",
   "metadata": {
    "vscode": {
     "languageId": "r"
    }
   },
   "outputs": [
    {
     "name": "stderr",
     "output_type": "stream",
     "text": [
      "\n",
      "Adjuntando el paquete: 'dplyr'\n",
      "\n",
      "\n",
      "The following objects are masked from 'package:stats':\n",
      "\n",
      "    filter, lag\n",
      "\n",
      "\n",
      "The following objects are masked from 'package:base':\n",
      "\n",
      "    intersect, setdiff, setequal, union\n",
      "\n",
      "\n",
      "corrplot 0.95 loaded\n",
      "\n",
      "Cargando paquete requerido: ggplot2\n",
      "\n",
      "Registered S3 method overwritten by 'quantmod':\n",
      "  method            from\n",
      "  as.zoo.data.frame zoo \n",
      "\n"
     ]
    }
   ],
   "source": [
    "library(tidyr)\n",
    "library(dplyr)\n",
    "library(corrplot)\n",
    "library(GGally)\n",
    "library(DMwR2)\n",
    "library(ggplot2)"
   ]
  },
  {
   "cell_type": "markdown",
   "id": "d4fa9699",
   "metadata": {},
   "source": [
    "### cargar y explorar el conjunto de datos"
   ]
  },
  {
   "cell_type": "code",
   "execution_count": 4,
   "id": "34390947",
   "metadata": {
    "vscode": {
     "languageId": "r"
    }
   },
   "outputs": [
    {
     "data": {
      "text/html": [
       "<table class=\"dataframe\">\n",
       "<caption>A tibble: 6 × 18</caption>\n",
       "<thead>\n",
       "\t<tr><th scope=col>season</th><th scope=col>size</th><th scope=col>speed</th><th scope=col>mxPH</th><th scope=col>mnO2</th><th scope=col>Cl</th><th scope=col>NO3</th><th scope=col>NH4</th><th scope=col>oPO4</th><th scope=col>PO4</th><th scope=col>Chla</th><th scope=col>a1</th><th scope=col>a2</th><th scope=col>a3</th><th scope=col>a4</th><th scope=col>a5</th><th scope=col>a6</th><th scope=col>a7</th></tr>\n",
       "\t<tr><th scope=col>&lt;fct&gt;</th><th scope=col>&lt;fct&gt;</th><th scope=col>&lt;fct&gt;</th><th scope=col>&lt;dbl&gt;</th><th scope=col>&lt;dbl&gt;</th><th scope=col>&lt;dbl&gt;</th><th scope=col>&lt;dbl&gt;</th><th scope=col>&lt;dbl&gt;</th><th scope=col>&lt;dbl&gt;</th><th scope=col>&lt;dbl&gt;</th><th scope=col>&lt;dbl&gt;</th><th scope=col>&lt;dbl&gt;</th><th scope=col>&lt;dbl&gt;</th><th scope=col>&lt;dbl&gt;</th><th scope=col>&lt;dbl&gt;</th><th scope=col>&lt;dbl&gt;</th><th scope=col>&lt;dbl&gt;</th><th scope=col>&lt;dbl&gt;</th></tr>\n",
       "</thead>\n",
       "<tbody>\n",
       "\t<tr><td>winter</td><td>small</td><td>medium</td><td>8.00</td><td> 9.8</td><td>60.800</td><td> 6.238</td><td>578.000</td><td>105.000</td><td>170.000</td><td>50.0</td><td> 0.0</td><td> 0.0</td><td> 0.0</td><td>0.0</td><td>34.2</td><td> 8.3</td><td>0.0</td></tr>\n",
       "\t<tr><td>spring</td><td>small</td><td>medium</td><td>8.35</td><td> 8.0</td><td>57.750</td><td> 1.288</td><td>370.000</td><td>428.750</td><td>558.750</td><td> 1.3</td><td> 1.4</td><td> 7.6</td><td> 4.8</td><td>1.9</td><td> 6.7</td><td> 0.0</td><td>2.1</td></tr>\n",
       "\t<tr><td>autumn</td><td>small</td><td>medium</td><td>8.10</td><td>11.4</td><td>40.020</td><td> 5.330</td><td>346.667</td><td>125.667</td><td>187.057</td><td>15.6</td><td> 3.3</td><td>53.6</td><td> 1.9</td><td>0.0</td><td> 0.0</td><td> 0.0</td><td>9.7</td></tr>\n",
       "\t<tr><td>spring</td><td>small</td><td>medium</td><td>8.07</td><td> 4.8</td><td>77.364</td><td> 2.302</td><td> 98.182</td><td> 61.182</td><td>138.700</td><td> 1.4</td><td> 3.1</td><td>41.0</td><td>18.9</td><td>0.0</td><td> 1.4</td><td> 0.0</td><td>1.4</td></tr>\n",
       "\t<tr><td>autumn</td><td>small</td><td>medium</td><td>8.06</td><td> 9.0</td><td>55.350</td><td>10.416</td><td>233.700</td><td> 58.222</td><td> 97.580</td><td>10.5</td><td> 9.2</td><td> 2.9</td><td> 7.5</td><td>0.0</td><td> 7.5</td><td> 4.1</td><td>1.0</td></tr>\n",
       "\t<tr><td>winter</td><td>small</td><td>high  </td><td>8.25</td><td>13.1</td><td>65.750</td><td> 9.248</td><td>430.000</td><td> 18.250</td><td> 56.667</td><td>28.4</td><td>15.1</td><td>14.6</td><td> 1.4</td><td>0.0</td><td>22.5</td><td>12.6</td><td>2.9</td></tr>\n",
       "</tbody>\n",
       "</table>\n"
      ],
      "text/latex": [
       "A tibble: 6 × 18\n",
       "\\begin{tabular}{llllllllllllllllll}\n",
       " season & size & speed & mxPH & mnO2 & Cl & NO3 & NH4 & oPO4 & PO4 & Chla & a1 & a2 & a3 & a4 & a5 & a6 & a7\\\\\n",
       " <fct> & <fct> & <fct> & <dbl> & <dbl> & <dbl> & <dbl> & <dbl> & <dbl> & <dbl> & <dbl> & <dbl> & <dbl> & <dbl> & <dbl> & <dbl> & <dbl> & <dbl>\\\\\n",
       "\\hline\n",
       "\t winter & small & medium & 8.00 &  9.8 & 60.800 &  6.238 & 578.000 & 105.000 & 170.000 & 50.0 &  0.0 &  0.0 &  0.0 & 0.0 & 34.2 &  8.3 & 0.0\\\\\n",
       "\t spring & small & medium & 8.35 &  8.0 & 57.750 &  1.288 & 370.000 & 428.750 & 558.750 &  1.3 &  1.4 &  7.6 &  4.8 & 1.9 &  6.7 &  0.0 & 2.1\\\\\n",
       "\t autumn & small & medium & 8.10 & 11.4 & 40.020 &  5.330 & 346.667 & 125.667 & 187.057 & 15.6 &  3.3 & 53.6 &  1.9 & 0.0 &  0.0 &  0.0 & 9.7\\\\\n",
       "\t spring & small & medium & 8.07 &  4.8 & 77.364 &  2.302 &  98.182 &  61.182 & 138.700 &  1.4 &  3.1 & 41.0 & 18.9 & 0.0 &  1.4 &  0.0 & 1.4\\\\\n",
       "\t autumn & small & medium & 8.06 &  9.0 & 55.350 & 10.416 & 233.700 &  58.222 &  97.580 & 10.5 &  9.2 &  2.9 &  7.5 & 0.0 &  7.5 &  4.1 & 1.0\\\\\n",
       "\t winter & small & high   & 8.25 & 13.1 & 65.750 &  9.248 & 430.000 &  18.250 &  56.667 & 28.4 & 15.1 & 14.6 &  1.4 & 0.0 & 22.5 & 12.6 & 2.9\\\\\n",
       "\\end{tabular}\n"
      ],
      "text/markdown": [
       "\n",
       "A tibble: 6 × 18\n",
       "\n",
       "| season &lt;fct&gt; | size &lt;fct&gt; | speed &lt;fct&gt; | mxPH &lt;dbl&gt; | mnO2 &lt;dbl&gt; | Cl &lt;dbl&gt; | NO3 &lt;dbl&gt; | NH4 &lt;dbl&gt; | oPO4 &lt;dbl&gt; | PO4 &lt;dbl&gt; | Chla &lt;dbl&gt; | a1 &lt;dbl&gt; | a2 &lt;dbl&gt; | a3 &lt;dbl&gt; | a4 &lt;dbl&gt; | a5 &lt;dbl&gt; | a6 &lt;dbl&gt; | a7 &lt;dbl&gt; |\n",
       "|---|---|---|---|---|---|---|---|---|---|---|---|---|---|---|---|---|---|\n",
       "| winter | small | medium | 8.00 |  9.8 | 60.800 |  6.238 | 578.000 | 105.000 | 170.000 | 50.0 |  0.0 |  0.0 |  0.0 | 0.0 | 34.2 |  8.3 | 0.0 |\n",
       "| spring | small | medium | 8.35 |  8.0 | 57.750 |  1.288 | 370.000 | 428.750 | 558.750 |  1.3 |  1.4 |  7.6 |  4.8 | 1.9 |  6.7 |  0.0 | 2.1 |\n",
       "| autumn | small | medium | 8.10 | 11.4 | 40.020 |  5.330 | 346.667 | 125.667 | 187.057 | 15.6 |  3.3 | 53.6 |  1.9 | 0.0 |  0.0 |  0.0 | 9.7 |\n",
       "| spring | small | medium | 8.07 |  4.8 | 77.364 |  2.302 |  98.182 |  61.182 | 138.700 |  1.4 |  3.1 | 41.0 | 18.9 | 0.0 |  1.4 |  0.0 | 1.4 |\n",
       "| autumn | small | medium | 8.06 |  9.0 | 55.350 | 10.416 | 233.700 |  58.222 |  97.580 | 10.5 |  9.2 |  2.9 |  7.5 | 0.0 |  7.5 |  4.1 | 1.0 |\n",
       "| winter | small | high   | 8.25 | 13.1 | 65.750 |  9.248 | 430.000 |  18.250 |  56.667 | 28.4 | 15.1 | 14.6 |  1.4 | 0.0 | 22.5 | 12.6 | 2.9 |\n",
       "\n"
      ],
      "text/plain": [
       "  season size  speed  mxPH mnO2 Cl     NO3    NH4     oPO4    PO4     Chla a1  \n",
       "1 winter small medium 8.00  9.8 60.800  6.238 578.000 105.000 170.000 50.0  0.0\n",
       "2 spring small medium 8.35  8.0 57.750  1.288 370.000 428.750 558.750  1.3  1.4\n",
       "3 autumn small medium 8.10 11.4 40.020  5.330 346.667 125.667 187.057 15.6  3.3\n",
       "4 spring small medium 8.07  4.8 77.364  2.302  98.182  61.182 138.700  1.4  3.1\n",
       "5 autumn small medium 8.06  9.0 55.350 10.416 233.700  58.222  97.580 10.5  9.2\n",
       "6 winter small high   8.25 13.1 65.750  9.248 430.000  18.250  56.667 28.4 15.1\n",
       "  a2   a3   a4  a5   a6   a7 \n",
       "1  0.0  0.0 0.0 34.2  8.3 0.0\n",
       "2  7.6  4.8 1.9  6.7  0.0 2.1\n",
       "3 53.6  1.9 0.0  0.0  0.0 9.7\n",
       "4 41.0 18.9 0.0  1.4  0.0 1.4\n",
       "5  2.9  7.5 0.0  7.5  4.1 1.0\n",
       "6 14.6  1.4 0.0 22.5 12.6 2.9"
      ]
     },
     "metadata": {},
     "output_type": "display_data"
    }
   ],
   "source": [
    "data <- algae\n",
    "head(data)"
   ]
  },
  {
   "cell_type": "code",
   "execution_count": 5,
   "id": "b8863335",
   "metadata": {
    "vscode": {
     "languageId": "r"
    }
   },
   "outputs": [
    {
     "name": "stdout",
     "output_type": "stream",
     "text": [
      "Rows: 200\n",
      "Columns: 18\n",
      "$ season \u001b[3m\u001b[90m<fct>\u001b[39m\u001b[23m winter\u001b[90m, \u001b[39mspring\u001b[90m, \u001b[39mautumn\u001b[90m, \u001b[39mspring\u001b[90m, \u001b[39mautumn\u001b[90m, \u001b[39mwinter\u001b[90m, \u001b[39msummer\u001b[90m, \u001b[39mautumn\u001b[90m,\u001b[39m…\n",
      "$ size   \u001b[3m\u001b[90m<fct>\u001b[39m\u001b[23m small\u001b[90m, \u001b[39msmall\u001b[90m, \u001b[39msmall\u001b[90m, \u001b[39msmall\u001b[90m, \u001b[39msmall\u001b[90m, \u001b[39msmall\u001b[90m, \u001b[39msmall\u001b[90m, \u001b[39msmall\u001b[90m, \u001b[39msmall\u001b[90m, \u001b[39m…\n",
      "$ speed  \u001b[3m\u001b[90m<fct>\u001b[39m\u001b[23m medium\u001b[90m, \u001b[39mmedium\u001b[90m, \u001b[39mmedium\u001b[90m, \u001b[39mmedium\u001b[90m, \u001b[39mmedium\u001b[90m, \u001b[39mhigh\u001b[90m, \u001b[39mhigh\u001b[90m, \u001b[39mhigh\u001b[90m, \u001b[39mmediu…\n",
      "$ mxPH   \u001b[3m\u001b[90m<dbl>\u001b[39m\u001b[23m 8.00\u001b[90m, \u001b[39m8.35\u001b[90m, \u001b[39m8.10\u001b[90m, \u001b[39m8.07\u001b[90m, \u001b[39m8.06\u001b[90m, \u001b[39m8.25\u001b[90m, \u001b[39m8.15\u001b[90m, \u001b[39m8.05\u001b[90m, \u001b[39m8.70\u001b[90m, \u001b[39m7.93\u001b[90m, \u001b[39m7.7…\n",
      "$ mnO2   \u001b[3m\u001b[90m<dbl>\u001b[39m\u001b[23m 9.8\u001b[90m, \u001b[39m8.0\u001b[90m, \u001b[39m11.4\u001b[90m, \u001b[39m4.8\u001b[90m, \u001b[39m9.0\u001b[90m, \u001b[39m13.1\u001b[90m, \u001b[39m10.3\u001b[90m, \u001b[39m10.6\u001b[90m, \u001b[39m3.4\u001b[90m, \u001b[39m9.9\u001b[90m, \u001b[39m10.2\u001b[90m, \u001b[39m11.…\n",
      "$ Cl     \u001b[3m\u001b[90m<dbl>\u001b[39m\u001b[23m 60.800\u001b[90m, \u001b[39m57.750\u001b[90m, \u001b[39m40.020\u001b[90m, \u001b[39m77.364\u001b[90m, \u001b[39m55.350\u001b[90m, \u001b[39m65.750\u001b[90m, \u001b[39m73.250\u001b[90m, \u001b[39m59.067\u001b[90m,\u001b[39m…\n",
      "$ NO3    \u001b[3m\u001b[90m<dbl>\u001b[39m\u001b[23m 6.238\u001b[90m, \u001b[39m1.288\u001b[90m, \u001b[39m5.330\u001b[90m, \u001b[39m2.302\u001b[90m, \u001b[39m10.416\u001b[90m, \u001b[39m9.248\u001b[90m, \u001b[39m1.535\u001b[90m, \u001b[39m4.990\u001b[90m, \u001b[39m0.886\u001b[90m,\u001b[39m…\n",
      "$ NH4    \u001b[3m\u001b[90m<dbl>\u001b[39m\u001b[23m 578.000\u001b[90m, \u001b[39m370.000\u001b[90m, \u001b[39m346.667\u001b[90m, \u001b[39m98.182\u001b[90m, \u001b[39m233.700\u001b[90m, \u001b[39m430.000\u001b[90m, \u001b[39m110.000\u001b[90m, \u001b[39m2…\n",
      "$ oPO4   \u001b[3m\u001b[90m<dbl>\u001b[39m\u001b[23m 105.000\u001b[90m, \u001b[39m428.750\u001b[90m, \u001b[39m125.667\u001b[90m, \u001b[39m61.182\u001b[90m, \u001b[39m58.222\u001b[90m, \u001b[39m18.250\u001b[90m, \u001b[39m61.250\u001b[90m, \u001b[39m44.6…\n",
      "$ PO4    \u001b[3m\u001b[90m<dbl>\u001b[39m\u001b[23m 170.000\u001b[90m, \u001b[39m558.750\u001b[90m, \u001b[39m187.057\u001b[90m, \u001b[39m138.700\u001b[90m, \u001b[39m97.580\u001b[90m, \u001b[39m56.667\u001b[90m, \u001b[39m111.750\u001b[90m, \u001b[39m77…\n",
      "$ Chla   \u001b[3m\u001b[90m<dbl>\u001b[39m\u001b[23m 50.000\u001b[90m, \u001b[39m1.300\u001b[90m, \u001b[39m15.600\u001b[90m, \u001b[39m1.400\u001b[90m, \u001b[39m10.500\u001b[90m, \u001b[39m28.400\u001b[90m, \u001b[39m3.200\u001b[90m, \u001b[39m6.900\u001b[90m, \u001b[39m5.5…\n",
      "$ a1     \u001b[3m\u001b[90m<dbl>\u001b[39m\u001b[23m 0.0\u001b[90m, \u001b[39m1.4\u001b[90m, \u001b[39m3.3\u001b[90m, \u001b[39m3.1\u001b[90m, \u001b[39m9.2\u001b[90m, \u001b[39m15.1\u001b[90m, \u001b[39m2.4\u001b[90m, \u001b[39m18.2\u001b[90m, \u001b[39m25.4\u001b[90m, \u001b[39m17.0\u001b[90m, \u001b[39m16.6\u001b[90m, \u001b[39m32.…\n",
      "$ a2     \u001b[3m\u001b[90m<dbl>\u001b[39m\u001b[23m 0.0\u001b[90m, \u001b[39m7.6\u001b[90m, \u001b[39m53.6\u001b[90m, \u001b[39m41.0\u001b[90m, \u001b[39m2.9\u001b[90m, \u001b[39m14.6\u001b[90m, \u001b[39m1.2\u001b[90m, \u001b[39m1.6\u001b[90m, \u001b[39m5.4\u001b[90m, \u001b[39m0.0\u001b[90m, \u001b[39m0.0\u001b[90m, \u001b[39m0.0\u001b[90m, \u001b[39m…\n",
      "$ a3     \u001b[3m\u001b[90m<dbl>\u001b[39m\u001b[23m 0.0\u001b[90m, \u001b[39m4.8\u001b[90m, \u001b[39m1.9\u001b[90m, \u001b[39m18.9\u001b[90m, \u001b[39m7.5\u001b[90m, \u001b[39m1.4\u001b[90m, \u001b[39m3.2\u001b[90m, \u001b[39m0.0\u001b[90m, \u001b[39m2.5\u001b[90m, \u001b[39m0.0\u001b[90m, \u001b[39m0.0\u001b[90m, \u001b[39m0.0\u001b[90m, \u001b[39m2.…\n",
      "$ a4     \u001b[3m\u001b[90m<dbl>\u001b[39m\u001b[23m 0.0\u001b[90m, \u001b[39m1.9\u001b[90m, \u001b[39m0.0\u001b[90m, \u001b[39m0.0\u001b[90m, \u001b[39m0.0\u001b[90m, \u001b[39m0.0\u001b[90m, \u001b[39m3.9\u001b[90m, \u001b[39m0.0\u001b[90m, \u001b[39m0.0\u001b[90m, \u001b[39m2.9\u001b[90m, \u001b[39m0.0\u001b[90m, \u001b[39m0.0\u001b[90m, \u001b[39m0.0…\n",
      "$ a5     \u001b[3m\u001b[90m<dbl>\u001b[39m\u001b[23m 34.2\u001b[90m, \u001b[39m6.7\u001b[90m, \u001b[39m0.0\u001b[90m, \u001b[39m1.4\u001b[90m, \u001b[39m7.5\u001b[90m, \u001b[39m22.5\u001b[90m, \u001b[39m5.8\u001b[90m, \u001b[39m5.5\u001b[90m, \u001b[39m0.0\u001b[90m, \u001b[39m0.0\u001b[90m, \u001b[39m1.2\u001b[90m, \u001b[39m0.0\u001b[90m, \u001b[39m1…\n",
      "$ a6     \u001b[3m\u001b[90m<dbl>\u001b[39m\u001b[23m 8.3\u001b[90m, \u001b[39m0.0\u001b[90m, \u001b[39m0.0\u001b[90m, \u001b[39m0.0\u001b[90m, \u001b[39m4.1\u001b[90m, \u001b[39m12.6\u001b[90m, \u001b[39m6.8\u001b[90m, \u001b[39m8.7\u001b[90m, \u001b[39m0.0\u001b[90m, \u001b[39m0.0\u001b[90m, \u001b[39m0.0\u001b[90m, \u001b[39m0.0\u001b[90m, \u001b[39m0.…\n",
      "$ a7     \u001b[3m\u001b[90m<dbl>\u001b[39m\u001b[23m 0.0\u001b[90m, \u001b[39m2.1\u001b[90m, \u001b[39m9.7\u001b[90m, \u001b[39m1.4\u001b[90m, \u001b[39m1.0\u001b[90m, \u001b[39m2.9\u001b[90m, \u001b[39m0.0\u001b[90m, \u001b[39m0.0\u001b[90m, \u001b[39m0.0\u001b[90m, \u001b[39m1.7\u001b[90m, \u001b[39m6.0\u001b[90m, \u001b[39m1.5\u001b[90m, \u001b[39m2.1…\n"
     ]
    }
   ],
   "source": [
    "### glimpse(data) para ver la estructura del data frame\n",
    "glimpse(data)"
   ]
  },
  {
   "cell_type": "code",
   "execution_count": 6,
   "id": "dd926d6a",
   "metadata": {
    "vscode": {
     "languageId": "r"
    }
   },
   "outputs": [
    {
     "data": {
      "text/plain": [
       "    season       size       speed         mxPH            mnO2       \n",
       " autumn:40   large :45   high  :84   Min.   :5.600   Min.   : 1.500  \n",
       " spring:53   medium:84   low   :33   1st Qu.:7.700   1st Qu.: 7.725  \n",
       " summer:45   small :71   medium:83   Median :8.060   Median : 9.800  \n",
       " winter:62                           Mean   :8.012   Mean   : 9.118  \n",
       "                                     3rd Qu.:8.400   3rd Qu.:10.800  \n",
       "                                     Max.   :9.700   Max.   :13.400  \n",
       "                                     NA's   :1       NA's   :2       \n",
       "       Cl               NO3              NH4                oPO4       \n",
       " Min.   :  0.222   Min.   : 0.050   Min.   :    5.00   Min.   :  1.00  \n",
       " 1st Qu.: 10.981   1st Qu.: 1.296   1st Qu.:   38.33   1st Qu.: 15.70  \n",
       " Median : 32.730   Median : 2.675   Median :  103.17   Median : 40.15  \n",
       " Mean   : 43.636   Mean   : 3.282   Mean   :  501.30   Mean   : 73.59  \n",
       " 3rd Qu.: 57.824   3rd Qu.: 4.446   3rd Qu.:  226.95   3rd Qu.: 99.33  \n",
       " Max.   :391.500   Max.   :45.650   Max.   :24064.00   Max.   :564.60  \n",
       " NA's   :10        NA's   :2        NA's   :2          NA's   :2       \n",
       "      PO4              Chla               a1              a2        \n",
       " Min.   :  1.00   Min.   :  0.200   Min.   : 0.00   Min.   : 0.000  \n",
       " 1st Qu.: 41.38   1st Qu.:  2.000   1st Qu.: 1.50   1st Qu.: 0.000  \n",
       " Median :103.29   Median :  5.475   Median : 6.95   Median : 3.000  \n",
       " Mean   :137.88   Mean   : 13.971   Mean   :16.92   Mean   : 7.458  \n",
       " 3rd Qu.:213.75   3rd Qu.: 18.308   3rd Qu.:24.80   3rd Qu.:11.375  \n",
       " Max.   :771.60   Max.   :110.456   Max.   :89.80   Max.   :72.600  \n",
       " NA's   :2        NA's   :12                                        \n",
       "       a3               a4               a5               a6        \n",
       " Min.   : 0.000   Min.   : 0.000   Min.   : 0.000   Min.   : 0.000  \n",
       " 1st Qu.: 0.000   1st Qu.: 0.000   1st Qu.: 0.000   1st Qu.: 0.000  \n",
       " Median : 1.550   Median : 0.000   Median : 1.900   Median : 0.000  \n",
       " Mean   : 4.309   Mean   : 1.992   Mean   : 5.064   Mean   : 5.964  \n",
       " 3rd Qu.: 4.925   3rd Qu.: 2.400   3rd Qu.: 7.500   3rd Qu.: 6.925  \n",
       " Max.   :42.800   Max.   :44.600   Max.   :44.400   Max.   :77.600  \n",
       "                                                                    \n",
       "       a7        \n",
       " Min.   : 0.000  \n",
       " 1st Qu.: 0.000  \n",
       " Median : 1.000  \n",
       " Mean   : 2.495  \n",
       " 3rd Qu.: 2.400  \n",
       " Max.   :31.600  \n",
       "                 "
      ]
     },
     "metadata": {},
     "output_type": "display_data"
    }
   ],
   "source": [
    "summary(data)"
   ]
  },
  {
   "cell_type": "code",
   "execution_count": 7,
   "id": "1236290d",
   "metadata": {
    "vscode": {
     "languageId": "r"
    }
   },
   "outputs": [
    {
     "data": {
      "text/html": [
       "33"
      ],
      "text/latex": [
       "33"
      ],
      "text/markdown": [
       "33"
      ],
      "text/plain": [
       "[1] 33"
      ]
     },
     "metadata": {},
     "output_type": "display_data"
    }
   ],
   "source": [
    "## ver cantidad de NA\n",
    "sum(is.na(data))"
   ]
  },
  {
   "cell_type": "code",
   "execution_count": 8,
   "id": "cdb1131a",
   "metadata": {
    "vscode": {
     "languageId": "r"
    }
   },
   "outputs": [
    {
     "data": {
      "text/html": [
       "0"
      ],
      "text/latex": [
       "0"
      ],
      "text/markdown": [
       "0"
      ],
      "text/plain": [
       "[1] 0"
      ]
     },
     "metadata": {},
     "output_type": "display_data"
    }
   ],
   "source": [
    "## elimina filas con NA\n",
    "data <- na.omit(data)\n",
    "sum(is.na(data))"
   ]
  },
  {
   "cell_type": "markdown",
   "id": "3b9417bf",
   "metadata": {},
   "source": [
    "### cambiar de nombres a las columnas e eliminar columnas no necesarias"
   ]
  },
  {
   "cell_type": "code",
   "execution_count": 9,
   "id": "51e37555",
   "metadata": {
    "vscode": {
     "languageId": "r"
    }
   },
   "outputs": [
    {
     "data": {
      "text/html": [
       "<table class=\"dataframe\">\n",
       "<caption>A tibble: 6 × 14</caption>\n",
       "<thead>\n",
       "\t<tr><th scope=col>estacion</th><th scope=col>tamano</th><th scope=col>velocidad</th><th scope=col>ph</th><th scope=col>o2</th><th scope=col>cl</th><th scope=col>no3</th><th scope=col>nh4</th><th scope=col>opo4</th><th scope=col>po4</th><th scope=col>Clorofila</th><th scope=col>A1</th><th scope=col>A2</th><th scope=col>A3</th></tr>\n",
       "\t<tr><th scope=col>&lt;fct&gt;</th><th scope=col>&lt;fct&gt;</th><th scope=col>&lt;fct&gt;</th><th scope=col>&lt;dbl&gt;</th><th scope=col>&lt;dbl&gt;</th><th scope=col>&lt;dbl&gt;</th><th scope=col>&lt;dbl&gt;</th><th scope=col>&lt;dbl&gt;</th><th scope=col>&lt;dbl&gt;</th><th scope=col>&lt;dbl&gt;</th><th scope=col>&lt;dbl&gt;</th><th scope=col>&lt;dbl&gt;</th><th scope=col>&lt;dbl&gt;</th><th scope=col>&lt;dbl&gt;</th></tr>\n",
       "</thead>\n",
       "<tbody>\n",
       "\t<tr><td>winter</td><td>small</td><td>medium</td><td>8.00</td><td> 9.8</td><td>60.800</td><td> 6.238</td><td>578.000</td><td>105.000</td><td>170.000</td><td>50.0</td><td> 0.0</td><td> 0.0</td><td> 0.0</td></tr>\n",
       "\t<tr><td>spring</td><td>small</td><td>medium</td><td>8.35</td><td> 8.0</td><td>57.750</td><td> 1.288</td><td>370.000</td><td>428.750</td><td>558.750</td><td> 1.3</td><td> 1.4</td><td> 7.6</td><td> 4.8</td></tr>\n",
       "\t<tr><td>autumn</td><td>small</td><td>medium</td><td>8.10</td><td>11.4</td><td>40.020</td><td> 5.330</td><td>346.667</td><td>125.667</td><td>187.057</td><td>15.6</td><td> 3.3</td><td>53.6</td><td> 1.9</td></tr>\n",
       "\t<tr><td>spring</td><td>small</td><td>medium</td><td>8.07</td><td> 4.8</td><td>77.364</td><td> 2.302</td><td> 98.182</td><td> 61.182</td><td>138.700</td><td> 1.4</td><td> 3.1</td><td>41.0</td><td>18.9</td></tr>\n",
       "\t<tr><td>autumn</td><td>small</td><td>medium</td><td>8.06</td><td> 9.0</td><td>55.350</td><td>10.416</td><td>233.700</td><td> 58.222</td><td> 97.580</td><td>10.5</td><td> 9.2</td><td> 2.9</td><td> 7.5</td></tr>\n",
       "\t<tr><td>winter</td><td>small</td><td>high  </td><td>8.25</td><td>13.1</td><td>65.750</td><td> 9.248</td><td>430.000</td><td> 18.250</td><td> 56.667</td><td>28.4</td><td>15.1</td><td>14.6</td><td> 1.4</td></tr>\n",
       "</tbody>\n",
       "</table>\n"
      ],
      "text/latex": [
       "A tibble: 6 × 14\n",
       "\\begin{tabular}{llllllllllllll}\n",
       " estacion & tamano & velocidad & ph & o2 & cl & no3 & nh4 & opo4 & po4 & Clorofila & A1 & A2 & A3\\\\\n",
       " <fct> & <fct> & <fct> & <dbl> & <dbl> & <dbl> & <dbl> & <dbl> & <dbl> & <dbl> & <dbl> & <dbl> & <dbl> & <dbl>\\\\\n",
       "\\hline\n",
       "\t winter & small & medium & 8.00 &  9.8 & 60.800 &  6.238 & 578.000 & 105.000 & 170.000 & 50.0 &  0.0 &  0.0 &  0.0\\\\\n",
       "\t spring & small & medium & 8.35 &  8.0 & 57.750 &  1.288 & 370.000 & 428.750 & 558.750 &  1.3 &  1.4 &  7.6 &  4.8\\\\\n",
       "\t autumn & small & medium & 8.10 & 11.4 & 40.020 &  5.330 & 346.667 & 125.667 & 187.057 & 15.6 &  3.3 & 53.6 &  1.9\\\\\n",
       "\t spring & small & medium & 8.07 &  4.8 & 77.364 &  2.302 &  98.182 &  61.182 & 138.700 &  1.4 &  3.1 & 41.0 & 18.9\\\\\n",
       "\t autumn & small & medium & 8.06 &  9.0 & 55.350 & 10.416 & 233.700 &  58.222 &  97.580 & 10.5 &  9.2 &  2.9 &  7.5\\\\\n",
       "\t winter & small & high   & 8.25 & 13.1 & 65.750 &  9.248 & 430.000 &  18.250 &  56.667 & 28.4 & 15.1 & 14.6 &  1.4\\\\\n",
       "\\end{tabular}\n"
      ],
      "text/markdown": [
       "\n",
       "A tibble: 6 × 14\n",
       "\n",
       "| estacion &lt;fct&gt; | tamano &lt;fct&gt; | velocidad &lt;fct&gt; | ph &lt;dbl&gt; | o2 &lt;dbl&gt; | cl &lt;dbl&gt; | no3 &lt;dbl&gt; | nh4 &lt;dbl&gt; | opo4 &lt;dbl&gt; | po4 &lt;dbl&gt; | Clorofila &lt;dbl&gt; | A1 &lt;dbl&gt; | A2 &lt;dbl&gt; | A3 &lt;dbl&gt; |\n",
       "|---|---|---|---|---|---|---|---|---|---|---|---|---|---|\n",
       "| winter | small | medium | 8.00 |  9.8 | 60.800 |  6.238 | 578.000 | 105.000 | 170.000 | 50.0 |  0.0 |  0.0 |  0.0 |\n",
       "| spring | small | medium | 8.35 |  8.0 | 57.750 |  1.288 | 370.000 | 428.750 | 558.750 |  1.3 |  1.4 |  7.6 |  4.8 |\n",
       "| autumn | small | medium | 8.10 | 11.4 | 40.020 |  5.330 | 346.667 | 125.667 | 187.057 | 15.6 |  3.3 | 53.6 |  1.9 |\n",
       "| spring | small | medium | 8.07 |  4.8 | 77.364 |  2.302 |  98.182 |  61.182 | 138.700 |  1.4 |  3.1 | 41.0 | 18.9 |\n",
       "| autumn | small | medium | 8.06 |  9.0 | 55.350 | 10.416 | 233.700 |  58.222 |  97.580 | 10.5 |  9.2 |  2.9 |  7.5 |\n",
       "| winter | small | high   | 8.25 | 13.1 | 65.750 |  9.248 | 430.000 |  18.250 |  56.667 | 28.4 | 15.1 | 14.6 |  1.4 |\n",
       "\n"
      ],
      "text/plain": [
       "  estacion tamano velocidad ph   o2   cl     no3    nh4     opo4    po4    \n",
       "1 winter   small  medium    8.00  9.8 60.800  6.238 578.000 105.000 170.000\n",
       "2 spring   small  medium    8.35  8.0 57.750  1.288 370.000 428.750 558.750\n",
       "3 autumn   small  medium    8.10 11.4 40.020  5.330 346.667 125.667 187.057\n",
       "4 spring   small  medium    8.07  4.8 77.364  2.302  98.182  61.182 138.700\n",
       "5 autumn   small  medium    8.06  9.0 55.350 10.416 233.700  58.222  97.580\n",
       "6 winter   small  high      8.25 13.1 65.750  9.248 430.000  18.250  56.667\n",
       "  Clorofila A1   A2   A3  \n",
       "1 50.0       0.0  0.0  0.0\n",
       "2  1.3       1.4  7.6  4.8\n",
       "3 15.6       3.3 53.6  1.9\n",
       "4  1.4       3.1 41.0 18.9\n",
       "5 10.5       9.2  2.9  7.5\n",
       "6 28.4      15.1 14.6  1.4"
      ]
     },
     "metadata": {},
     "output_type": "display_data"
    }
   ],
   "source": [
    "colnames(data) <- c(\"estacion\", \"tamano\", \"velocidad\", \"ph\", \"o2\", \"cl\", \"no3\",\n",
    "                    \"nh4\", \"opo4\", \"po4\", \"Clorofila\", \"A1\", \"A2\", \"A3\")\n",
    "\n",
    "### eliminar columnas no necesarias, solo tener hasta la columna 14\n",
    "data <- data[, 1:14]\n",
    "head(data)"
   ]
  },
  {
   "cell_type": "markdown",
   "id": "59bed0b5",
   "metadata": {},
   "source": [
    "### Analisis con graficos"
   ]
  },
  {
   "cell_type": "code",
   "execution_count": 10,
   "id": "d55c77ab",
   "metadata": {
    "vscode": {
     "languageId": "r"
    }
   },
   "outputs": [
    {
     "data": {
      "image/png": "[encoded data removed]",
      "text/plain": [
       "plot without title"
      ]
     },
     "metadata": {
      "image/png": {
       "height": 420,
       "width": 420
      }
     },
     "output_type": "display_data"
    }
   ],
   "source": [
    "plot(data$nh4, data$no3)"
   ]
  },
  {
   "cell_type": "code",
   "execution_count": 11,
   "id": "65dbea97",
   "metadata": {
    "vscode": {
     "languageId": "r"
    }
   },
   "outputs": [
    {
     "data": {
      "image/png": "[encoded data removed]",
      "text/plain": [
       "plot without title"
      ]
     },
     "metadata": {
      "image/png": {
       "height": 420,
       "width": 420
      }
     },
     "output_type": "display_data"
    }
   ],
   "source": [
    "plot(data$opo4, data$po4)"
   ]
  },
  {
   "cell_type": "code",
   "execution_count": 12,
   "id": "0068d880",
   "metadata": {
    "vscode": {
     "languageId": "r"
    }
   },
   "outputs": [
    {
     "data": {
      "image/png": "[encoded data removed]",
      "text/plain": [
       "plot without title"
      ]
     },
     "metadata": {
      "image/png": {
       "height": 420,
       "width": 420
      }
     },
     "output_type": "display_data"
    }
   ],
   "source": [
    "plot(data$o2, data$nh4)"
   ]
  },
  {
   "cell_type": "code",
   "execution_count": 13,
   "id": "167d9b87",
   "metadata": {
    "vscode": {
     "languageId": "r"
    }
   },
   "outputs": [
    {
     "data": {
      "image/png": "[encoded data removed]",
      "text/plain": [
       "Plot with title \"Boxplot de pH\""
      ]
     },
     "metadata": {
      "image/png": {
       "height": 420,
       "width": 420
      }
     },
     "output_type": "display_data"
    }
   ],
   "source": [
    "boxplot(data$ph, main=\"Boxplot de pH\", ylab=\"pH\", col=\"lightblue\")"
   ]
  },
  {
   "cell_type": "code",
   "execution_count": 14,
   "id": "1aa92ef8",
   "metadata": {
    "vscode": {
     "languageId": "r"
    }
   },
   "outputs": [
    {
     "data": {
      "image/png": "[encoded data removed]",
      "text/plain": [
       "Plot with title \"Boxplot de O2\""
      ]
     },
     "metadata": {
      "image/png": {
       "height": 420,
       "width": 420
      }
     },
     "output_type": "display_data"
    }
   ],
   "source": [
    "boxplot(data$o2, main=\"Boxplot de O2\", ylab=\"O2\", col=\"lightblue\")"
   ]
  },
  {
   "cell_type": "code",
   "execution_count": 15,
   "id": "6bad310f",
   "metadata": {
    "vscode": {
     "languageId": "r"
    }
   },
   "outputs": [
    {
     "data": {
      "image/png": "[encoded data removed]",
      "text/plain": [
       "Plot with title \"Boxplot de Cloruros\""
      ]
     },
     "metadata": {
      "image/png": {
       "height": 420,
       "width": 420
      }
     },
     "output_type": "display_data"
    }
   ],
   "source": [
    "boxplot(data$cl, main=\"Boxplot de Cloruros\", ylab=\"Cloruros\", col=\"lightblue\")"
   ]
  },
  {
   "cell_type": "code",
   "execution_count": 16,
   "id": "47981d17",
   "metadata": {
    "vscode": {
     "languageId": "r"
    }
   },
   "outputs": [
    {
     "data": {
      "image/png": "[encoded data removed]",
      "text/plain": [
       "Plot with title \"Boxplot de NO3\""
      ]
     },
     "metadata": {
      "image/png": {
       "height": 420,
       "width": 420
      }
     },
     "output_type": "display_data"
    }
   ],
   "source": [
    "boxplot(data$no3, main=\"Boxplot de NO3\", ylab=\"NO3\", col=\"lightblue\")"
   ]
  },
  {
   "cell_type": "code",
   "execution_count": 17,
   "id": "b4f062e8",
   "metadata": {
    "vscode": {
     "languageId": "r"
    }
   },
   "outputs": [
    {
     "data": {
      "image/png": "[encoded data removed]",
      "text/plain": [
       "Plot with title \"Boxplot de NH4\""
      ]
     },
     "metadata": {
      "image/png": {
       "height": 420,
       "width": 420
      }
     },
     "output_type": "display_data"
    }
   ],
   "source": [
    "boxplot(data$nh4, main=\"Boxplot de NH4\", ylab=\"NH4\", col=\"lightblue\")"
   ]
  },
  {
   "cell_type": "code",
   "execution_count": 18,
   "id": "315f14d4",
   "metadata": {
    "vscode": {
     "languageId": "r"
    }
   },
   "outputs": [
    {
     "data": {
      "image/png": "[encoded data removed]",
      "text/plain": [
       "Plot with title \"Boxplot de oPO4\""
      ]
     },
     "metadata": {
      "image/png": {
       "height": 420,
       "width": 420
      }
     },
     "output_type": "display_data"
    }
   ],
   "source": [
    "boxplot(data$opo4, main=\"Boxplot de oPO4\", ylab=\"oPO4\", col=\"lightblue\")"
   ]
  },
  {
   "cell_type": "code",
   "execution_count": 19,
   "id": "3281424a",
   "metadata": {
    "vscode": {
     "languageId": "r"
    }
   },
   "outputs": [
    {
     "data": {
      "image/png": "[encoded data removed]",
      "text/plain": [
       "Plot with title \"Boxplot de pO4\""
      ]
     },
     "metadata": {
      "image/png": {
       "height": 420,
       "width": 420
      }
     },
     "output_type": "display_data"
    }
   ],
   "source": [
    "boxplot(data$po4, main=\"Boxplot de pO4\", ylab=\"pO4\", col=\"lightblue\")"
   ]
  },
  {
   "cell_type": "code",
   "execution_count": 20,
   "id": "e9e50bf1",
   "metadata": {
    "vscode": {
     "languageId": "r"
    }
   },
   "outputs": [
    {
     "data": {
      "image/png": "[encoded data removed]",
      "text/plain": [
       "Plot with title \"Boxplot de Clorofila\""
      ]
     },
     "metadata": {
      "image/png": {
       "height": 420,
       "width": 420
      }
     },
     "output_type": "display_data"
    }
   ],
   "source": [
    "boxplot(data$Clorofila, main=\"Boxplot de Clorofila\", ylab=\"Clorofila\", col=\"lightblue\")"
   ]
  },
  {
   "cell_type": "code",
   "execution_count": 21,
   "id": "3f766289",
   "metadata": {
    "vscode": {
     "languageId": "r"
    }
   },
   "outputs": [
    {
     "data": {
      "image/png": "[encoded data removed]",
      "text/plain": [
       "Plot with title \"Boxplot de A1\""
      ]
     },
     "metadata": {
      "image/png": {
       "height": 420,
       "width": 420
      }
     },
     "output_type": "display_data"
    }
   ],
   "source": [
    "boxplot(data$A1, main=\"Boxplot de A1\", ylab=\"A1\", col=\"lightblue\")"
   ]
  },
  {
   "cell_type": "code",
   "execution_count": 22,
   "id": "e376af82",
   "metadata": {
    "vscode": {
     "languageId": "r"
    }
   },
   "outputs": [
    {
     "data": {
      "image/png": "[encoded data removed]",
      "text/plain": [
       "Plot with title \"Boxplot de A2\""
      ]
     },
     "metadata": {
      "image/png": {
       "height": 420,
       "width": 420
      }
     },
     "output_type": "display_data"
    }
   ],
   "source": [
    "boxplot(data$A2, main=\"Boxplot de A2\", ylab=\"A2\", col=\"lightblue\")"
   ]
  },
  {
   "cell_type": "code",
   "execution_count": 23,
   "id": "ab436e6b",
   "metadata": {
    "vscode": {
     "languageId": "r"
    }
   },
   "outputs": [
    {
     "data": {
      "image/png": "[encoded data removed]",
      "text/plain": [
       "Plot with title \"Boxplot de A3\""
      ]
     },
     "metadata": {
      "image/png": {
       "height": 420,
       "width": 420
      }
     },
     "output_type": "display_data"
    }
   ],
   "source": [
    "boxplot(data$A3, main=\"Boxplot de A3\", ylab=\"A3\", col=\"lightblue\")"
   ]
  },
  {
   "cell_type": "markdown",
   "id": "abc6f6cf",
   "metadata": {},
   "source": [
    "### evaluar que pasa con los outliers en las variables numéricas"
   ]
  },
  {
   "cell_type": "code",
   "execution_count": 24,
   "id": "3bfd049b",
   "metadata": {
    "vscode": {
     "languageId": "r"
    }
   },
   "outputs": [
    {
     "data": {
      "text/html": [
       "<table class=\"dataframe\">\n",
       "<caption>A tibble: 1 × 14</caption>\n",
       "<thead>\n",
       "\t<tr><th scope=col>estacion</th><th scope=col>tamano</th><th scope=col>velocidad</th><th scope=col>ph</th><th scope=col>o2</th><th scope=col>cl</th><th scope=col>no3</th><th scope=col>nh4</th><th scope=col>opo4</th><th scope=col>po4</th><th scope=col>Clorofila</th><th scope=col>A1</th><th scope=col>A2</th><th scope=col>A3</th></tr>\n",
       "\t<tr><th scope=col>&lt;fct&gt;</th><th scope=col>&lt;fct&gt;</th><th scope=col>&lt;fct&gt;</th><th scope=col>&lt;dbl&gt;</th><th scope=col>&lt;dbl&gt;</th><th scope=col>&lt;dbl&gt;</th><th scope=col>&lt;dbl&gt;</th><th scope=col>&lt;dbl&gt;</th><th scope=col>&lt;dbl&gt;</th><th scope=col>&lt;dbl&gt;</th><th scope=col>&lt;dbl&gt;</th><th scope=col>&lt;dbl&gt;</th><th scope=col>&lt;dbl&gt;</th><th scope=col>&lt;dbl&gt;</th></tr>\n",
       "</thead>\n",
       "<tbody>\n",
       "\t<tr><td>autumn</td><td>medium</td><td>high</td><td>7.3</td><td>11.8</td><td>44.205</td><td>45.65</td><td>24064</td><td>44</td><td>34</td><td>53.1</td><td>2.2</td><td>0</td><td>0</td></tr>\n",
       "</tbody>\n",
       "</table>\n"
      ],
      "text/latex": [
       "A tibble: 1 × 14\n",
       "\\begin{tabular}{llllllllllllll}\n",
       " estacion & tamano & velocidad & ph & o2 & cl & no3 & nh4 & opo4 & po4 & Clorofila & A1 & A2 & A3\\\\\n",
       " <fct> & <fct> & <fct> & <dbl> & <dbl> & <dbl> & <dbl> & <dbl> & <dbl> & <dbl> & <dbl> & <dbl> & <dbl> & <dbl>\\\\\n",
       "\\hline\n",
       "\t autumn & medium & high & 7.3 & 11.8 & 44.205 & 45.65 & 24064 & 44 & 34 & 53.1 & 2.2 & 0 & 0\\\\\n",
       "\\end{tabular}\n"
      ],
      "text/markdown": [
       "\n",
       "A tibble: 1 × 14\n",
       "\n",
       "| estacion &lt;fct&gt; | tamano &lt;fct&gt; | velocidad &lt;fct&gt; | ph &lt;dbl&gt; | o2 &lt;dbl&gt; | cl &lt;dbl&gt; | no3 &lt;dbl&gt; | nh4 &lt;dbl&gt; | opo4 &lt;dbl&gt; | po4 &lt;dbl&gt; | Clorofila &lt;dbl&gt; | A1 &lt;dbl&gt; | A2 &lt;dbl&gt; | A3 &lt;dbl&gt; |\n",
       "|---|---|---|---|---|---|---|---|---|---|---|---|---|---|\n",
       "| autumn | medium | high | 7.3 | 11.8 | 44.205 | 45.65 | 24064 | 44 | 34 | 53.1 | 2.2 | 0 | 0 |\n",
       "\n"
      ],
      "text/plain": [
       "  estacion tamano velocidad ph  o2   cl     no3   nh4   opo4 po4 Clorofila A1 \n",
       "1 autumn   medium high      7.3 11.8 44.205 45.65 24064 44   34  53.1      2.2\n",
       "  A2 A3\n",
       "1 0  0 "
      ]
     },
     "metadata": {},
     "output_type": "display_data"
    }
   ],
   "source": [
    "indicesNh4 <- data$nh4 == 24064.00\n",
    "maxNh4 <- data[indicesNh4, ]\n",
    "maxNh4"
   ]
  },
  {
   "cell_type": "code",
   "execution_count": 25,
   "id": "1469fa44",
   "metadata": {
    "vscode": {
     "languageId": "r"
    }
   },
   "outputs": [
    {
     "data": {
      "text/html": [
       "<table class=\"dataframe\">\n",
       "<caption>A tibble: 6 × 14</caption>\n",
       "<thead>\n",
       "\t<tr><th scope=col>estacion</th><th scope=col>tamano</th><th scope=col>velocidad</th><th scope=col>ph</th><th scope=col>o2</th><th scope=col>cl</th><th scope=col>no3</th><th scope=col>nh4</th><th scope=col>opo4</th><th scope=col>po4</th><th scope=col>Clorofila</th><th scope=col>A1</th><th scope=col>A2</th><th scope=col>A3</th></tr>\n",
       "\t<tr><th scope=col>&lt;fct&gt;</th><th scope=col>&lt;fct&gt;</th><th scope=col>&lt;fct&gt;</th><th scope=col>&lt;dbl&gt;</th><th scope=col>&lt;dbl&gt;</th><th scope=col>&lt;dbl&gt;</th><th scope=col>&lt;dbl&gt;</th><th scope=col>&lt;dbl&gt;</th><th scope=col>&lt;dbl&gt;</th><th scope=col>&lt;dbl&gt;</th><th scope=col>&lt;dbl&gt;</th><th scope=col>&lt;dbl&gt;</th><th scope=col>&lt;dbl&gt;</th><th scope=col>&lt;dbl&gt;</th></tr>\n",
       "</thead>\n",
       "<tbody>\n",
       "\t<tr><td>winter</td><td>small</td><td>medium</td><td>8.00</td><td> 9.8</td><td>60.800</td><td>6.238</td><td> 578.00</td><td>105.000</td><td>170.000</td><td>50.0</td><td>0</td><td>0.0</td><td> 0.0</td></tr>\n",
       "\t<tr><td>spring</td><td>small</td><td>medium</td><td>7.79</td><td> 3.2</td><td>64.000</td><td>2.822</td><td>8777.60</td><td>564.600</td><td>771.600</td><td> 4.5</td><td>0</td><td>0.0</td><td> 0.0</td></tr>\n",
       "\t<tr><td>winter</td><td>small</td><td>medium</td><td>7.83</td><td>10.7</td><td>88.000</td><td>4.825</td><td>1729.00</td><td>467.500</td><td>586.000</td><td>16.0</td><td>0</td><td>0.0</td><td> 0.0</td></tr>\n",
       "\t<tr><td>summer</td><td>small</td><td>high  </td><td>7.80</td><td>11.3</td><td>20.083</td><td>3.020</td><td>  49.50</td><td> 53.000</td><td>130.750</td><td> 5.8</td><td>0</td><td>8.0</td><td> 1.9</td></tr>\n",
       "\t<tr><td>winter</td><td>small</td><td>medium</td><td>8.00</td><td> 5.5</td><td>77.000</td><td>6.096</td><td> 122.85</td><td>143.710</td><td>296.000</td><td> 3.7</td><td>0</td><td>5.9</td><td>10.6</td></tr>\n",
       "\t<tr><td>summer</td><td>small</td><td>medium</td><td>8.15</td><td> 7.1</td><td>54.190</td><td>3.829</td><td> 647.57</td><td> 59.429</td><td>175.046</td><td>13.2</td><td>0</td><td>0.0</td><td> 0.0</td></tr>\n",
       "</tbody>\n",
       "</table>\n"
      ],
      "text/latex": [
       "A tibble: 6 × 14\n",
       "\\begin{tabular}{llllllllllllll}\n",
       " estacion & tamano & velocidad & ph & o2 & cl & no3 & nh4 & opo4 & po4 & Clorofila & A1 & A2 & A3\\\\\n",
       " <fct> & <fct> & <fct> & <dbl> & <dbl> & <dbl> & <dbl> & <dbl> & <dbl> & <dbl> & <dbl> & <dbl> & <dbl> & <dbl>\\\\\n",
       "\\hline\n",
       "\t winter & small & medium & 8.00 &  9.8 & 60.800 & 6.238 &  578.00 & 105.000 & 170.000 & 50.0 & 0 & 0.0 &  0.0\\\\\n",
       "\t spring & small & medium & 7.79 &  3.2 & 64.000 & 2.822 & 8777.60 & 564.600 & 771.600 &  4.5 & 0 & 0.0 &  0.0\\\\\n",
       "\t winter & small & medium & 7.83 & 10.7 & 88.000 & 4.825 & 1729.00 & 467.500 & 586.000 & 16.0 & 0 & 0.0 &  0.0\\\\\n",
       "\t summer & small & high   & 7.80 & 11.3 & 20.083 & 3.020 &   49.50 &  53.000 & 130.750 &  5.8 & 0 & 8.0 &  1.9\\\\\n",
       "\t winter & small & medium & 8.00 &  5.5 & 77.000 & 6.096 &  122.85 & 143.710 & 296.000 &  3.7 & 0 & 5.9 & 10.6\\\\\n",
       "\t summer & small & medium & 8.15 &  7.1 & 54.190 & 3.829 &  647.57 &  59.429 & 175.046 & 13.2 & 0 & 0.0 &  0.0\\\\\n",
       "\\end{tabular}\n"
      ],
      "text/markdown": [
       "\n",
       "A tibble: 6 × 14\n",
       "\n",
       "| estacion &lt;fct&gt; | tamano &lt;fct&gt; | velocidad &lt;fct&gt; | ph &lt;dbl&gt; | o2 &lt;dbl&gt; | cl &lt;dbl&gt; | no3 &lt;dbl&gt; | nh4 &lt;dbl&gt; | opo4 &lt;dbl&gt; | po4 &lt;dbl&gt; | Clorofila &lt;dbl&gt; | A1 &lt;dbl&gt; | A2 &lt;dbl&gt; | A3 &lt;dbl&gt; |\n",
       "|---|---|---|---|---|---|---|---|---|---|---|---|---|---|\n",
       "| winter | small | medium | 8.00 |  9.8 | 60.800 | 6.238 |  578.00 | 105.000 | 170.000 | 50.0 | 0 | 0.0 |  0.0 |\n",
       "| spring | small | medium | 7.79 |  3.2 | 64.000 | 2.822 | 8777.60 | 564.600 | 771.600 |  4.5 | 0 | 0.0 |  0.0 |\n",
       "| winter | small | medium | 7.83 | 10.7 | 88.000 | 4.825 | 1729.00 | 467.500 | 586.000 | 16.0 | 0 | 0.0 |  0.0 |\n",
       "| summer | small | high   | 7.80 | 11.3 | 20.083 | 3.020 |   49.50 |  53.000 | 130.750 |  5.8 | 0 | 8.0 |  1.9 |\n",
       "| winter | small | medium | 8.00 |  5.5 | 77.000 | 6.096 |  122.85 | 143.710 | 296.000 |  3.7 | 0 | 5.9 | 10.6 |\n",
       "| summer | small | medium | 8.15 |  7.1 | 54.190 | 3.829 |  647.57 |  59.429 | 175.046 | 13.2 | 0 | 0.0 |  0.0 |\n",
       "\n"
      ],
      "text/plain": [
       "  estacion tamano velocidad ph   o2   cl     no3   nh4     opo4    po4    \n",
       "1 winter   small  medium    8.00  9.8 60.800 6.238  578.00 105.000 170.000\n",
       "2 spring   small  medium    7.79  3.2 64.000 2.822 8777.60 564.600 771.600\n",
       "3 winter   small  medium    7.83 10.7 88.000 4.825 1729.00 467.500 586.000\n",
       "4 summer   small  high      7.80 11.3 20.083 3.020   49.50  53.000 130.750\n",
       "5 winter   small  medium    8.00  5.5 77.000 6.096  122.85 143.710 296.000\n",
       "6 summer   small  medium    8.15  7.1 54.190 3.829  647.57  59.429 175.046\n",
       "  Clorofila A1 A2  A3  \n",
       "1 50.0      0  0.0  0.0\n",
       "2  4.5      0  0.0  0.0\n",
       "3 16.0      0  0.0  0.0\n",
       "4  5.8      0  8.0  1.9\n",
       "5  3.7      0  5.9 10.6\n",
       "6 13.2      0  0.0  0.0"
      ]
     },
     "metadata": {},
     "output_type": "display_data"
    }
   ],
   "source": [
    "indicesA1 <- data$A1 == 0\n",
    "minA1 <- data[indicesA1, ]\n",
    "head(minA1)"
   ]
  },
  {
   "cell_type": "markdown",
   "id": "17b4d3f2",
   "metadata": {},
   "source": [
    "### rango intercualtil ( IQR )\n",
    "para eliminar outliers en la variable NH4"
   ]
  },
  {
   "cell_type": "code",
   "execution_count": 26,
   "id": "e16819fe",
   "metadata": {
    "vscode": {
     "languageId": "r"
    }
   },
   "outputs": [
    {
     "data": {
      "text/html": [
       "<strong>75%:</strong> 185.875"
      ],
      "text/latex": [
       "\\textbf{75\\textbackslash{}\\%:} 185.875"
      ],
      "text/markdown": [
       "**75%:** 185.875"
      ],
      "text/plain": [
       "    75% \n",
       "185.875 "
      ]
     },
     "metadata": {},
     "output_type": "display_data"
    }
   ],
   "source": [
    "q1_i <- quantile(data$nh4, 0.25)\n",
    "q2_i <- quantile(data$nh4, 0.50)\n",
    "q3_i <- quantile(data$nh4, 0.75)\n",
    "\n",
    "ric <- q3_i - q1_i\n",
    "ric"
   ]
  },
  {
   "cell_type": "markdown",
   "id": "4d242297",
   "metadata": {},
   "source": [
    "### determinar liminte inferior y superior para NH4"
   ]
  },
  {
   "cell_type": "code",
   "execution_count": 27,
   "id": "8cf63e1b",
   "metadata": {
    "vscode": {
     "languageId": "r"
    }
   },
   "outputs": [
    {
     "data": {
      "text/html": [
       "<strong>25%:</strong> -229.4375"
      ],
      "text/latex": [
       "\\textbf{25\\textbackslash{}\\%:} -229.4375"
      ],
      "text/markdown": [
       "**25%:** -229.4375"
      ],
      "text/plain": [
       "      25% \n",
       "-229.4375 "
      ]
     },
     "metadata": {},
     "output_type": "display_data"
    },
    {
     "data": {
      "text/html": [
       "<strong>75%:</strong> 514.0625"
      ],
      "text/latex": [
       "\\textbf{75\\textbackslash{}\\%:} 514.0625"
      ],
      "text/markdown": [
       "**75%:** 514.0625"
      ],
      "text/plain": [
       "     75% \n",
       "514.0625 "
      ]
     },
     "metadata": {},
     "output_type": "display_data"
    }
   ],
   "source": [
    "lim_inf <- q1_i - 1.5 * ric\n",
    "lim_inf\n",
    "lim_sup <- q3_i + 1.5 * ric\n",
    "lim_sup"
   ]
  },
  {
   "cell_type": "markdown",
   "id": "b1dd04fa",
   "metadata": {},
   "source": [
    "### Datos atipicos en NH4"
   ]
  },
  {
   "cell_type": "code",
   "execution_count": 28,
   "id": "a4183420",
   "metadata": {
    "vscode": {
     "languageId": "r"
    }
   },
   "outputs": [
    {
     "data": {
      "text/html": [
       "<style>\n",
       ".list-inline {list-style: none; margin:0; padding: 0}\n",
       ".list-inline>li {display: inline-block}\n",
       ".list-inline>li:not(:last-child)::after {content: \"\\00b7\"; padding: 0 .5ex}\n",
       "</style>\n",
       "<ol class=list-inline><li>578</li><li>8777.59961</li><li>1729</li><li>3515</li><li>6400</li><li>1911</li><li>647.57001</li><li>1386.25</li><li>2082.8501</li><li>2167.37012</li><li>737.5</li><li>914</li><li>5738.33008</li><li>4073.33008</li><li>758.75</li><li>931.83301</li><li>723.66699</li><li>3466.65991</li><li>920</li><li>1990.16003</li><li>24064</li><li>1131.66003</li><li>1495</li><li>643</li><li>627.27301</li><li>1168</li><li>1081.66003</li></ol>\n"
      ],
      "text/latex": [
       "\\begin{enumerate*}\n",
       "\\item 578\n",
       "\\item 8777.59961\n",
       "\\item 1729\n",
       "\\item 3515\n",
       "\\item 6400\n",
       "\\item 1911\n",
       "\\item 647.57001\n",
       "\\item 1386.25\n",
       "\\item 2082.8501\n",
       "\\item 2167.37012\n",
       "\\item 737.5\n",
       "\\item 914\n",
       "\\item 5738.33008\n",
       "\\item 4073.33008\n",
       "\\item 758.75\n",
       "\\item 931.83301\n",
       "\\item 723.66699\n",
       "\\item 3466.65991\n",
       "\\item 920\n",
       "\\item 1990.16003\n",
       "\\item 24064\n",
       "\\item 1131.66003\n",
       "\\item 1495\n",
       "\\item 643\n",
       "\\item 627.27301\n",
       "\\item 1168\n",
       "\\item 1081.66003\n",
       "\\end{enumerate*}\n"
      ],
      "text/markdown": [
       "1. 578\n",
       "2. 8777.59961\n",
       "3. 1729\n",
       "4. 3515\n",
       "5. 6400\n",
       "6. 1911\n",
       "7. 647.57001\n",
       "8. 1386.25\n",
       "9. 2082.8501\n",
       "10. 2167.37012\n",
       "11. 737.5\n",
       "12. 914\n",
       "13. 5738.33008\n",
       "14. 4073.33008\n",
       "15. 758.75\n",
       "16. 931.83301\n",
       "17. 723.66699\n",
       "18. 3466.65991\n",
       "19. 920\n",
       "20. 1990.16003\n",
       "21. 24064\n",
       "22. 1131.66003\n",
       "23. 1495\n",
       "24. 643\n",
       "25. 627.27301\n",
       "26. 1168\n",
       "27. 1081.66003\n",
       "\n",
       "\n"
      ],
      "text/plain": [
       " [1]   578.000  8777.600  1729.000  3515.000  6400.000  1911.000   647.570\n",
       " [8]  1386.250  2082.850  2167.370   737.500   914.000  5738.330  4073.330\n",
       "[15]   758.750   931.833   723.667  3466.660   920.000  1990.160 24064.000\n",
       "[22]  1131.660  1495.000   643.000   627.273  1168.000  1081.660"
      ]
     },
     "metadata": {},
     "output_type": "display_data"
    }
   ],
   "source": [
    "i <- data$nh4\n",
    "i [i < lim_inf | i > lim_sup]"
   ]
  },
  {
   "cell_type": "markdown",
   "id": "ef79f015",
   "metadata": {},
   "source": [
    "### funcion filter para eliminar los outliers en NH4"
   ]
  },
  {
   "cell_type": "code",
   "execution_count": 29,
   "id": "005453ea",
   "metadata": {
    "vscode": {
     "languageId": "r"
    }
   },
   "outputs": [
    {
     "data": {
      "text/html": [
       "184"
      ],
      "text/latex": [
       "184"
      ],
      "text/markdown": [
       "184"
      ],
      "text/plain": [
       "[1] 184"
      ]
     },
     "metadata": {},
     "output_type": "display_data"
    },
    {
     "data": {
      "text/html": [
       "157"
      ],
      "text/latex": [
       "157"
      ],
      "text/markdown": [
       "157"
      ],
      "text/plain": [
       "[1] 157"
      ]
     },
     "metadata": {},
     "output_type": "display_data"
    }
   ],
   "source": [
    "## Eliminar outliers de NH4 y guardar en data_sin_outliers\n",
    "data_sin_outliers_nh4 <- data %>% filter(nh4 >= lim_inf & nh4 <= lim_sup)\n",
    "nrow(data)  # filas originales\n",
    "nrow(data_sin_outliers_nh4)  # filas después de eliminar outliers"
   ]
  },
  {
   "cell_type": "markdown",
   "id": "213bf7ca",
   "metadata": {},
   "source": [
    "### lo mismo pero para A1"
   ]
  },
  {
   "cell_type": "code",
   "execution_count": 30,
   "id": "1fce308e",
   "metadata": {
    "vscode": {
     "languageId": "r"
    }
   },
   "outputs": [
    {
     "data": {
      "text/html": [
       "<strong>75%:</strong> 17.925"
      ],
      "text/latex": [
       "\\textbf{75\\textbackslash{}\\%:} 17.925"
      ],
      "text/markdown": [
       "**75%:** 17.925"
      ],
      "text/plain": [
       "   75% \n",
       "17.925 "
      ]
     },
     "metadata": {},
     "output_type": "display_data"
    }
   ],
   "source": [
    "q1_iA <- quantile(data$A1, 0.25)\n",
    "q2_iA <- quantile(data$A1, 0.50)\n",
    "q3_iA <- quantile(data$A1, 0.75)\n",
    "\n",
    "ricA <- q3_iA - q1_iA\n",
    "ricA"
   ]
  },
  {
   "cell_type": "markdown",
   "id": "64a2092c",
   "metadata": {},
   "source": [
    "### determinar liminte inferior y superior para A1"
   ]
  },
  {
   "cell_type": "code",
   "execution_count": 31,
   "id": "1ed3d1ed",
   "metadata": {
    "vscode": {
     "languageId": "r"
    }
   },
   "outputs": [
    {
     "data": {
      "text/html": [
       "<strong>25%:</strong> -25.4875"
      ],
      "text/latex": [
       "\\textbf{25\\textbackslash{}\\%:} -25.4875"
      ],
      "text/markdown": [
       "**25%:** -25.4875"
      ],
      "text/plain": [
       "     25% \n",
       "-25.4875 "
      ]
     },
     "metadata": {},
     "output_type": "display_data"
    },
    {
     "data": {
      "text/html": [
       "<strong>75%:</strong> 46.2125"
      ],
      "text/latex": [
       "\\textbf{75\\textbackslash{}\\%:} 46.2125"
      ],
      "text/markdown": [
       "**75%:** 46.2125"
      ],
      "text/plain": [
       "    75% \n",
       "46.2125 "
      ]
     },
     "metadata": {},
     "output_type": "display_data"
    }
   ],
   "source": [
    "lim_infA <- q1_iA - 1.5 * ricA\n",
    "lim_infA\n",
    "lim_supA <- q3_iA + 1.5 * ricA\n",
    "lim_supA"
   ]
  },
  {
   "cell_type": "markdown",
   "id": "ca0fbcb6",
   "metadata": {},
   "source": [
    "### Datos atipicos en A1"
   ]
  },
  {
   "cell_type": "code",
   "execution_count": 32,
   "id": "60c1fc15",
   "metadata": {
    "vscode": {
     "languageId": "r"
    }
   },
   "outputs": [
    {
     "data": {
      "text/html": [
       "<style>\n",
       ".list-inline {list-style: none; margin:0; padding: 0}\n",
       ".list-inline>li {display: inline-block}\n",
       ".list-inline>li:not(:last-child)::after {content: \"\\00b7\"; padding: 0 .5ex}\n",
       "</style>\n",
       "<ol class=list-inline><li>52.2</li><li>69.9</li><li>50.6</li><li>74.2</li><li>66</li><li>51.8</li><li>54.4</li><li>89.8</li><li>81.9</li><li>54</li><li>55.5</li><li>64.2</li><li>64.9</li><li>58.7</li><li>64.3</li><li>46.6</li><li>86.6</li><li>52.4</li><li>48.3</li><li>50.4</li><li>56.8</li></ol>\n"
      ],
      "text/latex": [
       "\\begin{enumerate*}\n",
       "\\item 52.2\n",
       "\\item 69.9\n",
       "\\item 50.6\n",
       "\\item 74.2\n",
       "\\item 66\n",
       "\\item 51.8\n",
       "\\item 54.4\n",
       "\\item 89.8\n",
       "\\item 81.9\n",
       "\\item 54\n",
       "\\item 55.5\n",
       "\\item 64.2\n",
       "\\item 64.9\n",
       "\\item 58.7\n",
       "\\item 64.3\n",
       "\\item 46.6\n",
       "\\item 86.6\n",
       "\\item 52.4\n",
       "\\item 48.3\n",
       "\\item 50.4\n",
       "\\item 56.8\n",
       "\\end{enumerate*}\n"
      ],
      "text/markdown": [
       "1. 52.2\n",
       "2. 69.9\n",
       "3. 50.6\n",
       "4. 74.2\n",
       "5. 66\n",
       "6. 51.8\n",
       "7. 54.4\n",
       "8. 89.8\n",
       "9. 81.9\n",
       "10. 54\n",
       "11. 55.5\n",
       "12. 64.2\n",
       "13. 64.9\n",
       "14. 58.7\n",
       "15. 64.3\n",
       "16. 46.6\n",
       "17. 86.6\n",
       "18. 52.4\n",
       "19. 48.3\n",
       "20. 50.4\n",
       "21. 56.8\n",
       "\n",
       "\n"
      ],
      "text/plain": [
       " [1] 52.2 69.9 50.6 74.2 66.0 51.8 54.4 89.8 81.9 54.0 55.5 64.2 64.9 58.7 64.3\n",
       "[16] 46.6 86.6 52.4 48.3 50.4 56.8"
      ]
     },
     "metadata": {},
     "output_type": "display_data"
    }
   ],
   "source": [
    "iA <- data$A1\n",
    "iA [iA < lim_infA | iA > lim_supA]"
   ]
  },
  {
   "cell_type": "code",
   "execution_count": 33,
   "id": "2dfbca4b",
   "metadata": {
    "vscode": {
     "languageId": "r"
    }
   },
   "outputs": [
    {
     "data": {
      "text/html": [
       "157"
      ],
      "text/latex": [
       "157"
      ],
      "text/markdown": [
       "157"
      ],
      "text/plain": [
       "[1] 157"
      ]
     },
     "metadata": {},
     "output_type": "display_data"
    },
    {
     "data": {
      "text/html": [
       "136"
      ],
      "text/latex": [
       "136"
      ],
      "text/markdown": [
       "136"
      ],
      "text/plain": [
       "[1] 136"
      ]
     },
     "metadata": {},
     "output_type": "display_data"
    }
   ],
   "source": [
    "## Eliminar outliers de A1 del dataset ya limpio\n",
    "data_sin_outliers <- data_sin_outliers_nh4 %>% filter(A1 >= lim_infA & A1 <= lim_supA)\n",
    "nrow(data_sin_outliers_nh4)  # antes\n",
    "nrow(data_sin_outliers)  # después"
   ]
  },
  {
   "cell_type": "markdown",
   "id": "2adb148d",
   "metadata": {},
   "source": [
    "### ver cambios con los outliers eliminados boxplot"
   ]
  },
  {
   "cell_type": "code",
   "execution_count": 34,
   "id": "fa4f6ffe",
   "metadata": {
    "vscode": {
     "languageId": "r"
    }
   },
   "outputs": [
    {
     "data": {
      "image/png": "[encoded data removed]",
      "text/plain": [
       "Plot with title \"NH4 SIN outliers\""
      ]
     },
     "metadata": {
      "image/png": {
       "height": 420,
       "width": 420
      }
     },
     "output_type": "display_data"
    }
   ],
   "source": [
    "## Comparar boxplot ANTES y DESPUÉS de eliminar outliers\n",
    "par(mfrow=c(1,2))\n",
    "boxplot(data$nh4, main=\"NH4 CON outliers\", col=\"red\")\n",
    "boxplot(data_sin_outliers$nh4, main=\"NH4 SIN outliers\", col=\"lightgreen\")"
   ]
  },
  {
   "cell_type": "code",
   "execution_count": 35,
   "id": "949f34c7",
   "metadata": {
    "vscode": {
     "languageId": "r"
    }
   },
   "outputs": [
    {
     "data": {
      "image/png": "[encoded data removed]",
      "text/plain": [
       "Plot with title \"A1 SIN outliers\""
      ]
     },
     "metadata": {
      "image/png": {
       "height": 420,
       "width": 420
      }
     },
     "output_type": "display_data"
    }
   ],
   "source": [
    "## Comparar boxplot A1 ANTES y DESPUÉS\n",
    "par(mfrow=c(1,2))\n",
    "boxplot(data$A1, main=\"A1 CON outliers\", col=\"red\")\n",
    "boxplot(data_sin_outliers$A1, main=\"A1 SIN outliers\", col=\"lightgreen\")"
   ]
  },
  {
   "cell_type": "code",
   "execution_count": null,
   "id": "3ec423ec",
   "metadata": {
    "vscode": {
     "languageId": "r"
    }
   },
   "outputs": [
    {
     "data": {
      "image/png": "[encoded data removed]",
      "text/plain": [
       "Plot with title \"\""
      ]
     },
     "metadata": {
      "image/png": {
       "height": 420,
       "width": 420
      }
     },
     "output_type": "display_data"
    }
   ],
   "source": [
    "numeric_data <- select(data, where(is.numeric))\n",
    "matriz_corr <- cor(numeric_data, method=\"pearson\")\n",
    "corrplot(matriz_corr, method = \"color\", type = \"upper\", \n",
    "         tl.col = \"black\", tl.cex = 0.8, addCoef.col = \"black\")"
   ]
  },
  {
   "cell_type": "code",
   "execution_count": 37,
   "id": "dfecbb53",
   "metadata": {
    "vscode": {
     "languageId": "r"
    }
   },
   "outputs": [
    {
     "data": {
      "text/plain": [
       "\n",
       "Call:\n",
       "lm(formula = Clorofila ~ estacion + tamano + velocidad + ph + \n",
       "    o2 + cl + no3 + nh4 + opo4 + po4 + A1 + A2 + A3, data = data_sin_outliers)\n",
       "\n",
       "Residuals:\n",
       "    Min      1Q  Median      3Q     Max \n",
       "-52.321  -8.542  -1.668   6.686  64.429 \n",
       "\n",
       "Coefficients:\n",
       "                  Estimate Std. Error t value Pr(>|t|)    \n",
       "(Intercept)     -1.179e+02  3.453e+01  -3.415 0.000874 ***\n",
       "estacionspring   1.885e+00  4.821e+00   0.391 0.696545    \n",
       "estacionsummer   8.099e-01  4.552e+00   0.178 0.859080    \n",
       "estacionwinter  -6.140e-01  4.556e+00  -0.135 0.893029    \n",
       "tamanomedium    -1.297e+00  4.274e+00  -0.304 0.761997    \n",
       "tamanosmall      1.521e+00  5.114e+00   0.297 0.766626    \n",
       "velocidadlow     1.228e+01  5.168e+00   2.377 0.019072 *  \n",
       "velocidadmedium -2.426e+00  3.826e+00  -0.634 0.527287    \n",
       "ph               1.396e+01  3.897e+00   3.582 0.000496 ***\n",
       "o2               5.971e-01  8.430e-01   0.708 0.480166    \n",
       "cl              -2.047e-02  3.530e-02  -0.580 0.563045    \n",
       "no3             -3.414e-01  7.853e-01  -0.435 0.664561    \n",
       "nh4              9.614e-04  1.687e-02   0.057 0.954641    \n",
       "opo4            -2.407e-01  4.797e-02  -5.017 1.87e-06 ***\n",
       "po4              2.057e-01  3.885e-02   5.297 5.55e-07 ***\n",
       "A1               9.885e-02  1.527e-01   0.647 0.518605    \n",
       "A2               4.211e-01  1.310e-01   3.215 0.001681 ** \n",
       "A3              -1.778e-01  2.019e-01  -0.881 0.380257    \n",
       "---\n",
       "Signif. codes:  0 '***' 0.001 '**' 0.01 '*' 0.05 '.' 0.1 ' ' 1\n",
       "\n",
       "Residual standard error: 16.16 on 118 degrees of freedom\n",
       "Multiple R-squared:  0.5391,\tAdjusted R-squared:  0.4727 \n",
       "F-statistic: 8.118 on 17 and 118 DF,  p-value: 3.536e-13\n"
      ]
     },
     "metadata": {},
     "output_type": "display_data"
    }
   ],
   "source": [
    "modelo <- lm(Clorofila ~ estacion + tamano + velocidad + ph + o2 + cl + no3 +\n",
    "                nh4 + opo4 + po4 + A1 + A2 + A3, data=data_sin_outliers)\n",
    "summary(modelo)"
   ]
  }
 ],
 "metadata": {
  "kernelspec": {
   "display_name": "R",
   "language": "R",
   "name": "ir"
  },
  "language_info": {
   "codemirror_mode": "r",
   "file_extension": ".r",
   "mimetype": "text/x-r-source",
   "name": "R",
   "pygments_lexer": "r",
   "version": "4.5.1"
  }
 },
 "nbformat": 4,
 "nbformat_minor": 5
}
