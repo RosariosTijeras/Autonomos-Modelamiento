{
 "cells": [
  {
   "cell_type": "markdown",
   "id": "89430d71",
   "metadata": {},
   "source": [
    "## Universidad Nacional de Chimborazo\n",
    "\n",
    "**Facultad:** Facultad de Ingeniería  \n",
    "**Carrera:** Ciencia de Datos e IA  \n",
    "**Materia:** Modelamiento  \n",
    "**Docente:** Estalin Mejia H.  \n",
    "**Semestre:** Tercero\n",
    "\n",
    "---\n",
    "\n",
    "### Trabajo Autónomo 2\n",
    "\n",
    "### Análisis de Regresión Lineal Múltiple: Predicción de Tarifas de Taxis en Nueva York\n",
    "\n",
    "**Autores:**  \n",
    "- Alisson Atupaña\n",
    "- Mario Camacho\n",
    "- Lenin Lopez\n",
    "\n",
    "**Fecha:** 26 de octubre de 2025\n",
    "\n",
    "**Riobamba - Ecuador**\n",
    "\n",
    "---\n"
   ]
  },
  {
   "cell_type": "markdown",
   "id": "deb656e8",
   "metadata": {},
   "source": [
    "#\n",
    "<div style=\"display:flex; align-items:flex-start; gap:14px; background:linear-gradient(90deg,#1e3a8a,#3b82f6); padding:20px; border-radius:12px; box-shadow:0 8px 20px rgba(30,58,138,0.25); color:#fff; max-width:fit-content; width:min(900px,100%); margin:16px auto; box-sizing:border-box;\">\n",
    "    <div style=\"width:40px; height:40px; display:flex; align-items:center; justify-content:center; background:rgba(255,255,255,0.1); border-radius:8px; font-size:1.8rem; line-height:1;\">📋</div>\n",
    "    <div>\n",
    "        <div style=\"font-weight:900; font-size:1.8rem; letter-spacing:0.5px;\">Introducción y Contexto</div>\n",
    "        <div style=\"opacity:0.9; font-size:0.95rem; margin-top:6px;\">Exploración inicial del conjunto de datos de tarifas de taxis en Nueva York, incluyendo carga de librerías, importación de datos y análisis estructural para preparar el análisis de regresión lineal múltiple.</div>\n",
    "    </div>\n",
    "</div>"
   ]
  },
  {
   "cell_type": "markdown",
   "id": "e84f3ac0",
   "metadata": {
    "vscode": {
     "languageId": "r"
    }
   },
   "source": [
    "##\n",
    "<div style=\"display:flex; align-items:flex-start; gap:12px; background:linear-gradient(90deg,#ea580c,#f97316); padding:16px; border-radius:10px; box-shadow:0 6px 15px rgba(234,88,12,0.2); color:#fff; max-width:fit-content; width:min(850px,100%); margin:12px auto; margin-left:40px; box-sizing:border-box;\">\n",
    "    <div style=\"width:32px; height:32px; display:flex; align-items:center; justify-content:center; background:rgba(255,255,255,0.15); border-radius:6px; font-size:1.45rem; line-height:1;\">🔍</div>\n",
    "    <div>\n",
    "        <div style=\"font-weight:800; font-size:1.35rem; letter-spacing:0.3px;\">Instalacion y carga de librerías</div>\n",
    "    </div>\n",
    "</div>"
   ]
  },
  {
   "cell_type": "markdown",
   "id": "d633b030",
   "metadata": {},
   "source": [
    "###\n",
    "<div style=\"display:flex; align-items:flex-start; gap:12px; background:linear-gradient(90deg,#ca8a04,#eab308); padding:12px; border-radius:8px; box-shadow:0 4px 12px rgba(202,138,4,0.15); color:#fff; max-width:fit-content; width:min(750px,100%); margin:8px auto; margin-left:120px; box-sizing:border-box;\">\n",
    "    <div style=\"width:24px; height:24px; display:flex; align-items:center; justify-content:center; background:rgba(255,255,255,0.15); border-radius:4px; font-size:1rem; line-height:1;\">⚠️</div>\n",
    "    <div>\n",
    "        <div style=\"font-weight:600; font-size:1rem;\">Advertencia:</div>\n",
    "        <div style=\"opacity:0.85; font-size:0.8rem; margin-top:2px;\">Las liberias solo se deben instalar la primera vez.</div>\n",
    "    </div>\n",
    "</div>"
   ]
  },
  {
   "cell_type": "code",
   "execution_count": 1,
   "id": "8ea04f4f",
   "metadata": {
    "vscode": {
     "languageId": "r"
    }
   },
   "outputs": [
    {
     "name": "stdout",
     "output_type": "stream",
     "text": [
      "package 'readr' successfully unpacked and MD5 sums checked\n",
      "package 'dplyr' successfully unpacked and MD5 sums checked\n",
      "package 'ggplot2' successfully unpacked and MD5 sums checked\n",
      "package 'car' successfully unpacked and MD5 sums checked\n",
      "package 'GGally' successfully unpacked and MD5 sums checked\n",
      "package 'gridExtra' successfully unpacked and MD5 sums checked\n",
      "package 'psych' successfully unpacked and MD5 sums checked\n",
      "package 'PerformanceAnalytics' successfully unpacked and MD5 sums checked\n",
      "package 'lubridate' successfully unpacked and MD5 sums checked\n",
      "package 'corrplot' successfully unpacked and MD5 sums checked\n"
     ]
    }
   ],
   "source": [
    "install.packages(c(\"readr\", \"dplyr\", \"ggplot2\", \"car\", \"GGally\", \"gridExtra\", \"psych\", \"PerformanceAnalytics\", \"lubridate\", \"corrplot\"), verbose = FALSE, quiet = TRUE)"
   ]
  },
  {
   "cell_type": "code",
   "execution_count": 2,
   "id": "0902f5eb",
   "metadata": {
    "vscode": {
     "languageId": "r"
    }
   },
   "outputs": [
    {
     "name": "stderr",
     "output_type": "stream",
     "text": [
      "\n",
      "Adjuntando el paquete: 'dplyr'\n",
      "\n",
      "\n",
      "The following objects are masked from 'package:stats':\n",
      "\n",
      "    filter, lag\n",
      "\n",
      "\n",
      "The following objects are masked from 'package:stats':\n",
      "\n",
      "    filter, lag\n",
      "\n",
      "\n",
      "The following objects are masked from 'package:base':\n",
      "\n",
      "    intersect, setdiff, setequal, union\n",
      "\n",
      "\n",
      "The following objects are masked from 'package:base':\n",
      "\n",
      "    intersect, setdiff, setequal, union\n",
      "\n",
      "\n",
      "Cargando paquete requerido: carData\n",
      "\n",
      "Cargando paquete requerido: carData\n",
      "\n",
      "\n",
      "Adjuntando el paquete: 'car'\n",
      "\n",
      "\n",
      "The following object is masked from 'package:dplyr':\n",
      "\n",
      "    recode\n",
      "\n",
      "\n",
      "\n",
      "Adjuntando el paquete: 'car'\n",
      "\n",
      "\n",
      "The following object is masked from 'package:dplyr':\n",
      "\n",
      "    recode\n",
      "\n",
      "\n",
      "\n",
      "Adjuntando el paquete: 'gridExtra'\n",
      "\n",
      "\n",
      "The following object is masked from 'package:dplyr':\n",
      "\n",
      "    combine\n",
      "\n",
      "\n",
      "Cargando paquete requerido: xts\n",
      "\n",
      "\n",
      "Adjuntando el paquete: 'gridExtra'\n",
      "\n",
      "\n",
      "The following object is masked from 'package:dplyr':\n",
      "\n",
      "    combine\n",
      "\n",
      "\n",
      "Cargando paquete requerido: xts\n",
      "\n",
      "Cargando paquete requerido: zoo\n",
      "\n",
      "Cargando paquete requerido: zoo\n",
      "\n",
      "\n",
      "Adjuntando el paquete: 'zoo'\n",
      "\n",
      "\n",
      "The following objects are masked from 'package:base':\n",
      "\n",
      "    as.Date, as.Date.numeric\n",
      "\n",
      "\n",
      "\n",
      "Adjuntando el paquete: 'zoo'\n",
      "\n",
      "\n",
      "The following objects are masked from 'package:base':\n",
      "\n",
      "    as.Date, as.Date.numeric\n",
      "\n",
      "\n",
      "\n",
      "######################### Warning from 'xts' package ##########################\n",
      "#                                                                             #\n",
      "# The dplyr lag() function breaks how base R's lag() function is supposed to  #\n",
      "# work, which breaks lag(my_xts). Calls to lag(my_xts) that you type or       #\n",
      "# source() into this session won't work correctly.                            #\n",
      "#                                                                             #\n",
      "# Use stats::lag() to make sure you're not using dplyr::lag(), or you can add #\n",
      "# conflictRules('dplyr', exclude = 'lag') to your .Rprofile to stop           #\n",
      "# dplyr from breaking base R's lag() function.                                #\n",
      "#                                                                             #\n",
      "# Code in packages is not affected. It's protected by R's namespace mechanism #\n",
      "# Set `options(xts.warn_dplyr_breaks_lag = FALSE)` to suppress this warning.  #\n",
      "#                                                                             #\n",
      "###############################################################################\n",
      "\n",
      "\n",
      "Adjuntando el paquete: 'xts'\n",
      "\n",
      "\n",
      "The following objects are masked from 'package:dplyr':\n",
      "\n",
      "    first, last\n",
      "\n",
      "\n",
      "\n",
      "######################### Warning from 'xts' package ##########################\n",
      "#                                                                             #\n",
      "# The dplyr lag() function breaks how base R's lag() function is supposed to  #\n",
      "# work, which breaks lag(my_xts). Calls to lag(my_xts) that you type or       #\n",
      "# source() into this session won't work correctly.                            #\n",
      "#                                                                             #\n",
      "# Use stats::lag() to make sure you're not using dplyr::lag(), or you can add #\n",
      "# conflictRules('dplyr', exclude = 'lag') to your .Rprofile to stop           #\n",
      "# dplyr from breaking base R's lag() function.                                #\n",
      "#                                                                             #\n",
      "# Code in packages is not affected. It's protected by R's namespace mechanism #\n",
      "# Set `options(xts.warn_dplyr_breaks_lag = FALSE)` to suppress this warning.  #\n",
      "#                                                                             #\n",
      "###############################################################################\n",
      "\n",
      "\n",
      "Adjuntando el paquete: 'xts'\n",
      "\n",
      "\n",
      "The following objects are masked from 'package:dplyr':\n",
      "\n",
      "    first, last\n",
      "\n",
      "\n",
      "\n",
      "Adjuntando el paquete: 'PerformanceAnalytics'\n",
      "\n",
      "\n",
      "The following object is masked from 'package:graphics':\n",
      "\n",
      "    legend\n",
      "\n",
      "\n",
      "\n",
      "Adjuntando el paquete: 'PerformanceAnalytics'\n",
      "\n",
      "\n",
      "The following object is masked from 'package:graphics':\n",
      "\n",
      "    legend\n",
      "\n",
      "\n",
      "\n",
      "Adjuntando el paquete: 'lubridate'\n",
      "\n",
      "\n",
      "The following objects are masked from 'package:base':\n",
      "\n",
      "    date, intersect, setdiff, union\n",
      "\n",
      "\n",
      "\n",
      "Adjuntando el paquete: 'lubridate'\n",
      "\n",
      "\n",
      "The following objects are masked from 'package:base':\n",
      "\n",
      "    date, intersect, setdiff, union\n",
      "\n",
      "\n",
      "corrplot 0.95 loaded\n",
      "\n",
      "corrplot 0.95 loaded\n",
      "\n"
     ]
    }
   ],
   "source": [
    "library(readr) # para leer los datos\n",
    "library(dplyr) # para manipulación de datos\n",
    "library(ggplot2) # para visualización de los datos\n",
    "library(car) # para análisis de regresión lineal\n",
    "library(GGally) # para gráficos correlacionales\n",
    "library(gridExtra) # para organizar múltiples gráficos\n",
    "library(PerformanceAnalytics) # para análisis de correlación avanzada\n",
    "library(lubridate) # para manipulación de fechas y horas\n",
    "library(corrplot) # para visualización de matrices de correlación"
   ]
  },
  {
   "cell_type": "markdown",
   "id": "13bf5de4",
   "metadata": {},
   "source": [
    "##\n",
    "<div style=\"display:flex; align-items:flex-start; gap:12px; background:linear-gradient(90deg,#ea580c,#f97316); padding:16px; border-radius:10px; box-shadow:0 6px 15px rgba(234,88,12,0.2); color:#fff; max-width:fit-content; width:min(850px,100%); margin:12px auto; margin-left:40px; box-sizing:border-box;\">\n",
    "    <div style=\"width:32px; height:32px; display:flex; align-items:center; justify-content:center; background:rgba(255,255,255,0.15); border-radius:6px; font-size:1.45rem; line-height:1;\">🔍</div>\n",
    "    <div>\n",
    "        <div style=\"font-weight:800; font-size:1.35rem; letter-spacing:0.3px;\">Carga de los datos y estructura del dataset</div>\n",
    "    </div>\n",
    "</div>"
   ]
  },
  {
   "cell_type": "code",
   "execution_count": 3,
   "id": "e84c34cc",
   "metadata": {
    "vscode": {
     "languageId": "r"
    }
   },
   "outputs": [],
   "source": [
    "datos <- readRDS(\"datos.rds\") "
   ]
  },
  {
   "cell_type": "code",
   "execution_count": 4,
   "id": "28c4a136",
   "metadata": {
    "vscode": {
     "languageId": "r"
    }
   },
   "outputs": [
    {
     "data": {
      "text/html": [
       "<table class=\"dataframe\">\n",
       "<caption>A tibble: 6 × 20</caption>\n",
       "<thead>\n",
       "\t<tr><th scope=col>VendorID</th><th scope=col>tpep_pickup_datetime</th><th scope=col>tpep_dropoff_datetime</th><th scope=col>passenger_count</th><th scope=col>trip_distance</th><th scope=col>pickup_longitude</th><th scope=col>pickup_latitude</th><th scope=col>RateCodeID</th><th scope=col>store_and_fwd_flag</th><th scope=col>dropoff_longitude</th><th scope=col>dropoff_latitude</th><th scope=col>payment_type</th><th scope=col>fare_amount</th><th scope=col>extra</th><th scope=col>mta_tax</th><th scope=col>tip_amount</th><th scope=col>tolls_amount</th><th scope=col>improvement_surcharge</th><th scope=col>total_amount</th><th scope=col>RatecodeID</th></tr>\n",
       "\t<tr><th scope=col>&lt;dbl&gt;</th><th scope=col>&lt;dttm&gt;</th><th scope=col>&lt;dttm&gt;</th><th scope=col>&lt;dbl&gt;</th><th scope=col>&lt;dbl&gt;</th><th scope=col>&lt;dbl&gt;</th><th scope=col>&lt;dbl&gt;</th><th scope=col>&lt;dbl&gt;</th><th scope=col>&lt;chr&gt;</th><th scope=col>&lt;dbl&gt;</th><th scope=col>&lt;dbl&gt;</th><th scope=col>&lt;dbl&gt;</th><th scope=col>&lt;dbl&gt;</th><th scope=col>&lt;dbl&gt;</th><th scope=col>&lt;dbl&gt;</th><th scope=col>&lt;dbl&gt;</th><th scope=col>&lt;dbl&gt;</th><th scope=col>&lt;dbl&gt;</th><th scope=col>&lt;dbl&gt;</th><th scope=col>&lt;dbl&gt;</th></tr>\n",
       "</thead>\n",
       "<tbody>\n",
       "\t<tr><td>2</td><td>2016-03-27 21:14:57</td><td>2016-03-27 21:20:27</td><td>1</td><td>1.12</td><td>-73.98667</td><td>40.72813</td><td>NA</td><td>N</td><td>-73.98641</td><td>40.73848</td><td>1</td><td> 6.0</td><td>0.5</td><td>0.5</td><td>1.46</td><td>0</td><td>0.3</td><td> 8.76</td><td> 1</td></tr>\n",
       "\t<tr><td>2</td><td>2016-02-20 18:15:45</td><td>2016-02-20 18:46:13</td><td>1</td><td>3.80</td><td>-73.98663</td><td>40.77701</td><td>NA</td><td>N</td><td>-74.00238</td><td>40.73035</td><td>1</td><td>19.5</td><td>0.0</td><td>0.5</td><td>1.50</td><td>0</td><td>0.3</td><td>21.80</td><td> 1</td></tr>\n",
       "\t<tr><td>2</td><td>2016-01-02 17:26:54</td><td>2016-01-02 17:31:58</td><td>2</td><td>0.73</td><td>-73.97395</td><td>40.76041</td><td>NA</td><td>N</td><td>-73.96369</td><td>40.75890</td><td>1</td><td> 5.5</td><td>0.0</td><td>0.5</td><td>1.00</td><td>0</td><td>0.3</td><td> 7.30</td><td> 1</td></tr>\n",
       "\t<tr><td>1</td><td>2016-01-29 14:13:50</td><td>2016-01-29 14:29:41</td><td>1</td><td>2.00</td><td>-73.98127</td><td>40.75839</td><td>NA</td><td>N</td><td>-73.98635</td><td>40.77897</td><td>1</td><td>11.5</td><td>0.0</td><td>0.5</td><td>1.50</td><td>0</td><td>0.3</td><td>13.80</td><td> 1</td></tr>\n",
       "\t<tr><td>2</td><td>2015-01-04 19:55:27</td><td>2015-01-04 20:00:53</td><td>1</td><td>0.78</td><td>-74.00253</td><td>40.75269</td><td> 1</td><td>N</td><td>-73.99132</td><td>40.75177</td><td>1</td><td> 5.5</td><td>0.0</td><td>0.5</td><td>1.10</td><td>0</td><td>0.3</td><td> 7.40</td><td>NA</td></tr>\n",
       "\t<tr><td>1</td><td>2015-01-15 13:23:40</td><td>2015-01-15 13:35:18</td><td>1</td><td>1.90</td><td>-73.98387</td><td>40.78062</td><td> 1</td><td>N</td><td>-73.96466</td><td>40.76981</td><td>1</td><td> 9.5</td><td>0.0</td><td>0.5</td><td>2.05</td><td>0</td><td>0.3</td><td>12.35</td><td>NA</td></tr>\n",
       "</tbody>\n",
       "</table>\n"
      ],
      "text/latex": [
       "A tibble: 6 × 20\n",
       "\\begin{tabular}{llllllllllllllllllll}\n",
       " VendorID & tpep\\_pickup\\_datetime & tpep\\_dropoff\\_datetime & passenger\\_count & trip\\_distance & pickup\\_longitude & pickup\\_latitude & RateCodeID & store\\_and\\_fwd\\_flag & dropoff\\_longitude & dropoff\\_latitude & payment\\_type & fare\\_amount & extra & mta\\_tax & tip\\_amount & tolls\\_amount & improvement\\_surcharge & total\\_amount & RatecodeID\\\\\n",
       " <dbl> & <dttm> & <dttm> & <dbl> & <dbl> & <dbl> & <dbl> & <dbl> & <chr> & <dbl> & <dbl> & <dbl> & <dbl> & <dbl> & <dbl> & <dbl> & <dbl> & <dbl> & <dbl> & <dbl>\\\\\n",
       "\\hline\n",
       "\t 2 & 2016-03-27 21:14:57 & 2016-03-27 21:20:27 & 1 & 1.12 & -73.98667 & 40.72813 & NA & N & -73.98641 & 40.73848 & 1 &  6.0 & 0.5 & 0.5 & 1.46 & 0 & 0.3 &  8.76 &  1\\\\\n",
       "\t 2 & 2016-02-20 18:15:45 & 2016-02-20 18:46:13 & 1 & 3.80 & -73.98663 & 40.77701 & NA & N & -74.00238 & 40.73035 & 1 & 19.5 & 0.0 & 0.5 & 1.50 & 0 & 0.3 & 21.80 &  1\\\\\n",
       "\t 2 & 2016-01-02 17:26:54 & 2016-01-02 17:31:58 & 2 & 0.73 & -73.97395 & 40.76041 & NA & N & -73.96369 & 40.75890 & 1 &  5.5 & 0.0 & 0.5 & 1.00 & 0 & 0.3 &  7.30 &  1\\\\\n",
       "\t 1 & 2016-01-29 14:13:50 & 2016-01-29 14:29:41 & 1 & 2.00 & -73.98127 & 40.75839 & NA & N & -73.98635 & 40.77897 & 1 & 11.5 & 0.0 & 0.5 & 1.50 & 0 & 0.3 & 13.80 &  1\\\\\n",
       "\t 2 & 2015-01-04 19:55:27 & 2015-01-04 20:00:53 & 1 & 0.78 & -74.00253 & 40.75269 &  1 & N & -73.99132 & 40.75177 & 1 &  5.5 & 0.0 & 0.5 & 1.10 & 0 & 0.3 &  7.40 & NA\\\\\n",
       "\t 1 & 2015-01-15 13:23:40 & 2015-01-15 13:35:18 & 1 & 1.90 & -73.98387 & 40.78062 &  1 & N & -73.96466 & 40.76981 & 1 &  9.5 & 0.0 & 0.5 & 2.05 & 0 & 0.3 & 12.35 & NA\\\\\n",
       "\\end{tabular}\n"
      ],
      "text/markdown": [
       "\n",
       "A tibble: 6 × 20\n",
       "\n",
       "| VendorID &lt;dbl&gt; | tpep_pickup_datetime &lt;dttm&gt; | tpep_dropoff_datetime &lt;dttm&gt; | passenger_count &lt;dbl&gt; | trip_distance &lt;dbl&gt; | pickup_longitude &lt;dbl&gt; | pickup_latitude &lt;dbl&gt; | RateCodeID &lt;dbl&gt; | store_and_fwd_flag &lt;chr&gt; | dropoff_longitude &lt;dbl&gt; | dropoff_latitude &lt;dbl&gt; | payment_type &lt;dbl&gt; | fare_amount &lt;dbl&gt; | extra &lt;dbl&gt; | mta_tax &lt;dbl&gt; | tip_amount &lt;dbl&gt; | tolls_amount &lt;dbl&gt; | improvement_surcharge &lt;dbl&gt; | total_amount &lt;dbl&gt; | RatecodeID &lt;dbl&gt; |\n",
       "|---|---|---|---|---|---|---|---|---|---|---|---|---|---|---|---|---|---|---|---|\n",
       "| 2 | 2016-03-27 21:14:57 | 2016-03-27 21:20:27 | 1 | 1.12 | -73.98667 | 40.72813 | NA | N | -73.98641 | 40.73848 | 1 |  6.0 | 0.5 | 0.5 | 1.46 | 0 | 0.3 |  8.76 |  1 |\n",
       "| 2 | 2016-02-20 18:15:45 | 2016-02-20 18:46:13 | 1 | 3.80 | -73.98663 | 40.77701 | NA | N | -74.00238 | 40.73035 | 1 | 19.5 | 0.0 | 0.5 | 1.50 | 0 | 0.3 | 21.80 |  1 |\n",
       "| 2 | 2016-01-02 17:26:54 | 2016-01-02 17:31:58 | 2 | 0.73 | -73.97395 | 40.76041 | NA | N | -73.96369 | 40.75890 | 1 |  5.5 | 0.0 | 0.5 | 1.00 | 0 | 0.3 |  7.30 |  1 |\n",
       "| 1 | 2016-01-29 14:13:50 | 2016-01-29 14:29:41 | 1 | 2.00 | -73.98127 | 40.75839 | NA | N | -73.98635 | 40.77897 | 1 | 11.5 | 0.0 | 0.5 | 1.50 | 0 | 0.3 | 13.80 |  1 |\n",
       "| 2 | 2015-01-04 19:55:27 | 2015-01-04 20:00:53 | 1 | 0.78 | -74.00253 | 40.75269 |  1 | N | -73.99132 | 40.75177 | 1 |  5.5 | 0.0 | 0.5 | 1.10 | 0 | 0.3 |  7.40 | NA |\n",
       "| 1 | 2015-01-15 13:23:40 | 2015-01-15 13:35:18 | 1 | 1.90 | -73.98387 | 40.78062 |  1 | N | -73.96466 | 40.76981 | 1 |  9.5 | 0.0 | 0.5 | 2.05 | 0 | 0.3 | 12.35 | NA |\n",
       "\n"
      ],
      "text/plain": [
       "  VendorID tpep_pickup_datetime tpep_dropoff_datetime passenger_count\n",
       "1 2        2016-03-27 21:14:57  2016-03-27 21:20:27   1              \n",
       "2 2        2016-02-20 18:15:45  2016-02-20 18:46:13   1              \n",
       "3 2        2016-01-02 17:26:54  2016-01-02 17:31:58   2              \n",
       "4 1        2016-01-29 14:13:50  2016-01-29 14:29:41   1              \n",
       "5 2        2015-01-04 19:55:27  2015-01-04 20:00:53   1              \n",
       "6 1        2015-01-15 13:23:40  2015-01-15 13:35:18   1              \n",
       "  trip_distance pickup_longitude pickup_latitude RateCodeID store_and_fwd_flag\n",
       "1 1.12          -73.98667        40.72813        NA         N                 \n",
       "2 3.80          -73.98663        40.77701        NA         N                 \n",
       "3 0.73          -73.97395        40.76041        NA         N                 \n",
       "4 2.00          -73.98127        40.75839        NA         N                 \n",
       "5 0.78          -74.00253        40.75269         1         N                 \n",
       "6 1.90          -73.98387        40.78062         1         N                 \n",
       "  dropoff_longitude dropoff_latitude payment_type fare_amount extra mta_tax\n",
       "1 -73.98641         40.73848         1             6.0        0.5   0.5    \n",
       "2 -74.00238         40.73035         1            19.5        0.0   0.5    \n",
       "3 -73.96369         40.75890         1             5.5        0.0   0.5    \n",
       "4 -73.98635         40.77897         1            11.5        0.0   0.5    \n",
       "5 -73.99132         40.75177         1             5.5        0.0   0.5    \n",
       "6 -73.96466         40.76981         1             9.5        0.0   0.5    \n",
       "  tip_amount tolls_amount improvement_surcharge total_amount RatecodeID\n",
       "1 1.46       0            0.3                    8.76         1        \n",
       "2 1.50       0            0.3                   21.80         1        \n",
       "3 1.00       0            0.3                    7.30         1        \n",
       "4 1.50       0            0.3                   13.80         1        \n",
       "5 1.10       0            0.3                    7.40        NA        \n",
       "6 2.05       0            0.3                   12.35        NA        "
      ]
     },
     "metadata": {},
     "output_type": "display_data"
    }
   ],
   "source": [
    "head(datos) # muestra las primeras filas del dataset"
   ]
  },
  {
   "cell_type": "markdown",
   "id": "1f8dc660",
   "metadata": {},
   "source": [
    "###\n",
    "<div style=\"display:flex; align-items:flex-start; gap:12px; background:linear-gradient(90deg,#7c3aed,#a855f7); padding:14px; border-radius:8px; box-shadow:0 4px 12px rgba(124,58,237,0.15); color:#fff; max-width:fit-content; width:min(800px,100%); margin:10px auto; margin-left:80px; box-sizing:border-box;\">\n",
    "    <div style=\"width:28px; height:28px; display:flex; align-items:center; justify-content:center; background:rgba(255,255,255,0.15); border-radius:6px; font-size:1.2rem; line-height:1;\">⚙️</div>\n",
    "    <div>\n",
    "        <div style=\"font-weight:700; font-size:1.15rem;\">Estructura del dataset</div>\n",
    "    </div>\n",
    "</div>"
   ]
  },
  {
   "cell_type": "code",
   "execution_count": 5,
   "id": "fe9f5b68",
   "metadata": {
    "vscode": {
     "languageId": "r"
    }
   },
   "outputs": [
    {
     "name": "stdout",
     "output_type": "stream",
     "text": [
      "Rows: 1,000,000\n",
      "Columns: 20\n",
      "$ VendorID              \u001b[3m\u001b[90m<dbl>\u001b[39m\u001b[23m 2\u001b[90m, \u001b[39m2\u001b[90m, \u001b[39m2\u001b[90m, \u001b[39m1\u001b[90m, \u001b[39m2\u001b[90m, \u001b[39m1\u001b[90m, \u001b[39m…\n",
      "$ tpep_pickup_datetime  \u001b[3m\u001b[90m<dttm>\u001b[39m\u001b[23m 2016-03-27 21:14:…\n",
      "$ tpep_dropoff_datetime \u001b[3m\u001b[90m<dttm>\u001b[39m\u001b[23m 2016-03-27 21:20:…\n",
      "$ passenger_count       \u001b[3m\u001b[90m<dbl>\u001b[39m\u001b[23m 1\u001b[90m, \u001b[39m1\u001b[90m, \u001b[39m2\u001b[90m, \u001b[39m1\u001b[90m, \u001b[39m1\u001b[90m, \u001b[39m1\u001b[90m, \u001b[39m…\n",
      "$ trip_distance         \u001b[3m\u001b[90m<dbl>\u001b[39m\u001b[23m 1.12\u001b[90m, \u001b[39m3.80\u001b[90m, \u001b[39m0.73\u001b[90m, \u001b[39m…\n",
      "$ pickup_longitude      \u001b[3m\u001b[90m<dbl>\u001b[39m\u001b[23m -73.98667\u001b[90m, \u001b[39m-73.986…\n",
      "$ pickup_latitude       \u001b[3m\u001b[90m<dbl>\u001b[39m\u001b[23m 40.72813\u001b[90m, \u001b[39m40.77701…\n",
      "$ RateCodeID            \u001b[3m\u001b[90m<dbl>\u001b[39m\u001b[23m \u001b[31mNA\u001b[39m\u001b[90m, \u001b[39m\u001b[31mNA\u001b[39m\u001b[90m, \u001b[39m\u001b[31mNA\u001b[39m\u001b[90m, \u001b[39m\u001b[31mNA\u001b[39m\u001b[90m, \u001b[39m1\u001b[90m,\u001b[39m…\n",
      "$ store_and_fwd_flag    \u001b[3m\u001b[90m<chr>\u001b[39m\u001b[23m \"N\"\u001b[90m, \u001b[39m\"N\"\u001b[90m, \u001b[39m\"N\"\u001b[90m, \u001b[39m\"N\"…\n",
      "$ dropoff_longitude     \u001b[3m\u001b[90m<dbl>\u001b[39m\u001b[23m -73.98641\u001b[90m, \u001b[39m-74.002…\n",
      "$ dropoff_latitude      \u001b[3m\u001b[90m<dbl>\u001b[39m\u001b[23m 40.73848\u001b[90m, \u001b[39m40.73035…\n",
      "$ payment_type          \u001b[3m\u001b[90m<dbl>\u001b[39m\u001b[23m 1\u001b[90m, \u001b[39m1\u001b[90m, \u001b[39m1\u001b[90m, \u001b[39m1\u001b[90m, \u001b[39m1\u001b[90m, \u001b[39m1\u001b[90m, \u001b[39m…\n",
      "$ fare_amount           \u001b[3m\u001b[90m<dbl>\u001b[39m\u001b[23m 6.0\u001b[90m, \u001b[39m19.5\u001b[90m, \u001b[39m5.5\u001b[90m, \u001b[39m11…\n",
      "$ extra                 \u001b[3m\u001b[90m<dbl>\u001b[39m\u001b[23m 0.5\u001b[90m, \u001b[39m0.0\u001b[90m, \u001b[39m0.0\u001b[90m, \u001b[39m0.0…\n",
      "$ mta_tax               \u001b[3m\u001b[90m<dbl>\u001b[39m\u001b[23m 0.5\u001b[90m, \u001b[39m0.5\u001b[90m, \u001b[39m0.5\u001b[90m, \u001b[39m0.5…\n",
      "$ tip_amount            \u001b[3m\u001b[90m<dbl>\u001b[39m\u001b[23m 1.46\u001b[90m, \u001b[39m1.50\u001b[90m, \u001b[39m1.00\u001b[90m, \u001b[39m…\n",
      "$ tolls_amount          \u001b[3m\u001b[90m<dbl>\u001b[39m\u001b[23m 0\u001b[90m, \u001b[39m0\u001b[90m, \u001b[39m0\u001b[90m, \u001b[39m0\u001b[90m, \u001b[39m0\u001b[90m, \u001b[39m0\u001b[90m, \u001b[39m…\n",
      "$ improvement_surcharge \u001b[3m\u001b[90m<dbl>\u001b[39m\u001b[23m 0.3\u001b[90m, \u001b[39m0.3\u001b[90m, \u001b[39m0.3\u001b[90m, \u001b[39m0.3…\n",
      "$ total_amount          \u001b[3m\u001b[90m<dbl>\u001b[39m\u001b[23m 8.76\u001b[90m, \u001b[39m21.80\u001b[90m, \u001b[39m7.30\u001b[90m,\u001b[39m…\n",
      "$ RatecodeID            \u001b[3m\u001b[90m<dbl>\u001b[39m\u001b[23m 1\u001b[90m, \u001b[39m1\u001b[90m, \u001b[39m1\u001b[90m, \u001b[39m1\u001b[90m, \u001b[39m\u001b[31mNA\u001b[39m\u001b[90m, \u001b[39m\u001b[31mNA\u001b[39m…\n"
     ]
    }
   ],
   "source": [
    "glimpse(datos, width = 50)"
   ]
  },
  {
   "cell_type": "markdown",
   "id": "6061f1f9",
   "metadata": {},
   "source": [
    "###\n",
    "<div style=\"display:flex; align-items:flex-start; gap:12px; background:linear-gradient(90deg,#7c3aed,#a855f7); padding:14px; border-radius:8px; box-shadow:0 4px 12px rgba(124,58,237,0.15); color:#fff; max-width:fit-content; width:min(800px,100%); margin:10px auto; margin-left:80px; box-sizing:border-box;\">\n",
    "    <div style=\"width:28px; height:28px; display:flex; align-items:center; justify-content:center; background:rgba(255,255,255,0.15); border-radius:6px; font-size:1.2rem; line-height:1;\">⚙️</div>\n",
    "    <div>\n",
    "        <div style=\"font-weight:700; font-size:1.15rem;\">Resumen rapido de las estadisticas descriptivas</div>\n",
    "    </div>\n",
    "</div>"
   ]
  },
  {
   "cell_type": "code",
   "execution_count": 6,
   "id": "eaf351b8",
   "metadata": {
    "vscode": {
     "languageId": "r"
    }
   },
   "outputs": [
    {
     "data": {
      "text/plain": [
       "    VendorID    tpep_pickup_datetime          tpep_dropoff_datetime        \n",
       " Min.   :1.00   Min.   :2015-01-01 00:00:00   Min.   :2015-01-01 00:00:00  \n",
       " 1st Qu.:1.00   1st Qu.:2015-01-30 06:39:53   1st Qu.:2015-01-30 06:51:04  \n",
       " Median :2.00   Median :2016-01-31 18:54:32   Median :2016-01-31 19:10:51  \n",
       " Mean   :1.53   Mean   :2015-11-01 14:02:52   Mean   :2015-11-01 14:17:54  \n",
       " 3rd Qu.:2.00   3rd Qu.:2016-03-02 01:08:12   3rd Qu.:2016-03-02 01:23:22  \n",
       " Max.   :2.00   Max.   :2016-03-31 23:59:54   Max.   :2016-06-07 14:27:58  \n",
       "                                                                           \n",
       " passenger_count trip_distance       pickup_longitude  pickup_latitude\n",
       " Min.   :0.000   Min.   :     0.00   Min.   :-131.82   Min.   : 0.00  \n",
       " 1st Qu.:1.000   1st Qu.:     1.00   1st Qu.: -73.99   1st Qu.:40.74  \n",
       " Median :1.000   Median :     1.69   Median : -73.98   Median :40.75  \n",
       " Mean   :1.667   Mean   :     4.00   Mean   : -72.77   Mean   :40.09  \n",
       " 3rd Qu.:2.000   3rd Qu.:     3.09   3rd Qu.: -73.97   3rd Qu.:40.77  \n",
       " Max.   :9.000   Max.   :833180.00   Max.   :   0.00   Max.   :60.91  \n",
       "                                                                      \n",
       "   RateCodeID     store_and_fwd_flag dropoff_longitude dropoff_latitude\n",
       " Min.   : 1.00    Length:1000000     Min.   :-121.93   Min.   : 0.00   \n",
       " 1st Qu.: 1.00    Class :character   1st Qu.: -73.99   1st Qu.:40.73   \n",
       " Median : 1.00    Mode  :character   Median : -73.98   Median :40.75   \n",
       " Mean   : 1.04                       Mean   : -72.83   Mean   :40.12   \n",
       " 3rd Qu.: 1.00                       3rd Qu.: -73.96   3rd Qu.:40.77   \n",
       " Max.   :99.00                       Max.   :   0.00   Max.   :43.68   \n",
       " NA's   :729645                                                        \n",
       "  payment_type    fare_amount          extra            mta_tax       \n",
       " Min.   :1.000   Min.   :-245.00   Min.   :-4.5000   Min.   :-0.5000  \n",
       " 1st Qu.:1.000   1st Qu.:   6.50   1st Qu.: 0.0000   1st Qu.: 0.5000  \n",
       " Median :1.000   Median :   9.00   Median : 0.0000   Median : 0.5000  \n",
       " Mean   :1.352   Mean   :  12.36   Mean   : 0.3246   Mean   : 0.4977  \n",
       " 3rd Qu.:2.000   3rd Qu.:  14.00   3rd Qu.: 0.5000   3rd Qu.: 0.5000  \n",
       " Max.   :4.000   Max.   :4008.00   Max.   : 8.0000   Max.   : 0.5000  \n",
       "                                                                      \n",
       "   tip_amount       tolls_amount      improvement_surcharge  total_amount    \n",
       " Min.   : -2.700   Min.   : -5.5400   Min.   :-0.3000       Min.   :-245.30  \n",
       " 1st Qu.:  0.000   1st Qu.:  0.0000   1st Qu.: 0.3000       1st Qu.:   8.30  \n",
       " Median :  1.250   Median :  0.0000   Median : 0.3000       Median :  11.60  \n",
       " Mean   :  1.708   Mean   :  0.2854   Mean   : 0.2953       Mean   :  15.47  \n",
       " 3rd Qu.:  2.260   3rd Qu.:  0.0000   3rd Qu.: 0.3000       3rd Qu.:  17.15  \n",
       " Max.   :297.350   Max.   :755.5400   Max.   : 0.3000       Max.   :4009.30  \n",
       "                                                                             \n",
       "   RatecodeID    \n",
       " Min.   : 1.000  \n",
       " 1st Qu.: 1.000  \n",
       " Median : 1.000  \n",
       " Mean   : 1.039  \n",
       " 3rd Qu.: 1.000  \n",
       " Max.   :99.000  \n",
       " NA's   :270355  "
      ]
     },
     "metadata": {},
     "output_type": "display_data"
    }
   ],
   "source": [
    "summary(datos)"
   ]
  },
  {
   "cell_type": "markdown",
   "id": "a38e1b39",
   "metadata": {},
   "source": [
    "#\n",
    "<div style=\"display:flex; align-items:flex-start; gap:14px; background:linear-gradient(90deg,#1e3a8a,#3b82f6); padding:20px; border-radius:12px; box-shadow:0 8px 20px rgba(30,58,138,0.25); color:#fff; max-width:fit-content; width:min(900px,100%); margin:16px auto; box-sizing:border-box;\">\n",
    "    <div style=\"width:40px; height:40px; display:flex; align-items:center; justify-content:center; background:rgba(255,255,255,0.1); border-radius:8px; font-size:1.8rem; line-height:1;\">🧹</div>\n",
    "        <div>\n",
    "            <div style=\"font-weight:900; font-size:1.8rem; letter-spacing:0.5px;\">Preparación y Limpieza de Datos</div>\n",
    "            <div style=\"opacity:0.9; font-size:0.95rem; margin-top:6px;\">Identificación de valores faltantes, fusión de columnas duplicadas y transformación de datos para preparar el dataset antes del análisis de regresión lineal múltiple.</div>\n",
    "        </div>\n",
    "</div>"
   ]
  },
  {
   "cell_type": "markdown",
   "id": "2dd3a70d",
   "metadata": {},
   "source": [
    "\n",
    "##\n",
    "<div style=\"display:flex; align-items:flex-start; gap:12px; background:linear-gradient(90deg,#ea580c,#f97316); padding:16px; border-radius:10px; box-shadow:0 6px 15px rgba(234,88,12,0.2); color:#fff; max-width:fit-content; width:min(850px,100%); margin:12px auto; margin-left:40px; box-sizing:border-box;\">\n",
    "    <div style=\"width:32px; height:32px; display:flex; align-items:center; justify-content:center; background:rgba(255,255,255,0.15); border-radius:6px; font-size:1.45rem; line-height:1;\">🔍</div>\n",
    "    <div>\n",
    "        <div style=\"font-weight:700; font-size:1.15rem;\">Revisar los N/A de cada columna</div>\n",
    "    </div>\n",
    "</div>"
   ]
  },
  {
   "cell_type": "code",
   "execution_count": 7,
   "id": "78abd7a1",
   "metadata": {
    "vscode": {
     "languageId": "r"
    }
   },
   "outputs": [
    {
     "data": {
      "text/html": [
       "<table class=\"dataframe\">\n",
       "<caption>A data.frame: 20 × 1</caption>\n",
       "<thead>\n",
       "\t<tr><th></th><th scope=col>Missing_Values</th></tr>\n",
       "\t<tr><th></th><th scope=col>&lt;dbl&gt;</th></tr>\n",
       "</thead>\n",
       "<tbody>\n",
       "\t<tr><th scope=row>VendorID</th><td>     0</td></tr>\n",
       "\t<tr><th scope=row>tpep_pickup_datetime</th><td>     0</td></tr>\n",
       "\t<tr><th scope=row>tpep_dropoff_datetime</th><td>     0</td></tr>\n",
       "\t<tr><th scope=row>passenger_count</th><td>     0</td></tr>\n",
       "\t<tr><th scope=row>trip_distance</th><td>     0</td></tr>\n",
       "\t<tr><th scope=row>pickup_longitude</th><td>     0</td></tr>\n",
       "\t<tr><th scope=row>pickup_latitude</th><td>     0</td></tr>\n",
       "\t<tr><th scope=row>RateCodeID</th><td>729645</td></tr>\n",
       "\t<tr><th scope=row>store_and_fwd_flag</th><td>     0</td></tr>\n",
       "\t<tr><th scope=row>dropoff_longitude</th><td>     0</td></tr>\n",
       "\t<tr><th scope=row>dropoff_latitude</th><td>     0</td></tr>\n",
       "\t<tr><th scope=row>payment_type</th><td>     0</td></tr>\n",
       "\t<tr><th scope=row>fare_amount</th><td>     0</td></tr>\n",
       "\t<tr><th scope=row>extra</th><td>     0</td></tr>\n",
       "\t<tr><th scope=row>mta_tax</th><td>     0</td></tr>\n",
       "\t<tr><th scope=row>tip_amount</th><td>     0</td></tr>\n",
       "\t<tr><th scope=row>tolls_amount</th><td>     0</td></tr>\n",
       "\t<tr><th scope=row>improvement_surcharge</th><td>     0</td></tr>\n",
       "\t<tr><th scope=row>total_amount</th><td>     0</td></tr>\n",
       "\t<tr><th scope=row>RatecodeID</th><td>270355</td></tr>\n",
       "</tbody>\n",
       "</table>\n"
      ],
      "text/latex": [
       "A data.frame: 20 × 1\n",
       "\\begin{tabular}{r|l}\n",
       "  & Missing\\_Values\\\\\n",
       "  & <dbl>\\\\\n",
       "\\hline\n",
       "\tVendorID &      0\\\\\n",
       "\ttpep\\_pickup\\_datetime &      0\\\\\n",
       "\ttpep\\_dropoff\\_datetime &      0\\\\\n",
       "\tpassenger\\_count &      0\\\\\n",
       "\ttrip\\_distance &      0\\\\\n",
       "\tpickup\\_longitude &      0\\\\\n",
       "\tpickup\\_latitude &      0\\\\\n",
       "\tRateCodeID & 729645\\\\\n",
       "\tstore\\_and\\_fwd\\_flag &      0\\\\\n",
       "\tdropoff\\_longitude &      0\\\\\n",
       "\tdropoff\\_latitude &      0\\\\\n",
       "\tpayment\\_type &      0\\\\\n",
       "\tfare\\_amount &      0\\\\\n",
       "\textra &      0\\\\\n",
       "\tmta\\_tax &      0\\\\\n",
       "\ttip\\_amount &      0\\\\\n",
       "\ttolls\\_amount &      0\\\\\n",
       "\timprovement\\_surcharge &      0\\\\\n",
       "\ttotal\\_amount &      0\\\\\n",
       "\tRatecodeID & 270355\\\\\n",
       "\\end{tabular}\n"
      ],
      "text/markdown": [
       "\n",
       "A data.frame: 20 × 1\n",
       "\n",
       "| <!--/--> | Missing_Values &lt;dbl&gt; |\n",
       "|---|---|\n",
       "| VendorID |      0 |\n",
       "| tpep_pickup_datetime |      0 |\n",
       "| tpep_dropoff_datetime |      0 |\n",
       "| passenger_count |      0 |\n",
       "| trip_distance |      0 |\n",
       "| pickup_longitude |      0 |\n",
       "| pickup_latitude |      0 |\n",
       "| RateCodeID | 729645 |\n",
       "| store_and_fwd_flag |      0 |\n",
       "| dropoff_longitude |      0 |\n",
       "| dropoff_latitude |      0 |\n",
       "| payment_type |      0 |\n",
       "| fare_amount |      0 |\n",
       "| extra |      0 |\n",
       "| mta_tax |      0 |\n",
       "| tip_amount |      0 |\n",
       "| tolls_amount |      0 |\n",
       "| improvement_surcharge |      0 |\n",
       "| total_amount |      0 |\n",
       "| RatecodeID | 270355 |\n",
       "\n"
      ],
      "text/plain": [
       "                      Missing_Values\n",
       "VendorID                   0        \n",
       "tpep_pickup_datetime       0        \n",
       "tpep_dropoff_datetime      0        \n",
       "passenger_count            0        \n",
       "trip_distance              0        \n",
       "pickup_longitude           0        \n",
       "pickup_latitude            0        \n",
       "RateCodeID            729645        \n",
       "store_and_fwd_flag         0        \n",
       "dropoff_longitude          0        \n",
       "dropoff_latitude           0        \n",
       "payment_type               0        \n",
       "fare_amount                0        \n",
       "extra                      0        \n",
       "mta_tax                    0        \n",
       "tip_amount                 0        \n",
       "tolls_amount               0        \n",
       "improvement_surcharge      0        \n",
       "total_amount               0        \n",
       "RatecodeID            270355        "
      ]
     },
     "metadata": {},
     "output_type": "display_data"
    }
   ],
   "source": [
    "data.frame(Missing_Values = colSums(is.na(datos)))"
   ]
  },
  {
   "cell_type": "markdown",
   "id": "764a7310",
   "metadata": {},
   "source": [
    "###\n",
    "<div style=\"display:flex; align-items:flex-start; gap:12px; background:linear-gradient(90deg,#7c3aed,#a855f7); padding:14px; border-radius:8px; box-shadow:0 4px 12px rgba(124,58,237,0.15); color:#fff; max-width:fit-content; width:min(800px,100%); margin:10px auto; margin-left:80px; box-sizing:border-box;\">\n",
    "    <div style=\"width:28px; height:28px; display:flex; align-items:center; justify-content:center; background:rgba(255,255,255,0.15); border-radius:6px; font-size:1.2rem; line-height:1;\">⚙️</div>\n",
    "    <div>\n",
    "        <div style=\"font-weight:700; font-size:1.15rem;\">Unificar columnas</div>\n",
    "        <div style=\"opacity:0.9; font-size:0.85rem; margin-top:3px;\">Existen dos columnas duplicadas que se pueden combinar, contienen datos en una columna que no están en la otra.</div>\n",
    "    </div>\n",
    "</div>"
   ]
  },
  {
   "cell_type": "code",
   "execution_count": 8,
   "id": "1a559569",
   "metadata": {
    "vscode": {
     "languageId": "r"
    }
   },
   "outputs": [],
   "source": [
    "datos <- datos %>%\n",
    "    mutate(RateCode = coalesce(RateCodeID, RatecodeID)) %>%\n",
    "    select(-RateCodeID, -RatecodeID)"
   ]
  },
  {
   "cell_type": "markdown",
   "id": "d88e496f",
   "metadata": {},
   "source": [
    "####\n",
    "<div style=\"display:flex; align-items:flex-start; gap:12px; background:linear-gradient(90deg,#059669,#10b981); padding:12px; border-radius:8px; box-shadow:0 4px 12px rgba(5,150,105,0.15); color:#fff; max-width:fit-content; width:min(750px,100%); margin:8px auto; margin-left:120px; box-sizing:border-box;\">\n",
    "    <div style=\"width:24px; height:24px; display:flex; align-items:center; justify-content:center; background:rgba(255,255,255,0.15); border-radius:4px; font-size:1rem; line-height:1;\">✅</div>\n",
    "    <div>\n",
    "        <div style=\"font-weight:600; font-size:1rem;\">Verificacion de que no existan valores faltantes</div>\n",
    "    </div>\n",
    "</div>"
   ]
  },
  {
   "cell_type": "code",
   "execution_count": 9,
   "id": "544cb741",
   "metadata": {
    "vscode": {
     "languageId": "r"
    }
   },
   "outputs": [
    {
     "data": {
      "text/html": [
       "<table class=\"dataframe\">\n",
       "<caption>A data.frame: 19 × 1</caption>\n",
       "<thead>\n",
       "\t<tr><th></th><th scope=col>Missing_Values</th></tr>\n",
       "\t<tr><th></th><th scope=col>&lt;dbl&gt;</th></tr>\n",
       "</thead>\n",
       "<tbody>\n",
       "\t<tr><th scope=row>VendorID</th><td>0</td></tr>\n",
       "\t<tr><th scope=row>tpep_pickup_datetime</th><td>0</td></tr>\n",
       "\t<tr><th scope=row>tpep_dropoff_datetime</th><td>0</td></tr>\n",
       "\t<tr><th scope=row>passenger_count</th><td>0</td></tr>\n",
       "\t<tr><th scope=row>trip_distance</th><td>0</td></tr>\n",
       "\t<tr><th scope=row>pickup_longitude</th><td>0</td></tr>\n",
       "\t<tr><th scope=row>pickup_latitude</th><td>0</td></tr>\n",
       "\t<tr><th scope=row>store_and_fwd_flag</th><td>0</td></tr>\n",
       "\t<tr><th scope=row>dropoff_longitude</th><td>0</td></tr>\n",
       "\t<tr><th scope=row>dropoff_latitude</th><td>0</td></tr>\n",
       "\t<tr><th scope=row>payment_type</th><td>0</td></tr>\n",
       "\t<tr><th scope=row>fare_amount</th><td>0</td></tr>\n",
       "\t<tr><th scope=row>extra</th><td>0</td></tr>\n",
       "\t<tr><th scope=row>mta_tax</th><td>0</td></tr>\n",
       "\t<tr><th scope=row>tip_amount</th><td>0</td></tr>\n",
       "\t<tr><th scope=row>tolls_amount</th><td>0</td></tr>\n",
       "\t<tr><th scope=row>improvement_surcharge</th><td>0</td></tr>\n",
       "\t<tr><th scope=row>total_amount</th><td>0</td></tr>\n",
       "\t<tr><th scope=row>RateCode</th><td>0</td></tr>\n",
       "</tbody>\n",
       "</table>\n"
      ],
      "text/latex": [
       "A data.frame: 19 × 1\n",
       "\\begin{tabular}{r|l}\n",
       "  & Missing\\_Values\\\\\n",
       "  & <dbl>\\\\\n",
       "\\hline\n",
       "\tVendorID & 0\\\\\n",
       "\ttpep\\_pickup\\_datetime & 0\\\\\n",
       "\ttpep\\_dropoff\\_datetime & 0\\\\\n",
       "\tpassenger\\_count & 0\\\\\n",
       "\ttrip\\_distance & 0\\\\\n",
       "\tpickup\\_longitude & 0\\\\\n",
       "\tpickup\\_latitude & 0\\\\\n",
       "\tstore\\_and\\_fwd\\_flag & 0\\\\\n",
       "\tdropoff\\_longitude & 0\\\\\n",
       "\tdropoff\\_latitude & 0\\\\\n",
       "\tpayment\\_type & 0\\\\\n",
       "\tfare\\_amount & 0\\\\\n",
       "\textra & 0\\\\\n",
       "\tmta\\_tax & 0\\\\\n",
       "\ttip\\_amount & 0\\\\\n",
       "\ttolls\\_amount & 0\\\\\n",
       "\timprovement\\_surcharge & 0\\\\\n",
       "\ttotal\\_amount & 0\\\\\n",
       "\tRateCode & 0\\\\\n",
       "\\end{tabular}\n"
      ],
      "text/markdown": [
       "\n",
       "A data.frame: 19 × 1\n",
       "\n",
       "| <!--/--> | Missing_Values &lt;dbl&gt; |\n",
       "|---|---|\n",
       "| VendorID | 0 |\n",
       "| tpep_pickup_datetime | 0 |\n",
       "| tpep_dropoff_datetime | 0 |\n",
       "| passenger_count | 0 |\n",
       "| trip_distance | 0 |\n",
       "| pickup_longitude | 0 |\n",
       "| pickup_latitude | 0 |\n",
       "| store_and_fwd_flag | 0 |\n",
       "| dropoff_longitude | 0 |\n",
       "| dropoff_latitude | 0 |\n",
       "| payment_type | 0 |\n",
       "| fare_amount | 0 |\n",
       "| extra | 0 |\n",
       "| mta_tax | 0 |\n",
       "| tip_amount | 0 |\n",
       "| tolls_amount | 0 |\n",
       "| improvement_surcharge | 0 |\n",
       "| total_amount | 0 |\n",
       "| RateCode | 0 |\n",
       "\n"
      ],
      "text/plain": [
       "                      Missing_Values\n",
       "VendorID              0             \n",
       "tpep_pickup_datetime  0             \n",
       "tpep_dropoff_datetime 0             \n",
       "passenger_count       0             \n",
       "trip_distance         0             \n",
       "pickup_longitude      0             \n",
       "pickup_latitude       0             \n",
       "store_and_fwd_flag    0             \n",
       "dropoff_longitude     0             \n",
       "dropoff_latitude      0             \n",
       "payment_type          0             \n",
       "fare_amount           0             \n",
       "extra                 0             \n",
       "mta_tax               0             \n",
       "tip_amount            0             \n",
       "tolls_amount          0             \n",
       "improvement_surcharge 0             \n",
       "total_amount          0             \n",
       "RateCode              0             "
      ]
     },
     "metadata": {},
     "output_type": "display_data"
    }
   ],
   "source": [
    "data.frame(Missing_Values = colSums(is.na(datos)))"
   ]
  },
  {
   "cell_type": "code",
   "execution_count": 10,
   "id": "b4b87de8",
   "metadata": {
    "vscode": {
     "languageId": "r"
    }
   },
   "outputs": [
    {
     "data": {
      "text/html": [
       "<table class=\"dataframe\">\n",
       "<caption>A tibble: 6 × 19</caption>\n",
       "<thead>\n",
       "\t<tr><th scope=col>VendorID</th><th scope=col>tpep_pickup_datetime</th><th scope=col>tpep_dropoff_datetime</th><th scope=col>passenger_count</th><th scope=col>trip_distance</th><th scope=col>pickup_longitude</th><th scope=col>pickup_latitude</th><th scope=col>store_and_fwd_flag</th><th scope=col>dropoff_longitude</th><th scope=col>dropoff_latitude</th><th scope=col>payment_type</th><th scope=col>fare_amount</th><th scope=col>extra</th><th scope=col>mta_tax</th><th scope=col>tip_amount</th><th scope=col>tolls_amount</th><th scope=col>improvement_surcharge</th><th scope=col>total_amount</th><th scope=col>RateCode</th></tr>\n",
       "\t<tr><th scope=col>&lt;dbl&gt;</th><th scope=col>&lt;dttm&gt;</th><th scope=col>&lt;dttm&gt;</th><th scope=col>&lt;dbl&gt;</th><th scope=col>&lt;dbl&gt;</th><th scope=col>&lt;dbl&gt;</th><th scope=col>&lt;dbl&gt;</th><th scope=col>&lt;chr&gt;</th><th scope=col>&lt;dbl&gt;</th><th scope=col>&lt;dbl&gt;</th><th scope=col>&lt;dbl&gt;</th><th scope=col>&lt;dbl&gt;</th><th scope=col>&lt;dbl&gt;</th><th scope=col>&lt;dbl&gt;</th><th scope=col>&lt;dbl&gt;</th><th scope=col>&lt;dbl&gt;</th><th scope=col>&lt;dbl&gt;</th><th scope=col>&lt;dbl&gt;</th><th scope=col>&lt;dbl&gt;</th></tr>\n",
       "</thead>\n",
       "<tbody>\n",
       "\t<tr><td>2</td><td>2016-03-27 21:14:57</td><td>2016-03-27 21:20:27</td><td>1</td><td>1.12</td><td>-73.98667</td><td>40.72813</td><td>N</td><td>-73.98641</td><td>40.73848</td><td>1</td><td> 6.0</td><td>0.5</td><td>0.5</td><td>1.46</td><td>0</td><td>0.3</td><td> 8.76</td><td>1</td></tr>\n",
       "\t<tr><td>2</td><td>2016-02-20 18:15:45</td><td>2016-02-20 18:46:13</td><td>1</td><td>3.80</td><td>-73.98663</td><td>40.77701</td><td>N</td><td>-74.00238</td><td>40.73035</td><td>1</td><td>19.5</td><td>0.0</td><td>0.5</td><td>1.50</td><td>0</td><td>0.3</td><td>21.80</td><td>1</td></tr>\n",
       "\t<tr><td>2</td><td>2016-01-02 17:26:54</td><td>2016-01-02 17:31:58</td><td>2</td><td>0.73</td><td>-73.97395</td><td>40.76041</td><td>N</td><td>-73.96369</td><td>40.75890</td><td>1</td><td> 5.5</td><td>0.0</td><td>0.5</td><td>1.00</td><td>0</td><td>0.3</td><td> 7.30</td><td>1</td></tr>\n",
       "\t<tr><td>1</td><td>2016-01-29 14:13:50</td><td>2016-01-29 14:29:41</td><td>1</td><td>2.00</td><td>-73.98127</td><td>40.75839</td><td>N</td><td>-73.98635</td><td>40.77897</td><td>1</td><td>11.5</td><td>0.0</td><td>0.5</td><td>1.50</td><td>0</td><td>0.3</td><td>13.80</td><td>1</td></tr>\n",
       "\t<tr><td>2</td><td>2015-01-04 19:55:27</td><td>2015-01-04 20:00:53</td><td>1</td><td>0.78</td><td>-74.00253</td><td>40.75269</td><td>N</td><td>-73.99132</td><td>40.75177</td><td>1</td><td> 5.5</td><td>0.0</td><td>0.5</td><td>1.10</td><td>0</td><td>0.3</td><td> 7.40</td><td>1</td></tr>\n",
       "\t<tr><td>1</td><td>2015-01-15 13:23:40</td><td>2015-01-15 13:35:18</td><td>1</td><td>1.90</td><td>-73.98387</td><td>40.78062</td><td>N</td><td>-73.96466</td><td>40.76981</td><td>1</td><td> 9.5</td><td>0.0</td><td>0.5</td><td>2.05</td><td>0</td><td>0.3</td><td>12.35</td><td>1</td></tr>\n",
       "</tbody>\n",
       "</table>\n"
      ],
      "text/latex": [
       "A tibble: 6 × 19\n",
       "\\begin{tabular}{lllllllllllllllllll}\n",
       " VendorID & tpep\\_pickup\\_datetime & tpep\\_dropoff\\_datetime & passenger\\_count & trip\\_distance & pickup\\_longitude & pickup\\_latitude & store\\_and\\_fwd\\_flag & dropoff\\_longitude & dropoff\\_latitude & payment\\_type & fare\\_amount & extra & mta\\_tax & tip\\_amount & tolls\\_amount & improvement\\_surcharge & total\\_amount & RateCode\\\\\n",
       " <dbl> & <dttm> & <dttm> & <dbl> & <dbl> & <dbl> & <dbl> & <chr> & <dbl> & <dbl> & <dbl> & <dbl> & <dbl> & <dbl> & <dbl> & <dbl> & <dbl> & <dbl> & <dbl>\\\\\n",
       "\\hline\n",
       "\t 2 & 2016-03-27 21:14:57 & 2016-03-27 21:20:27 & 1 & 1.12 & -73.98667 & 40.72813 & N & -73.98641 & 40.73848 & 1 &  6.0 & 0.5 & 0.5 & 1.46 & 0 & 0.3 &  8.76 & 1\\\\\n",
       "\t 2 & 2016-02-20 18:15:45 & 2016-02-20 18:46:13 & 1 & 3.80 & -73.98663 & 40.77701 & N & -74.00238 & 40.73035 & 1 & 19.5 & 0.0 & 0.5 & 1.50 & 0 & 0.3 & 21.80 & 1\\\\\n",
       "\t 2 & 2016-01-02 17:26:54 & 2016-01-02 17:31:58 & 2 & 0.73 & -73.97395 & 40.76041 & N & -73.96369 & 40.75890 & 1 &  5.5 & 0.0 & 0.5 & 1.00 & 0 & 0.3 &  7.30 & 1\\\\\n",
       "\t 1 & 2016-01-29 14:13:50 & 2016-01-29 14:29:41 & 1 & 2.00 & -73.98127 & 40.75839 & N & -73.98635 & 40.77897 & 1 & 11.5 & 0.0 & 0.5 & 1.50 & 0 & 0.3 & 13.80 & 1\\\\\n",
       "\t 2 & 2015-01-04 19:55:27 & 2015-01-04 20:00:53 & 1 & 0.78 & -74.00253 & 40.75269 & N & -73.99132 & 40.75177 & 1 &  5.5 & 0.0 & 0.5 & 1.10 & 0 & 0.3 &  7.40 & 1\\\\\n",
       "\t 1 & 2015-01-15 13:23:40 & 2015-01-15 13:35:18 & 1 & 1.90 & -73.98387 & 40.78062 & N & -73.96466 & 40.76981 & 1 &  9.5 & 0.0 & 0.5 & 2.05 & 0 & 0.3 & 12.35 & 1\\\\\n",
       "\\end{tabular}\n"
      ],
      "text/markdown": [
       "\n",
       "A tibble: 6 × 19\n",
       "\n",
       "| VendorID &lt;dbl&gt; | tpep_pickup_datetime &lt;dttm&gt; | tpep_dropoff_datetime &lt;dttm&gt; | passenger_count &lt;dbl&gt; | trip_distance &lt;dbl&gt; | pickup_longitude &lt;dbl&gt; | pickup_latitude &lt;dbl&gt; | store_and_fwd_flag &lt;chr&gt; | dropoff_longitude &lt;dbl&gt; | dropoff_latitude &lt;dbl&gt; | payment_type &lt;dbl&gt; | fare_amount &lt;dbl&gt; | extra &lt;dbl&gt; | mta_tax &lt;dbl&gt; | tip_amount &lt;dbl&gt; | tolls_amount &lt;dbl&gt; | improvement_surcharge &lt;dbl&gt; | total_amount &lt;dbl&gt; | RateCode &lt;dbl&gt; |\n",
       "|---|---|---|---|---|---|---|---|---|---|---|---|---|---|---|---|---|---|---|\n",
       "| 2 | 2016-03-27 21:14:57 | 2016-03-27 21:20:27 | 1 | 1.12 | -73.98667 | 40.72813 | N | -73.98641 | 40.73848 | 1 |  6.0 | 0.5 | 0.5 | 1.46 | 0 | 0.3 |  8.76 | 1 |\n",
       "| 2 | 2016-02-20 18:15:45 | 2016-02-20 18:46:13 | 1 | 3.80 | -73.98663 | 40.77701 | N | -74.00238 | 40.73035 | 1 | 19.5 | 0.0 | 0.5 | 1.50 | 0 | 0.3 | 21.80 | 1 |\n",
       "| 2 | 2016-01-02 17:26:54 | 2016-01-02 17:31:58 | 2 | 0.73 | -73.97395 | 40.76041 | N | -73.96369 | 40.75890 | 1 |  5.5 | 0.0 | 0.5 | 1.00 | 0 | 0.3 |  7.30 | 1 |\n",
       "| 1 | 2016-01-29 14:13:50 | 2016-01-29 14:29:41 | 1 | 2.00 | -73.98127 | 40.75839 | N | -73.98635 | 40.77897 | 1 | 11.5 | 0.0 | 0.5 | 1.50 | 0 | 0.3 | 13.80 | 1 |\n",
       "| 2 | 2015-01-04 19:55:27 | 2015-01-04 20:00:53 | 1 | 0.78 | -74.00253 | 40.75269 | N | -73.99132 | 40.75177 | 1 |  5.5 | 0.0 | 0.5 | 1.10 | 0 | 0.3 |  7.40 | 1 |\n",
       "| 1 | 2015-01-15 13:23:40 | 2015-01-15 13:35:18 | 1 | 1.90 | -73.98387 | 40.78062 | N | -73.96466 | 40.76981 | 1 |  9.5 | 0.0 | 0.5 | 2.05 | 0 | 0.3 | 12.35 | 1 |\n",
       "\n"
      ],
      "text/plain": [
       "  VendorID tpep_pickup_datetime tpep_dropoff_datetime passenger_count\n",
       "1 2        2016-03-27 21:14:57  2016-03-27 21:20:27   1              \n",
       "2 2        2016-02-20 18:15:45  2016-02-20 18:46:13   1              \n",
       "3 2        2016-01-02 17:26:54  2016-01-02 17:31:58   2              \n",
       "4 1        2016-01-29 14:13:50  2016-01-29 14:29:41   1              \n",
       "5 2        2015-01-04 19:55:27  2015-01-04 20:00:53   1              \n",
       "6 1        2015-01-15 13:23:40  2015-01-15 13:35:18   1              \n",
       "  trip_distance pickup_longitude pickup_latitude store_and_fwd_flag\n",
       "1 1.12          -73.98667        40.72813        N                 \n",
       "2 3.80          -73.98663        40.77701        N                 \n",
       "3 0.73          -73.97395        40.76041        N                 \n",
       "4 2.00          -73.98127        40.75839        N                 \n",
       "5 0.78          -74.00253        40.75269        N                 \n",
       "6 1.90          -73.98387        40.78062        N                 \n",
       "  dropoff_longitude dropoff_latitude payment_type fare_amount extra mta_tax\n",
       "1 -73.98641         40.73848         1             6.0        0.5   0.5    \n",
       "2 -74.00238         40.73035         1            19.5        0.0   0.5    \n",
       "3 -73.96369         40.75890         1             5.5        0.0   0.5    \n",
       "4 -73.98635         40.77897         1            11.5        0.0   0.5    \n",
       "5 -73.99132         40.75177         1             5.5        0.0   0.5    \n",
       "6 -73.96466         40.76981         1             9.5        0.0   0.5    \n",
       "  tip_amount tolls_amount improvement_surcharge total_amount RateCode\n",
       "1 1.46       0            0.3                    8.76        1       \n",
       "2 1.50       0            0.3                   21.80        1       \n",
       "3 1.00       0            0.3                    7.30        1       \n",
       "4 1.50       0            0.3                   13.80        1       \n",
       "5 1.10       0            0.3                    7.40        1       \n",
       "6 2.05       0            0.3                   12.35        1       "
      ]
     },
     "metadata": {},
     "output_type": "display_data"
    }
   ],
   "source": [
    "head(datos)"
   ]
  },
  {
   "cell_type": "markdown",
   "id": "424f366c",
   "metadata": {},
   "source": [
    "##\n",
    "<div style=\"display:flex; align-items:flex-start; gap:12px; background:linear-gradient(90deg,#ea580c,#f97316); padding:16px; border-radius:10px; box-shadow:0 6px 15px rgba(234,88,12,0.2); color:#fff; max-width:fit-content; width:min(850px,100%); margin:12px auto; margin-left:40px; box-sizing:border-box;\">\n",
    "    <div style=\"width:32px; height:32px; display:flex; align-items:center; justify-content:center; background:rgba(255,255,255,0.15); border-radius:6px; font-size:1.45rem; line-height:1;\">🔍</div>\n",
    "    <div>\n",
    "        <div style=\"font-weight:800; font-size:1.35rem; letter-spacing:0.3px;\">Renombrar columnas</div>\n",
    "    </div>\n",
    "</div>"
   ]
  },
  {
   "cell_type": "code",
   "execution_count": 11,
   "id": "78a5b361",
   "metadata": {
    "vscode": {
     "languageId": "r"
    }
   },
   "outputs": [
    {
     "data": {
      "text/html": [
       "<table class=\"dataframe\">\n",
       "<caption>A tibble: 6 × 19</caption>\n",
       "<thead>\n",
       "\t<tr><th scope=col>id_proveedor</th><th scope=col>fecha_hora_recogida</th><th scope=col>fecha_hora_dejada</th><th scope=col>numero_pasajeros</th><th scope=col>distancia_viaje</th><th scope=col>longitud_recogida</th><th scope=col>latitud_recogida</th><th scope=col>store_and_fwd_flag</th><th scope=col>longitud_dejada</th><th scope=col>latitud_dejada</th><th scope=col>tipo_pago</th><th scope=col>monto_tarifa</th><th scope=col>extra</th><th scope=col>impuesto_mta</th><th scope=col>monto_propina</th><th scope=col>monto_peajes</th><th scope=col>recargo_mejora</th><th scope=col>monto_total</th><th scope=col>id_codigo_tarifa</th></tr>\n",
       "\t<tr><th scope=col>&lt;dbl&gt;</th><th scope=col>&lt;dttm&gt;</th><th scope=col>&lt;dttm&gt;</th><th scope=col>&lt;dbl&gt;</th><th scope=col>&lt;dbl&gt;</th><th scope=col>&lt;dbl&gt;</th><th scope=col>&lt;dbl&gt;</th><th scope=col>&lt;chr&gt;</th><th scope=col>&lt;dbl&gt;</th><th scope=col>&lt;dbl&gt;</th><th scope=col>&lt;dbl&gt;</th><th scope=col>&lt;dbl&gt;</th><th scope=col>&lt;dbl&gt;</th><th scope=col>&lt;dbl&gt;</th><th scope=col>&lt;dbl&gt;</th><th scope=col>&lt;dbl&gt;</th><th scope=col>&lt;dbl&gt;</th><th scope=col>&lt;dbl&gt;</th><th scope=col>&lt;dbl&gt;</th></tr>\n",
       "</thead>\n",
       "<tbody>\n",
       "\t<tr><td>2</td><td>2016-03-27 21:14:57</td><td>2016-03-27 21:20:27</td><td>1</td><td>1.12</td><td>-73.98667</td><td>40.72813</td><td>N</td><td>-73.98641</td><td>40.73848</td><td>1</td><td> 6.0</td><td>0.5</td><td>0.5</td><td>1.46</td><td>0</td><td>0.3</td><td> 8.76</td><td>1</td></tr>\n",
       "\t<tr><td>2</td><td>2016-02-20 18:15:45</td><td>2016-02-20 18:46:13</td><td>1</td><td>3.80</td><td>-73.98663</td><td>40.77701</td><td>N</td><td>-74.00238</td><td>40.73035</td><td>1</td><td>19.5</td><td>0.0</td><td>0.5</td><td>1.50</td><td>0</td><td>0.3</td><td>21.80</td><td>1</td></tr>\n",
       "\t<tr><td>2</td><td>2016-01-02 17:26:54</td><td>2016-01-02 17:31:58</td><td>2</td><td>0.73</td><td>-73.97395</td><td>40.76041</td><td>N</td><td>-73.96369</td><td>40.75890</td><td>1</td><td> 5.5</td><td>0.0</td><td>0.5</td><td>1.00</td><td>0</td><td>0.3</td><td> 7.30</td><td>1</td></tr>\n",
       "\t<tr><td>1</td><td>2016-01-29 14:13:50</td><td>2016-01-29 14:29:41</td><td>1</td><td>2.00</td><td>-73.98127</td><td>40.75839</td><td>N</td><td>-73.98635</td><td>40.77897</td><td>1</td><td>11.5</td><td>0.0</td><td>0.5</td><td>1.50</td><td>0</td><td>0.3</td><td>13.80</td><td>1</td></tr>\n",
       "\t<tr><td>2</td><td>2015-01-04 19:55:27</td><td>2015-01-04 20:00:53</td><td>1</td><td>0.78</td><td>-74.00253</td><td>40.75269</td><td>N</td><td>-73.99132</td><td>40.75177</td><td>1</td><td> 5.5</td><td>0.0</td><td>0.5</td><td>1.10</td><td>0</td><td>0.3</td><td> 7.40</td><td>1</td></tr>\n",
       "\t<tr><td>1</td><td>2015-01-15 13:23:40</td><td>2015-01-15 13:35:18</td><td>1</td><td>1.90</td><td>-73.98387</td><td>40.78062</td><td>N</td><td>-73.96466</td><td>40.76981</td><td>1</td><td> 9.5</td><td>0.0</td><td>0.5</td><td>2.05</td><td>0</td><td>0.3</td><td>12.35</td><td>1</td></tr>\n",
       "</tbody>\n",
       "</table>\n"
      ],
      "text/latex": [
       "A tibble: 6 × 19\n",
       "\\begin{tabular}{lllllllllllllllllll}\n",
       " id\\_proveedor & fecha\\_hora\\_recogida & fecha\\_hora\\_dejada & numero\\_pasajeros & distancia\\_viaje & longitud\\_recogida & latitud\\_recogida & store\\_and\\_fwd\\_flag & longitud\\_dejada & latitud\\_dejada & tipo\\_pago & monto\\_tarifa & extra & impuesto\\_mta & monto\\_propina & monto\\_peajes & recargo\\_mejora & monto\\_total & id\\_codigo\\_tarifa\\\\\n",
       " <dbl> & <dttm> & <dttm> & <dbl> & <dbl> & <dbl> & <dbl> & <chr> & <dbl> & <dbl> & <dbl> & <dbl> & <dbl> & <dbl> & <dbl> & <dbl> & <dbl> & <dbl> & <dbl>\\\\\n",
       "\\hline\n",
       "\t 2 & 2016-03-27 21:14:57 & 2016-03-27 21:20:27 & 1 & 1.12 & -73.98667 & 40.72813 & N & -73.98641 & 40.73848 & 1 &  6.0 & 0.5 & 0.5 & 1.46 & 0 & 0.3 &  8.76 & 1\\\\\n",
       "\t 2 & 2016-02-20 18:15:45 & 2016-02-20 18:46:13 & 1 & 3.80 & -73.98663 & 40.77701 & N & -74.00238 & 40.73035 & 1 & 19.5 & 0.0 & 0.5 & 1.50 & 0 & 0.3 & 21.80 & 1\\\\\n",
       "\t 2 & 2016-01-02 17:26:54 & 2016-01-02 17:31:58 & 2 & 0.73 & -73.97395 & 40.76041 & N & -73.96369 & 40.75890 & 1 &  5.5 & 0.0 & 0.5 & 1.00 & 0 & 0.3 &  7.30 & 1\\\\\n",
       "\t 1 & 2016-01-29 14:13:50 & 2016-01-29 14:29:41 & 1 & 2.00 & -73.98127 & 40.75839 & N & -73.98635 & 40.77897 & 1 & 11.5 & 0.0 & 0.5 & 1.50 & 0 & 0.3 & 13.80 & 1\\\\\n",
       "\t 2 & 2015-01-04 19:55:27 & 2015-01-04 20:00:53 & 1 & 0.78 & -74.00253 & 40.75269 & N & -73.99132 & 40.75177 & 1 &  5.5 & 0.0 & 0.5 & 1.10 & 0 & 0.3 &  7.40 & 1\\\\\n",
       "\t 1 & 2015-01-15 13:23:40 & 2015-01-15 13:35:18 & 1 & 1.90 & -73.98387 & 40.78062 & N & -73.96466 & 40.76981 & 1 &  9.5 & 0.0 & 0.5 & 2.05 & 0 & 0.3 & 12.35 & 1\\\\\n",
       "\\end{tabular}\n"
      ],
      "text/markdown": [
       "\n",
       "A tibble: 6 × 19\n",
       "\n",
       "| id_proveedor &lt;dbl&gt; | fecha_hora_recogida &lt;dttm&gt; | fecha_hora_dejada &lt;dttm&gt; | numero_pasajeros &lt;dbl&gt; | distancia_viaje &lt;dbl&gt; | longitud_recogida &lt;dbl&gt; | latitud_recogida &lt;dbl&gt; | store_and_fwd_flag &lt;chr&gt; | longitud_dejada &lt;dbl&gt; | latitud_dejada &lt;dbl&gt; | tipo_pago &lt;dbl&gt; | monto_tarifa &lt;dbl&gt; | extra &lt;dbl&gt; | impuesto_mta &lt;dbl&gt; | monto_propina &lt;dbl&gt; | monto_peajes &lt;dbl&gt; | recargo_mejora &lt;dbl&gt; | monto_total &lt;dbl&gt; | id_codigo_tarifa &lt;dbl&gt; |\n",
       "|---|---|---|---|---|---|---|---|---|---|---|---|---|---|---|---|---|---|---|\n",
       "| 2 | 2016-03-27 21:14:57 | 2016-03-27 21:20:27 | 1 | 1.12 | -73.98667 | 40.72813 | N | -73.98641 | 40.73848 | 1 |  6.0 | 0.5 | 0.5 | 1.46 | 0 | 0.3 |  8.76 | 1 |\n",
       "| 2 | 2016-02-20 18:15:45 | 2016-02-20 18:46:13 | 1 | 3.80 | -73.98663 | 40.77701 | N | -74.00238 | 40.73035 | 1 | 19.5 | 0.0 | 0.5 | 1.50 | 0 | 0.3 | 21.80 | 1 |\n",
       "| 2 | 2016-01-02 17:26:54 | 2016-01-02 17:31:58 | 2 | 0.73 | -73.97395 | 40.76041 | N | -73.96369 | 40.75890 | 1 |  5.5 | 0.0 | 0.5 | 1.00 | 0 | 0.3 |  7.30 | 1 |\n",
       "| 1 | 2016-01-29 14:13:50 | 2016-01-29 14:29:41 | 1 | 2.00 | -73.98127 | 40.75839 | N | -73.98635 | 40.77897 | 1 | 11.5 | 0.0 | 0.5 | 1.50 | 0 | 0.3 | 13.80 | 1 |\n",
       "| 2 | 2015-01-04 19:55:27 | 2015-01-04 20:00:53 | 1 | 0.78 | -74.00253 | 40.75269 | N | -73.99132 | 40.75177 | 1 |  5.5 | 0.0 | 0.5 | 1.10 | 0 | 0.3 |  7.40 | 1 |\n",
       "| 1 | 2015-01-15 13:23:40 | 2015-01-15 13:35:18 | 1 | 1.90 | -73.98387 | 40.78062 | N | -73.96466 | 40.76981 | 1 |  9.5 | 0.0 | 0.5 | 2.05 | 0 | 0.3 | 12.35 | 1 |\n",
       "\n"
      ],
      "text/plain": [
       "  id_proveedor fecha_hora_recogida fecha_hora_dejada   numero_pasajeros\n",
       "1 2            2016-03-27 21:14:57 2016-03-27 21:20:27 1               \n",
       "2 2            2016-02-20 18:15:45 2016-02-20 18:46:13 1               \n",
       "3 2            2016-01-02 17:26:54 2016-01-02 17:31:58 2               \n",
       "4 1            2016-01-29 14:13:50 2016-01-29 14:29:41 1               \n",
       "5 2            2015-01-04 19:55:27 2015-01-04 20:00:53 1               \n",
       "6 1            2015-01-15 13:23:40 2015-01-15 13:35:18 1               \n",
       "  distancia_viaje longitud_recogida latitud_recogida store_and_fwd_flag\n",
       "1 1.12            -73.98667         40.72813         N                 \n",
       "2 3.80            -73.98663         40.77701         N                 \n",
       "3 0.73            -73.97395         40.76041         N                 \n",
       "4 2.00            -73.98127         40.75839         N                 \n",
       "5 0.78            -74.00253         40.75269         N                 \n",
       "6 1.90            -73.98387         40.78062         N                 \n",
       "  longitud_dejada latitud_dejada tipo_pago monto_tarifa extra impuesto_mta\n",
       "1 -73.98641       40.73848       1          6.0         0.5   0.5         \n",
       "2 -74.00238       40.73035       1         19.5         0.0   0.5         \n",
       "3 -73.96369       40.75890       1          5.5         0.0   0.5         \n",
       "4 -73.98635       40.77897       1         11.5         0.0   0.5         \n",
       "5 -73.99132       40.75177       1          5.5         0.0   0.5         \n",
       "6 -73.96466       40.76981       1          9.5         0.0   0.5         \n",
       "  monto_propina monto_peajes recargo_mejora monto_total id_codigo_tarifa\n",
       "1 1.46          0            0.3             8.76       1               \n",
       "2 1.50          0            0.3            21.80       1               \n",
       "3 1.00          0            0.3             7.30       1               \n",
       "4 1.50          0            0.3            13.80       1               \n",
       "5 1.10          0            0.3             7.40       1               \n",
       "6 2.05          0            0.3            12.35       1               "
      ]
     },
     "metadata": {},
     "output_type": "display_data"
    }
   ],
   "source": [
    "datos <- datos %>%\n",
    "  rename(\n",
    "    id_proveedor = VendorID,\n",
    "    fecha_hora_recogida = tpep_pickup_datetime,\n",
    "    fecha_hora_dejada = tpep_dropoff_datetime,\n",
    "    numero_pasajeros = passenger_count,\n",
    "    distancia_viaje = trip_distance,\n",
    "    longitud_recogida = pickup_longitude,\n",
    "    latitud_recogida = pickup_latitude,\n",
    "    longitud_dejada = dropoff_longitude,\n",
    "    latitud_dejada = dropoff_latitude,\n",
    "    tipo_pago = payment_type,\n",
    "    monto_tarifa = fare_amount,\n",
    "    extra = extra,\n",
    "    impuesto_mta = mta_tax,\n",
    "    monto_propina = tip_amount,\n",
    "    monto_peajes = tolls_amount,\n",
    "    recargo_mejora = improvement_surcharge,\n",
    "    monto_total = total_amount,\n",
    "    id_codigo_tarifa = RateCode\n",
    "  )\n",
    "head(datos)"
   ]
  },
  {
   "cell_type": "markdown",
   "id": "4284398c",
   "metadata": {},
   "source": [
    "##\n",
    "<div style=\"display:flex; align-items:flex-start; gap:12px; background:linear-gradient(90deg,#ea580c,#f97316); padding:16px; border-radius:10px; box-shadow:0 6px 15px rgba(234,88,12,0.2); color:#fff; max-width:fit-content; width:min(850px,100%); margin:12px auto; margin-left:40px; box-sizing:border-box;\">\n",
    "    <div style=\"width:32px; height:32px; display:flex; align-items:center; justify-content:center; background:rgba(255,255,255,0.15); border-radius:6px; font-size:1.45rem; line-height:1;\">🔍</div>\n",
    "    <div>\n",
    "        <div style=\"font-weight:800; font-size:1.35rem; letter-spacing:0.3px;\">Buscar columnas utiles</div>\n",
    "    </div>\n",
    "</div>"
   ]
  },
  {
   "cell_type": "markdown",
   "id": "9e37d24f",
   "metadata": {},
   "source": [
    "###\n",
    "<div style=\"display:flex; align-items:flex-start; gap:12px; background:linear-gradient(90deg,#7c3aed,#a855f7); padding:14px; border-radius:8px; box-shadow:0 4px 12px rgba(124,58,237,0.15); color:#fff; max-width:fit-content; width:min(800px,100%); margin:10px auto; margin-left:80px; box-sizing:border-box;\">\n",
    "    <div style=\"width:28px; height:28px; display:flex; align-items:center; justify-content:center; background:rgba(255,255,255,0.15); border-radius:6px; font-size:1.2rem; line-height:1;\">⚙️</div>\n",
    "    <div>\n",
    "        <div style=\"font-weight:700; font-size:1.15rem;\">Clasificar por tipo</div>\n",
    "    </div>\n",
    "</div>"
   ]
  },
  {
   "cell_type": "code",
   "execution_count": 12,
   "id": "d4e5a8b5",
   "metadata": {
    "vscode": {
     "languageId": "r"
    }
   },
   "outputs": [
    {
     "data": {
      "text/html": [
       "<style>\n",
       ".list-inline {list-style: none; margin:0; padding: 0}\n",
       ".list-inline>li {display: inline-block}\n",
       ".list-inline>li:not(:last-child)::after {content: \"\\00b7\"; padding: 0 .5ex}\n",
       "</style>\n",
       "<ol class=list-inline><li>'id_proveedor'</li><li>'numero_pasajeros'</li><li>'distancia_viaje'</li><li>'longitud_recogida'</li><li>'latitud_recogida'</li><li>'longitud_dejada'</li><li>'latitud_dejada'</li><li>'tipo_pago'</li><li>'monto_tarifa'</li><li>'extra'</li><li>'impuesto_mta'</li><li>'monto_propina'</li><li>'monto_peajes'</li><li>'recargo_mejora'</li><li>'monto_total'</li><li>'id_codigo_tarifa'</li></ol>\n"
      ],
      "text/latex": [
       "\\begin{enumerate*}\n",
       "\\item 'id\\_proveedor'\n",
       "\\item 'numero\\_pasajeros'\n",
       "\\item 'distancia\\_viaje'\n",
       "\\item 'longitud\\_recogida'\n",
       "\\item 'latitud\\_recogida'\n",
       "\\item 'longitud\\_dejada'\n",
       "\\item 'latitud\\_dejada'\n",
       "\\item 'tipo\\_pago'\n",
       "\\item 'monto\\_tarifa'\n",
       "\\item 'extra'\n",
       "\\item 'impuesto\\_mta'\n",
       "\\item 'monto\\_propina'\n",
       "\\item 'monto\\_peajes'\n",
       "\\item 'recargo\\_mejora'\n",
       "\\item 'monto\\_total'\n",
       "\\item 'id\\_codigo\\_tarifa'\n",
       "\\end{enumerate*}\n"
      ],
      "text/markdown": [
       "1. 'id_proveedor'\n",
       "2. 'numero_pasajeros'\n",
       "3. 'distancia_viaje'\n",
       "4. 'longitud_recogida'\n",
       "5. 'latitud_recogida'\n",
       "6. 'longitud_dejada'\n",
       "7. 'latitud_dejada'\n",
       "8. 'tipo_pago'\n",
       "9. 'monto_tarifa'\n",
       "10. 'extra'\n",
       "11. 'impuesto_mta'\n",
       "12. 'monto_propina'\n",
       "13. 'monto_peajes'\n",
       "14. 'recargo_mejora'\n",
       "15. 'monto_total'\n",
       "16. 'id_codigo_tarifa'\n",
       "\n",
       "\n"
      ],
      "text/plain": [
       " [1] \"id_proveedor\"      \"numero_pasajeros\"  \"distancia_viaje\"  \n",
       " [4] \"longitud_recogida\" \"latitud_recogida\"  \"longitud_dejada\"  \n",
       " [7] \"latitud_dejada\"    \"tipo_pago\"         \"monto_tarifa\"     \n",
       "[10] \"extra\"             \"impuesto_mta\"      \"monto_propina\"    \n",
       "[13] \"monto_peajes\"      \"recargo_mejora\"    \"monto_total\"      \n",
       "[16] \"id_codigo_tarifa\" "
      ]
     },
     "metadata": {},
     "output_type": "display_data"
    }
   ],
   "source": [
    "# variables solo numericas\n",
    "datos %>% select(where(is.numeric)) %>% names()"
   ]
  },
  {
   "cell_type": "code",
   "execution_count": 13,
   "id": "3da9dad6",
   "metadata": {
    "vscode": {
     "languageId": "r"
    }
   },
   "outputs": [
    {
     "data": {
      "text/html": [
       "'store_and_fwd_flag'"
      ],
      "text/latex": [
       "'store\\_and\\_fwd\\_flag'"
      ],
      "text/markdown": [
       "'store_and_fwd_flag'"
      ],
      "text/plain": [
       "[1] \"store_and_fwd_flag\""
      ]
     },
     "metadata": {},
     "output_type": "display_data"
    }
   ],
   "source": [
    "# variables solo categoricas\n",
    "datos %>% select(where(is.character)) %>% names()"
   ]
  },
  {
   "cell_type": "code",
   "execution_count": 14,
   "id": "797b411d",
   "metadata": {
    "vscode": {
     "languageId": "r"
    }
   },
   "outputs": [
    {
     "data": {
      "text/html": [
       "<style>\n",
       ".list-inline {list-style: none; margin:0; padding: 0}\n",
       ".list-inline>li {display: inline-block}\n",
       ".list-inline>li:not(:last-child)::after {content: \"\\00b7\"; padding: 0 .5ex}\n",
       "</style>\n",
       "<ol class=list-inline><li>'fecha_hora_recogida'</li><li>'fecha_hora_dejada'</li></ol>\n"
      ],
      "text/latex": [
       "\\begin{enumerate*}\n",
       "\\item 'fecha\\_hora\\_recogida'\n",
       "\\item 'fecha\\_hora\\_dejada'\n",
       "\\end{enumerate*}\n"
      ],
      "text/markdown": [
       "1. 'fecha_hora_recogida'\n",
       "2. 'fecha_hora_dejada'\n",
       "\n",
       "\n"
      ],
      "text/plain": [
       "[1] \"fecha_hora_recogida\" \"fecha_hora_dejada\"  "
      ]
     },
     "metadata": {},
     "output_type": "display_data"
    }
   ],
   "source": [
    "# variables solo temporales\n",
    "datos %>% select(where(lubridate::is.POSIXct)) %>% names()"
   ]
  },
  {
   "cell_type": "markdown",
   "id": "9a961c15",
   "metadata": {},
   "source": [
    "###\n",
    "<div style=\"display:inline-flex; align-items:flex-start; gap:12px; background:linear-gradient(90deg,#7c3aed,#a855f7); padding:14px; border-radius:8px; box-shadow:0 4px 12px rgba(124,58,237,0.15); color:#fff; max-width:fit-content; width:min(800px,100%); margin:10px auto; margin-left:80px; box-sizing:border-box;\">\n",
    "    <div style=\"width:28px; height:28px; display:flex; align-items:center; justify-content:center; background:rgba(255,255,255,0.15); border-radius:6px; font-size:1.2rem; line-height:1;\">⚙️</div>\n",
    "    <div>\n",
    "        <div style=\"font-weight:700; font-size:1.15rem;\">Calcular la correlacion para entender con que columnas nos quedamos</div>\n",
    "    </div>\n",
    "</div>"
   ]
  },
  {
   "cell_type": "markdown",
   "id": "aaf9c498",
   "metadata": {},
   "source": [
    "####\n",
    "<div style=\"display:inline-flex; align-items:flex-start; gap:12px; background:linear-gradient(90deg,#059669,#10b981); padding:12px; border-radius:8px; box-shadow:0 4px 12px rgba(5,150,105,0.15); color:#fff; max-width:fit-content; margin:8px auto; margin-left:120px; box-sizing:border-box;\">\n",
    "    <div style=\"width:24px; height:24px; display:flex; align-items:center; justify-content:center; background:rgba(255,255,255,0.15); border-radius:4px; font-size:1rem; line-height:1;\">✅</div>\n",
    "    <div>\n",
    "        <div style=\"font-weight:600; font-size:1rem;\">seleccionar columnas numericas</div>\n",
    "    </div>\n",
    "</div>"
   ]
  },
  {
   "cell_type": "code",
   "execution_count": 15,
   "id": "01f088f4",
   "metadata": {
    "vscode": {
     "languageId": "r"
    }
   },
   "outputs": [],
   "source": [
    "datos_numericos <- datos %>% select(where(is.numeric))"
   ]
  },
  {
   "cell_type": "markdown",
   "id": "d22f78d4",
   "metadata": {},
   "source": [
    "####\n",
    "<div style=\"display:flex; align-items:flex-start; gap:12px; background:linear-gradient(90deg,#059669,#10b981); padding:12px; border-radius:8px; box-shadow:0 4px 12px rgba(5,150,105,0.15); color:#fff; max-width:fit-content; width:min(750px,100%); margin:8px auto; margin-left:120px; box-sizing:border-box;\">\n",
    "    <div style=\"width:24px; height:24px; display:flex; align-items:center; justify-content:center; background:rgba(255,255,255,0.15); border-radius:4px; font-size:1rem; line-height:1;\">✅</div>\n",
    "    <div>\n",
    "        <div style=\"font-weight:600; font-size:1rem;\">Calcular correlación</div>\n",
    "    </div>\n",
    "</div>"
   ]
  },
  {
   "cell_type": "code",
   "execution_count": 16,
   "id": "e1c7c32a",
   "metadata": {
    "vscode": {
     "languageId": "r"
    }
   },
   "outputs": [],
   "source": [
    "correlaciones <- cor(datos_numericos, method = \"pearson\")\n",
    "# filtrar para mostrar solo las relacionadas con monto_total\n",
    "corr_total <- correlaciones[\"monto_total\", ]"
   ]
  },
  {
   "cell_type": "markdown",
   "id": "9c5036cd",
   "metadata": {},
   "source": [
    "####\n",
    "<div style=\"display:flex; align-items:flex-start; gap:12px; background:linear-gradient(90deg,#059669,#10b981); padding:12px; border-radius:8px; box-shadow:0 4px 12px rgba(5,150,105,0.15); color:#fff; max-width:fit-content; width:min(750px,100%); margin:8px auto; margin-left:120px; box-sizing:border-box;\">\n",
    "    <div style=\"width:24px; height:24px; display:flex; align-items:center; justify-content:center; background:rgba(255,255,255,0.15); border-radius:4px; font-size:1rem; line-height:1;\">✅</div>\n",
    "    <div>\n",
    "        <div style=\"font-weight:600; font-size:1rem;\">Mostrar correlaciones</div>\n",
    "    </div>\n",
    "</div>"
   ]
  },
  {
   "cell_type": "code",
   "execution_count": 17,
   "id": "30349302",
   "metadata": {
    "vscode": {
     "languageId": "r"
    }
   },
   "outputs": [
    {
     "data": {
      "text/html": [
       "<table class=\"dataframe\">\n",
       "<caption>A data.frame: 15 × 2</caption>\n",
       "<thead>\n",
       "\t<tr><th scope=col>Variable</th><th scope=col>Correlacion</th></tr>\n",
       "\t<tr><th scope=col>&lt;chr&gt;</th><th scope=col>&lt;dbl&gt;</th></tr>\n",
       "</thead>\n",
       "<tbody>\n",
       "\t<tr><td>monto_tarifa     </td><td> 0.976436703</td></tr>\n",
       "\t<tr><td>monto_propina    </td><td> 0.650791067</td></tr>\n",
       "\t<tr><td>monto_peajes     </td><td> 0.492992473</td></tr>\n",
       "\t<tr><td>id_codigo_tarifa </td><td> 0.218447546</td></tr>\n",
       "\t<tr><td>extra            </td><td> 0.049042163</td></tr>\n",
       "\t<tr><td>recargo_mejora   </td><td> 0.013093721</td></tr>\n",
       "\t<tr><td>id_proveedor     </td><td> 0.011503210</td></tr>\n",
       "\t<tr><td>longitud_recogida</td><td> 0.010134694</td></tr>\n",
       "\t<tr><td>numero_pasajeros </td><td> 0.007967019</td></tr>\n",
       "\t<tr><td>longitud_dejada  </td><td> 0.006631592</td></tr>\n",
       "\t<tr><td>distancia_viaje  </td><td> 0.002789734</td></tr>\n",
       "\t<tr><td>latitud_dejada   </td><td>-0.006613016</td></tr>\n",
       "\t<tr><td>latitud_recogida </td><td>-0.009699654</td></tr>\n",
       "\t<tr><td>tipo_pago        </td><td>-0.144000675</td></tr>\n",
       "\t<tr><td>impuesto_mta     </td><td>-0.196739510</td></tr>\n",
       "</tbody>\n",
       "</table>\n"
      ],
      "text/latex": [
       "A data.frame: 15 × 2\n",
       "\\begin{tabular}{ll}\n",
       " Variable & Correlacion\\\\\n",
       " <chr> & <dbl>\\\\\n",
       "\\hline\n",
       "\t monto\\_tarifa      &  0.976436703\\\\\n",
       "\t monto\\_propina     &  0.650791067\\\\\n",
       "\t monto\\_peajes      &  0.492992473\\\\\n",
       "\t id\\_codigo\\_tarifa  &  0.218447546\\\\\n",
       "\t extra             &  0.049042163\\\\\n",
       "\t recargo\\_mejora    &  0.013093721\\\\\n",
       "\t id\\_proveedor      &  0.011503210\\\\\n",
       "\t longitud\\_recogida &  0.010134694\\\\\n",
       "\t numero\\_pasajeros  &  0.007967019\\\\\n",
       "\t longitud\\_dejada   &  0.006631592\\\\\n",
       "\t distancia\\_viaje   &  0.002789734\\\\\n",
       "\t latitud\\_dejada    & -0.006613016\\\\\n",
       "\t latitud\\_recogida  & -0.009699654\\\\\n",
       "\t tipo\\_pago         & -0.144000675\\\\\n",
       "\t impuesto\\_mta      & -0.196739510\\\\\n",
       "\\end{tabular}\n"
      ],
      "text/markdown": [
       "\n",
       "A data.frame: 15 × 2\n",
       "\n",
       "| Variable &lt;chr&gt; | Correlacion &lt;dbl&gt; |\n",
       "|---|---|\n",
       "| monto_tarifa      |  0.976436703 |\n",
       "| monto_propina     |  0.650791067 |\n",
       "| monto_peajes      |  0.492992473 |\n",
       "| id_codigo_tarifa  |  0.218447546 |\n",
       "| extra             |  0.049042163 |\n",
       "| recargo_mejora    |  0.013093721 |\n",
       "| id_proveedor      |  0.011503210 |\n",
       "| longitud_recogida |  0.010134694 |\n",
       "| numero_pasajeros  |  0.007967019 |\n",
       "| longitud_dejada   |  0.006631592 |\n",
       "| distancia_viaje   |  0.002789734 |\n",
       "| latitud_dejada    | -0.006613016 |\n",
       "| latitud_recogida  | -0.009699654 |\n",
       "| tipo_pago         | -0.144000675 |\n",
       "| impuesto_mta      | -0.196739510 |\n",
       "\n"
      ],
      "text/plain": [
       "   Variable          Correlacion \n",
       "1  monto_tarifa       0.976436703\n",
       "2  monto_propina      0.650791067\n",
       "3  monto_peajes       0.492992473\n",
       "4  id_codigo_tarifa   0.218447546\n",
       "5  extra              0.049042163\n",
       "6  recargo_mejora     0.013093721\n",
       "7  id_proveedor       0.011503210\n",
       "8  longitud_recogida  0.010134694\n",
       "9  numero_pasajeros   0.007967019\n",
       "10 longitud_dejada    0.006631592\n",
       "11 distancia_viaje    0.002789734\n",
       "12 latitud_dejada    -0.006613016\n",
       "13 latitud_recogida  -0.009699654\n",
       "14 tipo_pago         -0.144000675\n",
       "15 impuesto_mta      -0.196739510"
      ]
     },
     "metadata": {},
     "output_type": "display_data"
    }
   ],
   "source": [
    "corr_df <- data.frame(\n",
    "    Variable = names(corr_total),\n",
    "    Correlacion = as.numeric(corr_total)\n",
    ") %>%\n",
    "    filter(Variable != \"monto_total\") %>%\n",
    "    arrange(desc(Correlacion))\n",
    "corr_df"
   ]
  },
  {
   "cell_type": "markdown",
   "id": "b89b9050",
   "metadata": {},
   "source": [
    "####\n",
    "<div style=\"display:flex; align-items:flex-start; gap:12px; background:linear-gradient(90deg,#059669,#10b981); padding:12px; border-radius:8px; box-shadow:0 4px 12px rgba(5,150,105,0.15); color:#fff; max-width:fit-content; width:min(750px,100%); margin:8px auto; margin-left:120px; box-sizing:border-box;\">\n",
    "    <div style=\"width:24px; height:24px; display:flex; align-items:center; justify-content:center; background:rgba(255,255,255,0.15); border-radius:4px; font-size:1rem; line-height:1;\">✅</div>\n",
    "    <div>\n",
    "        <div style=\"font-weight:600; font-size:1rem;\">Eliminar variables con data leakage</div>\n",
    "        <div style=\"font-size:0.875rem;\">Se eliminaron las variables que se conocen despues del viaje y el modelo no debería tener acceso a ellas.</div>\n",
    "    </div>\n",
    "</div>"
   ]
  },
  {
   "cell_type": "code",
   "execution_count": 18,
   "id": "6169acc2",
   "metadata": {
    "vscode": {
     "languageId": "r"
    }
   },
   "outputs": [
    {
     "name": "stdout",
     "output_type": "stream",
     "text": [
      "Rows: 1,000,000\n",
      "Columns: 10\n",
      "$ id_proveedor        \u001b[3m\u001b[90m<dbl>\u001b[39m\u001b[23m 2\u001b[90m, \u001b[39m2\u001b[90m, \u001b[39m2\u001b[90m, \u001b[39m1\u001b[90m, \u001b[39m2\u001b[90m, \u001b[39m1\u001b[90m, \u001b[39m1\u001b[90m,\u001b[39m…\n",
      "$ fecha_hora_recogida \u001b[3m\u001b[90m<dttm>\u001b[39m\u001b[23m 2016-03-27 21:14:57…\n",
      "$ fecha_hora_dejada   \u001b[3m\u001b[90m<dttm>\u001b[39m\u001b[23m 2016-03-27 21:20:27…\n",
      "$ numero_pasajeros    \u001b[3m\u001b[90m<dbl>\u001b[39m\u001b[23m 1\u001b[90m, \u001b[39m1\u001b[90m, \u001b[39m2\u001b[90m, \u001b[39m1\u001b[90m, \u001b[39m1\u001b[90m, \u001b[39m1\u001b[90m, \u001b[39m1\u001b[90m,\u001b[39m…\n",
      "$ distancia_viaje     \u001b[3m\u001b[90m<dbl>\u001b[39m\u001b[23m 1.12\u001b[90m, \u001b[39m3.80\u001b[90m, \u001b[39m0.73\u001b[90m, \u001b[39m2.…\n",
      "$ longitud_recogida   \u001b[3m\u001b[90m<dbl>\u001b[39m\u001b[23m -73.98667\u001b[90m, \u001b[39m-73.98663…\n",
      "$ latitud_recogida    \u001b[3m\u001b[90m<dbl>\u001b[39m\u001b[23m 40.72813\u001b[90m, \u001b[39m40.77701\u001b[90m, \u001b[39m…\n",
      "$ store_and_fwd_flag  \u001b[3m\u001b[90m<chr>\u001b[39m\u001b[23m \"N\"\u001b[90m, \u001b[39m\"N\"\u001b[90m, \u001b[39m\"N\"\u001b[90m, \u001b[39m\"N\"\u001b[90m, \u001b[39m…\n",
      "$ monto_total         \u001b[3m\u001b[90m<dbl>\u001b[39m\u001b[23m 8.76\u001b[90m, \u001b[39m21.80\u001b[90m, \u001b[39m7.30\u001b[90m, \u001b[39m1…\n",
      "$ id_codigo_tarifa    \u001b[3m\u001b[90m<dbl>\u001b[39m\u001b[23m 1\u001b[90m, \u001b[39m1\u001b[90m, \u001b[39m1\u001b[90m, \u001b[39m1\u001b[90m, \u001b[39m1\u001b[90m, \u001b[39m1\u001b[90m, \u001b[39m1\u001b[90m,\u001b[39m…\n"
     ]
    }
   ],
   "source": [
    "datos <- datos %>%\n",
    "  select(-monto_tarifa, -monto_propina, -monto_peajes, \n",
    "         -extra, -recargo_mejora, -impuesto_mta,\n",
    "         -tipo_pago, -longitud_dejada, -latitud_dejada)\n",
    "\n",
    "glimpse(datos, width = 50)"
   ]
  },
  {
   "cell_type": "markdown",
   "id": "46c18a55",
   "metadata": {},
   "source": [
    "###\n",
    "<div style=\"display:flex; align-items:flex-start; gap:12px; background:linear-gradient(90deg,#7c3aed,#a855f7); padding:14px; border-radius:8px; box-shadow:0 4px 12px rgba(124,58,237,0.15); color:#fff; max-width:fit-content; width:min(800px,100%); margin:10px auto; margin-left:80px; box-sizing:border-box;\">\n",
    "    <div style=\"width:28px; height:28px; display:flex; align-items:center; justify-content:center; background:rgba(255,255,255,0.15); border-radius:6px; font-size:1.2rem; line-height:1;\">⚙️</div>\n",
    "    <div>\n",
    "        <div style=\"font-weight:700; font-size:1.15rem;\">Convertir variables categóricas a numéricas</div>\n",
    "        <div style=\"opacity:0.9; font-size:0.85rem; margin-top:3px;\">Las variables de texto (character) no pueden usarse directamente en el modelo de regresión. Se convierten a números: Y=1, N=0, el objetivo de esta variable es predecir si un viaje fue cancelado o no.</div>\n",
    "    </div>\n",
    "</div>"
   ]
  },
  {
   "cell_type": "code",
   "execution_count": 19,
   "id": "77731456",
   "metadata": {
    "vscode": {
     "languageId": "r"
    }
   },
   "outputs": [],
   "source": [
    "datos <- datos %>%\n",
    "  mutate(guardar_y_reenviar = ifelse(store_and_fwd_flag == \"Y\", 1, 0)) %>%\n",
    "  select(-store_and_fwd_flag)  # borrar columna original"
   ]
  },
  {
   "cell_type": "markdown",
   "id": "ca120909",
   "metadata": {},
   "source": [
    "###\n",
    "<div style=\"display:flex; align-items:flex-start; gap:12px; background:linear-gradient(90deg,#7c3aed,#a855f7); padding:14px; border-radius:8px; box-shadow:0 4px 12px rgba(124,58,237,0.15); color:#fff; max-width:fit-content; width:min(800px,100%); margin:10px auto; margin-left:80px; box-sizing:border-box;\">\n",
    "    <div style=\"width:28px; height:28px; display:flex; align-items:center; justify-content:center; background:rgba(255,255,255,0.15); border-radius:6px; font-size:1.2rem; line-height:1;\">⚙️</div>\n",
    "    <div>\n",
    "        <div style=\"font-weight:700; font-size:1.15rem;\">Crear variables numéricas desde fechas (Feature Engineering)</div>\n",
    "        <div style=\"opacity:0.9; font-size:0.85rem; margin-top:3px;\">Las fechas no se usan directamente. Se extraen características útiles: hora del día, día de la semana, si es fin de semana, si es hora pico</div>\n",
    "    </div>\n",
    "</div>"
   ]
  },
  {
   "cell_type": "code",
   "execution_count": 20,
   "id": "957b7391",
   "metadata": {
    "vscode": {
     "languageId": "r"
    }
   },
   "outputs": [],
   "source": [
    "# Extraer características numéricas desde tpep_pickup_datetime\n",
    "datos <- datos %>%\n",
    "  mutate(\n",
    "    hora_recogida = hour(fecha_hora_recogida),\n",
    "    dia_semana = wday(fecha_hora_recogida, week_start = 1),\n",
    "    es_fin_semana = ifelse(dia_semana %in% c(6, 7), 1, 0),\n",
    "    es_hora_pico = ifelse((hora_recogida >= 7 & hora_recogida <= 10) | \n",
    "                          (hora_recogida >= 17 & hora_recogida <= 20), 1, 0)\n",
    "  ) %>%\n",
    "  select(-fecha_hora_recogida, -fecha_hora_dejada)\n"
   ]
  },
  {
   "cell_type": "code",
   "execution_count": 21,
   "id": "ff44c522",
   "metadata": {
    "vscode": {
     "languageId": "r"
    }
   },
   "outputs": [
    {
     "data": {
      "text/html": [
       "<table class=\"dataframe\">\n",
       "<caption>A tibble: 6 × 12</caption>\n",
       "<thead>\n",
       "\t<tr><th scope=col>id_proveedor</th><th scope=col>numero_pasajeros</th><th scope=col>distancia_viaje</th><th scope=col>longitud_recogida</th><th scope=col>latitud_recogida</th><th scope=col>monto_total</th><th scope=col>id_codigo_tarifa</th><th scope=col>guardar_y_reenviar</th><th scope=col>hora_recogida</th><th scope=col>dia_semana</th><th scope=col>es_fin_semana</th><th scope=col>es_hora_pico</th></tr>\n",
       "\t<tr><th scope=col>&lt;dbl&gt;</th><th scope=col>&lt;dbl&gt;</th><th scope=col>&lt;dbl&gt;</th><th scope=col>&lt;dbl&gt;</th><th scope=col>&lt;dbl&gt;</th><th scope=col>&lt;dbl&gt;</th><th scope=col>&lt;dbl&gt;</th><th scope=col>&lt;dbl&gt;</th><th scope=col>&lt;int&gt;</th><th scope=col>&lt;dbl&gt;</th><th scope=col>&lt;dbl&gt;</th><th scope=col>&lt;dbl&gt;</th></tr>\n",
       "</thead>\n",
       "<tbody>\n",
       "\t<tr><td>2</td><td>1</td><td>1.12</td><td>-73.98667</td><td>40.72813</td><td> 8.76</td><td>1</td><td>0</td><td>21</td><td>7</td><td>1</td><td>0</td></tr>\n",
       "\t<tr><td>2</td><td>1</td><td>3.80</td><td>-73.98663</td><td>40.77701</td><td>21.80</td><td>1</td><td>0</td><td>18</td><td>6</td><td>1</td><td>1</td></tr>\n",
       "\t<tr><td>2</td><td>2</td><td>0.73</td><td>-73.97395</td><td>40.76041</td><td> 7.30</td><td>1</td><td>0</td><td>17</td><td>6</td><td>1</td><td>1</td></tr>\n",
       "\t<tr><td>1</td><td>1</td><td>2.00</td><td>-73.98127</td><td>40.75839</td><td>13.80</td><td>1</td><td>0</td><td>14</td><td>5</td><td>0</td><td>0</td></tr>\n",
       "\t<tr><td>2</td><td>1</td><td>0.78</td><td>-74.00253</td><td>40.75269</td><td> 7.40</td><td>1</td><td>0</td><td>19</td><td>7</td><td>1</td><td>1</td></tr>\n",
       "\t<tr><td>1</td><td>1</td><td>1.90</td><td>-73.98387</td><td>40.78062</td><td>12.35</td><td>1</td><td>0</td><td>13</td><td>4</td><td>0</td><td>0</td></tr>\n",
       "</tbody>\n",
       "</table>\n"
      ],
      "text/latex": [
       "A tibble: 6 × 12\n",
       "\\begin{tabular}{llllllllllll}\n",
       " id\\_proveedor & numero\\_pasajeros & distancia\\_viaje & longitud\\_recogida & latitud\\_recogida & monto\\_total & id\\_codigo\\_tarifa & guardar\\_y\\_reenviar & hora\\_recogida & dia\\_semana & es\\_fin\\_semana & es\\_hora\\_pico\\\\\n",
       " <dbl> & <dbl> & <dbl> & <dbl> & <dbl> & <dbl> & <dbl> & <dbl> & <int> & <dbl> & <dbl> & <dbl>\\\\\n",
       "\\hline\n",
       "\t 2 & 1 & 1.12 & -73.98667 & 40.72813 &  8.76 & 1 & 0 & 21 & 7 & 1 & 0\\\\\n",
       "\t 2 & 1 & 3.80 & -73.98663 & 40.77701 & 21.80 & 1 & 0 & 18 & 6 & 1 & 1\\\\\n",
       "\t 2 & 2 & 0.73 & -73.97395 & 40.76041 &  7.30 & 1 & 0 & 17 & 6 & 1 & 1\\\\\n",
       "\t 1 & 1 & 2.00 & -73.98127 & 40.75839 & 13.80 & 1 & 0 & 14 & 5 & 0 & 0\\\\\n",
       "\t 2 & 1 & 0.78 & -74.00253 & 40.75269 &  7.40 & 1 & 0 & 19 & 7 & 1 & 1\\\\\n",
       "\t 1 & 1 & 1.90 & -73.98387 & 40.78062 & 12.35 & 1 & 0 & 13 & 4 & 0 & 0\\\\\n",
       "\\end{tabular}\n"
      ],
      "text/markdown": [
       "\n",
       "A tibble: 6 × 12\n",
       "\n",
       "| id_proveedor &lt;dbl&gt; | numero_pasajeros &lt;dbl&gt; | distancia_viaje &lt;dbl&gt; | longitud_recogida &lt;dbl&gt; | latitud_recogida &lt;dbl&gt; | monto_total &lt;dbl&gt; | id_codigo_tarifa &lt;dbl&gt; | guardar_y_reenviar &lt;dbl&gt; | hora_recogida &lt;int&gt; | dia_semana &lt;dbl&gt; | es_fin_semana &lt;dbl&gt; | es_hora_pico &lt;dbl&gt; |\n",
       "|---|---|---|---|---|---|---|---|---|---|---|---|\n",
       "| 2 | 1 | 1.12 | -73.98667 | 40.72813 |  8.76 | 1 | 0 | 21 | 7 | 1 | 0 |\n",
       "| 2 | 1 | 3.80 | -73.98663 | 40.77701 | 21.80 | 1 | 0 | 18 | 6 | 1 | 1 |\n",
       "| 2 | 2 | 0.73 | -73.97395 | 40.76041 |  7.30 | 1 | 0 | 17 | 6 | 1 | 1 |\n",
       "| 1 | 1 | 2.00 | -73.98127 | 40.75839 | 13.80 | 1 | 0 | 14 | 5 | 0 | 0 |\n",
       "| 2 | 1 | 0.78 | -74.00253 | 40.75269 |  7.40 | 1 | 0 | 19 | 7 | 1 | 1 |\n",
       "| 1 | 1 | 1.90 | -73.98387 | 40.78062 | 12.35 | 1 | 0 | 13 | 4 | 0 | 0 |\n",
       "\n"
      ],
      "text/plain": [
       "  id_proveedor numero_pasajeros distancia_viaje longitud_recogida\n",
       "1 2            1                1.12            -73.98667        \n",
       "2 2            1                3.80            -73.98663        \n",
       "3 2            2                0.73            -73.97395        \n",
       "4 1            1                2.00            -73.98127        \n",
       "5 2            1                0.78            -74.00253        \n",
       "6 1            1                1.90            -73.98387        \n",
       "  latitud_recogida monto_total id_codigo_tarifa guardar_y_reenviar\n",
       "1 40.72813          8.76       1                0                 \n",
       "2 40.77701         21.80       1                0                 \n",
       "3 40.76041          7.30       1                0                 \n",
       "4 40.75839         13.80       1                0                 \n",
       "5 40.75269          7.40       1                0                 \n",
       "6 40.78062         12.35       1                0                 \n",
       "  hora_recogida dia_semana es_fin_semana es_hora_pico\n",
       "1 21            7          1             0           \n",
       "2 18            6          1             1           \n",
       "3 17            6          1             1           \n",
       "4 14            5          0             0           \n",
       "5 19            7          1             1           \n",
       "6 13            4          0             0           "
      ]
     },
     "metadata": {},
     "output_type": "display_data"
    }
   ],
   "source": [
    "head(datos)"
   ]
  },
  {
   "cell_type": "markdown",
   "id": "be4574ea",
   "metadata": {},
   "source": [
    "#\n",
    "<div style=\"display:flex; align-items:flex-start; gap:14px; background:linear-gradient(90deg,#1e3a8a,#3b82f6); padding:20px; border-radius:12px; box-shadow:0 8px 20px rrgba(30,58,138,0.25) color:#fff; max-width:fit-content; width:min(900px,100%); margin:16px auto; box-sizing:border-box;\">\n",
    "    <div style=\"width:40px; height:40px; display:flex; align-items:center; justify-content:center; background:rgba(255,255,255,0.1); border-radius:8px; font-size:1.8rem; line-height:1;\">📊</div>\n",
    "    <div>\n",
    "        <div style=\"font-weight:900; font-size:1.8rem; letter-spacing:0.5px;\">Análisis Exploratorio Gráfico - PLOT\n",
    "        <div style=\"opacity:0.9; font-size:0.95rem; margin-top:6px;\">VisuaSe generan gráficos de comparación entre la variable dependiente `monto_total` y cada una de las otras variables del dataset datos\n",
    "        \n",
    "- Para variables numéricas: scatter plot con una curva de tendencia (loess).\n",
    "- Para variables categóricas: boxplot de `monto_total` por categoría.\n",
    "    </div>\n",
    "</div>"
   ]
  },
  {
   "cell_type": "code",
   "execution_count": 22,
   "id": "e0c414c7",
   "metadata": {
    "vscode": {
     "languageId": "r"
    }
   },
   "outputs": [
    {
     "data": {
      "image/png": "[encoded data removed]",
      "text/plain": [
       "plot without title"
      ]
     },
     "metadata": {
      "image/png": {
       "height": 420,
       "width": 420
      }
     },
     "output_type": "display_data"
    }
   ],
   "source": [
    "plot(datos$es_fin_semana, datos$monto_total)"
   ]
  },
  {
   "cell_type": "code",
   "execution_count": 23,
   "id": "a685438a",
   "metadata": {
    "vscode": {
     "languageId": "r"
    }
   },
   "outputs": [
    {
     "data": {
      "image/png": "[encoded data removed]",
      "text/plain": [
       "plot without title"
      ]
     },
     "metadata": {
      "image/png": {
       "height": 420,
       "width": 420
      }
     },
     "output_type": "display_data"
    }
   ],
   "source": [
    "plot(datos$dia_semana, datos$monto_total)"
   ]
  },
  {
   "cell_type": "code",
   "execution_count": 24,
   "id": "aadd75d9",
   "metadata": {
    "vscode": {
     "languageId": "r"
    }
   },
   "outputs": [
    {
     "data": {
      "image/png": "[encoded data removed]",
      "text/plain": [
       "Plot with title \"Boxplot de Número de Pasajeros\""
      ]
     },
     "metadata": {
      "image/png": {
       "height": 420,
       "width": 420
      }
     },
     "output_type": "display_data"
    }
   ],
   "source": [
    "boxplot(datos$numero_pasajeros, main=\"Boxplot de Número de Pasajeros\", ylab=\"Número de Pasajeros\", col=\"lightgreen\")"
   ]
  },
  {
   "cell_type": "code",
   "execution_count": 25,
   "id": "6fe2c906",
   "metadata": {
    "vscode": {
     "languageId": "r"
    }
   },
   "outputs": [
    {
     "data": {
      "image/png": "[encoded data removed]",
      "text/plain": [
       "Plot with title \"Boxplot de Distancia de Viaje\""
      ]
     },
     "metadata": {
      "image/png": {
       "height": 420,
       "width": 420
      }
     },
     "output_type": "display_data"
    }
   ],
   "source": [
    "boxplot(datos$distancia_viaje, main=\"Boxplot de Distancia de Viaje\", ylab=\"Distancia de Viaje\", col=\"lightblue\")"
   ]
  },
  {
   "cell_type": "code",
   "execution_count": 26,
   "id": "e567d432",
   "metadata": {
    "vscode": {
     "languageId": "r"
    }
   },
   "outputs": [
    {
     "data": {
      "image/png": "[encoded data removed]",
      "text/plain": [
       "Plot with title \"Boxplot de Hora de Recogida\""
      ]
     },
     "metadata": {
      "image/png": {
       "height": 420,
       "width": 420
      }
     },
     "output_type": "display_data"
    }
   ],
   "source": [
    "boxplot(datos$hora_recogida, main=\"Boxplot de Hora de Recogida\", ylab=\"Hora de Recogida\", col=\"lightgray\")"
   ]
  },
  {
   "cell_type": "code",
   "execution_count": 27,
   "id": "4333e26b",
   "metadata": {
    "vscode": {
     "languageId": "r"
    }
   },
   "outputs": [
    {
     "data": {
      "image/png": "[encoded data removed]",
      "text/plain": [
       "Plot with title \"Boxplot de Monto Total\""
      ]
     },
     "metadata": {
      "image/png": {
       "height": 420,
       "width": 420
      }
     },
     "output_type": "display_data"
    }
   ],
   "source": [
    "boxplot(datos$monto_total, main=\"Boxplot de Monto Total\", ylab=\"Monto Total\", col=\"lightsteelblue\")"
   ]
  },
  {
   "cell_type": "code",
   "execution_count": 28,
   "id": "bc0938d9",
   "metadata": {
    "vscode": {
     "languageId": "r"
    }
   },
   "outputs": [
    {
     "data": {
      "image/png": "[encoded data removed]",
      "text/plain": [
       "Plot with title \"Boxplot de Distancia de Viaje\""
      ]
     },
     "metadata": {
      "image/png": {
       "height": 420,
       "width": 420
      }
     },
     "output_type": "display_data"
    }
   ],
   "source": [
    "boxplot(datos$distancia_viaje, main=\"Boxplot de Distancia de Viaje\", ylab=\"Distancia de Viaje\", col=\"lightblue\")"
   ]
  },
  {
   "cell_type": "markdown",
   "id": "d1627252",
   "metadata": {},
   "source": [
    "<div style=\"display:flex; align-items:flex-start; gap:14px; background:linear-gradient(90deg,#FFF176,#FFD54F); padding:20px; border-radius:12px; box-shadow:0 8px 20px rgba(0,0,0,0.12); color:#1f2937; max-width:fit-content; width:min(900px,100%); margin:16px auto; box-sizing:border-box;\">\n",
    "  <div style=\"width:40px; height:40px; display:flex; align-items:center; justify-content:center; background:rgba(255,235,59,0.15); border-radius:8px; font-size:1.8rem; line-height:1;\" aria-hidden=\"true\">📊</div>\n",
    "  <div>\n",
    "    <div style=\"font-weight:900; font-size:1.8rem; letter-spacing:0.5px;\">EVALUAR OUTLIERS</div>\n",
    "    <div style=\"opacity:0.95; font-size:0.95rem; margin-top:6px;\">\n",
    "      Evaluación de outliers o valores atípicos de las variables numéricas.\n",
    "     \n",
    "    \n",
    "  </div>\n",
    "</div>"
   ]
  },
  {
   "cell_type": "code",
   "execution_count": 29,
   "id": "570c876b",
   "metadata": {
    "vscode": {
     "languageId": "r"
    }
   },
   "outputs": [
    {
     "data": {
      "text/plain": [
       "  id_proveedor  numero_pasajeros distancia_viaje     longitud_recogida\n",
       " Min.   :1.00   Min.   :0.000    Min.   :     0.00   Min.   :-131.82  \n",
       " 1st Qu.:1.00   1st Qu.:1.000    1st Qu.:     1.00   1st Qu.: -73.99  \n",
       " Median :2.00   Median :1.000    Median :     1.69   Median : -73.98  \n",
       " Mean   :1.53   Mean   :1.667    Mean   :     4.00   Mean   : -72.77  \n",
       " 3rd Qu.:2.00   3rd Qu.:2.000    3rd Qu.:     3.09   3rd Qu.: -73.97  \n",
       " Max.   :2.00   Max.   :9.000    Max.   :833180.00   Max.   :   0.00  \n",
       " latitud_recogida  monto_total      id_codigo_tarifa guardar_y_reenviar\n",
       " Min.   : 0.00    Min.   :-245.30   Min.   : 1.000   Min.   :0.000000  \n",
       " 1st Qu.:40.74    1st Qu.:   8.30   1st Qu.: 1.000   1st Qu.:0.000000  \n",
       " Median :40.75    Median :  11.60   Median : 1.000   Median :0.000000  \n",
       " Mean   :40.09    Mean   :  15.47   Mean   : 1.039   Mean   :0.006644  \n",
       " 3rd Qu.:40.77    3rd Qu.:  17.15   3rd Qu.: 1.000   3rd Qu.:0.000000  \n",
       " Max.   :60.91    Max.   :4009.30   Max.   :99.000   Max.   :1.000000  \n",
       " hora_recogida     dia_semana    es_fin_semana     es_hora_pico   \n",
       " Min.   : 0.00   Min.   :1.000   Min.   :0.0000   Min.   :0.0000  \n",
       " 1st Qu.: 9.00   1st Qu.:2.000   1st Qu.:0.0000   1st Qu.:0.0000  \n",
       " Median :14.00   Median :4.000   Median :0.0000   Median :0.0000  \n",
       " Mean   :13.63   Mean   :4.099   Mean   :0.2886   Mean   :0.4115  \n",
       " 3rd Qu.:19.00   3rd Qu.:6.000   3rd Qu.:1.0000   3rd Qu.:1.0000  \n",
       " Max.   :23.00   Max.   :7.000   Max.   :1.0000   Max.   :1.0000  "
      ]
     },
     "metadata": {},
     "output_type": "display_data"
    }
   ],
   "source": [
    "summary(datos)"
   ]
  },
  {
   "cell_type": "code",
   "execution_count": 30,
   "id": "4d1069a4",
   "metadata": {
    "vscode": {
     "languageId": "r"
    }
   },
   "outputs": [
    {
     "data": {
      "text/html": [
       "<table class=\"dataframe\">\n",
       "<caption>A tibble: 12 × 12</caption>\n",
       "<thead>\n",
       "\t<tr><th scope=col>id_proveedor</th><th scope=col>numero_pasajeros</th><th scope=col>distancia_viaje</th><th scope=col>longitud_recogida</th><th scope=col>latitud_recogida</th><th scope=col>monto_total</th><th scope=col>id_codigo_tarifa</th><th scope=col>guardar_y_reenviar</th><th scope=col>hora_recogida</th><th scope=col>dia_semana</th><th scope=col>es_fin_semana</th><th scope=col>es_hora_pico</th></tr>\n",
       "\t<tr><th scope=col>&lt;dbl&gt;</th><th scope=col>&lt;dbl&gt;</th><th scope=col>&lt;dbl&gt;</th><th scope=col>&lt;dbl&gt;</th><th scope=col>&lt;dbl&gt;</th><th scope=col>&lt;dbl&gt;</th><th scope=col>&lt;dbl&gt;</th><th scope=col>&lt;dbl&gt;</th><th scope=col>&lt;int&gt;</th><th scope=col>&lt;dbl&gt;</th><th scope=col>&lt;dbl&gt;</th><th scope=col>&lt;dbl&gt;</th></tr>\n",
       "</thead>\n",
       "<tbody>\n",
       "\t<tr><td>1</td><td>2</td><td>11.2</td><td>-73.98693</td><td>40.76101</td><td> 539.77</td><td>1</td><td>0</td><td> 2</td><td>7</td><td>1</td><td>0</td></tr>\n",
       "\t<tr><td>1</td><td>2</td><td>10.4</td><td>-73.97961</td><td>40.76229</td><td> 795.84</td><td>1</td><td>0</td><td> 9</td><td>2</td><td>0</td><td>1</td></tr>\n",
       "\t<tr><td>1</td><td>1</td><td> 0.1</td><td>-73.96206</td><td>40.75569</td><td>1288.64</td><td>5</td><td>0</td><td>18</td><td>3</td><td>0</td><td>1</td></tr>\n",
       "\t<tr><td>1</td><td>2</td><td>18.2</td><td>-73.98434</td><td>40.76754</td><td> 556.91</td><td>2</td><td>0</td><td>13</td><td>2</td><td>0</td><td>0</td></tr>\n",
       "\t<tr><td>1</td><td>1</td><td> 0.0</td><td>-73.92193</td><td>40.76624</td><td> 900.30</td><td>5</td><td>0</td><td>16</td><td>5</td><td>0</td><td>0</td></tr>\n",
       "\t<tr><td>1</td><td>1</td><td> 1.7</td><td>-73.96153</td><td>40.77064</td><td>4009.30</td><td>1</td><td>0</td><td>21</td><td>4</td><td>0</td><td>0</td></tr>\n",
       "\t<tr><td>1</td><td>3</td><td> 8.9</td><td>-73.97688</td><td>40.74759</td><td> 568.80</td><td>1</td><td>0</td><td>12</td><td>5</td><td>0</td><td>0</td></tr>\n",
       "\t<tr><td>1</td><td>1</td><td> 0.2</td><td>-73.98287</td><td>40.78200</td><td>2021.17</td><td>1</td><td>0</td><td>15</td><td>5</td><td>0</td><td>0</td></tr>\n",
       "\t<tr><td>2</td><td>1</td><td> 0.0</td><td>  0.00000</td><td> 0.00000</td><td> 607.52</td><td>5</td><td>0</td><td>18</td><td>4</td><td>0</td><td>1</td></tr>\n",
       "\t<tr><td>1</td><td>2</td><td>10.4</td><td>-73.97961</td><td>40.76229</td><td> 795.84</td><td>1</td><td>0</td><td> 9</td><td>2</td><td>0</td><td>1</td></tr>\n",
       "\t<tr><td>2</td><td>4</td><td> 7.5</td><td>-73.87103</td><td>40.77380</td><td>1426.80</td><td>1</td><td>0</td><td>12</td><td>1</td><td>0</td><td>0</td></tr>\n",
       "\t<tr><td>1</td><td>1</td><td> 0.0</td><td>-73.79367</td><td>40.65667</td><td> 558.30</td><td>1</td><td>0</td><td>15</td><td>5</td><td>0</td><td>0</td></tr>\n",
       "</tbody>\n",
       "</table>\n"
      ],
      "text/latex": [
       "A tibble: 12 × 12\n",
       "\\begin{tabular}{llllllllllll}\n",
       " id\\_proveedor & numero\\_pasajeros & distancia\\_viaje & longitud\\_recogida & latitud\\_recogida & monto\\_total & id\\_codigo\\_tarifa & guardar\\_y\\_reenviar & hora\\_recogida & dia\\_semana & es\\_fin\\_semana & es\\_hora\\_pico\\\\\n",
       " <dbl> & <dbl> & <dbl> & <dbl> & <dbl> & <dbl> & <dbl> & <dbl> & <int> & <dbl> & <dbl> & <dbl>\\\\\n",
       "\\hline\n",
       "\t 1 & 2 & 11.2 & -73.98693 & 40.76101 &  539.77 & 1 & 0 &  2 & 7 & 1 & 0\\\\\n",
       "\t 1 & 2 & 10.4 & -73.97961 & 40.76229 &  795.84 & 1 & 0 &  9 & 2 & 0 & 1\\\\\n",
       "\t 1 & 1 &  0.1 & -73.96206 & 40.75569 & 1288.64 & 5 & 0 & 18 & 3 & 0 & 1\\\\\n",
       "\t 1 & 2 & 18.2 & -73.98434 & 40.76754 &  556.91 & 2 & 0 & 13 & 2 & 0 & 0\\\\\n",
       "\t 1 & 1 &  0.0 & -73.92193 & 40.76624 &  900.30 & 5 & 0 & 16 & 5 & 0 & 0\\\\\n",
       "\t 1 & 1 &  1.7 & -73.96153 & 40.77064 & 4009.30 & 1 & 0 & 21 & 4 & 0 & 0\\\\\n",
       "\t 1 & 3 &  8.9 & -73.97688 & 40.74759 &  568.80 & 1 & 0 & 12 & 5 & 0 & 0\\\\\n",
       "\t 1 & 1 &  0.2 & -73.98287 & 40.78200 & 2021.17 & 1 & 0 & 15 & 5 & 0 & 0\\\\\n",
       "\t 2 & 1 &  0.0 &   0.00000 &  0.00000 &  607.52 & 5 & 0 & 18 & 4 & 0 & 1\\\\\n",
       "\t 1 & 2 & 10.4 & -73.97961 & 40.76229 &  795.84 & 1 & 0 &  9 & 2 & 0 & 1\\\\\n",
       "\t 2 & 4 &  7.5 & -73.87103 & 40.77380 & 1426.80 & 1 & 0 & 12 & 1 & 0 & 0\\\\\n",
       "\t 1 & 1 &  0.0 & -73.79367 & 40.65667 &  558.30 & 1 & 0 & 15 & 5 & 0 & 0\\\\\n",
       "\\end{tabular}\n"
      ],
      "text/markdown": [
       "\n",
       "A tibble: 12 × 12\n",
       "\n",
       "| id_proveedor &lt;dbl&gt; | numero_pasajeros &lt;dbl&gt; | distancia_viaje &lt;dbl&gt; | longitud_recogida &lt;dbl&gt; | latitud_recogida &lt;dbl&gt; | monto_total &lt;dbl&gt; | id_codigo_tarifa &lt;dbl&gt; | guardar_y_reenviar &lt;dbl&gt; | hora_recogida &lt;int&gt; | dia_semana &lt;dbl&gt; | es_fin_semana &lt;dbl&gt; | es_hora_pico &lt;dbl&gt; |\n",
       "|---|---|---|---|---|---|---|---|---|---|---|---|\n",
       "| 1 | 2 | 11.2 | -73.98693 | 40.76101 |  539.77 | 1 | 0 |  2 | 7 | 1 | 0 |\n",
       "| 1 | 2 | 10.4 | -73.97961 | 40.76229 |  795.84 | 1 | 0 |  9 | 2 | 0 | 1 |\n",
       "| 1 | 1 |  0.1 | -73.96206 | 40.75569 | 1288.64 | 5 | 0 | 18 | 3 | 0 | 1 |\n",
       "| 1 | 2 | 18.2 | -73.98434 | 40.76754 |  556.91 | 2 | 0 | 13 | 2 | 0 | 0 |\n",
       "| 1 | 1 |  0.0 | -73.92193 | 40.76624 |  900.30 | 5 | 0 | 16 | 5 | 0 | 0 |\n",
       "| 1 | 1 |  1.7 | -73.96153 | 40.77064 | 4009.30 | 1 | 0 | 21 | 4 | 0 | 0 |\n",
       "| 1 | 3 |  8.9 | -73.97688 | 40.74759 |  568.80 | 1 | 0 | 12 | 5 | 0 | 0 |\n",
       "| 1 | 1 |  0.2 | -73.98287 | 40.78200 | 2021.17 | 1 | 0 | 15 | 5 | 0 | 0 |\n",
       "| 2 | 1 |  0.0 |   0.00000 |  0.00000 |  607.52 | 5 | 0 | 18 | 4 | 0 | 1 |\n",
       "| 1 | 2 | 10.4 | -73.97961 | 40.76229 |  795.84 | 1 | 0 |  9 | 2 | 0 | 1 |\n",
       "| 2 | 4 |  7.5 | -73.87103 | 40.77380 | 1426.80 | 1 | 0 | 12 | 1 | 0 | 0 |\n",
       "| 1 | 1 |  0.0 | -73.79367 | 40.65667 |  558.30 | 1 | 0 | 15 | 5 | 0 | 0 |\n",
       "\n"
      ],
      "text/plain": [
       "   id_proveedor numero_pasajeros distancia_viaje longitud_recogida\n",
       "1  1            2                11.2            -73.98693        \n",
       "2  1            2                10.4            -73.97961        \n",
       "3  1            1                 0.1            -73.96206        \n",
       "4  1            2                18.2            -73.98434        \n",
       "5  1            1                 0.0            -73.92193        \n",
       "6  1            1                 1.7            -73.96153        \n",
       "7  1            3                 8.9            -73.97688        \n",
       "8  1            1                 0.2            -73.98287        \n",
       "9  2            1                 0.0              0.00000        \n",
       "10 1            2                10.4            -73.97961        \n",
       "11 2            4                 7.5            -73.87103        \n",
       "12 1            1                 0.0            -73.79367        \n",
       "   latitud_recogida monto_total id_codigo_tarifa guardar_y_reenviar\n",
       "1  40.76101          539.77     1                0                 \n",
       "2  40.76229          795.84     1                0                 \n",
       "3  40.75569         1288.64     5                0                 \n",
       "4  40.76754          556.91     2                0                 \n",
       "5  40.76624          900.30     5                0                 \n",
       "6  40.77064         4009.30     1                0                 \n",
       "7  40.74759          568.80     1                0                 \n",
       "8  40.78200         2021.17     1                0                 \n",
       "9   0.00000          607.52     5                0                 \n",
       "10 40.76229          795.84     1                0                 \n",
       "11 40.77380         1426.80     1                0                 \n",
       "12 40.65667          558.30     1                0                 \n",
       "   hora_recogida dia_semana es_fin_semana es_hora_pico\n",
       "1   2            7          1             0           \n",
       "2   9            2          0             1           \n",
       "3  18            3          0             1           \n",
       "4  13            2          0             0           \n",
       "5  16            5          0             0           \n",
       "6  21            4          0             0           \n",
       "7  12            5          0             0           \n",
       "8  15            5          0             0           \n",
       "9  18            4          0             1           \n",
       "10  9            2          0             1           \n",
       "11 12            1          0             0           \n",
       "12 15            5          0             0           "
      ]
     },
     "metadata": {},
     "output_type": "display_data"
    },
    {
     "data": {
      "text/html": [
       "12"
      ],
      "text/latex": [
       "12"
      ],
      "text/markdown": [
       "12"
      ],
      "text/plain": [
       "[1] 12"
      ]
     },
     "metadata": {},
     "output_type": "display_data"
    }
   ],
   "source": [
    "indicemontototal <- datos$monto_total > 500\n",
    "maxmontototal <- datos[indicemontototal, ]\n",
    "maxmontototal\n",
    "nrow(maxmontototal)"
   ]
  },
  {
   "cell_type": "code",
   "execution_count": 31,
   "id": "f022de11",
   "metadata": {
    "vscode": {
     "languageId": "r"
    }
   },
   "outputs": [
    {
     "data": {
      "text/html": [
       "<table class=\"dataframe\">\n",
       "<caption>A tibble: 6 × 12</caption>\n",
       "<thead>\n",
       "\t<tr><th scope=col>id_proveedor</th><th scope=col>numero_pasajeros</th><th scope=col>distancia_viaje</th><th scope=col>longitud_recogida</th><th scope=col>latitud_recogida</th><th scope=col>monto_total</th><th scope=col>id_codigo_tarifa</th><th scope=col>guardar_y_reenviar</th><th scope=col>hora_recogida</th><th scope=col>dia_semana</th><th scope=col>es_fin_semana</th><th scope=col>es_hora_pico</th></tr>\n",
       "\t<tr><th scope=col>&lt;dbl&gt;</th><th scope=col>&lt;dbl&gt;</th><th scope=col>&lt;dbl&gt;</th><th scope=col>&lt;dbl&gt;</th><th scope=col>&lt;dbl&gt;</th><th scope=col>&lt;dbl&gt;</th><th scope=col>&lt;dbl&gt;</th><th scope=col>&lt;dbl&gt;</th><th scope=col>&lt;int&gt;</th><th scope=col>&lt;dbl&gt;</th><th scope=col>&lt;dbl&gt;</th><th scope=col>&lt;dbl&gt;</th></tr>\n",
       "</thead>\n",
       "<tbody>\n",
       "\t<tr><td>2</td><td>1</td><td>0.41</td><td>-73.96017</td><td>40.76210</td><td>-4.3</td><td>1</td><td>0</td><td>16</td><td>7</td><td>1</td><td>0</td></tr>\n",
       "\t<tr><td>2</td><td>1</td><td>0.01</td><td>-73.99914</td><td>40.68258</td><td>-3.8</td><td>1</td><td>0</td><td>23</td><td>6</td><td>1</td><td>0</td></tr>\n",
       "\t<tr><td>2</td><td>6</td><td>0.56</td><td>-73.93121</td><td>40.84822</td><td>-5.3</td><td>1</td><td>0</td><td> 1</td><td>3</td><td>0</td><td>0</td></tr>\n",
       "\t<tr><td>2</td><td>1</td><td>0.00</td><td>-73.99261</td><td>40.75338</td><td>-3.8</td><td>1</td><td>0</td><td> 5</td><td>1</td><td>0</td><td>0</td></tr>\n",
       "\t<tr><td>2</td><td>1</td><td>0.00</td><td>-73.93728</td><td>40.76493</td><td> 0.0</td><td>1</td><td>0</td><td>21</td><td>2</td><td>0</td><td>0</td></tr>\n",
       "\t<tr><td>2</td><td>1</td><td>0.00</td><td>-73.95816</td><td>40.77460</td><td>-4.3</td><td>1</td><td>0</td><td>15</td><td>4</td><td>0</td><td>0</td></tr>\n",
       "</tbody>\n",
       "</table>\n"
      ],
      "text/latex": [
       "A tibble: 6 × 12\n",
       "\\begin{tabular}{llllllllllll}\n",
       " id\\_proveedor & numero\\_pasajeros & distancia\\_viaje & longitud\\_recogida & latitud\\_recogida & monto\\_total & id\\_codigo\\_tarifa & guardar\\_y\\_reenviar & hora\\_recogida & dia\\_semana & es\\_fin\\_semana & es\\_hora\\_pico\\\\\n",
       " <dbl> & <dbl> & <dbl> & <dbl> & <dbl> & <dbl> & <dbl> & <dbl> & <int> & <dbl> & <dbl> & <dbl>\\\\\n",
       "\\hline\n",
       "\t 2 & 1 & 0.41 & -73.96017 & 40.76210 & -4.3 & 1 & 0 & 16 & 7 & 1 & 0\\\\\n",
       "\t 2 & 1 & 0.01 & -73.99914 & 40.68258 & -3.8 & 1 & 0 & 23 & 6 & 1 & 0\\\\\n",
       "\t 2 & 6 & 0.56 & -73.93121 & 40.84822 & -5.3 & 1 & 0 &  1 & 3 & 0 & 0\\\\\n",
       "\t 2 & 1 & 0.00 & -73.99261 & 40.75338 & -3.8 & 1 & 0 &  5 & 1 & 0 & 0\\\\\n",
       "\t 2 & 1 & 0.00 & -73.93728 & 40.76493 &  0.0 & 1 & 0 & 21 & 2 & 0 & 0\\\\\n",
       "\t 2 & 1 & 0.00 & -73.95816 & 40.77460 & -4.3 & 1 & 0 & 15 & 4 & 0 & 0\\\\\n",
       "\\end{tabular}\n"
      ],
      "text/markdown": [
       "\n",
       "A tibble: 6 × 12\n",
       "\n",
       "| id_proveedor &lt;dbl&gt; | numero_pasajeros &lt;dbl&gt; | distancia_viaje &lt;dbl&gt; | longitud_recogida &lt;dbl&gt; | latitud_recogida &lt;dbl&gt; | monto_total &lt;dbl&gt; | id_codigo_tarifa &lt;dbl&gt; | guardar_y_reenviar &lt;dbl&gt; | hora_recogida &lt;int&gt; | dia_semana &lt;dbl&gt; | es_fin_semana &lt;dbl&gt; | es_hora_pico &lt;dbl&gt; |\n",
       "|---|---|---|---|---|---|---|---|---|---|---|---|\n",
       "| 2 | 1 | 0.41 | -73.96017 | 40.76210 | -4.3 | 1 | 0 | 16 | 7 | 1 | 0 |\n",
       "| 2 | 1 | 0.01 | -73.99914 | 40.68258 | -3.8 | 1 | 0 | 23 | 6 | 1 | 0 |\n",
       "| 2 | 6 | 0.56 | -73.93121 | 40.84822 | -5.3 | 1 | 0 |  1 | 3 | 0 | 0 |\n",
       "| 2 | 1 | 0.00 | -73.99261 | 40.75338 | -3.8 | 1 | 0 |  5 | 1 | 0 | 0 |\n",
       "| 2 | 1 | 0.00 | -73.93728 | 40.76493 |  0.0 | 1 | 0 | 21 | 2 | 0 | 0 |\n",
       "| 2 | 1 | 0.00 | -73.95816 | 40.77460 | -4.3 | 1 | 0 | 15 | 4 | 0 | 0 |\n",
       "\n"
      ],
      "text/plain": [
       "  id_proveedor numero_pasajeros distancia_viaje longitud_recogida\n",
       "1 2            1                0.41            -73.96017        \n",
       "2 2            1                0.01            -73.99914        \n",
       "3 2            6                0.56            -73.93121        \n",
       "4 2            1                0.00            -73.99261        \n",
       "5 2            1                0.00            -73.93728        \n",
       "6 2            1                0.00            -73.95816        \n",
       "  latitud_recogida monto_total id_codigo_tarifa guardar_y_reenviar\n",
       "1 40.76210         -4.3        1                0                 \n",
       "2 40.68258         -3.8        1                0                 \n",
       "3 40.84822         -5.3        1                0                 \n",
       "4 40.75338         -3.8        1                0                 \n",
       "5 40.76493          0.0        1                0                 \n",
       "6 40.77460         -4.3        1                0                 \n",
       "  hora_recogida dia_semana es_fin_semana es_hora_pico\n",
       "1 16            7          1             0           \n",
       "2 23            6          1             0           \n",
       "3  1            3          0             0           \n",
       "4  5            1          0             0           \n",
       "5 21            2          0             0           \n",
       "6 15            4          0             0           "
      ]
     },
     "metadata": {},
     "output_type": "display_data"
    },
    {
     "data": {
      "text/html": [
       "452"
      ],
      "text/latex": [
       "452"
      ],
      "text/markdown": [
       "452"
      ],
      "text/plain": [
       "[1] 452"
      ]
     },
     "metadata": {},
     "output_type": "display_data"
    }
   ],
   "source": [
    "indicemontototal1 <- datos$monto_total <= 0\n",
    "minmontototal <- datos[indicemontototal1, ]\n",
    "head(minmontototal)\n",
    "nrow(minmontototal)"
   ]
  },
  {
   "cell_type": "code",
   "execution_count": 32,
   "id": "2600eaeb",
   "metadata": {
    "vscode": {
     "languageId": "r"
    }
   },
   "outputs": [
    {
     "data": {
      "text/html": [
       "<table class=\"dataframe\">\n",
       "<caption>A tibble: 7 × 12</caption>\n",
       "<thead>\n",
       "\t<tr><th scope=col>id_proveedor</th><th scope=col>numero_pasajeros</th><th scope=col>distancia_viaje</th><th scope=col>longitud_recogida</th><th scope=col>latitud_recogida</th><th scope=col>monto_total</th><th scope=col>id_codigo_tarifa</th><th scope=col>guardar_y_reenviar</th><th scope=col>hora_recogida</th><th scope=col>dia_semana</th><th scope=col>es_fin_semana</th><th scope=col>es_hora_pico</th></tr>\n",
       "\t<tr><th scope=col>&lt;dbl&gt;</th><th scope=col>&lt;dbl&gt;</th><th scope=col>&lt;dbl&gt;</th><th scope=col>&lt;dbl&gt;</th><th scope=col>&lt;dbl&gt;</th><th scope=col>&lt;dbl&gt;</th><th scope=col>&lt;dbl&gt;</th><th scope=col>&lt;dbl&gt;</th><th scope=col>&lt;int&gt;</th><th scope=col>&lt;dbl&gt;</th><th scope=col>&lt;dbl&gt;</th><th scope=col>&lt;dbl&gt;</th></tr>\n",
       "</thead>\n",
       "<tbody>\n",
       "\t<tr><td>1</td><td>1</td><td>304434.1</td><td>-74.00721</td><td>40.73638</td><td>11.16</td><td>1</td><td>0</td><td>19</td><td>5</td><td>0</td><td>1</td></tr>\n",
       "\t<tr><td>1</td><td>1</td><td>   171.8</td><td>-73.99055</td><td>40.74906</td><td> 3.30</td><td>1</td><td>0</td><td>14</td><td>3</td><td>0</td><td>0</td></tr>\n",
       "\t<tr><td>1</td><td>2</td><td>   501.1</td><td>-73.95528</td><td>40.78021</td><td>16.80</td><td>1</td><td>0</td><td>19</td><td>6</td><td>1</td><td>1</td></tr>\n",
       "\t<tr><td>1</td><td>1</td><td>833180.0</td><td>-73.94900</td><td>40.79715</td><td> 8.80</td><td>1</td><td>0</td><td>22</td><td>5</td><td>0</td><td>0</td></tr>\n",
       "\t<tr><td>1</td><td>3</td><td>   184.4</td><td>-73.79050</td><td>40.64396</td><td> 9.34</td><td>1</td><td>0</td><td>22</td><td>5</td><td>0</td><td>0</td></tr>\n",
       "\t<tr><td>1</td><td>1</td><td>   163.2</td><td>-73.80113</td><td>40.67004</td><td> 9.84</td><td>1</td><td>0</td><td>18</td><td>4</td><td>0</td><td>1</td></tr>\n",
       "\t<tr><td>1</td><td>2</td><td>   167.7</td><td>-73.78847</td><td>40.64736</td><td>15.07</td><td>1</td><td>0</td><td> 7</td><td>3</td><td>0</td><td>1</td></tr>\n",
       "</tbody>\n",
       "</table>\n"
      ],
      "text/latex": [
       "A tibble: 7 × 12\n",
       "\\begin{tabular}{llllllllllll}\n",
       " id\\_proveedor & numero\\_pasajeros & distancia\\_viaje & longitud\\_recogida & latitud\\_recogida & monto\\_total & id\\_codigo\\_tarifa & guardar\\_y\\_reenviar & hora\\_recogida & dia\\_semana & es\\_fin\\_semana & es\\_hora\\_pico\\\\\n",
       " <dbl> & <dbl> & <dbl> & <dbl> & <dbl> & <dbl> & <dbl> & <dbl> & <int> & <dbl> & <dbl> & <dbl>\\\\\n",
       "\\hline\n",
       "\t 1 & 1 & 304434.1 & -74.00721 & 40.73638 & 11.16 & 1 & 0 & 19 & 5 & 0 & 1\\\\\n",
       "\t 1 & 1 &    171.8 & -73.99055 & 40.74906 &  3.30 & 1 & 0 & 14 & 3 & 0 & 0\\\\\n",
       "\t 1 & 2 &    501.1 & -73.95528 & 40.78021 & 16.80 & 1 & 0 & 19 & 6 & 1 & 1\\\\\n",
       "\t 1 & 1 & 833180.0 & -73.94900 & 40.79715 &  8.80 & 1 & 0 & 22 & 5 & 0 & 0\\\\\n",
       "\t 1 & 3 &    184.4 & -73.79050 & 40.64396 &  9.34 & 1 & 0 & 22 & 5 & 0 & 0\\\\\n",
       "\t 1 & 1 &    163.2 & -73.80113 & 40.67004 &  9.84 & 1 & 0 & 18 & 4 & 0 & 1\\\\\n",
       "\t 1 & 2 &    167.7 & -73.78847 & 40.64736 & 15.07 & 1 & 0 &  7 & 3 & 0 & 1\\\\\n",
       "\\end{tabular}\n"
      ],
      "text/markdown": [
       "\n",
       "A tibble: 7 × 12\n",
       "\n",
       "| id_proveedor &lt;dbl&gt; | numero_pasajeros &lt;dbl&gt; | distancia_viaje &lt;dbl&gt; | longitud_recogida &lt;dbl&gt; | latitud_recogida &lt;dbl&gt; | monto_total &lt;dbl&gt; | id_codigo_tarifa &lt;dbl&gt; | guardar_y_reenviar &lt;dbl&gt; | hora_recogida &lt;int&gt; | dia_semana &lt;dbl&gt; | es_fin_semana &lt;dbl&gt; | es_hora_pico &lt;dbl&gt; |\n",
       "|---|---|---|---|---|---|---|---|---|---|---|---|\n",
       "| 1 | 1 | 304434.1 | -74.00721 | 40.73638 | 11.16 | 1 | 0 | 19 | 5 | 0 | 1 |\n",
       "| 1 | 1 |    171.8 | -73.99055 | 40.74906 |  3.30 | 1 | 0 | 14 | 3 | 0 | 0 |\n",
       "| 1 | 2 |    501.1 | -73.95528 | 40.78021 | 16.80 | 1 | 0 | 19 | 6 | 1 | 1 |\n",
       "| 1 | 1 | 833180.0 | -73.94900 | 40.79715 |  8.80 | 1 | 0 | 22 | 5 | 0 | 0 |\n",
       "| 1 | 3 |    184.4 | -73.79050 | 40.64396 |  9.34 | 1 | 0 | 22 | 5 | 0 | 0 |\n",
       "| 1 | 1 |    163.2 | -73.80113 | 40.67004 |  9.84 | 1 | 0 | 18 | 4 | 0 | 1 |\n",
       "| 1 | 2 |    167.7 | -73.78847 | 40.64736 | 15.07 | 1 | 0 |  7 | 3 | 0 | 1 |\n",
       "\n"
      ],
      "text/plain": [
       "  id_proveedor numero_pasajeros distancia_viaje longitud_recogida\n",
       "1 1            1                304434.1        -74.00721        \n",
       "2 1            1                   171.8        -73.99055        \n",
       "3 1            2                   501.1        -73.95528        \n",
       "4 1            1                833180.0        -73.94900        \n",
       "5 1            3                   184.4        -73.79050        \n",
       "6 1            1                   163.2        -73.80113        \n",
       "7 1            2                   167.7        -73.78847        \n",
       "  latitud_recogida monto_total id_codigo_tarifa guardar_y_reenviar\n",
       "1 40.73638         11.16       1                0                 \n",
       "2 40.74906          3.30       1                0                 \n",
       "3 40.78021         16.80       1                0                 \n",
       "4 40.79715          8.80       1                0                 \n",
       "5 40.64396          9.34       1                0                 \n",
       "6 40.67004          9.84       1                0                 \n",
       "7 40.64736         15.07       1                0                 \n",
       "  hora_recogida dia_semana es_fin_semana es_hora_pico\n",
       "1 19            5          0             1           \n",
       "2 14            3          0             0           \n",
       "3 19            6          1             1           \n",
       "4 22            5          0             0           \n",
       "5 22            5          0             0           \n",
       "6 18            4          0             1           \n",
       "7  7            3          0             1           "
      ]
     },
     "metadata": {},
     "output_type": "display_data"
    },
    {
     "data": {
      "text/html": [
       "7"
      ],
      "text/latex": [
       "7"
      ],
      "text/markdown": [
       "7"
      ],
      "text/plain": [
       "[1] 7"
      ]
     },
     "metadata": {},
     "output_type": "display_data"
    }
   ],
   "source": [
    "indicedistancia<- datos$distancia_viaje > 150\n",
    "maxdistancia <- datos[indicedistancia, ]\n",
    "maxdistancia\n",
    "nrow(maxdistancia)"
   ]
  },
  {
   "cell_type": "code",
   "execution_count": 33,
   "id": "12a240d1",
   "metadata": {
    "vscode": {
     "languageId": "r"
    }
   },
   "outputs": [
    {
     "data": {
      "text/html": [
       "<table class=\"dataframe\">\n",
       "<caption>A tibble: 6 × 12</caption>\n",
       "<thead>\n",
       "\t<tr><th scope=col>id_proveedor</th><th scope=col>numero_pasajeros</th><th scope=col>distancia_viaje</th><th scope=col>longitud_recogida</th><th scope=col>latitud_recogida</th><th scope=col>monto_total</th><th scope=col>id_codigo_tarifa</th><th scope=col>guardar_y_reenviar</th><th scope=col>hora_recogida</th><th scope=col>dia_semana</th><th scope=col>es_fin_semana</th><th scope=col>es_hora_pico</th></tr>\n",
       "\t<tr><th scope=col>&lt;dbl&gt;</th><th scope=col>&lt;dbl&gt;</th><th scope=col>&lt;dbl&gt;</th><th scope=col>&lt;dbl&gt;</th><th scope=col>&lt;dbl&gt;</th><th scope=col>&lt;dbl&gt;</th><th scope=col>&lt;dbl&gt;</th><th scope=col>&lt;dbl&gt;</th><th scope=col>&lt;int&gt;</th><th scope=col>&lt;dbl&gt;</th><th scope=col>&lt;dbl&gt;</th><th scope=col>&lt;dbl&gt;</th></tr>\n",
       "</thead>\n",
       "<tbody>\n",
       "\t<tr><td>1</td><td>1</td><td>0</td><td>  0.00000</td><td> 0.00000</td><td>4.30</td><td>1</td><td>1</td><td>19</td><td>5</td><td>0</td><td>1</td></tr>\n",
       "\t<tr><td>2</td><td>1</td><td>0</td><td>-73.87676</td><td>40.73646</td><td>4.94</td><td>1</td><td>0</td><td> 2</td><td>1</td><td>0</td><td>0</td></tr>\n",
       "\t<tr><td>1</td><td>1</td><td>0</td><td>-73.78924</td><td>40.64523</td><td>3.30</td><td>1</td><td>0</td><td>16</td><td>6</td><td>1</td><td>0</td></tr>\n",
       "\t<tr><td>1</td><td>1</td><td>0</td><td>-73.96031</td><td>40.77393</td><td>6.80</td><td>1</td><td>0</td><td> 0</td><td>1</td><td>0</td><td>0</td></tr>\n",
       "\t<tr><td>1</td><td>1</td><td>0</td><td>-73.86266</td><td>40.76907</td><td>3.80</td><td>1</td><td>0</td><td> 0</td><td>3</td><td>0</td><td>0</td></tr>\n",
       "\t<tr><td>1</td><td>1</td><td>0</td><td>-73.98188</td><td>40.78033</td><td>6.30</td><td>1</td><td>0</td><td>19</td><td>3</td><td>0</td><td>1</td></tr>\n",
       "</tbody>\n",
       "</table>\n"
      ],
      "text/latex": [
       "A tibble: 6 × 12\n",
       "\\begin{tabular}{llllllllllll}\n",
       " id\\_proveedor & numero\\_pasajeros & distancia\\_viaje & longitud\\_recogida & latitud\\_recogida & monto\\_total & id\\_codigo\\_tarifa & guardar\\_y\\_reenviar & hora\\_recogida & dia\\_semana & es\\_fin\\_semana & es\\_hora\\_pico\\\\\n",
       " <dbl> & <dbl> & <dbl> & <dbl> & <dbl> & <dbl> & <dbl> & <dbl> & <int> & <dbl> & <dbl> & <dbl>\\\\\n",
       "\\hline\n",
       "\t 1 & 1 & 0 &   0.00000 &  0.00000 & 4.30 & 1 & 1 & 19 & 5 & 0 & 1\\\\\n",
       "\t 2 & 1 & 0 & -73.87676 & 40.73646 & 4.94 & 1 & 0 &  2 & 1 & 0 & 0\\\\\n",
       "\t 1 & 1 & 0 & -73.78924 & 40.64523 & 3.30 & 1 & 0 & 16 & 6 & 1 & 0\\\\\n",
       "\t 1 & 1 & 0 & -73.96031 & 40.77393 & 6.80 & 1 & 0 &  0 & 1 & 0 & 0\\\\\n",
       "\t 1 & 1 & 0 & -73.86266 & 40.76907 & 3.80 & 1 & 0 &  0 & 3 & 0 & 0\\\\\n",
       "\t 1 & 1 & 0 & -73.98188 & 40.78033 & 6.30 & 1 & 0 & 19 & 3 & 0 & 1\\\\\n",
       "\\end{tabular}\n"
      ],
      "text/markdown": [
       "\n",
       "A tibble: 6 × 12\n",
       "\n",
       "| id_proveedor &lt;dbl&gt; | numero_pasajeros &lt;dbl&gt; | distancia_viaje &lt;dbl&gt; | longitud_recogida &lt;dbl&gt; | latitud_recogida &lt;dbl&gt; | monto_total &lt;dbl&gt; | id_codigo_tarifa &lt;dbl&gt; | guardar_y_reenviar &lt;dbl&gt; | hora_recogida &lt;int&gt; | dia_semana &lt;dbl&gt; | es_fin_semana &lt;dbl&gt; | es_hora_pico &lt;dbl&gt; |\n",
       "|---|---|---|---|---|---|---|---|---|---|---|---|\n",
       "| 1 | 1 | 0 |   0.00000 |  0.00000 | 4.30 | 1 | 1 | 19 | 5 | 0 | 1 |\n",
       "| 2 | 1 | 0 | -73.87676 | 40.73646 | 4.94 | 1 | 0 |  2 | 1 | 0 | 0 |\n",
       "| 1 | 1 | 0 | -73.78924 | 40.64523 | 3.30 | 1 | 0 | 16 | 6 | 1 | 0 |\n",
       "| 1 | 1 | 0 | -73.96031 | 40.77393 | 6.80 | 1 | 0 |  0 | 1 | 0 | 0 |\n",
       "| 1 | 1 | 0 | -73.86266 | 40.76907 | 3.80 | 1 | 0 |  0 | 3 | 0 | 0 |\n",
       "| 1 | 1 | 0 | -73.98188 | 40.78033 | 6.30 | 1 | 0 | 19 | 3 | 0 | 1 |\n",
       "\n"
      ],
      "text/plain": [
       "  id_proveedor numero_pasajeros distancia_viaje longitud_recogida\n",
       "1 1            1                0                 0.00000        \n",
       "2 2            1                0               -73.87676        \n",
       "3 1            1                0               -73.78924        \n",
       "4 1            1                0               -73.96031        \n",
       "5 1            1                0               -73.86266        \n",
       "6 1            1                0               -73.98188        \n",
       "  latitud_recogida monto_total id_codigo_tarifa guardar_y_reenviar\n",
       "1  0.00000         4.30        1                1                 \n",
       "2 40.73646         4.94        1                0                 \n",
       "3 40.64523         3.30        1                0                 \n",
       "4 40.77393         6.80        1                0                 \n",
       "5 40.76907         3.80        1                0                 \n",
       "6 40.78033         6.30        1                0                 \n",
       "  hora_recogida dia_semana es_fin_semana es_hora_pico\n",
       "1 19            5          0             1           \n",
       "2  2            1          0             0           \n",
       "3 16            6          1             0           \n",
       "4  0            1          0             0           \n",
       "5  0            3          0             0           \n",
       "6 19            3          0             1           "
      ]
     },
     "metadata": {},
     "output_type": "display_data"
    },
    {
     "data": {
      "text/html": [
       "6047"
      ],
      "text/latex": [
       "6047"
      ],
      "text/markdown": [
       "6047"
      ],
      "text/plain": [
       "[1] 6047"
      ]
     },
     "metadata": {},
     "output_type": "display_data"
    }
   ],
   "source": [
    "indicedistancia <- datos$distancia_viaje == 0\n",
    "min_distancia <- datos[indicedistancia, ]\n",
    "head(min_distancia)\n",
    "\n",
    "#contar cuantos viajes tienen distancia 0\n",
    "nrow(min_distancia)"
   ]
  },
  {
   "cell_type": "code",
   "execution_count": 34,
   "id": "d17e10da",
   "metadata": {
    "vscode": {
     "languageId": "r"
    }
   },
   "outputs": [
    {
     "data": {
      "text/html": [
       "<table class=\"dataframe\">\n",
       "<caption>A tibble: 5 × 12</caption>\n",
       "<thead>\n",
       "\t<tr><th scope=col>id_proveedor</th><th scope=col>numero_pasajeros</th><th scope=col>distancia_viaje</th><th scope=col>longitud_recogida</th><th scope=col>latitud_recogida</th><th scope=col>monto_total</th><th scope=col>id_codigo_tarifa</th><th scope=col>guardar_y_reenviar</th><th scope=col>hora_recogida</th><th scope=col>dia_semana</th><th scope=col>es_fin_semana</th><th scope=col>es_hora_pico</th></tr>\n",
       "\t<tr><th scope=col>&lt;dbl&gt;</th><th scope=col>&lt;dbl&gt;</th><th scope=col>&lt;dbl&gt;</th><th scope=col>&lt;dbl&gt;</th><th scope=col>&lt;dbl&gt;</th><th scope=col>&lt;dbl&gt;</th><th scope=col>&lt;dbl&gt;</th><th scope=col>&lt;dbl&gt;</th><th scope=col>&lt;int&gt;</th><th scope=col>&lt;dbl&gt;</th><th scope=col>&lt;dbl&gt;</th><th scope=col>&lt;dbl&gt;</th></tr>\n",
       "</thead>\n",
       "<tbody>\n",
       "\t<tr><td>2</td><td>8</td><td>0</td><td>-73.73424</td><td>40.61507</td><td>85.84</td><td>5</td><td>0</td><td>22</td><td>1</td><td>0</td><td>0</td></tr>\n",
       "\t<tr><td>2</td><td>9</td><td>0</td><td>-73.98877</td><td>40.74145</td><td>12.12</td><td>5</td><td>0</td><td> 9</td><td>6</td><td>1</td><td>1</td></tr>\n",
       "\t<tr><td>2</td><td>9</td><td>0</td><td>-73.96250</td><td>40.76746</td><td> 9.80</td><td>5</td><td>0</td><td>13</td><td>6</td><td>1</td><td>0</td></tr>\n",
       "\t<tr><td>2</td><td>9</td><td>0</td><td>-73.97086</td><td>40.75950</td><td>13.78</td><td>5</td><td>0</td><td> 4</td><td>7</td><td>1</td><td>0</td></tr>\n",
       "\t<tr><td>2</td><td>9</td><td>0</td><td>-73.98812</td><td>40.75458</td><td>11.52</td><td>5</td><td>0</td><td>22</td><td>2</td><td>0</td><td>0</td></tr>\n",
       "</tbody>\n",
       "</table>\n"
      ],
      "text/latex": [
       "A tibble: 5 × 12\n",
       "\\begin{tabular}{llllllllllll}\n",
       " id\\_proveedor & numero\\_pasajeros & distancia\\_viaje & longitud\\_recogida & latitud\\_recogida & monto\\_total & id\\_codigo\\_tarifa & guardar\\_y\\_reenviar & hora\\_recogida & dia\\_semana & es\\_fin\\_semana & es\\_hora\\_pico\\\\\n",
       " <dbl> & <dbl> & <dbl> & <dbl> & <dbl> & <dbl> & <dbl> & <dbl> & <int> & <dbl> & <dbl> & <dbl>\\\\\n",
       "\\hline\n",
       "\t 2 & 8 & 0 & -73.73424 & 40.61507 & 85.84 & 5 & 0 & 22 & 1 & 0 & 0\\\\\n",
       "\t 2 & 9 & 0 & -73.98877 & 40.74145 & 12.12 & 5 & 0 &  9 & 6 & 1 & 1\\\\\n",
       "\t 2 & 9 & 0 & -73.96250 & 40.76746 &  9.80 & 5 & 0 & 13 & 6 & 1 & 0\\\\\n",
       "\t 2 & 9 & 0 & -73.97086 & 40.75950 & 13.78 & 5 & 0 &  4 & 7 & 1 & 0\\\\\n",
       "\t 2 & 9 & 0 & -73.98812 & 40.75458 & 11.52 & 5 & 0 & 22 & 2 & 0 & 0\\\\\n",
       "\\end{tabular}\n"
      ],
      "text/markdown": [
       "\n",
       "A tibble: 5 × 12\n",
       "\n",
       "| id_proveedor &lt;dbl&gt; | numero_pasajeros &lt;dbl&gt; | distancia_viaje &lt;dbl&gt; | longitud_recogida &lt;dbl&gt; | latitud_recogida &lt;dbl&gt; | monto_total &lt;dbl&gt; | id_codigo_tarifa &lt;dbl&gt; | guardar_y_reenviar &lt;dbl&gt; | hora_recogida &lt;int&gt; | dia_semana &lt;dbl&gt; | es_fin_semana &lt;dbl&gt; | es_hora_pico &lt;dbl&gt; |\n",
       "|---|---|---|---|---|---|---|---|---|---|---|---|\n",
       "| 2 | 8 | 0 | -73.73424 | 40.61507 | 85.84 | 5 | 0 | 22 | 1 | 0 | 0 |\n",
       "| 2 | 9 | 0 | -73.98877 | 40.74145 | 12.12 | 5 | 0 |  9 | 6 | 1 | 1 |\n",
       "| 2 | 9 | 0 | -73.96250 | 40.76746 |  9.80 | 5 | 0 | 13 | 6 | 1 | 0 |\n",
       "| 2 | 9 | 0 | -73.97086 | 40.75950 | 13.78 | 5 | 0 |  4 | 7 | 1 | 0 |\n",
       "| 2 | 9 | 0 | -73.98812 | 40.75458 | 11.52 | 5 | 0 | 22 | 2 | 0 | 0 |\n",
       "\n"
      ],
      "text/plain": [
       "  id_proveedor numero_pasajeros distancia_viaje longitud_recogida\n",
       "1 2            8                0               -73.73424        \n",
       "2 2            9                0               -73.98877        \n",
       "3 2            9                0               -73.96250        \n",
       "4 2            9                0               -73.97086        \n",
       "5 2            9                0               -73.98812        \n",
       "  latitud_recogida monto_total id_codigo_tarifa guardar_y_reenviar\n",
       "1 40.61507         85.84       5                0                 \n",
       "2 40.74145         12.12       5                0                 \n",
       "3 40.76746          9.80       5                0                 \n",
       "4 40.75950         13.78       5                0                 \n",
       "5 40.75458         11.52       5                0                 \n",
       "  hora_recogida dia_semana es_fin_semana es_hora_pico\n",
       "1 22            1          0             0           \n",
       "2  9            6          1             1           \n",
       "3 13            6          1             0           \n",
       "4  4            7          1             0           \n",
       "5 22            2          0             0           "
      ]
     },
     "metadata": {},
     "output_type": "display_data"
    },
    {
     "data": {
      "text/html": [
       "5"
      ],
      "text/latex": [
       "5"
      ],
      "text/markdown": [
       "5"
      ],
      "text/plain": [
       "[1] 5"
      ]
     },
     "metadata": {},
     "output_type": "display_data"
    }
   ],
   "source": [
    "indicepasajeros <- datos$numero_pasajeros > 6\n",
    "maxpasajeros <- datos[indicepasajeros, ]\n",
    "maxpasajeros\n",
    "nrow(maxpasajeros)"
   ]
  },
  {
   "cell_type": "code",
   "execution_count": 35,
   "id": "28888c02",
   "metadata": {
    "vscode": {
     "languageId": "r"
    }
   },
   "outputs": [
    {
     "data": {
      "text/html": [
       "<table class=\"dataframe\">\n",
       "<caption>A tibble: 6 × 12</caption>\n",
       "<thead>\n",
       "\t<tr><th scope=col>id_proveedor</th><th scope=col>numero_pasajeros</th><th scope=col>distancia_viaje</th><th scope=col>longitud_recogida</th><th scope=col>latitud_recogida</th><th scope=col>monto_total</th><th scope=col>id_codigo_tarifa</th><th scope=col>guardar_y_reenviar</th><th scope=col>hora_recogida</th><th scope=col>dia_semana</th><th scope=col>es_fin_semana</th><th scope=col>es_hora_pico</th></tr>\n",
       "\t<tr><th scope=col>&lt;dbl&gt;</th><th scope=col>&lt;dbl&gt;</th><th scope=col>&lt;dbl&gt;</th><th scope=col>&lt;dbl&gt;</th><th scope=col>&lt;dbl&gt;</th><th scope=col>&lt;dbl&gt;</th><th scope=col>&lt;dbl&gt;</th><th scope=col>&lt;dbl&gt;</th><th scope=col>&lt;int&gt;</th><th scope=col>&lt;dbl&gt;</th><th scope=col>&lt;dbl&gt;</th><th scope=col>&lt;dbl&gt;</th></tr>\n",
       "</thead>\n",
       "<tbody>\n",
       "\t<tr><td>1</td><td>1</td><td> 0.0</td><td>  0.00000</td><td> 0.00000</td><td>57.83</td><td>99</td><td>0</td><td> 9</td><td>4</td><td>0</td><td>1</td></tr>\n",
       "\t<tr><td>1</td><td>1</td><td>11.8</td><td>-73.97731</td><td>40.72628</td><td> 0.30</td><td>99</td><td>0</td><td>20</td><td>4</td><td>0</td><td>1</td></tr>\n",
       "\t<tr><td>1</td><td>1</td><td> 0.0</td><td>  0.00000</td><td> 0.00000</td><td>20.00</td><td>99</td><td>0</td><td> 3</td><td>7</td><td>1</td><td>0</td></tr>\n",
       "\t<tr><td>1</td><td>1</td><td> 0.0</td><td>-73.78288</td><td>40.64448</td><td>20.30</td><td>99</td><td>0</td><td>14</td><td>4</td><td>0</td><td>0</td></tr>\n",
       "\t<tr><td>1</td><td>2</td><td> 4.6</td><td>-74.00277</td><td>40.74985</td><td>17.80</td><td>99</td><td>1</td><td> 2</td><td>4</td><td>0</td><td>0</td></tr>\n",
       "\t<tr><td>1</td><td>1</td><td>19.5</td><td>-74.00895</td><td>40.71578</td><td>58.34</td><td>99</td><td>0</td><td>14</td><td>6</td><td>1</td><td>0</td></tr>\n",
       "</tbody>\n",
       "</table>\n"
      ],
      "text/latex": [
       "A tibble: 6 × 12\n",
       "\\begin{tabular}{llllllllllll}\n",
       " id\\_proveedor & numero\\_pasajeros & distancia\\_viaje & longitud\\_recogida & latitud\\_recogida & monto\\_total & id\\_codigo\\_tarifa & guardar\\_y\\_reenviar & hora\\_recogida & dia\\_semana & es\\_fin\\_semana & es\\_hora\\_pico\\\\\n",
       " <dbl> & <dbl> & <dbl> & <dbl> & <dbl> & <dbl> & <dbl> & <dbl> & <int> & <dbl> & <dbl> & <dbl>\\\\\n",
       "\\hline\n",
       "\t 1 & 1 &  0.0 &   0.00000 &  0.00000 & 57.83 & 99 & 0 &  9 & 4 & 0 & 1\\\\\n",
       "\t 1 & 1 & 11.8 & -73.97731 & 40.72628 &  0.30 & 99 & 0 & 20 & 4 & 0 & 1\\\\\n",
       "\t 1 & 1 &  0.0 &   0.00000 &  0.00000 & 20.00 & 99 & 0 &  3 & 7 & 1 & 0\\\\\n",
       "\t 1 & 1 &  0.0 & -73.78288 & 40.64448 & 20.30 & 99 & 0 & 14 & 4 & 0 & 0\\\\\n",
       "\t 1 & 2 &  4.6 & -74.00277 & 40.74985 & 17.80 & 99 & 1 &  2 & 4 & 0 & 0\\\\\n",
       "\t 1 & 1 & 19.5 & -74.00895 & 40.71578 & 58.34 & 99 & 0 & 14 & 6 & 1 & 0\\\\\n",
       "\\end{tabular}\n"
      ],
      "text/markdown": [
       "\n",
       "A tibble: 6 × 12\n",
       "\n",
       "| id_proveedor &lt;dbl&gt; | numero_pasajeros &lt;dbl&gt; | distancia_viaje &lt;dbl&gt; | longitud_recogida &lt;dbl&gt; | latitud_recogida &lt;dbl&gt; | monto_total &lt;dbl&gt; | id_codigo_tarifa &lt;dbl&gt; | guardar_y_reenviar &lt;dbl&gt; | hora_recogida &lt;int&gt; | dia_semana &lt;dbl&gt; | es_fin_semana &lt;dbl&gt; | es_hora_pico &lt;dbl&gt; |\n",
       "|---|---|---|---|---|---|---|---|---|---|---|---|\n",
       "| 1 | 1 |  0.0 |   0.00000 |  0.00000 | 57.83 | 99 | 0 |  9 | 4 | 0 | 1 |\n",
       "| 1 | 1 | 11.8 | -73.97731 | 40.72628 |  0.30 | 99 | 0 | 20 | 4 | 0 | 1 |\n",
       "| 1 | 1 |  0.0 |   0.00000 |  0.00000 | 20.00 | 99 | 0 |  3 | 7 | 1 | 0 |\n",
       "| 1 | 1 |  0.0 | -73.78288 | 40.64448 | 20.30 | 99 | 0 | 14 | 4 | 0 | 0 |\n",
       "| 1 | 2 |  4.6 | -74.00277 | 40.74985 | 17.80 | 99 | 1 |  2 | 4 | 0 | 0 |\n",
       "| 1 | 1 | 19.5 | -74.00895 | 40.71578 | 58.34 | 99 | 0 | 14 | 6 | 1 | 0 |\n",
       "\n"
      ],
      "text/plain": [
       "  id_proveedor numero_pasajeros distancia_viaje longitud_recogida\n",
       "1 1            1                 0.0              0.00000        \n",
       "2 1            1                11.8            -73.97731        \n",
       "3 1            1                 0.0              0.00000        \n",
       "4 1            1                 0.0            -73.78288        \n",
       "5 1            2                 4.6            -74.00277        \n",
       "6 1            1                19.5            -74.00895        \n",
       "  latitud_recogida monto_total id_codigo_tarifa guardar_y_reenviar\n",
       "1  0.00000         57.83       99               0                 \n",
       "2 40.72628          0.30       99               0                 \n",
       "3  0.00000         20.00       99               0                 \n",
       "4 40.64448         20.30       99               0                 \n",
       "5 40.74985         17.80       99               1                 \n",
       "6 40.71578         58.34       99               0                 \n",
       "  hora_recogida dia_semana es_fin_semana es_hora_pico\n",
       "1  9            4          0             1           \n",
       "2 20            4          0             1           \n",
       "3  3            7          1             0           \n",
       "4 14            4          0             0           \n",
       "5  2            4          0             0           \n",
       "6 14            6          1             0           "
      ]
     },
     "metadata": {},
     "output_type": "display_data"
    },
    {
     "data": {
      "text/html": [
       "32"
      ],
      "text/latex": [
       "32"
      ],
      "text/markdown": [
       "32"
      ],
      "text/plain": [
       "[1] 32"
      ]
     },
     "metadata": {},
     "output_type": "display_data"
    }
   ],
   "source": [
    "indietarifa <- datos$id_codigo_tarifa > 6\n",
    "maxtarifa <- datos[indietarifa, ]\n",
    "head(maxtarifa)\n",
    "nrow(maxtarifa)"
   ]
  },
  {
   "cell_type": "markdown",
   "id": "9f878d12",
   "metadata": {},
   "source": [
    "<div style=\"display:flex; align-items:flex-start; gap:14px; background:linear-gradient(90deg,#1e3a8a,#3b82f6); padding:20px; border-radius:12px; box-shadow:0 8px 20px rgba(30,58,138,0.25); color:#fff; max-width:fit-content; width:min(900px,100%); margin:16px auto; box-sizing:border-box;\">\n",
    "  <div style=\"width:40px; height:40px; display:flex; align-items:center; justify-content:center; background:rgba(255,255,255,0.1); border-radius:8px; font-size:1.8rem; line-height:1;\" aria-hidden=\"true\">📊</div>\n",
    "  <div>\n",
    "    <div style=\"font-weight:900; font-size:1.8rem; letter-spacing:0.5px;\">Borrar outliers manualmente</div>\n",
    "    <div style=\"opacity:0.9; font-size:0.95rem; margin-top:6px;\">\n",
    "      Eliminar outliers que harán que el modelo no funcione correctamente.\n",
    "    </div>\n",
    "  </div>\n",
    "</div>"
   ]
  },
  {
   "cell_type": "code",
   "execution_count": 36,
   "id": "61cd17ef",
   "metadata": {
    "vscode": {
     "languageId": "r"
    }
   },
   "outputs": [],
   "source": [
    "datos_sin_outliers <- datos"
   ]
  },
  {
   "cell_type": "code",
   "execution_count": 37,
   "id": "9373d6b2",
   "metadata": {
    "vscode": {
     "languageId": "r"
    }
   },
   "outputs": [
    {
     "name": "stdout",
     "output_type": "stream",
     "text": [
      "Registros eliminados con monto_total > 500: 12 \n"
     ]
    },
    {
     "data": {
      "text/html": [
       "0"
      ],
      "text/latex": [
       "0"
      ],
      "text/markdown": [
       "0"
      ],
      "text/plain": [
       "[1] 0"
      ]
     },
     "metadata": {},
     "output_type": "display_data"
    }
   ],
   "source": [
    "# Eliminar registros con monto_total mayor a 500\n",
    "datos_sin_outliers <- datos_sin_outliers %>% filter(monto_total <= 500)\n",
    "\n",
    "cat(\"Registros eliminados con monto_total > 500:\", nrow(maxmontototal), \"\\n\")\n",
    "\n",
    "indicemontototal <- datos_sin_outliers$monto_total > 500\n",
    "maxmontototal <- datos_sin_outliers[indicemontototal, ]\n",
    "nrow(maxmontototal)"
   ]
  },
  {
   "cell_type": "code",
   "execution_count": 38,
   "id": "a16f2de3",
   "metadata": {
    "vscode": {
     "languageId": "r"
    }
   },
   "outputs": [
    {
     "name": "stdout",
     "output_type": "stream",
     "text": [
      "Registros eliminados con monto_total <= 0: 452 \n"
     ]
    },
    {
     "data": {
      "text/html": [
       "0"
      ],
      "text/latex": [
       "0"
      ],
      "text/markdown": [
       "0"
      ],
      "text/plain": [
       "[1] 0"
      ]
     },
     "metadata": {},
     "output_type": "display_data"
    }
   ],
   "source": [
    "# Eliminar registros con monto_total menor o igual a 0\n",
    "datos_sin_outliers <- datos_sin_outliers %>% filter(monto_total > 0)\n",
    "\n",
    "cat(\"Registros eliminados con monto_total <= 0:\", nrow(minmontototal), \"\\n\")\n",
    "\n",
    "indicemontototal1 <- datos_sin_outliers$monto_total <= 0\n",
    "minmontototal <- datos_sin_outliers[indicemontototal1, ]\n",
    "nrow(minmontototal)"
   ]
  },
  {
   "cell_type": "code",
   "execution_count": 39,
   "id": "5c9897fc",
   "metadata": {
    "vscode": {
     "languageId": "r"
    }
   },
   "outputs": [
    {
     "name": "stdout",
     "output_type": "stream",
     "text": [
      "Registros eliminados con distancia_viaje > 150: 7 \n"
     ]
    },
    {
     "data": {
      "text/html": [
       "0"
      ],
      "text/latex": [
       "0"
      ],
      "text/markdown": [
       "0"
      ],
      "text/plain": [
       "[1] 0"
      ]
     },
     "metadata": {},
     "output_type": "display_data"
    }
   ],
   "source": [
    "# Eliminar registros con distancia_viaje mayor a 150\n",
    "datos_sin_outliers <- datos_sin_outliers %>% filter(distancia_viaje <= 150)\n",
    "\n",
    "cat(\"Registros eliminados con distancia_viaje > 150:\", nrow(maxdistancia), \"\\n\")\n",
    "\n",
    "# Verificar que no quedan registros con distancia > 150\n",
    "indicedistancia <- datos_sin_outliers$distancia_viaje > 150\n",
    "maxdistancia <- datos_sin_outliers[indicedistancia, ]\n",
    "\n",
    "nrow(maxdistancia)"
   ]
  },
  {
   "cell_type": "code",
   "execution_count": 40,
   "id": "873b262b",
   "metadata": {
    "vscode": {
     "languageId": "r"
    }
   },
   "outputs": [
    {
     "name": "stdout",
     "output_type": "stream",
     "text": [
      "Registros eliminados con distancia_viaje == 0: 6047 \n"
     ]
    },
    {
     "data": {
      "text/html": [
       "0"
      ],
      "text/latex": [
       "0"
      ],
      "text/markdown": [
       "0"
      ],
      "text/plain": [
       "[1] 0"
      ]
     },
     "metadata": {},
     "output_type": "display_data"
    }
   ],
   "source": [
    "# Eliminar registros con distancia_viaje igual a 0\n",
    "datos_sin_outliers <- datos_sin_outliers %>% filter(distancia_viaje > 0)\n",
    "\n",
    "cat(\"Registros eliminados con distancia_viaje == 0:\", nrow(min_distancia), \"\\n\")\n",
    "\n",
    "# Verificar que no quedan registros con distancia == 0\n",
    "indicedistancia <- datos_sin_outliers$distancia_viaje == 0\n",
    "min_distancia <- datos_sin_outliers[indicedistancia, ]\n",
    "\n",
    "nrow(min_distancia)"
   ]
  },
  {
   "cell_type": "code",
   "execution_count": 41,
   "id": "ec9abdeb",
   "metadata": {
    "vscode": {
     "languageId": "r"
    }
   },
   "outputs": [
    {
     "name": "stdout",
     "output_type": "stream",
     "text": [
      "Registros eliminados con numero_pasajeros > 6: 5 \n"
     ]
    },
    {
     "data": {
      "text/html": [
       "0"
      ],
      "text/latex": [
       "0"
      ],
      "text/markdown": [
       "0"
      ],
      "text/plain": [
       "[1] 0"
      ]
     },
     "metadata": {},
     "output_type": "display_data"
    }
   ],
   "source": [
    "# Eliminar registros con numero_pasajeros mayor a 6\n",
    "datos_sin_outliers <- datos_sin_outliers %>% filter(numero_pasajeros <= 6)\n",
    "\n",
    "cat(\"Registros eliminados con numero_pasajeros > 6:\", nrow(maxpasajeros), \"\\n\")\n",
    "\n",
    "# Verificar que no quedan registros con numero_pasajeros > 6\n",
    "indicepasajeros <- datos_sin_outliers$numero_pasajeros > 6\n",
    "maxpasajeros <- datos_sin_outliers[indicepasajeros, ]\n",
    "\n",
    "nrow(maxpasajeros)"
   ]
  },
  {
   "cell_type": "code",
   "execution_count": 42,
   "id": "45ca5719",
   "metadata": {
    "vscode": {
     "languageId": "r"
    }
   },
   "outputs": [
    {
     "name": "stdout",
     "output_type": "stream",
     "text": [
      "Registros eliminados con id_codigo_tarifa > 6: 32 \n"
     ]
    },
    {
     "data": {
      "text/html": [
       "0"
      ],
      "text/latex": [
       "0"
      ],
      "text/markdown": [
       "0"
      ],
      "text/plain": [
       "[1] 0"
      ]
     },
     "metadata": {},
     "output_type": "display_data"
    }
   ],
   "source": [
    "# Eliminar registros con id_codigo_tarifa mayor a 6\n",
    "datos_sin_outliers <- datos_sin_outliers %>% filter(id_codigo_tarifa <= 6)\n",
    "\n",
    "cat(\"Registros eliminados con id_codigo_tarifa > 6:\", nrow(maxtarifa), \"\\n\")\n",
    "\n",
    "# Verificar que no quedan registros con id_codigo_tarifa > 6\n",
    "indietarifa <- datos_sin_outliers$id_codigo_tarifa > 6\n",
    "maxtarifa <- datos_sin_outliers[indietarifa, ]\n",
    "\n",
    "nrow(maxtarifa)"
   ]
  },
  {
   "cell_type": "code",
   "execution_count": 43,
   "id": "2ed8a682",
   "metadata": {
    "vscode": {
     "languageId": "r"
    }
   },
   "outputs": [
    {
     "data": {
      "image/png": "[encoded data removed]",
      "text/plain": [
       "Plot with title \"Después de eliminar outliers\""
      ]
     },
     "metadata": {
      "image/png": {
       "height": 420,
       "width": 420
      }
     },
     "output_type": "display_data"
    }
   ],
   "source": [
    "## Comparar boxplot ANTES y DESPUÉS de eliminar outliers\n",
    "par(mfrow=c(1,2))\n",
    "boxplot(datos$monto_total, main=\"Antes de eliminar outliers\", ylab=\"Monto Total\")\n",
    "boxplot(datos_sin_outliers$monto_total, main=\"Después de eliminar outliers\", ylab=\"Monto Total\")"
   ]
  },
  {
   "cell_type": "code",
   "execution_count": 44,
   "id": "727673ae",
   "metadata": {
    "vscode": {
     "languageId": "r"
    }
   },
   "outputs": [
    {
     "data": {
      "image/png": "[encoded data removed]",
      "text/plain": [
       "Plot with title \"\""
      ]
     },
     "metadata": {
      "image/png": {
       "height": 420,
       "width": 420
      }
     },
     "output_type": "display_data"
    }
   ],
   "source": [
    "numeric_data <- select(datos, where(is.numeric))\n",
    "matriz_corr <- cor(numeric_data, method = \"pearson\")\n",
    "\n",
    "corrplot::corrplot(matriz_corr,\n",
    "                   method = \"color\",\n",
    "                   type = \"upper\",\n",
    "                   order = \"hclust\",\n",
    "                   tl.col = \"black\",\n",
    "                   tl.cex = 0.7,\n",
    "                   addCoef.col = \"black\",\n",
    "                   number.cex = 0.6)"
   ]
  },
  {
   "cell_type": "code",
   "execution_count": 45,
   "id": "b83b3174",
   "metadata": {
    "vscode": {
     "languageId": "r"
    }
   },
   "outputs": [
    {
     "data": {
      "text/plain": [
       "\n",
       "Call:\n",
       "lm(formula = monto_total ~ longitud_recogida + latitud_recogida + \n",
       "    distancia_viaje + numero_pasajeros + hora_recogida + es_fin_semana + \n",
       "    dia_semana + es_hora_pico + id_codigo_tarifa + id_proveedor + \n",
       "    guardar_y_reenviar, data = datos_sin_outliers)\n",
       "\n",
       "Residuals:\n",
       "     Min       1Q   Median       3Q      Max \n",
       "-310.562   -1.783   -0.521    1.197  259.701 \n",
       "\n",
       "Coefficients:\n",
       "                     Estimate Std. Error  t value Pr(>|t|)    \n",
       "(Intercept)        -1.4972355  0.0428017  -34.981  < 2e-16 ***\n",
       "longitud_recogida   0.3489109  0.0374845    9.308  < 2e-16 ***\n",
       "latitud_recogida    0.6290389  0.0680449    9.244  < 2e-16 ***\n",
       "distancia_viaje     3.1207801  0.0013451 2320.122  < 2e-16 ***\n",
       "numero_pasajeros   -0.0033410  0.0032493   -1.028  0.30384    \n",
       "hora_recogida       0.0353238  0.0006506   54.296  < 2e-16 ***\n",
       "es_fin_semana      -1.1095224  0.0144177  -76.956  < 2e-16 ***\n",
       "dia_semana          0.0679829  0.0033837   20.091  < 2e-16 ***\n",
       "es_hora_pico        0.3621659  0.0084447   42.887  < 2e-16 ***\n",
       "id_codigo_tarifa    7.3807437  0.0207464  355.761  < 2e-16 ***\n",
       "id_proveedor       -0.0571894  0.0086649   -6.600 4.11e-11 ***\n",
       "guardar_y_reenviar -0.1538998  0.0513886   -2.995  0.00275 ** \n",
       "---\n",
       "Signif. codes:  0 '***' 0.001 '**' 0.01 '*' 0.05 '.' 0.1 ' ' 1\n",
       "\n",
       "Residual standard error: 4.096 on 993637 degrees of freedom\n",
       "Multiple R-squared:  0.8945,\tAdjusted R-squared:  0.8945 \n",
       "F-statistic: 7.66e+05 on 11 and 993637 DF,  p-value: < 2.2e-16\n"
      ]
     },
     "metadata": {},
     "output_type": "display_data"
    }
   ],
   "source": [
    "modelo <- lm(monto_total ~ longitud_recogida + latitud_recogida + distancia_viaje + numero_pasajeros + hora_recogida + es_fin_semana + dia_semana + es_hora_pico + id_codigo_tarifa + id_proveedor + guardar_y_reenviar, data = datos_sin_outliers)\n",
    "summary(modelo)"
   ]
  },
  {
   "cell_type": "markdown",
   "id": "fd8e56e7",
   "metadata": {},
   "source": [
    "## Interpretación del modelo de regresión lineal\n",
    "\n",
    "### Modelo construido:\n",
    "\n",
    "```r\n",
    "modelo <- lm(monto_total ~ longitud_recogida + latitud_recogida + distancia_viaje + numero_pasajeros + hora_recogida + es_fin_semana + dia_semana + es_hora_pico + id_codigo_tarifa + id_proveedor + guardar_y_reenviar, data = datos_sin_outliers)\n",
    "```\n",
    "\n",
    "---\n",
    "\n",
    "## 📊 Resultados del Modelo\n",
    "\n",
    "### 1. **Residuals** (Residuos)\n",
    "```\n",
    "Min      1Q    Median    3Q      Max\n",
    "-310.667 -1.784 -0.523   1.196   259.442\n",
    "```\n",
    "\n",
    "✅ **Interpretación:** \n",
    "- La **mediana (-0.523)** está muy cerca de 0, lo que indica que el modelo no tiene sesgo sistemático.\n",
    "- El 50% de los errores están entre **-$1.78 y $1.20**, lo cual es excelente para predicciones de tarifas.\n",
    "- Existen algunos valores extremos (Min: -$310.67, Max: $259.44), pero son casos raros.\n",
    "\n",
    "---\n",
    "\n",
    "### 2. **Coefficients** (Coeficientes) - Interpretación Detallada\n",
    "\n",
    "| Variable | Coeficiente (β) | Std. Error | t value | P-valor | Significancia | Interpretación Práctica |\n",
    "|----------|-----------------|------------|---------|---------|---------------|-------------------------|\n",
    "| **(Intercept)** | **-1.449** | 0.026 | -56.09 | < 2e-16 | *** | Tarifa base teórica cuando todas las variables = 0 |\n",
    "| **distancia_viaje** | **+3.121** | 0.001 | 2322.20 | < 2e-16 | *** | 🚕 Por cada **kilómetro adicional**, la tarifa aumenta **$3.12** |\n",
    "| **numero_pasajeros** | **-0.003** | 0.003 | -0.92 | 0.358 | NO | ❌ **No significativo** - El número de pasajeros NO afecta la tarifa |\n",
    "| **hora_recogida** | **+0.035** | 0.001 | 54.18 | < 2e-16 | *** | ⏰ Por cada **hora más tarde**, la tarifa aumenta **$0.04** (ej: 15:00 vs 14:00) |\n",
    "| **es_fin_semana** | **-0.887** | 0.009 | -96.95 | < 2e-16 | *** | 📅 Los viajes en **fin de semana** cuestan **$0.89 menos** que entre semana |\n",
    "| **es_hora_pico** | **+0.360** | 0.008 | 42.63 | < 2e-16 | *** | 🚦 Los viajes en **hora pico** cuestan **$0.36 más** |\n",
    "| **id_codigo_tarifa** | **+7.378** | 0.021 | 355.61 | < 2e-16 | *** | 💰 Cambiar el **tipo de tarifa** (ej: aeropuerto) aumenta **$7.38** por unidad |\n",
    "| **id_proveedor** | **-0.060** | 0.009 | -6.96 | 3.5e-12 | *** | 🚖 El **proveedor 2** cobra **$0.06 menos** que el proveedor 1 |\n",
    "| **guardar_y_reenviar** | **-0.154** | 0.051 | -2.99 | 0.003 | ** | 📡 Viajes con \"store & forward\" cuestan **$0.15 menos** |\n",
    "\n",
    "---\n",
    "\n",
    "### 3. **Códigos de Significancia**\n",
    "\n",
    "- `***` → **p < 0.001** (altamente significativo) → 7 variables\n",
    "- `**`  → **p < 0.01** (muy significativo) → 1 variable (guardar_y_reenviar)\n",
    "- `*`   → **p < 0.05** (significativo) → 0 variables\n",
    "- ` `   → **p ≥ 0.1** (NO significativo) → 1 variable (numero_pasajeros)\n",
    "\n",
    "**Conclusión:** Solo `numero_pasajeros` NO es significativo. El resto de variables SÍ explican la variación en `monto_total`.\n",
    "\n",
    "---\n",
    "\n",
    "### 4. **Residual Standard Error (RSE)**\n",
    "\n",
    "**RSE = 4.097 dólares**\n",
    "\n",
    "✅ **Interpretación:** En promedio, las predicciones del modelo se desvían **±$4.10** del valor real. \n",
    "\n",
    "Para tarifas promedio de ~$15-20, este error es razonable (error relativo del 20-27%).\n",
    "\n",
    "---\n",
    "\n",
    "### 5. **R² y Adjusted R²**\n",
    "\n",
    "- **R² = 0.8945** → El modelo explica el **89.45%** de la variabilidad en las tarifas.\n",
    "- **Adjusted R² = 0.8945** → Prácticamente igual al R², lo que confirma que **NO hay sobreajuste**.\n",
    "\n",
    "✅ **Interpretación:** ¡Excelente modelo! Explica casi el **90% de la variación** en las tarifas de taxi.\n",
    "\n",
    "---\n",
    "\n",
    "### 6. **F-statistic**\n",
    "\n",
    "**F = 1.053e+06, p-value < 2.2e-16**\n",
    "\n",
    "✅ **Interpretación:** El modelo completo es **estadísticamente significativo**. Al menos una variable (de hecho, casi todas) es útil para predecir `monto_total`.\n",
    "\n",
    "---\n",
    "\n",
    "## 🎯 Conclusiones Clave del Modelo\n",
    "\n",
    "### Variables MÁS importantes (mayor impacto):\n",
    "\n",
    "1. **🥇 id_codigo_tarifa** (+$7.38 por unidad) → Tarifa aeropuerto/negociada\n",
    "2. **🥈 distancia_viaje** (+$3.12 por km) → Factor principal\n",
    "3. **🥉 es_fin_semana** (-$0.89) → Menos demanda los fines de semana\n",
    "\n",
    "### Variables con impacto menor pero significativo:\n",
    "\n",
    "4. **es_hora_pico** (+$0.36) → Recargos en horas pico\n",
    "5. **guardar_y_reenviar** (-$0.15) → Viajes con problemas de conexión\n",
    "6. **hora_recogida** (+$0.04/hora) → Leve aumento a lo largo del día\n",
    "7. **id_proveedor** (-$0.06) → Diferencia mínima entre proveedores\n",
    "\n",
    "### Variable NO significativa:\n",
    "\n",
    "❌ **numero_pasajeros** → No afecta el cálculo de tarifa (las tarifas se basan en distancia, no en pasajeros)\n",
    "\n",
    "---\n",
    "\n",
    "## ✅ Calidad del Modelo\n",
    "\n",
    "| Métrica | Valor | Evaluación |\n",
    "|---------|-------|------------|\n",
    "| **R²** | 0.8945 | ⭐⭐⭐⭐⭐ Excelente |\n",
    "| **RSE** | $4.10 | ⭐⭐⭐⭐ Bueno (error moderado) |\n",
    "| **F-statistic** | p < 2.2e-16 | ⭐⭐⭐⭐⭐ Altamente significativo |\n",
    "| **Variables significativas** | 7 de 8 | ⭐⭐⭐⭐⭐ Muy bueno |\n",
    "\n",
    "---\n",
    "\n",
    "## 📝 Ejemplo Práctico de Predicción\n",
    "\n",
    "**Viaje hipotético:**\n",
    "- Distancia: 5 km\n",
    "- Pasajeros: 2 (no importa, no es significativo)\n",
    "- Hora: 18:00 (hora_recogida = 18)\n",
    "- Fin de semana: No (es_fin_semana = 0)\n",
    "- Hora pico: Sí (es_hora_pico = 1)\n",
    "- Código tarifa: 1 (estándar)\n",
    "- Proveedor: 2 (id_proveedor = 2)\n",
    "- Store & forward: No (guardar_y_reenviar = 0)\n",
    "\n",
    "**Cálculo:**\n",
    "```\n",
    "monto_total = -1.449 + (3.121 × 5) + (-0.003 × 2) + (0.035 × 18) + \n",
    "              (-0.887 × 0) + (0.360 × 1) + (7.378 × 1) + \n",
    "              (-0.060 × 2) + (-0.154 × 0)\n",
    "            \n",
    "            = -1.449 + 15.605 - 0.006 + 0.630 + 0 + 0.360 + 7.378 - 0.120 + 0\n",
    "            = $22.40 (aproximadamente)\n",
    "```"
   ]
  }
 ],
 "metadata": {
  "kernelspec": {
   "display_name": "R",
   "language": "R",
   "name": "ir"
  },
  "language_info": {
   "codemirror_mode": "r",
   "file_extension": ".r",
   "mimetype": "text/x-r-source",
   "name": "R",
   "pygments_lexer": "r",
   "version": "4.5.1"
  }
 },
 "nbformat": 4,
 "nbformat_minor": 5
}
