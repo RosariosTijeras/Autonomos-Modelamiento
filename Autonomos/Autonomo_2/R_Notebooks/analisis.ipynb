{
 "cells": [
  {
   "cell_type": "markdown",
   "id": "92cde569",
   "metadata": {},
   "source": [
    "# Universidad Nacional de Chimborazo\n",
    "\n",
    "**Facultad:** Facultad de Ingeniería  \n",
    "**Carrera:** Ciencia de Datos e IA  \n",
    "**Materia:** Modelamiento  \n",
    "**Docente:** Estalin Mejia H.  \n",
    "**Semestre:** Tercero\n",
    "\n",
    "---\n",
    "\n",
    "## Trabajo Autónomo 2\n",
    "\n",
    "### Análisis de Regresión Lineal Múltiple: Crímenes de Chicago\n",
    "\n",
    "**Autores:**  \n",
    "- Alisson Atupaña\n",
    "- Mario Camacho\n",
    "- Lenin Lopez\n",
    "\n",
    "**Fecha:** 24 de octubre de 2025\n",
    "\n",
    "**Riobamba - Ecuador**"
   ]
  },
  {
   "cell_type": "markdown",
   "id": "ba604169",
   "metadata": {},
   "source": [
    "## 1. Introducción\n",
    "\n",
    "### Objetivo del Análisis\n",
    "\n",
    "Realizar un modelo de **regresión lineal múltiple** para predecir la **tasa de arrestos** por distrito en Chicago, utilizando variables como tipo de crimen, ubicación, y factores temporales.\n",
    "\n",
    "### ¿Qué es Regresión Lineal Múltiple?\n",
    "\n",
    "Es una técnica que modela la relación entre:\n",
    "- **Una variable dependiente** (Y): numérica continua\n",
    "- **Múltiples variables independientes** (X₁, X₂, ..., Xₙ): predictores\n",
    "\n",
    "**Ecuación:**\n",
    "\n",
    "$$Y = \\beta_0 + \\beta_1X_1 + \\beta_2X_2 + ... + \\beta_nX_n + \\epsilon$$\n",
    "\n",
    "### Dataset: Chicago Crimes (2001-Presente)\n",
    "\n",
    "- **Fuente:** [Chicago Data Portal](https://data.cityofchicago.org/)\n",
    "- **Tamaño:** 8+ millones de registros\n",
    "- **Muestra:** 1,000,000 registros aleatorios\n",
    "\n",
    "### Variable Dependiente (Y)\n",
    "\n",
    "**Tasa de Arrestos por Distrito:** Porcentaje de crímenes que resultaron en arresto, agregado por distrito.\n",
    "\n",
    "### Variables Independientes (X)\n",
    "\n",
    "1. **Promedio de crímenes domésticos** por distrito\n",
    "2. **Distribución de tipos de crimen** (proporción de cada tipo)\n",
    "3. **Promedio de crímenes por hora** del día\n",
    "4. **Proporción de ubicaciones** más comunes\n",
    "5. **Índice de densidad criminal** por distrito"
   ]
  },
  {
   "cell_type": "markdown",
   "id": "44018ba8",
   "metadata": {},
   "source": [
    "## 2. Carga de Librerías\n",
    "\n",
    "Instalamos y cargamos las librerías necesarias para el análisis:"
   ]
  },
  {
   "cell_type": "code",
   "execution_count": null,
   "id": "4372c17a",
   "metadata": {
    "vscode": {
     "languageId": "r"
    }
   },
   "outputs": [],
   "source": [
    "# Instalación de paquetes (ejecutar solo la primera vez)\n",
    "# install.packages(c(\"readr\", \"dplyr\", \"ggplot2\", \"lubridate\", \"car\", \"corrplot\"))\n",
    "\n",
    "# Cargar librerías\n",
    "library(readr)      # Leer archivos CSV\n",
    "library(dplyr)      # Manipulación de datos\n",
    "library(ggplot2)    # Visualizaciones\n",
    "library(lubridate)  # Manejo de fechas\n",
    "library(car)        # Diagnósticos de regresión (VIF)\n",
    "library(corrplot)   # Matriz de correlación\n",
    "\n",
    "cat(\"✓ Librerías cargadas correctamente\\n\")"
   ]
  },
  {
   "cell_type": "markdown",
   "id": "d3c888fc",
   "metadata": {},
   "source": [
    "## 3. Carga de Datos\n",
    "\n",
    "### Estrategia de Carga Optimizada\n",
    "\n",
    "Usamos archivo `.RData` para cargar rápidamente la muestra pre-procesada:"
   ]
  },
  {
   "cell_type": "code",
   "execution_count": null,
   "id": "8f63f7e7",
   "metadata": {
    "vscode": {
     "languageId": "r"
    }
   },
   "outputs": [],
   "source": [
    "# Archivos\n",
    "archivo_csv <- \"Crimes.csv\"\n",
    "archivo_rdata <- \"Chicago_Crimes_Sample_1M.RData\"\n",
    "\n",
    "# Cargar datos\n",
    "if (file.exists(archivo_rdata)) {\n",
    "  cat(\"Cargando muestra pre-procesada...\\n\")\n",
    "  load(archivo_rdata)\n",
    "  cat(\"✓ Datos cargados:\", formatC(nrow(datos_muestra), big.mark=\",\"), \"registros\\n\")\n",
    "} else {\n",
    "  cat(\"Leyendo CSV completo y creando muestra...\\n\")\n",
    "  datos_completos <- read_csv(archivo_csv, show_col_types = FALSE)\n",
    "  \n",
    "  set.seed(42)\n",
    "  datos_muestra <- datos_completos %>% sample_n(min(1000000, nrow(datos_completos)))\n",
    "  \n",
    "  muestra_info <- list(\n",
    "    fecha_creacion = Sys.time(),\n",
    "    registros_originales = nrow(datos_completos),\n",
    "    registros_muestra = nrow(datos_muestra),\n",
    "    semilla = 42\n",
    "  )\n",
    "  \n",
    "  save(datos_muestra, muestra_info, file = archivo_rdata)\n",
    "  rm(datos_completos)\n",
    "  gc()\n",
    "  \n",
    "  cat(\"✓ Muestra guardada en:\", archivo_rdata, \"\\n\")\n",
    "}\n",
    "\n",
    "# Exploración inicial\n",
    "cat(\"\\nDimensiones:\", nrow(datos_muestra), \"×\", ncol(datos_muestra), \"\\n\")\n",
    "cat(\"Columnas:\", paste(names(datos_muestra), collapse=\", \"), \"\\n\")"
   ]
  },
  {
   "cell_type": "markdown",
   "id": "379730e1",
   "metadata": {},
   "source": [
    "## 4. Preparación de Datos\n",
    "\n",
    "### 4.1 Limpieza y Transformación"
   ]
  },
  {
   "cell_type": "code",
   "execution_count": null,
   "id": "4e8f875e",
   "metadata": {
    "vscode": {
     "languageId": "r"
    }
   },
   "outputs": [],
   "source": [
    "# Función auxiliar para encontrar columnas\n",
    "encontrar_col <- function(df, nombres) {\n",
    "  for(n in nombres) if(n %in% names(df)) return(n)\n",
    "  return(NULL)\n",
    "}\n",
    "\n",
    "# Seleccionar y renombrar columnas necesarias\n",
    "datos <- datos_muestra %>%\n",
    "  select(\n",
    "    Arrest = !!sym(encontrar_col(datos_muestra, c(\"Arrest\", \"arrest\"))),\n",
    "    Primary_Type = !!sym(encontrar_col(datos_muestra, c(\"Primary Type\", \"Primary.Type\"))),\n",
    "    Location_Description = !!sym(encontrar_col(datos_muestra, c(\"Location Description\", \"Location.Description\"))),\n",
    "    Domestic = !!sym(encontrar_col(datos_muestra, c(\"Domestic\", \"domestic\"))),\n",
    "    District = !!sym(encontrar_col(datos_muestra, c(\"District\", \"district\"))),\n",
    "    Ward = !!sym(encontrar_col(datos_muestra, c(\"Ward\", \"ward\"))),\n",
    "    Community_Area = !!sym(encontrar_col(datos_muestra, c(\"Community Area\", \"Community.Area\"))),\n",
    "    Date = !!sym(encontrar_col(datos_muestra, c(\"Date\", \"date\")))\n",
    "  ) %>%\n",
    "  mutate(\n",
    "    # Extraer hora del día\n",
    "    Date_Time = mdy_hms(Date),\n",
    "    Hour = hour(Date_Time),\n",
    "    \n",
    "    # Convertir tipos\n",
    "    Arrest = as.logical(Arrest),\n",
    "    Domestic = as.logical(Domestic),\n",
    "    District = as.character(District),\n",
    "    Arrest_Numeric = as.numeric(Arrest)  # 1 = arresto, 0 = no arresto\n",
    "  ) %>%\n",
    "  filter(!is.na(District), !is.na(Arrest), District != \"\") %>%\n",
    "  drop_na()\n",
    "\n",
    "cat(\"✓ Datos limpiados:\", formatC(nrow(datos), big.mark=\",\"), \"registros\\n\")"
   ]
  },
  {
   "cell_type": "markdown",
   "id": "1c4463ac",
   "metadata": {},
   "source": [
    "### 4.2 Crear Dataset Agregado por Distrito\n",
    "\n",
    "**¿Por qué agregamos por distrito?**\n",
    "\n",
    "Para regresión lineal múltiple necesitamos una **variable dependiente numérica continua**. Calculamos la **tasa de arrestos** (porcentaje) por distrito."
   ]
  },
  {
   "cell_type": "code",
   "execution_count": null,
   "id": "a2c64ac2",
   "metadata": {
    "vscode": {
     "languageId": "r"
    }
   },
   "outputs": [],
   "source": [
    "# Agregación por distrito\n",
    "datos_distrito <- datos %>%\n",
    "  group_by(District) %>%\n",
    "  summarise(\n",
    "    # VARIABLE DEPENDIENTE: Tasa de arrestos (%)\n",
    "    Tasa_Arrestos = mean(Arrest_Numeric) * 100,\n",
    "    \n",
    "    # VARIABLES INDEPENDIENTES:\n",
    "    # 1. Proporción de crímenes domésticos\n",
    "    Prop_Domesticos = mean(as.numeric(Domestic), na.rm=TRUE) * 100,\n",
    "    \n",
    "    # 2. Total de crímenes (densidad)\n",
    "    Total_Crimenes = n(),\n",
    "    \n",
    "    # 3. Hora promedio de ocurrencia\n",
    "    Hora_Promedio = mean(Hour, na.rm=TRUE),\n",
    "    \n",
    "    # 4. Diversidad de tipos de crimen (índice)\n",
    "    Diversidad_Crimenes = n_distinct(Primary_Type),\n",
    "    \n",
    "    # 5. Diversidad de ubicaciones\n",
    "    Diversidad_Ubicaciones = n_distinct(Location_Description)\n",
    "  ) %>%\n",
    "  filter(Total_Crimenes >= 100) %>%  # Solo distritos con suficientes datos\n",
    "  mutate(\n",
    "    # Normalizamos algunas variables\n",
    "    Log_Crimenes = log(Total_Crimenes + 1),\n",
    "    Densidad_Normalizada = scale(Total_Crimenes)[,1]\n",
    "  )\n",
    "\n",
    "cat(\"\\n✓ Dataset agregado creado\\n\")\n",
    "cat(\"  Distritos:\", nrow(datos_distrito), \"\\n\")\n",
    "cat(\"  Variables:\", ncol(datos_distrito), \"\\n\\n\")\n",
    "\n",
    "# Mostrar primeras filas\n",
    "print(head(datos_distrito, 10))"
   ]
  },
  {
   "cell_type": "markdown",
   "id": "145ea60f",
   "metadata": {},
   "source": [
    "## 5. Análisis Exploratorio\n",
    "\n",
    "### 5.1 Estadísticas Descriptivas"
   ]
  },
  {
   "cell_type": "code",
   "execution_count": null,
   "id": "d6a31c2b",
   "metadata": {
    "vscode": {
     "languageId": "r"
    }
   },
   "outputs": [],
   "source": [
    "cat(\"=== ESTADÍSTICAS DESCRIPTIVAS ===\\n\\n\")\n",
    "summary(datos_distrito %>% select(-District))"
   ]
  },
  {
   "cell_type": "markdown",
   "id": "46b491d8",
   "metadata": {},
   "source": [
    "### 5.2 Visualización de Relaciones"
   ]
  },
  {
   "cell_type": "code",
   "execution_count": null,
   "id": "0c31bcfe",
   "metadata": {
    "vscode": {
     "languageId": "r"
    }
   },
   "outputs": [],
   "source": [
    "# Gráfico 1: Distribución de tasa de arrestos\n",
    "ggplot(datos_distrito, aes(x=Tasa_Arrestos)) +\n",
    "  geom_histogram(bins=15, fill=\"steelblue\", color=\"white\") +\n",
    "  labs(title=\"Distribución de Tasa de Arrestos por Distrito\",\n",
    "       x=\"Tasa de Arrestos (%)\", y=\"Frecuencia\") +\n",
    "  theme_minimal()\n",
    "\n",
    "# Gráfico 2: Relación entre variables\n",
    "ggplot(datos_distrito, aes(x=Prop_Domesticos, y=Tasa_Arrestos)) +\n",
    "  geom_point(size=3, alpha=0.6, color=\"darkblue\") +\n",
    "  geom_smooth(method=\"lm\", se=TRUE, color=\"red\") +\n",
    "  labs(title=\"Tasa de Arrestos vs Proporción de Crímenes Domésticos\",\n",
    "       x=\"Proporción de Crímenes Domésticos (%)\",\n",
    "       y=\"Tasa de Arrestos (%)\") +\n",
    "  theme_minimal()"
   ]
  },
  {
   "cell_type": "markdown",
   "id": "70c07286",
   "metadata": {},
   "source": [
    "### 5.3 Matriz de Correlación"
   ]
  },
  {
   "cell_type": "code",
   "execution_count": null,
   "id": "63a3620b",
   "metadata": {
    "vscode": {
     "languageId": "r"
    }
   },
   "outputs": [],
   "source": [
    "# Seleccionar variables numéricas\n",
    "vars_numericas <- datos_distrito %>%\n",
    "  select(Tasa_Arrestos, Prop_Domesticos, Log_Crimenes, \n",
    "         Hora_Promedio, Diversidad_Crimenes, Diversidad_Ubicaciones)\n",
    "\n",
    "# Calcular matriz de correlación\n",
    "matriz_cor <- cor(vars_numericas, use=\"complete.obs\")\n",
    "\n",
    "# Visualizar\n",
    "corrplot(matriz_cor, method=\"color\", type=\"upper\", \n",
    "         addCoef.col=\"black\", number.cex=0.7,\n",
    "         tl.col=\"black\", tl.srt=45,\n",
    "         title=\"Matriz de Correlación\",\n",
    "         mar=c(0,0,2,0))\n",
    "\n",
    "cat(\"\\n📊 Correlaciones con Tasa_Arrestos:\\n\")\n",
    "print(sort(matriz_cor[,\"Tasa_Arrestos\"], decreasing=TRUE))"
   ]
  },
  {
   "cell_type": "markdown",
   "id": "25d295f1",
   "metadata": {},
   "source": [
    "## 6. Modelo de Regresión Lineal Múltiple\n",
    "\n",
    "### 6.1 Construcción del Modelo"
   ]
  },
  {
   "cell_type": "code",
   "execution_count": null,
   "id": "478b53c0",
   "metadata": {
    "vscode": {
     "languageId": "r"
    }
   },
   "outputs": [],
   "source": [
    "# Modelo completo\n",
    "modelo <- lm(Tasa_Arrestos ~ Prop_Domesticos + Log_Crimenes + \n",
    "             Hora_Promedio + Diversidad_Crimenes + Diversidad_Ubicaciones,\n",
    "             data = datos_distrito)\n",
    "\n",
    "# Resumen del modelo\n",
    "cat(\"\\n=== RESUMEN DEL MODELO DE REGRESIÓN LINEAL MÚLTIPLE ===\\n\\n\")\n",
    "summary(modelo)"
   ]
  },
  {
   "cell_type": "markdown",
   "id": "7954cd98",
   "metadata": {},
   "source": [
    "### 6.2 Interpretación de Métricas\n",
    "\n",
    "#### R² (R-squared)\n",
    "- Indica qué porcentaje de la variabilidad en Y es explicada por el modelo\n",
    "- Valor entre 0 y 1 (más cercano a 1 = mejor)\n",
    "\n",
    "#### R² Ajustado (Adjusted R-squared)\n",
    "- Penaliza la inclusión de variables que no mejoran el modelo\n",
    "- Más confiable que R² cuando hay múltiples predictores\n",
    "\n",
    "#### p-value\n",
    "- < 0.05: La variable es estadísticamente significativa\n",
    "- > 0.05: La variable no aporta significativamente al modelo"
   ]
  },
  {
   "cell_type": "markdown",
   "id": "ef54ada5",
   "metadata": {},
   "source": [
    "### 6.3 Diagnósticos del Modelo"
   ]
  },
  {
   "cell_type": "code",
   "execution_count": null,
   "id": "f1a70303",
   "metadata": {
    "vscode": {
     "languageId": "r"
    }
   },
   "outputs": [],
   "source": [
    "# Gráficos de diagnóstico\n",
    "par(mfrow=c(2,2))\n",
    "plot(modelo)\n",
    "par(mfrow=c(1,1))\n",
    "\n",
    "# VIF (Variance Inflation Factor) - Detectar multicolinealidad\n",
    "cat(\"\\n=== FACTOR DE INFLACIÓN DE VARIANZA (VIF) ===\\n\")\n",
    "cat(\"VIF < 5: No hay multicolinealidad\\n\")\n",
    "cat(\"VIF > 10: Multicolinealidad severa\\n\\n\")\n",
    "print(vif(modelo))"
   ]
  },
  {
   "cell_type": "markdown",
   "id": "65a3b38f",
   "metadata": {},
   "source": [
    "## 7. Resultados y Conclusiones\n",
    "\n",
    "### 7.1 Ecuación del Modelo"
   ]
  },
  {
   "cell_type": "code",
   "execution_count": null,
   "id": "2697777f",
   "metadata": {
    "vscode": {
     "languageId": "r"
    }
   },
   "outputs": [],
   "source": [
    "coefs <- coef(modelo)\n",
    "cat(\"\\n=== ECUACIÓN DEL MODELO ===\\n\\n\")\n",
    "cat(sprintf(\"Tasa_Arrestos = %.2f + %.2f(Prop_Domesticos) + %.2f(Log_Crimenes) + \\n\",\n",
    "            coefs[1], coefs[2], coefs[3]))\n",
    "cat(sprintf(\"                %.2f(Hora_Promedio) + %.2f(Diversidad_Crimenes) + \\n\",\n",
    "            coefs[4], coefs[5]))\n",
    "cat(sprintf(\"                %.2f(Diversidad_Ubicaciones)\\n\", coefs[6]))"
   ]
  },
  {
   "cell_type": "markdown",
   "id": "01717164",
   "metadata": {},
   "source": [
    "### 7.2 Predicciones vs Valores Reales"
   ]
  },
  {
   "cell_type": "code",
   "execution_count": null,
   "id": "f0c8c73b",
   "metadata": {
    "vscode": {
     "languageId": "r"
    }
   },
   "outputs": [],
   "source": [
    "# Añadir predicciones al dataset\n",
    "datos_distrito$Prediccion <- predict(modelo)\n",
    "datos_distrito$Residuos <- residuals(modelo)\n",
    "\n",
    "# Gráfico de predicciones vs reales\n",
    "ggplot(datos_distrito, aes(x=Tasa_Arrestos, y=Prediccion)) +\n",
    "  geom_point(size=3, alpha=0.6, color=\"darkblue\") +\n",
    "  geom_abline(intercept=0, slope=1, color=\"red\", linetype=\"dashed\", size=1) +\n",
    "  labs(title=\"Valores Predichos vs Valores Reales\",\n",
    "       x=\"Tasa de Arrestos Real (%)\",\n",
    "       y=\"Tasa de Arrestos Predicha (%)\") +\n",
    "  theme_minimal()"
   ]
  },
  {
   "cell_type": "markdown",
   "id": "2412cef8",
   "metadata": {},
   "source": [
    "### 7.3 Métricas Finales"
   ]
  },
  {
   "cell_type": "code",
   "execution_count": null,
   "id": "f38101ea",
   "metadata": {
    "vscode": {
     "languageId": "r"
    }
   },
   "outputs": [],
   "source": [
    "# Extraer métricas\n",
    "r2 <- summary(modelo)$r.squared\n",
    "r2_adj <- summary(modelo)$adj.r.squared\n",
    "rmse <- sqrt(mean(residuals(modelo)^2))\n",
    "mae <- mean(abs(residuals(modelo)))\n",
    "\n",
    "cat(\"\\n=== MÉTRICAS FINALES DEL MODELO ===\\n\\n\")\n",
    "cat(sprintf(\"R² (R-cuadrado):           %.4f (%.2f%%)\\n\", r2, r2*100))\n",
    "cat(sprintf(\"R² Ajustado:               %.4f (%.2f%%)\\n\", r2_adj, r2_adj*100))\n",
    "cat(sprintf(\"RMSE (Error cuadrático):   %.2f\\n\", rmse))\n",
    "cat(sprintf(\"MAE (Error absoluto):      %.2f\\n\", mae))\n",
    "\n",
    "cat(\"\\n📊 Interpretación:\\n\")\n",
    "if(r2_adj > 0.7) {\n",
    "  cat(\"✓ Excelente ajuste del modelo (R² ajustado > 0.70)\\n\")\n",
    "} else if(r2_adj > 0.5) {\n",
    "  cat(\"✓ Buen ajuste del modelo (R² ajustado > 0.50)\\n\")\n",
    "} else {\n",
    "  cat(\"⚠️ Ajuste moderado del modelo (R² ajustado < 0.50)\\n\")\n",
    "}"
   ]
  },
  {
   "cell_type": "markdown",
   "id": "42b71659",
   "metadata": {},
   "source": [
    "## 8. Conclusiones\n",
    "\n",
    "### Hallazgos Principales\n",
    "\n",
    "1. **Variables Significativas:** Identificamos qué factores influyen más en la tasa de arrestos\n",
    "2. **Calidad del Modelo:** R² y R² ajustado indican qué tan bien el modelo explica los datos\n",
    "3. **Aplicabilidad:** El modelo puede ayudar a predecir tasas de arresto en diferentes distritos\n",
    "\n",
    "### Limitaciones\n",
    "\n",
    "- Agregación por distrito reduce el tamaño muestral\n",
    "- Variables omitidas pueden influir en los resultados\n",
    "- Relaciones pueden no ser perfectamente lineales\n",
    "\n",
    "### Recomendaciones\n",
    "\n",
    "- Incluir más variables socioeconómicas\n",
    "- Probar transformaciones de variables\n",
    "- Considerar interacciones entre predictores"
   ]
  }
 ],
 "metadata": {
  "kernelspec": {
   "display_name": "R",
   "language": "R",
   "name": "ir"
  },
  "language_info": {
   "name": "R"
  }
 },
 "nbformat": 4,
 "nbformat_minor": 5
}
