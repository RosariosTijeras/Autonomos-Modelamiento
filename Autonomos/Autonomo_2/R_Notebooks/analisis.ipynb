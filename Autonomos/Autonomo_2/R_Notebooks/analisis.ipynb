{
 "cells": [
  {
   "cell_type": "markdown",
   "id": "89430d71",
   "metadata": {},
   "source": [
    "## Universidad Nacional de Chimborazo\n",
    "\n",
    "**Facultad:** Facultad de Ingeniería  \n",
    "**Carrera:** Ciencia de Datos e IA  \n",
    "**Materia:** Modelamiento  \n",
    "**Docente:** Estalin Mejia H.  \n",
    "**Semestre:** Tercero\n",
    "\n",
    "---\n",
    "\n",
    "### Trabajo Autónomo 2\n",
    "\n",
    "### Análisis de Regresión Lineal Múltiple: Predicción de Tarifas de Taxis en Nueva York\n",
    "\n",
    "**Autores:**  \n",
    "- Alisson Atupaña\n",
    "- Mario Camacho\n",
    "- Lenin Lopez\n",
    "\n",
    "**Fecha:** 26 de octubre de 2025\n",
    "\n",
    "**Riobamba - Ecuador**\n",
    "\n",
    "---\n"
   ]
  },
  {
   "cell_type": "markdown",
   "id": "deb656e8",
   "metadata": {},
   "source": [
    "<div style=\"display:flex; align-items:flex-start; gap:14px; background:linear-gradient(90deg,#123f6b,#154360); padding:18px; border-radius:12px; box-shadow:0 8px 20px rgba(21,67,96,0.25); color:#fff; max-width:720px; width:min(720px,100%); margin:12px auto; box-sizing:border-box;\">\n",
    "    <div style=\"width:36px; height:36px; display:flex; align-items:center; justify-content:center; background:rgba(255,255,255,0.06); border-radius:8px; font-size:1rem; line-height:1;\">📦</div>\n",
    "    <div>\n",
    "        <div style=\"font-weight:800; font-size:1.45rem; letter-spacing:0.4px;\">Instalación de librerías</div>\n",
    "        <div style=\"opacity:0.95; font-size:0.92rem; margin-top:4px;\">Paquetes necesarios para lectura, manipulación y visualización de datos (ejecutar instalación solo la primera vez).</div>\n",
    "    </div>\n",
    "</div>"
   ]
  },
  {
   "cell_type": "code",
   "execution_count": 2,
   "id": "8ea04f4f",
   "metadata": {
    "vscode": {
     "languageId": "r"
    }
   },
   "outputs": [
    {
     "name": "stderr",
     "output_type": "stream",
     "text": [
      "Warning message:\n",
      "\"packages 'readr', 'dplyr', 'ggplot2', 'car', 'GGally', 'gridExtra' are in use and will not be installed\"\n"
     ]
    },
    {
     "name": "stdout",
     "output_type": "stream",
     "text": [
      "package 'psych' successfully unpacked and MD5 sums checked\n"
     ]
    }
   ],
   "source": [
    "install.packages(c(\"readr\", \"dplyr\", \"ggplot2\", \"car\", \"GGally\", \"gridExtra\", \"psych\"), verbose = FALSE, quiet = TRUE)"
   ]
  },
  {
   "cell_type": "markdown",
   "id": "57b47dea",
   "metadata": {},
   "source": [
    "<div style=\"display:flex; align-items:flex-start; gap:14px; background:linear-gradient(90deg,#123f6b,#154360); padding:18px; border-radius:12px; box-shadow:0 8px 20px rgba(21,67,96,0.25); color:#fff; max-width:720px; width:min(720px,100%); margin:12px auto; box-sizing:border-box;\">\n",
    "    <div style=\"width:36px; height:36px; display:flex; align-items:center; justify-content:center; background:rgba(255,255,255,0.06); border-radius:8px; font-size:1rem; line-height:1;\">📦</div>\n",
    "    <div>\n",
    "        <div style=\"font-weight:800; font-size:1.45rem; letter-spacing:0.4px;\">Carga de librerías</div>\n",
    "        <div style=\"opacity:0.95; font-size:0.92rem; margin-top:4px;\"></div>\n",
    "    </div>\n",
    "</div>"
   ]
  },
  {
   "cell_type": "code",
   "execution_count": 1,
   "id": "0902f5eb",
   "metadata": {
    "vscode": {
     "languageId": "r"
    }
   },
   "outputs": [
    {
     "name": "stderr",
     "output_type": "stream",
     "text": [
      "\n",
      "Adjuntando el paquete: 'dplyr'\n",
      "\n",
      "\n",
      "The following objects are masked from 'package:stats':\n",
      "\n",
      "    filter, lag\n",
      "\n",
      "\n",
      "The following objects are masked from 'package:base':\n",
      "\n",
      "    intersect, setdiff, setequal, union\n",
      "\n",
      "\n",
      "Cargando paquete requerido: carData\n",
      "\n",
      "\n",
      "Adjuntando el paquete: 'car'\n",
      "\n",
      "\n",
      "The following object is masked from 'package:dplyr':\n",
      "\n",
      "    recode\n",
      "\n",
      "\n",
      "\n",
      "Adjuntando el paquete: 'gridExtra'\n",
      "\n",
      "\n",
      "The following object is masked from 'package:dplyr':\n",
      "\n",
      "    combine\n",
      "\n",
      "\n"
     ]
    }
   ],
   "source": [
    "library(readr) # para leer los datos\n",
    "library(dplyr) # para manipulación de datos\n",
    "library(ggplot2) # para visualización de los datos\n",
    "library(car) # para análisis de regresión lineal\n",
    "library(GGally) # para gráficos correlacionales\n",
    "library(gridExtra) # para organizar múltiples gráficos"
   ]
  },
  {
   "cell_type": "markdown",
   "id": "b38cc1a8",
   "metadata": {},
   "source": [
    "<div style=\"display:flex; align-items:flex-start; gap:14px; background:linear-gradient(90deg,#123f6b,#154360); padding:18px; border-radius:12px; box-shadow:0 8px 20px rgba(21,67,96,0.25); color:#fff; max-width:720px; width:min(720px,100%); margin:12px auto; box-sizing:border-box;\">\n",
    "    <div style=\"width:36px; height:36px; display:flex; align-items:center; justify-content:center; background:rgba(255,255,255,0.06); border-radius:8px; font-size:1rem; line-height:1;\">📦</div>\n",
    "    <div>\n",
    "        <div style=\"font-weight:800; font-size:1.45rem; letter-spacing:0.4px;\">Carga y exploración de datos</div>\n",
    "        <div style=\"opacity:0.95; font-size:0.92rem; margin-top:4px;\">La exploración de los datos ayudará a comprender mejor su estructura y contenido.</div>\n",
    "    </div>\n",
    "</div>"
   ]
  },
  {
   "cell_type": "code",
   "execution_count": 2,
   "id": "e84c34cc",
   "metadata": {
    "vscode": {
     "languageId": "r"
    }
   },
   "outputs": [],
   "source": [
    "datos <- readRDS(\"datos.rds\")"
   ]
  },
  {
   "cell_type": "code",
   "execution_count": 3,
   "id": "28c4a136",
   "metadata": {
    "vscode": {
     "languageId": "r"
    }
   },
   "outputs": [
    {
     "data": {
      "text/html": [
       "<table class=\"dataframe\">\n",
       "<caption>A tibble: 6 × 20</caption>\n",
       "<thead>\n",
       "\t<tr><th scope=col>VendorID</th><th scope=col>tpep_pickup_datetime</th><th scope=col>tpep_dropoff_datetime</th><th scope=col>passenger_count</th><th scope=col>trip_distance</th><th scope=col>pickup_longitude</th><th scope=col>pickup_latitude</th><th scope=col>RateCodeID</th><th scope=col>store_and_fwd_flag</th><th scope=col>dropoff_longitude</th><th scope=col>dropoff_latitude</th><th scope=col>payment_type</th><th scope=col>fare_amount</th><th scope=col>extra</th><th scope=col>mta_tax</th><th scope=col>tip_amount</th><th scope=col>tolls_amount</th><th scope=col>improvement_surcharge</th><th scope=col>total_amount</th><th scope=col>RatecodeID</th></tr>\n",
       "\t<tr><th scope=col>&lt;dbl&gt;</th><th scope=col>&lt;dttm&gt;</th><th scope=col>&lt;dttm&gt;</th><th scope=col>&lt;dbl&gt;</th><th scope=col>&lt;dbl&gt;</th><th scope=col>&lt;dbl&gt;</th><th scope=col>&lt;dbl&gt;</th><th scope=col>&lt;dbl&gt;</th><th scope=col>&lt;chr&gt;</th><th scope=col>&lt;dbl&gt;</th><th scope=col>&lt;dbl&gt;</th><th scope=col>&lt;dbl&gt;</th><th scope=col>&lt;dbl&gt;</th><th scope=col>&lt;dbl&gt;</th><th scope=col>&lt;dbl&gt;</th><th scope=col>&lt;dbl&gt;</th><th scope=col>&lt;dbl&gt;</th><th scope=col>&lt;dbl&gt;</th><th scope=col>&lt;dbl&gt;</th><th scope=col>&lt;dbl&gt;</th></tr>\n",
       "</thead>\n",
       "<tbody>\n",
       "\t<tr><td>2</td><td>2016-03-27 21:14:57</td><td>2016-03-27 21:20:27</td><td>1</td><td>1.12</td><td>-73.98667</td><td>40.72813</td><td>NA</td><td>N</td><td>-73.98641</td><td>40.73848</td><td>1</td><td> 6.0</td><td>0.5</td><td>0.5</td><td>1.46</td><td>0</td><td>0.3</td><td> 8.76</td><td> 1</td></tr>\n",
       "\t<tr><td>2</td><td>2016-02-20 18:15:45</td><td>2016-02-20 18:46:13</td><td>1</td><td>3.80</td><td>-73.98663</td><td>40.77701</td><td>NA</td><td>N</td><td>-74.00238</td><td>40.73035</td><td>1</td><td>19.5</td><td>0.0</td><td>0.5</td><td>1.50</td><td>0</td><td>0.3</td><td>21.80</td><td> 1</td></tr>\n",
       "\t<tr><td>2</td><td>2016-01-02 17:26:54</td><td>2016-01-02 17:31:58</td><td>2</td><td>0.73</td><td>-73.97395</td><td>40.76041</td><td>NA</td><td>N</td><td>-73.96369</td><td>40.75890</td><td>1</td><td> 5.5</td><td>0.0</td><td>0.5</td><td>1.00</td><td>0</td><td>0.3</td><td> 7.30</td><td> 1</td></tr>\n",
       "\t<tr><td>1</td><td>2016-01-29 14:13:50</td><td>2016-01-29 14:29:41</td><td>1</td><td>2.00</td><td>-73.98127</td><td>40.75839</td><td>NA</td><td>N</td><td>-73.98635</td><td>40.77897</td><td>1</td><td>11.5</td><td>0.0</td><td>0.5</td><td>1.50</td><td>0</td><td>0.3</td><td>13.80</td><td> 1</td></tr>\n",
       "\t<tr><td>2</td><td>2015-01-04 19:55:27</td><td>2015-01-04 20:00:53</td><td>1</td><td>0.78</td><td>-74.00253</td><td>40.75269</td><td> 1</td><td>N</td><td>-73.99132</td><td>40.75177</td><td>1</td><td> 5.5</td><td>0.0</td><td>0.5</td><td>1.10</td><td>0</td><td>0.3</td><td> 7.40</td><td>NA</td></tr>\n",
       "\t<tr><td>1</td><td>2015-01-15 13:23:40</td><td>2015-01-15 13:35:18</td><td>1</td><td>1.90</td><td>-73.98387</td><td>40.78062</td><td> 1</td><td>N</td><td>-73.96466</td><td>40.76981</td><td>1</td><td> 9.5</td><td>0.0</td><td>0.5</td><td>2.05</td><td>0</td><td>0.3</td><td>12.35</td><td>NA</td></tr>\n",
       "</tbody>\n",
       "</table>\n"
      ],
      "text/latex": [
       "A tibble: 6 × 20\n",
       "\\begin{tabular}{llllllllllllllllllll}\n",
       " VendorID & tpep\\_pickup\\_datetime & tpep\\_dropoff\\_datetime & passenger\\_count & trip\\_distance & pickup\\_longitude & pickup\\_latitude & RateCodeID & store\\_and\\_fwd\\_flag & dropoff\\_longitude & dropoff\\_latitude & payment\\_type & fare\\_amount & extra & mta\\_tax & tip\\_amount & tolls\\_amount & improvement\\_surcharge & total\\_amount & RatecodeID\\\\\n",
       " <dbl> & <dttm> & <dttm> & <dbl> & <dbl> & <dbl> & <dbl> & <dbl> & <chr> & <dbl> & <dbl> & <dbl> & <dbl> & <dbl> & <dbl> & <dbl> & <dbl> & <dbl> & <dbl> & <dbl>\\\\\n",
       "\\hline\n",
       "\t 2 & 2016-03-27 21:14:57 & 2016-03-27 21:20:27 & 1 & 1.12 & -73.98667 & 40.72813 & NA & N & -73.98641 & 40.73848 & 1 &  6.0 & 0.5 & 0.5 & 1.46 & 0 & 0.3 &  8.76 &  1\\\\\n",
       "\t 2 & 2016-02-20 18:15:45 & 2016-02-20 18:46:13 & 1 & 3.80 & -73.98663 & 40.77701 & NA & N & -74.00238 & 40.73035 & 1 & 19.5 & 0.0 & 0.5 & 1.50 & 0 & 0.3 & 21.80 &  1\\\\\n",
       "\t 2 & 2016-01-02 17:26:54 & 2016-01-02 17:31:58 & 2 & 0.73 & -73.97395 & 40.76041 & NA & N & -73.96369 & 40.75890 & 1 &  5.5 & 0.0 & 0.5 & 1.00 & 0 & 0.3 &  7.30 &  1\\\\\n",
       "\t 1 & 2016-01-29 14:13:50 & 2016-01-29 14:29:41 & 1 & 2.00 & -73.98127 & 40.75839 & NA & N & -73.98635 & 40.77897 & 1 & 11.5 & 0.0 & 0.5 & 1.50 & 0 & 0.3 & 13.80 &  1\\\\\n",
       "\t 2 & 2015-01-04 19:55:27 & 2015-01-04 20:00:53 & 1 & 0.78 & -74.00253 & 40.75269 &  1 & N & -73.99132 & 40.75177 & 1 &  5.5 & 0.0 & 0.5 & 1.10 & 0 & 0.3 &  7.40 & NA\\\\\n",
       "\t 1 & 2015-01-15 13:23:40 & 2015-01-15 13:35:18 & 1 & 1.90 & -73.98387 & 40.78062 &  1 & N & -73.96466 & 40.76981 & 1 &  9.5 & 0.0 & 0.5 & 2.05 & 0 & 0.3 & 12.35 & NA\\\\\n",
       "\\end{tabular}\n"
      ],
      "text/markdown": [
       "\n",
       "A tibble: 6 × 20\n",
       "\n",
       "| VendorID &lt;dbl&gt; | tpep_pickup_datetime &lt;dttm&gt; | tpep_dropoff_datetime &lt;dttm&gt; | passenger_count &lt;dbl&gt; | trip_distance &lt;dbl&gt; | pickup_longitude &lt;dbl&gt; | pickup_latitude &lt;dbl&gt; | RateCodeID &lt;dbl&gt; | store_and_fwd_flag &lt;chr&gt; | dropoff_longitude &lt;dbl&gt; | dropoff_latitude &lt;dbl&gt; | payment_type &lt;dbl&gt; | fare_amount &lt;dbl&gt; | extra &lt;dbl&gt; | mta_tax &lt;dbl&gt; | tip_amount &lt;dbl&gt; | tolls_amount &lt;dbl&gt; | improvement_surcharge &lt;dbl&gt; | total_amount &lt;dbl&gt; | RatecodeID &lt;dbl&gt; |\n",
       "|---|---|---|---|---|---|---|---|---|---|---|---|---|---|---|---|---|---|---|---|\n",
       "| 2 | 2016-03-27 21:14:57 | 2016-03-27 21:20:27 | 1 | 1.12 | -73.98667 | 40.72813 | NA | N | -73.98641 | 40.73848 | 1 |  6.0 | 0.5 | 0.5 | 1.46 | 0 | 0.3 |  8.76 |  1 |\n",
       "| 2 | 2016-02-20 18:15:45 | 2016-02-20 18:46:13 | 1 | 3.80 | -73.98663 | 40.77701 | NA | N | -74.00238 | 40.73035 | 1 | 19.5 | 0.0 | 0.5 | 1.50 | 0 | 0.3 | 21.80 |  1 |\n",
       "| 2 | 2016-01-02 17:26:54 | 2016-01-02 17:31:58 | 2 | 0.73 | -73.97395 | 40.76041 | NA | N | -73.96369 | 40.75890 | 1 |  5.5 | 0.0 | 0.5 | 1.00 | 0 | 0.3 |  7.30 |  1 |\n",
       "| 1 | 2016-01-29 14:13:50 | 2016-01-29 14:29:41 | 1 | 2.00 | -73.98127 | 40.75839 | NA | N | -73.98635 | 40.77897 | 1 | 11.5 | 0.0 | 0.5 | 1.50 | 0 | 0.3 | 13.80 |  1 |\n",
       "| 2 | 2015-01-04 19:55:27 | 2015-01-04 20:00:53 | 1 | 0.78 | -74.00253 | 40.75269 |  1 | N | -73.99132 | 40.75177 | 1 |  5.5 | 0.0 | 0.5 | 1.10 | 0 | 0.3 |  7.40 | NA |\n",
       "| 1 | 2015-01-15 13:23:40 | 2015-01-15 13:35:18 | 1 | 1.90 | -73.98387 | 40.78062 |  1 | N | -73.96466 | 40.76981 | 1 |  9.5 | 0.0 | 0.5 | 2.05 | 0 | 0.3 | 12.35 | NA |\n",
       "\n"
      ],
      "text/plain": [
       "  VendorID tpep_pickup_datetime tpep_dropoff_datetime passenger_count\n",
       "1 2        2016-03-27 21:14:57  2016-03-27 21:20:27   1              \n",
       "2 2        2016-02-20 18:15:45  2016-02-20 18:46:13   1              \n",
       "3 2        2016-01-02 17:26:54  2016-01-02 17:31:58   2              \n",
       "4 1        2016-01-29 14:13:50  2016-01-29 14:29:41   1              \n",
       "5 2        2015-01-04 19:55:27  2015-01-04 20:00:53   1              \n",
       "6 1        2015-01-15 13:23:40  2015-01-15 13:35:18   1              \n",
       "  trip_distance pickup_longitude pickup_latitude RateCodeID store_and_fwd_flag\n",
       "1 1.12          -73.98667        40.72813        NA         N                 \n",
       "2 3.80          -73.98663        40.77701        NA         N                 \n",
       "3 0.73          -73.97395        40.76041        NA         N                 \n",
       "4 2.00          -73.98127        40.75839        NA         N                 \n",
       "5 0.78          -74.00253        40.75269         1         N                 \n",
       "6 1.90          -73.98387        40.78062         1         N                 \n",
       "  dropoff_longitude dropoff_latitude payment_type fare_amount extra mta_tax\n",
       "1 -73.98641         40.73848         1             6.0        0.5   0.5    \n",
       "2 -74.00238         40.73035         1            19.5        0.0   0.5    \n",
       "3 -73.96369         40.75890         1             5.5        0.0   0.5    \n",
       "4 -73.98635         40.77897         1            11.5        0.0   0.5    \n",
       "5 -73.99132         40.75177         1             5.5        0.0   0.5    \n",
       "6 -73.96466         40.76981         1             9.5        0.0   0.5    \n",
       "  tip_amount tolls_amount improvement_surcharge total_amount RatecodeID\n",
       "1 1.46       0            0.3                    8.76         1        \n",
       "2 1.50       0            0.3                   21.80         1        \n",
       "3 1.00       0            0.3                    7.30         1        \n",
       "4 1.50       0            0.3                   13.80         1        \n",
       "5 1.10       0            0.3                    7.40        NA        \n",
       "6 2.05       0            0.3                   12.35        NA        "
      ]
     },
     "metadata": {},
     "output_type": "display_data"
    }
   ],
   "source": [
    "head(datos)"
   ]
  },
  {
   "cell_type": "code",
   "execution_count": 4,
   "id": "fe9f5b68",
   "metadata": {
    "vscode": {
     "languageId": "r"
    }
   },
   "outputs": [
    {
     "name": "stdout",
     "output_type": "stream",
     "text": [
      "Rows: 2,000,000\n",
      "Columns: 20\n",
      "$ VendorID              \u001b[3m\u001b[90m<dbl>\u001b[39m\u001b[23m 2\u001b[90m, \u001b[39m2\u001b[90m, \u001b[39m2\u001b[90m, \u001b[39m1\u001b[90m, \u001b[39m2\u001b[90m, \u001b[39m1\u001b[90m, \u001b[39m…\n",
      "$ tpep_pickup_datetime  \u001b[3m\u001b[90m<dttm>\u001b[39m\u001b[23m 2016-03-27 21:14:…\n",
      "$ tpep_dropoff_datetime \u001b[3m\u001b[90m<dttm>\u001b[39m\u001b[23m 2016-03-27 21:20:…\n",
      "$ passenger_count       \u001b[3m\u001b[90m<dbl>\u001b[39m\u001b[23m 1\u001b[90m, \u001b[39m1\u001b[90m, \u001b[39m2\u001b[90m, \u001b[39m1\u001b[90m, \u001b[39m1\u001b[90m, \u001b[39m1\u001b[90m, \u001b[39m…\n",
      "$ trip_distance         \u001b[3m\u001b[90m<dbl>\u001b[39m\u001b[23m 1.12\u001b[90m, \u001b[39m3.80\u001b[90m, \u001b[39m0.73\u001b[90m, \u001b[39m…\n",
      "$ pickup_longitude      \u001b[3m\u001b[90m<dbl>\u001b[39m\u001b[23m -73.98667\u001b[90m, \u001b[39m-73.986…\n",
      "$ pickup_latitude       \u001b[3m\u001b[90m<dbl>\u001b[39m\u001b[23m 40.72813\u001b[90m, \u001b[39m40.77701…\n",
      "$ RateCodeID            \u001b[3m\u001b[90m<dbl>\u001b[39m\u001b[23m \u001b[31mNA\u001b[39m\u001b[90m, \u001b[39m\u001b[31mNA\u001b[39m\u001b[90m, \u001b[39m\u001b[31mNA\u001b[39m\u001b[90m, \u001b[39m\u001b[31mNA\u001b[39m\u001b[90m, \u001b[39m1\u001b[90m,\u001b[39m…\n",
      "$ store_and_fwd_flag    \u001b[3m\u001b[90m<chr>\u001b[39m\u001b[23m \"N\"\u001b[90m, \u001b[39m\"N\"\u001b[90m, \u001b[39m\"N\"\u001b[90m, \u001b[39m\"N\"…\n",
      "$ dropoff_longitude     \u001b[3m\u001b[90m<dbl>\u001b[39m\u001b[23m -73.98641\u001b[90m, \u001b[39m-74.002…\n",
      "$ dropoff_latitude      \u001b[3m\u001b[90m<dbl>\u001b[39m\u001b[23m 40.73848\u001b[90m, \u001b[39m40.73035…\n",
      "$ payment_type          \u001b[3m\u001b[90m<dbl>\u001b[39m\u001b[23m 1\u001b[90m, \u001b[39m1\u001b[90m, \u001b[39m1\u001b[90m, \u001b[39m1\u001b[90m, \u001b[39m1\u001b[90m, \u001b[39m1\u001b[90m, \u001b[39m…\n",
      "$ fare_amount           \u001b[3m\u001b[90m<dbl>\u001b[39m\u001b[23m 6.0\u001b[90m, \u001b[39m19.5\u001b[90m, \u001b[39m5.5\u001b[90m, \u001b[39m11…\n",
      "$ extra                 \u001b[3m\u001b[90m<dbl>\u001b[39m\u001b[23m 0.5\u001b[90m, \u001b[39m0.0\u001b[90m, \u001b[39m0.0\u001b[90m, \u001b[39m0.0…\n",
      "$ mta_tax               \u001b[3m\u001b[90m<dbl>\u001b[39m\u001b[23m 0.5\u001b[90m, \u001b[39m0.5\u001b[90m, \u001b[39m0.5\u001b[90m, \u001b[39m0.5…\n",
      "$ tip_amount            \u001b[3m\u001b[90m<dbl>\u001b[39m\u001b[23m 1.46\u001b[90m, \u001b[39m1.50\u001b[90m, \u001b[39m1.00\u001b[90m, \u001b[39m…\n",
      "$ tolls_amount          \u001b[3m\u001b[90m<dbl>\u001b[39m\u001b[23m 0\u001b[90m, \u001b[39m0\u001b[90m, \u001b[39m0\u001b[90m, \u001b[39m0\u001b[90m, \u001b[39m0\u001b[90m, \u001b[39m0\u001b[90m, \u001b[39m…\n",
      "$ improvement_surcharge \u001b[3m\u001b[90m<dbl>\u001b[39m\u001b[23m 0.3\u001b[90m, \u001b[39m0.3\u001b[90m, \u001b[39m0.3\u001b[90m, \u001b[39m0.3…\n",
      "$ total_amount          \u001b[3m\u001b[90m<dbl>\u001b[39m\u001b[23m 8.76\u001b[90m, \u001b[39m21.80\u001b[90m, \u001b[39m7.30\u001b[90m,\u001b[39m…\n",
      "$ RatecodeID            \u001b[3m\u001b[90m<dbl>\u001b[39m\u001b[23m 1\u001b[90m, \u001b[39m1\u001b[90m, \u001b[39m1\u001b[90m, \u001b[39m1\u001b[90m, \u001b[39m\u001b[31mNA\u001b[39m\u001b[90m, \u001b[39m\u001b[31mNA\u001b[39m…\n"
     ]
    }
   ],
   "source": [
    "glimpse(datos, width = 50)"
   ]
  },
  {
   "cell_type": "code",
   "execution_count": 5,
   "id": "eaf351b8",
   "metadata": {
    "vscode": {
     "languageId": "r"
    }
   },
   "outputs": [
    {
     "data": {
      "text/plain": [
       "    VendorID    tpep_pickup_datetime          tpep_dropoff_datetime        \n",
       " Min.   :1.00   Min.   :2015-01-01 00:00:00   Min.   :2015-01-01 00:00:00  \n",
       " 1st Qu.:1.00   1st Qu.:2015-01-30 07:25:51   1st Qu.:2015-01-30 07:38:03  \n",
       " Median :2.00   Median :2016-01-31 19:41:59   Median :2016-01-31 19:58:15  \n",
       " Mean   :1.53   Mean   :2015-11-01 17:10:40   Mean   :2015-11-01 17:26:00  \n",
       " 3rd Qu.:2.00   3rd Qu.:2016-03-02 02:54:46   3rd Qu.:2016-03-02 03:11:47  \n",
       " Max.   :2.00   Max.   :2016-03-31 23:59:59   Max.   :2016-06-17 22:07:31  \n",
       "                                                                           \n",
       " passenger_count trip_distance      pickup_longitude  pickup_latitude\n",
       " Min.   :0.000   Min.   :0.00e+00   Min.   :-131.82   Min.   : 0.00  \n",
       " 1st Qu.:1.000   1st Qu.:1.00e+00   1st Qu.: -73.99   1st Qu.:40.74  \n",
       " Median :1.000   Median :1.70e+00   Median : -73.98   Median :40.75  \n",
       " Mean   :1.667   Mean   :5.10e+00   Mean   : -72.77   Mean   :40.09  \n",
       " 3rd Qu.:2.000   3rd Qu.:3.10e+00   3rd Qu.: -73.97   3rd Qu.:40.77  \n",
       " Max.   :9.000   Max.   :3.18e+06   Max.   :   0.00   Max.   :60.91  \n",
       "                                                                     \n",
       "   RateCodeID      store_and_fwd_flag dropoff_longitude dropoff_latitude\n",
       " Min.   : 1.00     Length:2000000     Min.   :-121.93   Min.   : 0.00   \n",
       " 1st Qu.: 1.00     Class :character   1st Qu.: -73.99   1st Qu.:40.73   \n",
       " Median : 1.00     Mode  :character   Median : -73.98   Median :40.75   \n",
       " Mean   : 1.04                        Mean   : -72.83   Mean   :40.12   \n",
       " 3rd Qu.: 1.00                        3rd Qu.: -73.96   3rd Qu.:40.77   \n",
       " Max.   :99.00                        Max.   :   0.00   Max.   :47.17   \n",
       " NA's   :1459922                                                        \n",
       "  payment_type    fare_amount            extra             mta_tax       \n",
       " Min.   :1.000   Min.   :  -376.00   Min.   :-79.0000   Min.   :-0.5000  \n",
       " 1st Qu.:1.000   1st Qu.:     6.50   1st Qu.:  0.0000   1st Qu.: 0.5000  \n",
       " Median :1.000   Median :     9.00   Median :  0.0000   Median : 0.5000  \n",
       " Mean   :1.352   Mean   :    12.43   Mean   :  0.3244   Mean   : 0.4977  \n",
       " 3rd Qu.:2.000   3rd Qu.:    14.00   3rd Qu.:  0.5000   3rd Qu.: 0.5000  \n",
       " Max.   :4.000   Max.   :126348.88   Max.   : 16.3800   Max.   :36.4400  \n",
       "                                                                         \n",
       "   tip_amount       tolls_amount      improvement_surcharge  total_amount      \n",
       " Min.   : -2.700   Min.   : -5.5400   Min.   :-0.3000       Min.   :  -376.30  \n",
       " 1st Qu.:  0.000   1st Qu.:  0.0000   1st Qu.: 0.3000       1st Qu.:     8.30  \n",
       " Median :  1.250   Median :  0.0000   Median : 0.3000       Median :    11.60  \n",
       " Mean   :  1.708   Mean   :  0.2847   Mean   : 0.2953       Mean   :    15.54  \n",
       " 3rd Qu.:  2.260   3rd Qu.:  0.0000   3rd Qu.: 0.3000       3rd Qu.:    17.15  \n",
       " Max.   :308.000   Max.   :816.8400   Max.   : 0.3000       Max.   :126366.58  \n",
       "                                                                               \n",
       "   RatecodeID    \n",
       " Min.   : 1.00   \n",
       " 1st Qu.: 1.00   \n",
       " Median : 1.00   \n",
       " Mean   : 1.04   \n",
       " 3rd Qu.: 1.00   \n",
       " Max.   :99.00   \n",
       " NA's   :540078  "
      ]
     },
     "metadata": {},
     "output_type": "display_data"
    }
   ],
   "source": [
    "summary(datos)"
   ]
  },
  {
   "cell_type": "code",
   "execution_count": 11,
   "id": "48a0118d",
   "metadata": {
    "vscode": {
     "languageId": "r"
    }
   },
   "outputs": [
    {
     "data": {
      "image/png": "[encoded data removed]",
      "text/plain": [
       "Plot with title \"Tarifa vs Tipo de Tarifa\""
      ]
     },
     "metadata": {
      "image/png": {
       "height": 420,
       "width": 420
      }
     },
     "output_type": "display_data"
    }
   ],
   "source": [
    "par(mfrow = c(2, 2))\n",
    "\n",
    "# 1. Relación más importante: distancia vs tarifa\n",
    "plot(datos$trip_distance, datos$fare_amount,\n",
    "     main = \"Tarifa vs Distancia del Viaje\",\n",
    "     xlab = \"Distancia (millas)\", ylab = \"Tarifa ($)\",\n",
    "     pch = 20, col = rgb(0, 0, 1, 0.3))\n",
    "\n",
    "# 2. Pasajeros vs tarifa\n",
    "plot(datos$passenger_count, datos$fare_amount,\n",
    "     main = \"Tarifa vs Número de Pasajeros\",\n",
    "     xlab = \"Pasajeros\", ylab = \"Tarifa ($)\",\n",
    "     pch = 20, col = rgb(0, 1, 0, 0.3))\n",
    "\n",
    "# 3. Longitud vs tarifa\n",
    "plot(datos$pickup_longitude, datos$fare_amount,\n",
    "     main = \"Tarifa vs Longitud de Origen\",\n",
    "     xlab = \"Longitud\", ylab = \"Tarifa ($)\",\n",
    "     pch = 20, col = rgb(1, 0, 0, 0.3))\n",
    "\n",
    "# 4. RateCodeID vs tarifa\n",
    "plot(datos$RateCodeID, datos$fare_amount,\n",
    "     main = \"Tarifa vs Tipo de Tarifa\",\n",
    "     xlab = \"RateCodeID\", ylab = \"Tarifa ($)\",\n",
    "     pch = 20, col = rgb(1, 0.5, 0, 0.3))\n",
    "\n",
    "par(mfrow = c(1, 1))"
   ]
  }
 ],
 "metadata": {
  "kernelspec": {
   "display_name": "R",
   "language": "R",
   "name": "ir"
  },
  "language_info": {
   "codemirror_mode": "r",
   "file_extension": ".r",
   "mimetype": "text/x-r-source",
   "name": "R",
   "pygments_lexer": "r",
   "version": "4.5.1"
  }
 },
 "nbformat": 4,
 "nbformat_minor": 5
}
