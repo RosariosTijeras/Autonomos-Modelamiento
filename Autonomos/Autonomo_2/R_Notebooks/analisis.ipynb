{
 "cells": [
  {
   "cell_type": "markdown",
   "id": "e5600faa",
   "metadata": {
    "vscode": {
     "languageId": "r"
    }
   },
   "source": [
    "# Universidad Nacional de Chimborazo\n",
    "\n",
    "**Facultad:** Facultad de Ingeniería  \n",
    "**Carrera:** Ciencia de Datos e IA  \n",
    "**Materia:** Modelamiento  \n",
    "**Docente:** Estalin Mejia H.  \n",
    "**Semestre:** Tercero\n",
    "\n",
    "---\n",
    "\n",
    "## Trabajo Autónomo 2\n",
    "\n",
    "### Análisis de Regresión Lineal Múltiple: Predicción de Arrestos en Crímenes de Chicago\n",
    "\n",
    "**Autores:**  \n",
    "- Alisson Atupaña\n",
    "- Mario Camacho\n",
    "- Lenin Lopez\n",
    "\n",
    "**Fecha:** 24 de octubre de 2025\n",
    "\n",
    "**Riobamba - Ecuador**\n",
    "\n",
    "---\n"
   ]
  },
  {
   "cell_type": "code",
   "execution_count": 3,
   "id": "bc3db070",
   "metadata": {
    "vscode": {
     "languageId": "r"
    }
   },
   "outputs": [
    {
     "name": "stdout",
     "output_type": "stream",
     "text": [
      "[1] \"Archivos CSV encontrados:\"\n",
      "[1] \"./yellow_tripdata_2015-01.csv\" \"./yellow_tripdata_2016-01.csv\"\n",
      "[3] \"./yellow_tripdata_2016-02.csv\" \"./yellow_tripdata_2016-03.csv\"\n",
      "[1] \"./yellow_tripdata_2015-01.csv\" \"./yellow_tripdata_2016-01.csv\"\n",
      "[3] \"./yellow_tripdata_2016-02.csv\" \"./yellow_tripdata_2016-03.csv\"\n"
     ]
    }
   ],
   "source": [
    "# Cargar las librerías necesarias\n",
    "library(readr)\n",
    "library(dplyr)\n",
    "\n",
    "# Establecer el directorio de trabajo\n",
    "setwd(\"C:/Users/mario/OneDrive/Documentos/Universidad/Tercer semestre/Modelamiento/Autonomos/Autonomo_2/R_Notebooks/archive\")\n",
    "\n",
    "# Listar todos los archivos CSV en el directorio\n",
    "archivos_csv <- list.files(pattern = \"*.csv\", full.names = TRUE)\n",
    "print(\"Archivos CSV encontrados:\")\n",
    "print(archivos_csv)"
   ]
  },
  {
   "cell_type": "code",
   "execution_count": 4,
   "id": "1a8b81ab",
   "metadata": {
    "vscode": {
     "languageId": "r"
    }
   },
   "outputs": [
    {
     "name": "stdout",
     "output_type": "stream",
     "text": [
      "[1] \"Leyendo archivo: yellow_tripdata_2015-01.csv\"\n",
      "[1] \"Columnas en yellow_tripdata_2015-01.csv : 19\"\n",
      " [1] \"VendorID\"              \"tpep_pickup_datetime\"  \"tpep_dropoff_datetime\"\n",
      " [4] \"passenger_count\"       \"trip_distance\"         \"pickup_longitude\"     \n",
      " [7] \"pickup_latitude\"       \"RateCodeID\"            \"store_and_fwd_flag\"   \n",
      "[10] \"dropoff_longitude\"     \"dropoff_latitude\"      \"payment_type\"         \n",
      "[13] \"fare_amount\"           \"extra\"                 \"mta_tax\"              \n",
      "[16] \"tip_amount\"            \"tolls_amount\"          \"improvement_surcharge\"\n",
      "[19] \"total_amount\"         \n",
      "[1] \"---\"\n",
      "[1] \"Leyendo archivo: yellow_tripdata_2016-01.csv\"\n",
      "[1] \"Columnas en yellow_tripdata_2016-01.csv : 19\"\n",
      " [1] \"VendorID\"              \"tpep_pickup_datetime\"  \"tpep_dropoff_datetime\"\n",
      " [4] \"passenger_count\"       \"trip_distance\"         \"pickup_longitude\"     \n",
      " [7] \"pickup_latitude\"       \"RatecodeID\"            \"store_and_fwd_flag\"   \n",
      "[10] \"dropoff_longitude\"     \"dropoff_latitude\"      \"payment_type\"         \n",
      "[13] \"fare_amount\"           \"extra\"                 \"mta_tax\"              \n",
      "[16] \"tip_amount\"            \"tolls_amount\"          \"improvement_surcharge\"\n",
      "[19] \"total_amount\"         \n",
      "[1] \"---\"\n",
      "[1] \"Leyendo archivo: yellow_tripdata_2016-02.csv\"\n",
      "[1] \"Columnas en yellow_tripdata_2016-02.csv : 19\"\n",
      " [1] \"VendorID\"              \"tpep_pickup_datetime\"  \"tpep_dropoff_datetime\"\n",
      " [4] \"passenger_count\"       \"trip_distance\"         \"pickup_longitude\"     \n",
      " [7] \"pickup_latitude\"       \"RatecodeID\"            \"store_and_fwd_flag\"   \n",
      "[10] \"dropoff_longitude\"     \"dropoff_latitude\"      \"payment_type\"         \n",
      "[13] \"fare_amount\"           \"extra\"                 \"mta_tax\"              \n",
      "[16] \"tip_amount\"            \"tolls_amount\"          \"improvement_surcharge\"\n",
      "[19] \"total_amount\"         \n",
      "[1] \"---\"\n",
      "[1] \"Leyendo archivo: yellow_tripdata_2016-03.csv\"\n",
      "[1] \"Columnas en yellow_tripdata_2016-03.csv : 19\"\n",
      " [1] \"VendorID\"              \"tpep_pickup_datetime\"  \"tpep_dropoff_datetime\"\n",
      " [4] \"passenger_count\"       \"trip_distance\"         \"pickup_longitude\"     \n",
      " [7] \"pickup_latitude\"       \"RatecodeID\"            \"store_and_fwd_flag\"   \n",
      "[10] \"dropoff_longitude\"     \"dropoff_latitude\"      \"payment_type\"         \n",
      "[13] \"fare_amount\"           \"extra\"                 \"mta_tax\"              \n",
      "[16] \"tip_amount\"            \"tolls_amount\"          \"improvement_surcharge\"\n",
      "[19] \"total_amount\"         \n",
      "[1] \"---\"\n"
     ]
    }
   ],
   "source": [
    "# Leer todos los archivos CSV y almacenar sus nombres de columnas\n",
    "lista_dataframes <- list()\n",
    "todas_las_columnas <- c()\n",
    "\n",
    "for (i in 1:length(archivos_csv)) {\n",
    "  archivo <- archivos_csv[i]\n",
    "  print(paste(\"Leyendo archivo:\", basename(archivo)))\n",
    "  \n",
    "  # Leer el archivo CSV\n",
    "  df <- read_csv(archivo, show_col_types = FALSE)\n",
    "  \n",
    "  # Guardar el dataframe en la lista\n",
    "  lista_dataframes[[basename(archivo)]] <- df\n",
    "  \n",
    "  # Obtener nombres de columnas y agregarlas al vector total\n",
    "  columnas_archivo <- names(df)\n",
    "  todas_las_columnas <- c(todas_las_columnas, columnas_archivo)\n",
    "  \n",
    "  print(paste(\"Columnas en\", basename(archivo), \":\", length(columnas_archivo)))\n",
    "  print(columnas_archivo)\n",
    "  print(\"---\")\n",
    "}"
   ]
  },
  {
   "cell_type": "code",
   "execution_count": 7,
   "id": "68ec6daf",
   "metadata": {
    "vscode": {
     "languageId": "r"
    }
   },
   "outputs": [
    {
     "name": "stdout",
     "output_type": "stream",
     "text": [
      "[1] \"=== RESUMEN DE ANÁLISIS ===\"\n"
     ]
    },
    {
     "name": "stdout",
     "output_type": "stream",
     "text": [
      "[1] \"Total de archivos CSV procesados: 4\"\n",
      "[1] \"Total de columnas (incluyendo duplicados): 76\"\n",
      "[1] \"Total de columnas ÚNICAS en la unión: 20\"\n",
      "[1] \"\"\n",
      "[1] \"Columnas únicas encontradas:\"\n",
      " [1] \"VendorID\"              \"tpep_pickup_datetime\"  \"tpep_dropoff_datetime\"\n",
      " [4] \"passenger_count\"       \"trip_distance\"         \"pickup_longitude\"     \n",
      " [7] \"pickup_latitude\"       \"RateCodeID\"            \"store_and_fwd_flag\"   \n",
      "[10] \"dropoff_longitude\"     \"dropoff_latitude\"      \"payment_type\"         \n",
      "[13] \"fare_amount\"           \"extra\"                 \"mta_tax\"              \n",
      "[16] \"tip_amount\"            \"tolls_amount\"          \"improvement_surcharge\"\n",
      "[19] \"total_amount\"          \"RatecodeID\"           \n"
     ]
    }
   ],
   "source": [
    "# Obtener columnas únicas de todos los datasets\n",
    "columnas_unicas <- unique(todas_las_columnas)\n",
    "\n",
    "# Mostrar resultados\n",
    "print(\"=== RESUMEN DE ANÁLISIS ===\")\n",
    "print(paste(\"Total de archivos CSV procesados:\", length(archivos_csv)))\n",
    "print(paste(\"Total de columnas (incluyendo duplicados):\", length(todas_las_columnas)))\n",
    "print(paste(\"Total de columnas ÚNICAS en la unión:\", length(columnas_unicas)))\n",
    "print(\"\")\n",
    "print(\"Columnas únicas encontradas:\")\n",
    "print(columnas_unicas)"
   ]
  },
  {
   "cell_type": "code",
   "execution_count": 8,
   "id": "45c8a2f1",
   "metadata": {
    "vscode": {
     "languageId": "r"
    }
   },
   "outputs": [
    {
     "name": "stdout",
     "output_type": "stream",
     "text": [
      "[1] \"=== ANÁLISIS DETALLADO POR ARCHIVO ===\"\n"
     ]
    },
    {
     "name": "stdout",
     "output_type": "stream",
     "text": [
      "[1] \"Archivo: yellow_tripdata_2015-01.csv\"\n",
      "[1] \"Filas: 12748986\"\n",
      "[1] \"Columnas: 19\"\n",
      "[1] \"Nombres de columnas:\"\n",
      " [1] \"VendorID\"              \"tpep_pickup_datetime\"  \"tpep_dropoff_datetime\"\n",
      " [4] \"passenger_count\"       \"trip_distance\"         \"pickup_longitude\"     \n",
      " [7] \"pickup_latitude\"       \"RateCodeID\"            \"store_and_fwd_flag\"   \n",
      "[10] \"dropoff_longitude\"     \"dropoff_latitude\"      \"payment_type\"         \n",
      "[13] \"fare_amount\"           \"extra\"                 \"mta_tax\"              \n",
      "[16] \"tip_amount\"            \"tolls_amount\"          \"improvement_surcharge\"\n",
      "[19] \"total_amount\"         \n",
      "[1] \"---\"\n",
      "[1] \"Archivo: yellow_tripdata_2016-01.csv\"\n",
      "[1] \"Filas: 10906858\"\n",
      "[1] \"Columnas: 19\"\n",
      "[1] \"Nombres de columnas:\"\n",
      " [1] \"VendorID\"              \"tpep_pickup_datetime\"  \"tpep_dropoff_datetime\"\n",
      " [4] \"passenger_count\"       \"trip_distance\"         \"pickup_longitude\"     \n",
      " [7] \"pickup_latitude\"       \"RatecodeID\"            \"store_and_fwd_flag\"   \n",
      "[10] \"dropoff_longitude\"     \"dropoff_latitude\"      \"payment_type\"         \n",
      "[13] \"fare_amount\"           \"extra\"                 \"mta_tax\"              \n",
      "[16] \"tip_amount\"            \"tolls_amount\"          \"improvement_surcharge\"\n",
      "[19] \"total_amount\"         \n",
      "[1] \"---\"\n",
      "[1] \"Archivo: yellow_tripdata_2016-02.csv\"\n",
      "[1] \"Filas: 11382049\"\n",
      "[1] \"Columnas: 19\"\n",
      "[1] \"Nombres de columnas:\"\n",
      " [1] \"VendorID\"              \"tpep_pickup_datetime\"  \"tpep_dropoff_datetime\"\n",
      " [4] \"passenger_count\"       \"trip_distance\"         \"pickup_longitude\"     \n",
      " [7] \"pickup_latitude\"       \"RatecodeID\"            \"store_and_fwd_flag\"   \n",
      "[10] \"dropoff_longitude\"     \"dropoff_latitude\"      \"payment_type\"         \n",
      "[13] \"fare_amount\"           \"extra\"                 \"mta_tax\"              \n",
      "[16] \"tip_amount\"            \"tolls_amount\"          \"improvement_surcharge\"\n",
      "[19] \"total_amount\"         \n",
      "[1] \"---\"\n",
      "[1] \"Archivo: yellow_tripdata_2016-03.csv\"\n",
      "[1] \"Filas: 12210952\"\n",
      "[1] \"Columnas: 19\"\n",
      "[1] \"Nombres de columnas:\"\n",
      " [1] \"VendorID\"              \"tpep_pickup_datetime\"  \"tpep_dropoff_datetime\"\n",
      " [4] \"passenger_count\"       \"trip_distance\"         \"pickup_longitude\"     \n",
      " [7] \"pickup_latitude\"       \"RatecodeID\"            \"store_and_fwd_flag\"   \n",
      "[10] \"dropoff_longitude\"     \"dropoff_latitude\"      \"payment_type\"         \n",
      "[13] \"fare_amount\"           \"extra\"                 \"mta_tax\"              \n",
      "[16] \"tip_amount\"            \"tolls_amount\"          \"improvement_surcharge\"\n",
      "[19] \"total_amount\"         \n",
      "[1] \"---\"\n"
     ]
    }
   ],
   "source": [
    "# Análisis adicional: mostrar qué columnas aparecen en cada archivo\n",
    "print(\"=== ANÁLISIS DETALLADO POR ARCHIVO ===\")\n",
    "for (nombre_archivo in names(lista_dataframes)) {\n",
    "  df <- lista_dataframes[[nombre_archivo]]\n",
    "  print(paste(\"Archivo:\", nombre_archivo))\n",
    "  print(paste(\"Filas:\", nrow(df)))\n",
    "  print(paste(\"Columnas:\", ncol(df)))\n",
    "  print(\"Nombres de columnas:\")\n",
    "  print(names(df))\n",
    "  print(\"---\")\n",
    "}"
   ]
  },
  {
   "cell_type": "code",
   "execution_count": 9,
   "id": "5504707f",
   "metadata": {
    "vscode": {
     "languageId": "r"
    }
   },
   "outputs": [
    {
     "name": "stdout",
     "output_type": "stream",
     "text": [
      "[1] \"=== CONTEO TOTAL DE DATOS ===\"\n",
      "[1] \"Archivo: yellow_tripdata_2015-01.csv - Filas: 12748986\"\n",
      "[1] \"Archivo: yellow_tripdata_2016-01.csv - Filas: 10906858\"\n",
      "[1] \"Archivo: yellow_tripdata_2016-02.csv - Filas: 11382049\"\n",
      "[1] \"Archivo: yellow_tripdata_2016-03.csv - Filas: 12210952\"\n",
      "[1] \"---\"\n",
      "[1] \"TOTAL DE DATOS (filas) en todos los datasets: 47248845\"\n",
      "[1] \"TOTAL DE ARCHIVOS: 4\"\n",
      "[1] \"PROMEDIO DE FILAS POR ARCHIVO: 11812211.25\"\n"
     ]
    }
   ],
   "source": [
    "# Calcular el total de filas (datos) de todos los datasets\n",
    "total_filas <- 0\n",
    "\n",
    "print(\"=== CONTEO TOTAL DE DATOS ===\")\n",
    "for (nombre_archivo in names(lista_dataframes)) {\n",
    "  df <- lista_dataframes[[nombre_archivo]]\n",
    "  filas_archivo <- nrow(df)\n",
    "  total_filas <- total_filas + filas_archivo\n",
    "  print(paste(\"Archivo:\", nombre_archivo, \"- Filas:\", filas_archivo))\n",
    "}\n",
    "\n",
    "print(\"---\")\n",
    "print(paste(\"TOTAL DE DATOS (filas) en todos los datasets:\", total_filas))\n",
    "print(paste(\"TOTAL DE ARCHIVOS:\", length(lista_dataframes)))\n",
    "print(paste(\"PROMEDIO DE FILAS POR ARCHIVO:\", round(total_filas / length(lista_dataframes), 2)))"
   ]
  },
  {
   "cell_type": "code",
   "execution_count": 10,
   "id": "4713df0a",
   "metadata": {
    "vscode": {
     "languageId": "r"
    }
   },
   "outputs": [
    {
     "name": "stdout",
     "output_type": "stream",
     "text": [
      "[1] \"Archivos 'datos_unidos.csv' y 'datos_unidos.rds' guardados exitosamente.\"\n"
     ]
    }
   ],
   "source": [
    "# Unir todos los dataframes en uno solo\n",
    "df_unido <- bind_rows(lista_dataframes, .id = \"archivo_origen\")\n",
    "\n",
    "# Guardar el dataframe unido como CSV\n",
    "write_csv(df_unido, \"datos_unidos.csv\")\n",
    "\n",
    "# Guardar el dataframe unido como RDS\n",
    "saveRDS(df_unido, \"datos_unidos.rds\")\n",
    "\n",
    "print(\"Archivos 'datos_unidos.csv' y 'datos_unidos.rds' guardados exitosamente.\")"
   ]
  },
  {
   "cell_type": "code",
   "execution_count": 2,
   "id": "e22479d0",
   "metadata": {
    "vscode": {
     "languageId": "r"
    }
   },
   "outputs": [],
   "source": [
    "data <- readRDS(\"datos_unidos.rds\")"
   ]
  },
  {
   "cell_type": "code",
   "execution_count": null,
   "id": "ca925f78",
   "metadata": {
    "vscode": {
     "languageId": "r"
    }
   },
   "outputs": [],
   "source": [
    "library(ggplot2)\n",
    "library(dplyr)\n",
    "library(ggpubr)\n",
    "library(gridExtra)\n",
    "library(plotly)\n",
    "library(htmlwidgets)\n",
    "glimpse(data)\n",
    "\n",
    "summary(data)"
   ]
  },
  {
   "cell_type": "code",
   "execution_count": 7,
   "id": "28c09019",
   "metadata": {
    "vscode": {
     "languageId": "r"
    }
   },
   "outputs": [
    {
     "name": "stdout",
     "output_type": "stream",
     "text": [
      "[1] \"Se han guardado 1 millón de datos aleatorios en 'datos_millon.rds'.\"\n"
     ]
    }
   ],
   "source": [
    "set.seed(123) # Para reproducibilidad\n",
    "data_millon <- data %>% sample_n(size = 1e6)\n",
    "saveRDS(data_millon, \"datos_millon.rds\")\n",
    "print(\"Se han guardado 1 millón de datos aleatorios en 'datos_millon.rds'.\")"
   ]
  },
  {
   "cell_type": "code",
   "execution_count": 1,
   "id": "f1cae8c6",
   "metadata": {
    "vscode": {
     "languageId": "r"
    }
   },
   "outputs": [
    {
     "name": "stderr",
     "output_type": "stream",
     "text": [
      "\n",
      "Adjuntando el paquete: 'dplyr'\n",
      "\n",
      "\n",
      "The following objects are masked from 'package:stats':\n",
      "\n",
      "    filter, lag\n",
      "\n",
      "\n",
      "The following objects are masked from 'package:base':\n",
      "\n",
      "    intersect, setdiff, setequal, union\n",
      "\n",
      "\n",
      "\n",
      "Adjuntando el paquete: 'gridExtra'\n",
      "\n",
      "\n",
      "The following object is masked from 'package:dplyr':\n",
      "\n",
      "    combine\n",
      "\n",
      "\n",
      "\n",
      "Adjuntando el paquete: 'plotly'\n",
      "\n",
      "\n",
      "The following object is masked from 'package:ggplot2':\n",
      "\n",
      "    last_plot\n",
      "\n",
      "\n",
      "The following object is masked from 'package:stats':\n",
      "\n",
      "    filter\n",
      "\n",
      "\n",
      "The following object is masked from 'package:graphics':\n",
      "\n",
      "    layout\n",
      "\n",
      "\n"
     ]
    },
    {
     "name": "stdout",
     "output_type": "stream",
     "text": [
      "Rows: 1,000,000\n",
      "Columns: 21\n",
      "$ archivo_origen        \u001b[3m\u001b[90m<chr>\u001b[39m\u001b[23m \"yellow_tripdata_2016-02.csv\"\u001b[90m, \u001b[39m\"yellow_tripdata_…\n",
      "$ VendorID              \u001b[3m\u001b[90m<dbl>\u001b[39m\u001b[23m 2\u001b[90m, \u001b[39m1\u001b[90m, \u001b[39m2\u001b[90m, \u001b[39m2\u001b[90m, \u001b[39m2\u001b[90m, \u001b[39m1\u001b[90m, \u001b[39m2\u001b[90m, \u001b[39m2\u001b[90m, \u001b[39m2\u001b[90m, \u001b[39m1\u001b[90m, \u001b[39m2\u001b[90m, \u001b[39m1\u001b[90m, \u001b[39m2\u001b[90m, \u001b[39m2\u001b[90m, \u001b[39m1\u001b[90m, \u001b[39m1\u001b[90m, \u001b[39m…\n",
      "$ tpep_pickup_datetime  \u001b[3m\u001b[90m<dttm>\u001b[39m\u001b[23m 2016-02-12 10:32:02\u001b[90m, \u001b[39m2015-01-07 18:35:31\u001b[90m, \u001b[39m2015-…\n",
      "$ tpep_dropoff_datetime \u001b[3m\u001b[90m<dttm>\u001b[39m\u001b[23m 2016-02-12 10:41:33\u001b[90m, \u001b[39m2015-01-07 18:42:18\u001b[90m, \u001b[39m2015-…\n",
      "$ passenger_count       \u001b[3m\u001b[90m<dbl>\u001b[39m\u001b[23m 5\u001b[90m, \u001b[39m2\u001b[90m, \u001b[39m1\u001b[90m, \u001b[39m3\u001b[90m, \u001b[39m5\u001b[90m, \u001b[39m1\u001b[90m, \u001b[39m1\u001b[90m, \u001b[39m1\u001b[90m, \u001b[39m1\u001b[90m, \u001b[39m1\u001b[90m, \u001b[39m1\u001b[90m, \u001b[39m1\u001b[90m, \u001b[39m1\u001b[90m, \u001b[39m1\u001b[90m, \u001b[39m1\u001b[90m, \u001b[39m1\u001b[90m, \u001b[39m…\n",
      "$ trip_distance         \u001b[3m\u001b[90m<dbl>\u001b[39m\u001b[23m 0.92\u001b[90m, \u001b[39m1.40\u001b[90m, \u001b[39m1.61\u001b[90m, \u001b[39m7.45\u001b[90m, \u001b[39m0.62\u001b[90m, \u001b[39m1.40\u001b[90m, \u001b[39m1.76\u001b[90m, \u001b[39m1.28\u001b[90m, \u001b[39m…\n",
      "$ pickup_longitude      \u001b[3m\u001b[90m<dbl>\u001b[39m\u001b[23m -73.98627\u001b[90m, \u001b[39m-73.95971\u001b[90m, \u001b[39m-73.97990\u001b[90m, \u001b[39m-73.99388\u001b[90m, \u001b[39m-73.…\n",
      "$ pickup_latitude       \u001b[3m\u001b[90m<dbl>\u001b[39m\u001b[23m 40.74573\u001b[90m, \u001b[39m40.77120\u001b[90m, \u001b[39m40.74250\u001b[90m, \u001b[39m40.75401\u001b[90m, \u001b[39m40.75758…\n",
      "$ RateCodeID            \u001b[3m\u001b[90m<dbl>\u001b[39m\u001b[23m \u001b[31mNA\u001b[39m\u001b[90m, \u001b[39m1\u001b[90m, \u001b[39m1\u001b[90m, \u001b[39m\u001b[31mNA\u001b[39m\u001b[90m, \u001b[39m\u001b[31mNA\u001b[39m\u001b[90m, \u001b[39m\u001b[31mNA\u001b[39m\u001b[90m, \u001b[39m\u001b[31mNA\u001b[39m\u001b[90m, \u001b[39m\u001b[31mNA\u001b[39m\u001b[90m, \u001b[39m\u001b[31mNA\u001b[39m\u001b[90m, \u001b[39m\u001b[31mNA\u001b[39m\u001b[90m, \u001b[39m\u001b[31mNA\u001b[39m\u001b[90m, \u001b[39m\u001b[31mNA\u001b[39m\u001b[90m, \u001b[39m\u001b[31mNA\u001b[39m…\n",
      "$ store_and_fwd_flag    \u001b[3m\u001b[90m<chr>\u001b[39m\u001b[23m \"N\"\u001b[90m, \u001b[39m\"N\"\u001b[90m, \u001b[39m\"N\"\u001b[90m, \u001b[39m\"N\"\u001b[90m, \u001b[39m\"N\"\u001b[90m, \u001b[39m\"N\"\u001b[90m, \u001b[39m\"N\"\u001b[90m, \u001b[39m\"N\"\u001b[90m, \u001b[39m\"N\"\u001b[90m, \u001b[39m\"N\"…\n",
      "$ dropoff_longitude     \u001b[3m\u001b[90m<dbl>\u001b[39m\u001b[23m -73.97687\u001b[90m, \u001b[39m-73.95339\u001b[90m, \u001b[39m-73.97578\u001b[90m, \u001b[39m-73.98604\u001b[90m, \u001b[39m-73.…\n",
      "$ dropoff_latitude      \u001b[3m\u001b[90m<dbl>\u001b[39m\u001b[23m 40.75492\u001b[90m, \u001b[39m40.78829\u001b[90m, \u001b[39m40.76081\u001b[90m, \u001b[39m40.69251\u001b[90m, \u001b[39m40.75010…\n",
      "$ payment_type          \u001b[3m\u001b[90m<dbl>\u001b[39m\u001b[23m 1\u001b[90m, \u001b[39m1\u001b[90m, \u001b[39m1\u001b[90m, \u001b[39m1\u001b[90m, \u001b[39m2\u001b[90m, \u001b[39m2\u001b[90m, \u001b[39m1\u001b[90m, \u001b[39m2\u001b[90m, \u001b[39m1\u001b[90m, \u001b[39m2\u001b[90m, \u001b[39m1\u001b[90m, \u001b[39m1\u001b[90m, \u001b[39m1\u001b[90m, \u001b[39m1\u001b[90m, \u001b[39m2\u001b[90m, \u001b[39m2\u001b[90m, \u001b[39m…\n",
      "$ fare_amount           \u001b[3m\u001b[90m<dbl>\u001b[39m\u001b[23m 7.5\u001b[90m, \u001b[39m7.0\u001b[90m, \u001b[39m10.0\u001b[90m, \u001b[39m32.5\u001b[90m, \u001b[39m4.5\u001b[90m, \u001b[39m7.0\u001b[90m, \u001b[39m10.0\u001b[90m, \u001b[39m7.5\u001b[90m, \u001b[39m11.5\u001b[90m,\u001b[39m…\n",
      "$ extra                 \u001b[3m\u001b[90m<dbl>\u001b[39m\u001b[23m 0.0\u001b[90m, \u001b[39m1.0\u001b[90m, \u001b[39m0.5\u001b[90m, \u001b[39m1.0\u001b[90m, \u001b[39m0.0\u001b[90m, \u001b[39m0.0\u001b[90m, \u001b[39m0.0\u001b[90m, \u001b[39m0.5\u001b[90m, \u001b[39m1.0\u001b[90m, \u001b[39m1.0…\n",
      "$ mta_tax               \u001b[3m\u001b[90m<dbl>\u001b[39m\u001b[23m 0.5\u001b[90m, \u001b[39m0.5\u001b[90m, \u001b[39m0.5\u001b[90m, \u001b[39m0.5\u001b[90m, \u001b[39m0.5\u001b[90m, \u001b[39m0.5\u001b[90m, \u001b[39m0.5\u001b[90m, \u001b[39m0.5\u001b[90m, \u001b[39m0.5\u001b[90m, \u001b[39m0.5…\n",
      "$ tip_amount            \u001b[3m\u001b[90m<dbl>\u001b[39m\u001b[23m 1.00\u001b[90m, \u001b[39m1.75\u001b[90m, \u001b[39m2.62\u001b[90m, \u001b[39m6.86\u001b[90m, \u001b[39m0.00\u001b[90m, \u001b[39m0.00\u001b[90m, \u001b[39m2.16\u001b[90m, \u001b[39m0.00\u001b[90m, \u001b[39m…\n",
      "$ tolls_amount          \u001b[3m\u001b[90m<dbl>\u001b[39m\u001b[23m 0.00\u001b[90m, \u001b[39m0.00\u001b[90m, \u001b[39m0.00\u001b[90m, \u001b[39m0.00\u001b[90m, \u001b[39m0.00\u001b[90m, \u001b[39m0.00\u001b[90m, \u001b[39m0.00\u001b[90m, \u001b[39m0.00\u001b[90m, \u001b[39m…\n",
      "$ improvement_surcharge \u001b[3m\u001b[90m<dbl>\u001b[39m\u001b[23m 0.3\u001b[90m, \u001b[39m0.3\u001b[90m, \u001b[39m0.3\u001b[90m, \u001b[39m0.3\u001b[90m, \u001b[39m0.3\u001b[90m, \u001b[39m0.3\u001b[90m, \u001b[39m0.3\u001b[90m, \u001b[39m0.3\u001b[90m, \u001b[39m0.3\u001b[90m, \u001b[39m0.3…\n",
      "$ total_amount          \u001b[3m\u001b[90m<dbl>\u001b[39m\u001b[23m 9.30\u001b[90m, \u001b[39m10.55\u001b[90m, \u001b[39m13.92\u001b[90m, \u001b[39m41.16\u001b[90m, \u001b[39m5.30\u001b[90m, \u001b[39m7.80\u001b[90m, \u001b[39m12.96\u001b[90m, \u001b[39m8.…\n",
      "$ RatecodeID            \u001b[3m\u001b[90m<dbl>\u001b[39m\u001b[23m 1\u001b[90m, \u001b[39m\u001b[31mNA\u001b[39m\u001b[90m, \u001b[39m\u001b[31mNA\u001b[39m\u001b[90m, \u001b[39m1\u001b[90m, \u001b[39m1\u001b[90m, \u001b[39m1\u001b[90m, \u001b[39m1\u001b[90m, \u001b[39m1\u001b[90m, \u001b[39m1\u001b[90m, \u001b[39m1\u001b[90m, \u001b[39m1\u001b[90m, \u001b[39m1\u001b[90m, \u001b[39m1\u001b[90m, \u001b[39m\u001b[31mNA\u001b[39m\u001b[90m, \u001b[39m1\u001b[90m, \u001b[39m…\n"
     ]
    },
    {
     "data": {
      "text/plain": [
       " archivo_origen        VendorID    tpep_pickup_datetime         \n",
       " Length:1000000     Min.   :1.00   Min.   :2015-01-01 00:00:08  \n",
       " Class :character   1st Qu.:1.00   1st Qu.:2015-01-30 08:48:58  \n",
       " Mode  :character   Median :2.00   Median :2016-02-01 05:53:50  \n",
       "                    Mean   :1.53   Mean   :2015-11-02 01:10:47  \n",
       "                    3rd Qu.:2.00   3rd Qu.:2016-03-02 07:12:13  \n",
       "                    Max.   :2.00   Max.   :2016-03-31 23:59:56  \n",
       "                                                                \n",
       " tpep_dropoff_datetime         passenger_count trip_distance      \n",
       " Min.   :2015-01-01 00:02:46   Min.   :0.000   Min.   :0.000e+00  \n",
       " 1st Qu.:2015-01-30 09:03:30   1st Qu.:1.000   1st Qu.:1.000e+00  \n",
       " Median :2016-02-01 06:11:03   Median :1.000   Median :1.700e+00  \n",
       " Mean   :2015-11-02 01:25:35   Mean   :1.668   Mean   :2.750e+01  \n",
       " 3rd Qu.:2016-03-02 07:25:16   3rd Qu.:2.000   3rd Qu.:3.100e+00  \n",
       " Max.   :2016-04-01 22:30:07   Max.   :9.000   Max.   :1.233e+07  \n",
       "                                                                  \n",
       " pickup_longitude  pickup_latitude    RateCodeID     store_and_fwd_flag\n",
       " Min.   :-121.93   Min.   :-77.04   Min.   : 1.00    Length:1000000    \n",
       " 1st Qu.: -73.99   1st Qu.: 40.74   1st Qu.: 1.00    Class :character  \n",
       " Median : -73.98   Median : 40.75   Median : 1.00    Mode  :character  \n",
       " Mean   : -72.77   Mean   : 40.09   Mean   : 1.04                      \n",
       " 3rd Qu.: -73.97   3rd Qu.: 40.77   3rd Qu.: 1.00                      \n",
       " Max.   :  38.90   Max.   : 59.10   Max.   :99.00                      \n",
       "                                    NA's   :730707                     \n",
       " dropoff_longitude dropoff_latitude  payment_type    fare_amount     \n",
       " Min.   :-705.82   Min.   :-77.04   Min.   :1.000   Min.   :-242.25  \n",
       " 1st Qu.: -73.99   1st Qu.: 40.73   1st Qu.:1.000   1st Qu.:   6.50  \n",
       " Median : -73.98   Median : 40.75   Median :1.000   Median :   9.00  \n",
       " Mean   : -72.83   Mean   : 40.12   Mean   :1.352   Mean   :  12.36  \n",
       " 3rd Qu.: -73.96   3rd Qu.: 40.77   3rd Qu.:2.000   3rd Qu.:  14.00  \n",
       " Max.   :  38.90   Max.   : 42.70   Max.   :4.000   Max.   :2020.37  \n",
       "                                                                     \n",
       "     extra            mta_tax          tip_amount      tolls_amount     \n",
       " Min.   :-4.5000   Min.   :-1.0000   Min.   :-15.00   Min.   :-12.5000  \n",
       " 1st Qu.: 0.0000   1st Qu.: 0.5000   1st Qu.:  0.00   1st Qu.:  0.0000  \n",
       " Median : 0.0000   Median : 0.5000   Median :  1.25   Median :  0.0000  \n",
       " Mean   : 0.3248   Mean   : 0.4977   Mean   :  1.71   Mean   :  0.2827  \n",
       " 3rd Qu.: 0.5000   3rd Qu.: 0.5000   3rd Qu.:  2.26   3rd Qu.:  0.0000  \n",
       " Max.   : 5.5000   Max.   : 1.7400   Max.   :370.00   Max.   :101.0800  \n",
       "                                                                        \n",
       " improvement_surcharge  total_amount       RatecodeID    \n",
       " Min.   :-0.3000       Min.   :-242.55   Min.   : 1.00   \n",
       " 1st Qu.: 0.3000       1st Qu.:   8.30   1st Qu.: 1.00   \n",
       " Median : 0.3000       Median :  11.60   Median : 1.00   \n",
       " Mean   : 0.2953       Mean   :  15.47   Mean   : 1.04   \n",
       " 3rd Qu.: 0.3000       3rd Qu.:  17.15   3rd Qu.: 1.00   \n",
       " Max.   : 0.3000       Max.   :2021.17   Max.   :99.00   \n",
       "                                         NA's   :269293  "
      ]
     },
     "metadata": {},
     "output_type": "display_data"
    }
   ],
   "source": [
    "data <- readRDS(\"datos.rds\")\n",
    "library(ggplot2)\n",
    "library(dplyr)\n",
    "library(ggpubr)\n",
    "library(gridExtra)\n",
    "library(plotly)\n",
    "library(htmlwidgets)\n",
    "glimpse(data)\n",
    "\n",
    "summary(data)"
   ]
  }
 ],
 "metadata": {
  "kernelspec": {
   "display_name": "R",
   "language": "R",
   "name": "ir"
  },
  "language_info": {
   "codemirror_mode": "r",
   "file_extension": ".r",
   "mimetype": "text/x-r-source",
   "name": "R",
   "pygments_lexer": "r",
   "version": "4.5.1"
  }
 },
 "nbformat": 4,
 "nbformat_minor": 5
}
