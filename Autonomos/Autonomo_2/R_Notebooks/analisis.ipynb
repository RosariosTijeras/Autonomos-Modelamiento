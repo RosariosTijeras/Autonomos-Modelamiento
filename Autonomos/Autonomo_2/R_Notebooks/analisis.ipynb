{
 "cells": [
  {
   "cell_type": "markdown",
   "id": "e5600faa",
   "metadata": {
    "vscode": {
     "languageId": "r"
    }
   },
   "source": [
    "# Universidad Nacional de Chimborazo\n",
    "\n",
    "**Facultad:** Facultad de Ingeniería  \n",
    "**Carrera:** Ciencia de Datos e IA  \n",
    "**Materia:** Modelamiento  \n",
    "**Docente:** Estalin Mejia H.  \n",
    "**Semestre:** Tercero\n",
    "\n",
    "---\n",
    "\n",
    "## Trabajo Autónomo 2\n",
    "\n",
    "### Análisis de Regresión Lineal Múltiple: Predicción de Arrestos en Crímenes de Chicago\n",
    "\n",
    "**Autores:**  \n",
    "- Alisson Atupaña\n",
    "- Mario Camacho\n",
    "- Lenin Lopez\n",
    "\n",
    "**Fecha:** 24 de octubre de 2025\n",
    "\n",
    "**Riobamba - Ecuador**\n",
    "\n",
    "---\n"
   ]
  },
  {
   "cell_type": "code",
   "execution_count": null,
   "id": "29d6282f",
   "metadata": {
    "vscode": {
     "languageId": "r"
    }
   },
   "outputs": [],
   "source": [
    "# Cargar el dataset datos.rds\n",
    "datos <- readRDS(\"datos.rds\")\n",
    "\n",
    "# Información básica del dataset\n",
    "print(\"=== INFORMACIÓN BÁSICA DEL DATASET ===\")\n",
    "print(paste(\"Dimensiones:\", nrow(datos), \"filas x\", ncol(datos), \"columnas\"))\n",
    "print(\"\")\n",
    "print(\"Estructura del dataset:\")\n",
    "str(datos)"
   ]
  },
  {
   "cell_type": "code",
   "execution_count": null,
   "id": "de9fda82",
   "metadata": {
    "vscode": {
     "languageId": "r"
    }
   },
   "outputs": [],
   "source": [
    "# Analizar tipos de variables\n",
    "print(\"=== ANÁLISIS DE VARIABLES ===\")\n",
    "print(\"Nombres de todas las columnas:\")\n",
    "print(names(datos))\n",
    "print(\"\")\n",
    "\n",
    "# Identificar variables numéricas (candidatas para Y)\n",
    "variables_numericas <- sapply(datos, is.numeric)\n",
    "print(\"Variables NUMÉRICAS (candidatas para variable dependiente Y):\")\n",
    "print(names(datos)[variables_numericas])\n",
    "print(\"\")\n",
    "\n",
    "# Identificar variables categóricas/texto (candidatas para X)\n",
    "variables_categoricas <- sapply(datos, function(x) is.character(x) | is.factor(x))\n",
    "print(\"Variables CATEGÓRICAS (candidatas para variables independientes X):\")\n",
    "print(names(datos)[variables_categoricas])"
   ]
  },
  {
   "cell_type": "code",
   "execution_count": null,
   "id": "45dcea77",
   "metadata": {
    "vscode": {
     "languageId": "r"
    }
   },
   "outputs": [],
   "source": [
    "# Resumen estadístico de variables numéricas\n",
    "print(\"=== RESUMEN ESTADÍSTICO DE VARIABLES NUMÉRICAS ===\")\n",
    "variables_num <- datos[, variables_numericas, drop = FALSE]\n",
    "if(ncol(variables_num) > 0) {\n",
    "  summary(variables_num)\n",
    "} else {\n",
    "  print(\"No hay variables numéricas en el dataset\")\n",
    "}\n",
    "\n",
    "# Verificar variabilidad (evitar constantes)\n",
    "print(\"=== VERIFICACIÓN DE VARIABILIDAD ===\")\n",
    "if(ncol(variables_num) > 0) {\n",
    "  varianza <- sapply(variables_num, var, na.rm = TRUE)\n",
    "  print(\"Varianza de cada variable numérica:\")\n",
    "  print(varianza)\n",
    "  \n",
    "  constantes <- names(varianza[varianza == 0 | is.na(varianza)])\n",
    "  if(length(constantes) > 0) {\n",
    "    print(\"⚠️ Variables constantes (no útiles para regresión):\")\n",
    "    print(constantes)\n",
    "  } else {\n",
    "    print(\"✅ Todas las variables numéricas tienen variabilidad\")\n",
    "  }\n",
    "}"
   ]
  },
  {
   "cell_type": "code",
   "execution_count": null,
   "id": "429e67e8",
   "metadata": {
    "vscode": {
     "languageId": "r"
    }
   },
   "outputs": [],
   "source": [
    "# Verificar valores faltantes\n",
    "print(\"=== VERIFICACIÓN DE VALORES FALTANTES ===\")\n",
    "valores_na <- sapply(datos, function(x) sum(is.na(x)))\n",
    "porcentaje_na <- round((valores_na / nrow(datos)) * 100, 2)\n",
    "\n",
    "tabla_na <- data.frame(\n",
    "  Variable = names(valores_na),\n",
    "  Valores_NA = valores_na,\n",
    "  Porcentaje_NA = porcentaje_na\n",
    ")\n",
    "\n",
    "print(\"Tabla de valores faltantes:\")\n",
    "print(tabla_na[tabla_na$Valores_NA > 0, ])\n",
    "\n",
    "if(sum(valores_na) == 0) {\n",
    "  print(\"✅ No hay valores faltantes en el dataset\")\n",
    "} else {\n",
    "  print(paste(\"⚠️ Total de valores faltantes:\", sum(valores_na)))\n",
    "}"
   ]
  },
  {
   "cell_type": "code",
   "execution_count": null,
   "id": "e4e8a689",
   "metadata": {
    "vscode": {
     "languageId": "r"
    }
   },
   "outputs": [],
   "source": [
    "# DIAGNÓSTICO FINAL: ¿Es adecuado para regresión lineal múltiple?\n",
    "print(\"=== DIAGNÓSTICO FINAL PARA REGRESIÓN LINEAL MÚLTIPLE ===\")\n",
    "\n",
    "# Criterio 1: Tamaño del dataset\n",
    "cat(\"1. TAMAÑO DEL DATASET:\\n\")\n",
    "if(nrow(datos) >= 1000) {\n",
    "  cat(\"✅ Suficientes observaciones:\", nrow(datos), \"filas (≥1000)\\n\")\n",
    "} else {\n",
    "  cat(\"⚠️ Pocas observaciones:\", nrow(datos), \"filas (<1000)\\n\")\n",
    "}\n",
    "\n",
    "# Criterio 2: Variables numéricas disponibles\n",
    "cat(\"\\n2. VARIABLES DEPENDIENTES CANDIDATAS (Y):\\n\")\n",
    "vars_num_sin_constantes <- names(variables_num)[sapply(variables_num, function(x) var(x, na.rm = TRUE) > 0)]\n",
    "if(length(vars_num_sin_constantes) > 0) {\n",
    "  cat(\"✅ Variables numéricas disponibles:\", length(vars_num_sin_constantes), \"\\n\")\n",
    "  cat(\"   Candidatas para Y:\", paste(vars_num_sin_constantes, collapse = \", \"), \"\\n\")\n",
    "} else {\n",
    "  cat(\"❌ No hay variables numéricas con variabilidad\\n\")\n",
    "}\n",
    "\n",
    "# Criterio 3: Variables independientes disponibles\n",
    "cat(\"\\n3. VARIABLES INDEPENDIENTES CANDIDATAS (X):\\n\")\n",
    "vars_categoricas_disponibles <- names(datos)[variables_categoricas]\n",
    "vars_numericas_para_x <- vars_num_sin_constantes[length(vars_num_sin_constantes) > 1]\n",
    "total_x <- length(vars_categoricas_disponibles) + length(vars_numericas_para_x)\n",
    "if(total_x >= 2) {\n",
    "  cat(\"✅ Variables independientes disponibles:\", total_x, \"\\n\")\n",
    "  if(length(vars_categoricas_disponibles) > 0) {\n",
    "    cat(\"   Categóricas:\", paste(head(vars_categoricas_disponibles, 3), collapse = \", \"), \n",
    "        if(length(vars_categoricas_disponibles) > 3) \"...\" else \"\", \"\\n\")\n",
    "  }\n",
    "  if(length(vars_numericas_para_x) > 0) {\n",
    "    cat(\"   Numéricas:\", paste(head(vars_numericas_para_x, 3), collapse = \", \"), \n",
    "        if(length(vars_numericas_para_x) > 3) \"...\" else \"\", \"\\n\")\n",
    "  }\n",
    "} else {\n",
    "  cat(\"⚠️ Pocas variables independientes disponibles:\", total_x, \"\\n\")\n",
    "}"
   ]
  },
  {
   "cell_type": "code",
   "execution_count": null,
   "id": "3d2f004c",
   "metadata": {
    "vscode": {
     "languageId": "r"
    }
   },
   "outputs": [],
   "source": [
    "# CONCLUSIÓN FINAL\n",
    "cat(\"\\n=== CONCLUSIÓN ===\\n\")\n",
    "criterios_cumplidos <- 0\n",
    "\n",
    "if(nrow(datos) >= 1000) criterios_cumplidos <- criterios_cumplidos + 1\n",
    "if(length(vars_num_sin_constantes) > 0) criterios_cumplidos <- criterios_cumplidos + 1\n",
    "if(total_x >= 2) criterios_cumplidos <- criterios_cumplidos + 1\n",
    "\n",
    "if(criterios_cumplidos == 3) {\n",
    "  cat(\"🎉 DATASET ADECUADO PARA REGRESIÓN LINEAL MÚLTIPLE\\n\")\n",
    "  cat(\"   ✅ Todos los criterios se cumplen\\n\")\n",
    "  cat(\"   📊 Puedes proceder con el análisis de regresión\\n\")\n",
    "} else if(criterios_cumplidos == 2) {\n",
    "  cat(\"⚠️  DATASET PARCIALMENTE ADECUADO\\n\")\n",
    "  cat(\"   🔧 Necesita algunas transformaciones\\n\")\n",
    "} else {\n",
    "  cat(\"❌ DATASET NO ADECUADO PARA REGRESIÓN LINEAL MÚLTIPLE\\n\")\n",
    "  cat(\"   🔄 Considera otro dataset o modificaciones importantes\\n\")\n",
    "}\n",
    "\n",
    "cat(\"\\nCriterios cumplidos:\", criterios_cumplidos, \"de 3\\n\")"
   ]
  }
 ],
 "metadata": {
  "kernelspec": {
   "display_name": "R",
   "language": "R",
   "name": "ir"
  },
  "language_info": {
   "codemirror_mode": "r",
   "file_extension": ".r",
   "mimetype": "text/x-r-source",
   "name": "R",
   "pygments_lexer": "r",
   "version": "4.5.1"
  }
 },
 "nbformat": 4,
 "nbformat_minor": 5
}
