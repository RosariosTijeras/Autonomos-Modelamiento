{
 "cells": [
  {
   "cell_type": "markdown",
   "id": "e5600faa",
   "metadata": {
    "vscode": {
     "languageId": "r"
    }
   },
   "source": [
    "# Universidad Nacional de Chimborazo\n",
    "\n",
    "**Facultad:** Facultad de Ingeniería  \n",
    "**Carrera:** Ciencia de Datos e IA  \n",
    "**Materia:** Modelamiento  \n",
    "**Docente:** Estalin Mejia H.  \n",
    "**Semestre:** Tercero\n",
    "\n",
    "---\n",
    "\n",
    "## Trabajo Autónomo 2\n",
    "\n",
    "### Análisis de Regresión Lineal Múltiple: Predicción de Arrestos en Crímenes de Chicago\n",
    "\n",
    "**Autores:**  \n",
    "- Alisson Atupaña\n",
    "- Mario Camacho\n",
    "- Lenin Lopez\n",
    "\n",
    "**Fecha:** 24 de octubre de 2025\n",
    "\n",
    "**Riobamba - Ecuador**\n",
    "\n",
    "---\n"
   ]
  },
  {
   "cell_type": "code",
   "execution_count": 3,
   "id": "bc3db070",
   "metadata": {
    "vscode": {
     "languageId": "r"
    }
   },
   "outputs": [
    {
     "name": "stdout",
     "output_type": "stream",
     "text": [
      "[1] \"Archivos CSV encontrados:\"\n",
      "[1] \"./yellow_tripdata_2015-01.csv\" \"./yellow_tripdata_2016-01.csv\"\n",
      "[3] \"./yellow_tripdata_2016-02.csv\" \"./yellow_tripdata_2016-03.csv\"\n",
      "[1] \"./yellow_tripdata_2015-01.csv\" \"./yellow_tripdata_2016-01.csv\"\n",
      "[3] \"./yellow_tripdata_2016-02.csv\" \"./yellow_tripdata_2016-03.csv\"\n"
     ]
    }
   ],
   "source": [
    "# Cargar las librerías necesarias\n",
    "library(readr)\n",
    "library(dplyr)\n",
    "\n",
    "# Establecer el directorio de trabajo\n",
    "setwd(\"C:/Users/mario/OneDrive/Documentos/Universidad/Tercer semestre/Modelamiento/Autonomos/Autonomo_2/R_Notebooks/archive\")\n",
    "\n",
    "# Listar todos los archivos CSV en el directorio\n",
    "archivos_csv <- list.files(pattern = \"*.csv\", full.names = TRUE)\n",
    "print(\"Archivos CSV encontrados:\")\n",
    "print(archivos_csv)"
   ]
  },
  {
   "cell_type": "code",
   "execution_count": 4,
   "id": "1a8b81ab",
   "metadata": {
    "vscode": {
     "languageId": "r"
    }
   },
   "outputs": [
    {
     "name": "stdout",
     "output_type": "stream",
     "text": [
      "[1] \"Leyendo archivo: yellow_tripdata_2015-01.csv\"\n",
      "[1] \"Columnas en yellow_tripdata_2015-01.csv : 19\"\n",
      " [1] \"VendorID\"              \"tpep_pickup_datetime\"  \"tpep_dropoff_datetime\"\n",
      " [4] \"passenger_count\"       \"trip_distance\"         \"pickup_longitude\"     \n",
      " [7] \"pickup_latitude\"       \"RateCodeID\"            \"store_and_fwd_flag\"   \n",
      "[10] \"dropoff_longitude\"     \"dropoff_latitude\"      \"payment_type\"         \n",
      "[13] \"fare_amount\"           \"extra\"                 \"mta_tax\"              \n",
      "[16] \"tip_amount\"            \"tolls_amount\"          \"improvement_surcharge\"\n",
      "[19] \"total_amount\"         \n",
      "[1] \"---\"\n",
      "[1] \"Leyendo archivo: yellow_tripdata_2016-01.csv\"\n",
      "[1] \"Columnas en yellow_tripdata_2016-01.csv : 19\"\n",
      " [1] \"VendorID\"              \"tpep_pickup_datetime\"  \"tpep_dropoff_datetime\"\n",
      " [4] \"passenger_count\"       \"trip_distance\"         \"pickup_longitude\"     \n",
      " [7] \"pickup_latitude\"       \"RatecodeID\"            \"store_and_fwd_flag\"   \n",
      "[10] \"dropoff_longitude\"     \"dropoff_latitude\"      \"payment_type\"         \n",
      "[13] \"fare_amount\"           \"extra\"                 \"mta_tax\"              \n",
      "[16] \"tip_amount\"            \"tolls_amount\"          \"improvement_surcharge\"\n",
      "[19] \"total_amount\"         \n",
      "[1] \"---\"\n",
      "[1] \"Leyendo archivo: yellow_tripdata_2016-02.csv\"\n",
      "[1] \"Columnas en yellow_tripdata_2016-02.csv : 19\"\n",
      " [1] \"VendorID\"              \"tpep_pickup_datetime\"  \"tpep_dropoff_datetime\"\n",
      " [4] \"passenger_count\"       \"trip_distance\"         \"pickup_longitude\"     \n",
      " [7] \"pickup_latitude\"       \"RatecodeID\"            \"store_and_fwd_flag\"   \n",
      "[10] \"dropoff_longitude\"     \"dropoff_latitude\"      \"payment_type\"         \n",
      "[13] \"fare_amount\"           \"extra\"                 \"mta_tax\"              \n",
      "[16] \"tip_amount\"            \"tolls_amount\"          \"improvement_surcharge\"\n",
      "[19] \"total_amount\"         \n",
      "[1] \"---\"\n",
      "[1] \"Leyendo archivo: yellow_tripdata_2016-03.csv\"\n",
      "[1] \"Columnas en yellow_tripdata_2016-03.csv : 19\"\n",
      " [1] \"VendorID\"              \"tpep_pickup_datetime\"  \"tpep_dropoff_datetime\"\n",
      " [4] \"passenger_count\"       \"trip_distance\"         \"pickup_longitude\"     \n",
      " [7] \"pickup_latitude\"       \"RatecodeID\"            \"store_and_fwd_flag\"   \n",
      "[10] \"dropoff_longitude\"     \"dropoff_latitude\"      \"payment_type\"         \n",
      "[13] \"fare_amount\"           \"extra\"                 \"mta_tax\"              \n",
      "[16] \"tip_amount\"            \"tolls_amount\"          \"improvement_surcharge\"\n",
      "[19] \"total_amount\"         \n",
      "[1] \"---\"\n"
     ]
    }
   ],
   "source": [
    "# Leer todos los archivos CSV y almacenar sus nombres de columnas\n",
    "lista_dataframes <- list()\n",
    "todas_las_columnas <- c()\n",
    "\n",
    "for (i in 1:length(archivos_csv)) {\n",
    "  archivo <- archivos_csv[i]\n",
    "  print(paste(\"Leyendo archivo:\", basename(archivo)))\n",
    "  \n",
    "  # Leer el archivo CSV\n",
    "  df <- read_csv(archivo, show_col_types = FALSE)\n",
    "  \n",
    "  # Guardar el dataframe en la lista\n",
    "  lista_dataframes[[basename(archivo)]] <- df\n",
    "  \n",
    "  # Obtener nombres de columnas y agregarlas al vector total\n",
    "  columnas_archivo <- names(df)\n",
    "  todas_las_columnas <- c(todas_las_columnas, columnas_archivo)\n",
    "  \n",
    "  print(paste(\"Columnas en\", basename(archivo), \":\", length(columnas_archivo)))\n",
    "  print(columnas_archivo)\n",
    "  print(\"---\")\n",
    "}"
   ]
  },
  {
   "cell_type": "code",
   "execution_count": 7,
   "id": "68ec6daf",
   "metadata": {
    "vscode": {
     "languageId": "r"
    }
   },
   "outputs": [
    {
     "name": "stdout",
     "output_type": "stream",
     "text": [
      "[1] \"=== RESUMEN DE ANÁLISIS ===\"\n"
     ]
    },
    {
     "name": "stdout",
     "output_type": "stream",
     "text": [
      "[1] \"Total de archivos CSV procesados: 4\"\n",
      "[1] \"Total de columnas (incluyendo duplicados): 76\"\n",
      "[1] \"Total de columnas ÚNICAS en la unión: 20\"\n",
      "[1] \"\"\n",
      "[1] \"Columnas únicas encontradas:\"\n",
      " [1] \"VendorID\"              \"tpep_pickup_datetime\"  \"tpep_dropoff_datetime\"\n",
      " [4] \"passenger_count\"       \"trip_distance\"         \"pickup_longitude\"     \n",
      " [7] \"pickup_latitude\"       \"RateCodeID\"            \"store_and_fwd_flag\"   \n",
      "[10] \"dropoff_longitude\"     \"dropoff_latitude\"      \"payment_type\"         \n",
      "[13] \"fare_amount\"           \"extra\"                 \"mta_tax\"              \n",
      "[16] \"tip_amount\"            \"tolls_amount\"          \"improvement_surcharge\"\n",
      "[19] \"total_amount\"          \"RatecodeID\"           \n"
     ]
    }
   ],
   "source": [
    "# Obtener columnas únicas de todos los datasets\n",
    "columnas_unicas <- unique(todas_las_columnas)\n",
    "\n",
    "# Mostrar resultados\n",
    "print(\"=== RESUMEN DE ANÁLISIS ===\")\n",
    "print(paste(\"Total de archivos CSV procesados:\", length(archivos_csv)))\n",
    "print(paste(\"Total de columnas (incluyendo duplicados):\", length(todas_las_columnas)))\n",
    "print(paste(\"Total de columnas ÚNICAS en la unión:\", length(columnas_unicas)))\n",
    "print(\"\")\n",
    "print(\"Columnas únicas encontradas:\")\n",
    "print(columnas_unicas)"
   ]
  },
  {
   "cell_type": "code",
   "execution_count": 8,
   "id": "45c8a2f1",
   "metadata": {
    "vscode": {
     "languageId": "r"
    }
   },
   "outputs": [
    {
     "name": "stdout",
     "output_type": "stream",
     "text": [
      "[1] \"=== ANÁLISIS DETALLADO POR ARCHIVO ===\"\n"
     ]
    },
    {
     "name": "stdout",
     "output_type": "stream",
     "text": [
      "[1] \"Archivo: yellow_tripdata_2015-01.csv\"\n",
      "[1] \"Filas: 12748986\"\n",
      "[1] \"Columnas: 19\"\n",
      "[1] \"Nombres de columnas:\"\n",
      " [1] \"VendorID\"              \"tpep_pickup_datetime\"  \"tpep_dropoff_datetime\"\n",
      " [4] \"passenger_count\"       \"trip_distance\"         \"pickup_longitude\"     \n",
      " [7] \"pickup_latitude\"       \"RateCodeID\"            \"store_and_fwd_flag\"   \n",
      "[10] \"dropoff_longitude\"     \"dropoff_latitude\"      \"payment_type\"         \n",
      "[13] \"fare_amount\"           \"extra\"                 \"mta_tax\"              \n",
      "[16] \"tip_amount\"            \"tolls_amount\"          \"improvement_surcharge\"\n",
      "[19] \"total_amount\"         \n",
      "[1] \"---\"\n",
      "[1] \"Archivo: yellow_tripdata_2016-01.csv\"\n",
      "[1] \"Filas: 10906858\"\n",
      "[1] \"Columnas: 19\"\n",
      "[1] \"Nombres de columnas:\"\n",
      " [1] \"VendorID\"              \"tpep_pickup_datetime\"  \"tpep_dropoff_datetime\"\n",
      " [4] \"passenger_count\"       \"trip_distance\"         \"pickup_longitude\"     \n",
      " [7] \"pickup_latitude\"       \"RatecodeID\"            \"store_and_fwd_flag\"   \n",
      "[10] \"dropoff_longitude\"     \"dropoff_latitude\"      \"payment_type\"         \n",
      "[13] \"fare_amount\"           \"extra\"                 \"mta_tax\"              \n",
      "[16] \"tip_amount\"            \"tolls_amount\"          \"improvement_surcharge\"\n",
      "[19] \"total_amount\"         \n",
      "[1] \"---\"\n",
      "[1] \"Archivo: yellow_tripdata_2016-02.csv\"\n",
      "[1] \"Filas: 11382049\"\n",
      "[1] \"Columnas: 19\"\n",
      "[1] \"Nombres de columnas:\"\n",
      " [1] \"VendorID\"              \"tpep_pickup_datetime\"  \"tpep_dropoff_datetime\"\n",
      " [4] \"passenger_count\"       \"trip_distance\"         \"pickup_longitude\"     \n",
      " [7] \"pickup_latitude\"       \"RatecodeID\"            \"store_and_fwd_flag\"   \n",
      "[10] \"dropoff_longitude\"     \"dropoff_latitude\"      \"payment_type\"         \n",
      "[13] \"fare_amount\"           \"extra\"                 \"mta_tax\"              \n",
      "[16] \"tip_amount\"            \"tolls_amount\"          \"improvement_surcharge\"\n",
      "[19] \"total_amount\"         \n",
      "[1] \"---\"\n",
      "[1] \"Archivo: yellow_tripdata_2016-03.csv\"\n",
      "[1] \"Filas: 12210952\"\n",
      "[1] \"Columnas: 19\"\n",
      "[1] \"Nombres de columnas:\"\n",
      " [1] \"VendorID\"              \"tpep_pickup_datetime\"  \"tpep_dropoff_datetime\"\n",
      " [4] \"passenger_count\"       \"trip_distance\"         \"pickup_longitude\"     \n",
      " [7] \"pickup_latitude\"       \"RatecodeID\"            \"store_and_fwd_flag\"   \n",
      "[10] \"dropoff_longitude\"     \"dropoff_latitude\"      \"payment_type\"         \n",
      "[13] \"fare_amount\"           \"extra\"                 \"mta_tax\"              \n",
      "[16] \"tip_amount\"            \"tolls_amount\"          \"improvement_surcharge\"\n",
      "[19] \"total_amount\"         \n",
      "[1] \"---\"\n"
     ]
    }
   ],
   "source": [
    "# Análisis adicional: mostrar qué columnas aparecen en cada archivo\n",
    "print(\"=== ANÁLISIS DETALLADO POR ARCHIVO ===\")\n",
    "for (nombre_archivo in names(lista_dataframes)) {\n",
    "  df <- lista_dataframes[[nombre_archivo]]\n",
    "  print(paste(\"Archivo:\", nombre_archivo))\n",
    "  print(paste(\"Filas:\", nrow(df)))\n",
    "  print(paste(\"Columnas:\", ncol(df)))\n",
    "  print(\"Nombres de columnas:\")\n",
    "  print(names(df))\n",
    "  print(\"---\")\n",
    "}"
   ]
  },
  {
   "cell_type": "code",
   "execution_count": 9,
   "id": "5504707f",
   "metadata": {
    "vscode": {
     "languageId": "r"
    }
   },
   "outputs": [
    {
     "name": "stdout",
     "output_type": "stream",
     "text": [
      "[1] \"=== CONTEO TOTAL DE DATOS ===\"\n",
      "[1] \"Archivo: yellow_tripdata_2015-01.csv - Filas: 12748986\"\n",
      "[1] \"Archivo: yellow_tripdata_2016-01.csv - Filas: 10906858\"\n",
      "[1] \"Archivo: yellow_tripdata_2016-02.csv - Filas: 11382049\"\n",
      "[1] \"Archivo: yellow_tripdata_2016-03.csv - Filas: 12210952\"\n",
      "[1] \"---\"\n",
      "[1] \"TOTAL DE DATOS (filas) en todos los datasets: 47248845\"\n",
      "[1] \"TOTAL DE ARCHIVOS: 4\"\n",
      "[1] \"PROMEDIO DE FILAS POR ARCHIVO: 11812211.25\"\n"
     ]
    }
   ],
   "source": [
    "# Calcular el total de filas (datos) de todos los datasets\n",
    "total_filas <- 0\n",
    "\n",
    "print(\"=== CONTEO TOTAL DE DATOS ===\")\n",
    "for (nombre_archivo in names(lista_dataframes)) {\n",
    "  df <- lista_dataframes[[nombre_archivo]]\n",
    "  filas_archivo <- nrow(df)\n",
    "  total_filas <- total_filas + filas_archivo\n",
    "  print(paste(\"Archivo:\", nombre_archivo, \"- Filas:\", filas_archivo))\n",
    "}\n",
    "\n",
    "print(\"---\")\n",
    "print(paste(\"TOTAL DE DATOS (filas) en todos los datasets:\", total_filas))\n",
    "print(paste(\"TOTAL DE ARCHIVOS:\", length(lista_dataframes)))\n",
    "print(paste(\"PROMEDIO DE FILAS POR ARCHIVO:\", round(total_filas / length(lista_dataframes), 2)))"
   ]
  },
  {
   "cell_type": "code",
   "execution_count": 10,
   "id": "4713df0a",
   "metadata": {
    "vscode": {
     "languageId": "r"
    }
   },
   "outputs": [
    {
     "name": "stdout",
     "output_type": "stream",
     "text": [
      "[1] \"Archivos 'datos_unidos.csv' y 'datos_unidos.rds' guardados exitosamente.\"\n"
     ]
    }
   ],
   "source": [
    "# Unir todos los dataframes en uno solo\n",
    "df_unido <- bind_rows(lista_dataframes, .id = \"archivo_origen\")\n",
    "\n",
    "# Guardar el dataframe unido como CSV\n",
    "write_csv(df_unido, \"datos_unidos.csv\")\n",
    "\n",
    "# Guardar el dataframe unido como RDS\n",
    "saveRDS(df_unido, \"datos_unidos.rds\")\n",
    "\n",
    "print(\"Archivos 'datos_unidos.csv' y 'datos_unidos.rds' guardados exitosamente.\")"
   ]
  }
 ],
 "metadata": {
  "kernelspec": {
   "display_name": "R",
   "language": "R",
   "name": "ir"
  },
  "language_info": {
   "codemirror_mode": "r",
   "file_extension": ".r",
   "mimetype": "text/x-r-source",
   "name": "R",
   "pygments_lexer": "r",
   "version": "4.5.1"
  }
 },
 "nbformat": 4,
 "nbformat_minor": 5
}
