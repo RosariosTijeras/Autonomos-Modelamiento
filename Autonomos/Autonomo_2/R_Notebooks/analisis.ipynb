{
 "cells": [
  {
   "cell_type": "markdown",
   "id": "89430d71",
   "metadata": {},
   "source": [
    "## Universidad Nacional de Chimborazo\n",
    "\n",
    "**Facultad:** Facultad de Ingeniería  \n",
    "**Carrera:** Ciencia de Datos e IA  \n",
    "**Materia:** Modelamiento  \n",
    "**Docente:** Estalin Mejia H.  \n",
    "**Semestre:** Tercero\n",
    "\n",
    "---\n",
    "\n",
    "### Trabajo Autónomo 2\n",
    "\n",
    "### Análisis de Regresión Lineal Múltiple: Predicción de Tarifas de Taxis en Nueva York\n",
    "\n",
    "**Autores:**  \n",
    "- Alisson Atupaña\n",
    "- Mario Camacho\n",
    "- Lenin Lopez\n",
    "\n",
    "**Fecha:** 26 de octubre de 2025\n",
    "\n",
    "**Riobamba - Ecuador**\n",
    "\n",
    "---\n"
   ]
  },
  {
   "cell_type": "markdown",
   "id": "deb656e8",
   "metadata": {},
   "source": [
    "#\n",
    "<div style=\"display:flex; align-items:flex-start; gap:14px; background:linear-gradient(90deg,#1e3a8a,#3b82f6); padding:20px; border-radius:12px; box-shadow:0 8px 20px rgba(30,58,138,0.25); color:#fff; max-width:fit-content; width:min(900px,100%); margin:16px auto; box-sizing:border-box;\">\n",
    "    <div style=\"width:40px; height:40px; display:flex; align-items:center; justify-content:center; background:rgba(255,255,255,0.1); border-radius:8px; font-size:1.8rem; line-height:1;\">📋</div>\n",
    "    <div>\n",
    "        <div style=\"font-weight:900; font-size:1.8rem; letter-spacing:0.5px;\">Introducción y Contexto</div>\n",
    "        <div style=\"opacity:0.9; font-size:0.95rem; margin-top:6px;\">Exploración inicial del conjunto de datos de tarifas de taxis en Nueva York, incluyendo carga de librerías, importación de datos y análisis estructural para preparar el análisis de regresión lineal múltiple.</div>\n",
    "    </div>\n",
    "</div>"
   ]
  },
  {
   "cell_type": "markdown",
   "id": "e84f3ac0",
   "metadata": {
    "vscode": {
     "languageId": "r"
    }
   },
   "source": [
    "##\n",
    "<div style=\"display:flex; align-items:flex-start; gap:12px; background:linear-gradient(90deg,#ea580c,#f97316); padding:16px; border-radius:10px; box-shadow:0 6px 15px rgba(234,88,12,0.2); color:#fff; max-width:fit-content; width:min(850px,100%); margin:12px auto; margin-left:40px; box-sizing:border-box;\">\n",
    "    <div style=\"width:32px; height:32px; display:flex; align-items:center; justify-content:center; background:rgba(255,255,255,0.15); border-radius:6px; font-size:1.45rem; line-height:1;\">🔍</div>\n",
    "    <div>\n",
    "        <div style=\"font-weight:800; font-size:1.35rem; letter-spacing:0.3px;\">Instalacion y carga de librerías</div>\n",
    "    </div>\n",
    "</div>"
   ]
  },
  {
   "cell_type": "markdown",
   "id": "d633b030",
   "metadata": {},
   "source": [
    "###\n",
    "<div style=\"display:flex; align-items:flex-start; gap:12px; background:linear-gradient(90deg,#ca8a04,#eab308); padding:12px; border-radius:8px; box-shadow:0 4px 12px rgba(202,138,4,0.15); color:#fff; max-width:fit-content; width:min(750px,100%); margin:8px auto; margin-left:120px; box-sizing:border-box;\">\n",
    "    <div style=\"width:24px; height:24px; display:flex; align-items:center; justify-content:center; background:rgba(255,255,255,0.15); border-radius:4px; font-size:1rem; line-height:1;\">⚠️</div>\n",
    "    <div>\n",
    "        <div style=\"font-weight:600; font-size:1rem;\">Advertencia:</div>\n",
    "        <div style=\"opacity:0.85; font-size:0.8rem; margin-top:2px;\">Las liberias solo se deben instalar la primera vez.</div>\n",
    "    </div>\n",
    "</div>"
   ]
  },
  {
   "cell_type": "code",
   "execution_count": null,
   "id": "8ea04f4f",
   "metadata": {
    "vscode": {
     "languageId": "r"
    }
   },
   "outputs": [
    {
     "name": "stdout",
     "output_type": "stream",
     "text": [
      "package 'readr' successfully unpacked and MD5 sums checked\n"
     ]
    },
    {
     "name": "stderr",
     "output_type": "stream",
     "text": [
      "Warning message:\n",
      "\"cannot remove prior installation of package 'readr'\"\n",
      "Warning message in file.copy(savedcopy, lib, recursive = TRUE):\n",
      "\"problema al copiar C:\\Users\\mario\\AppData\\Local\\R\\win-library\\4.5\\00LOCK\\readr\\libs\\x64\\readr.dll  a C:\\Users\\mario\\AppData\\Local\\R\\win-library\\4.5\\readr\\libs\\x64\\readr.dll: Permission denied\"\n",
      "Warning message:\n",
      "\"restored 'readr'\"\n"
     ]
    },
    {
     "name": "stdout",
     "output_type": "stream",
     "text": [
      "package 'dplyr' successfully unpacked and MD5 sums checked\n"
     ]
    },
    {
     "name": "stderr",
     "output_type": "stream",
     "text": [
      "Warning message:\n",
      "\"cannot remove prior installation of package 'dplyr'\"\n",
      "Warning message in file.copy(savedcopy, lib, recursive = TRUE):\n",
      "\"problema al copiar C:\\Users\\mario\\AppData\\Local\\R\\win-library\\4.5\\00LOCK\\dplyr\\libs\\x64\\dplyr.dll  a C:\\Users\\mario\\AppData\\Local\\R\\win-library\\4.5\\dplyr\\libs\\x64\\dplyr.dll: Permission denied\"\n",
      "Warning message:\n",
      "\"restored 'dplyr'\"\n"
     ]
    },
    {
     "name": "stdout",
     "output_type": "stream",
     "text": [
      "package 'ggplot2' successfully unpacked and MD5 sums checked\n",
      "package 'car' successfully unpacked and MD5 sums checked\n",
      "package 'GGally' successfully unpacked and MD5 sums checked\n",
      "package 'gridExtra' successfully unpacked and MD5 sums checked\n",
      "package 'psych' successfully unpacked and MD5 sums checked\n",
      "package 'PerformanceAnalytics' successfully unpacked and MD5 sums checked\n"
     ]
    },
    {
     "name": "stderr",
     "output_type": "stream",
     "text": [
      "Warning message:\n",
      "\"cannot remove prior installation of package 'PerformanceAnalytics'\"\n",
      "Warning message in file.copy(savedcopy, lib, recursive = TRUE):\n",
      "\"problema al copiar C:\\Users\\mario\\AppData\\Local\\R\\win-library\\4.5\\00LOCK\\PerformanceAnalytics\\libs\\x64\\PerformanceAnalytics.dll  a C:\\Users\\mario\\AppData\\Local\\R\\win-library\\4.5\\PerformanceAnalytics\\libs\\x64\\PerformanceAnalytics.dll: Permission denied\"\n",
      "Warning message:\n",
      "\"restored 'PerformanceAnalytics'\"\n"
     ]
    }
   ],
   "source": [
    "install.packages(c(\"readr\", \"dplyr\", \"ggplot2\", \"car\", \"GGally\", \"gridExtra\", \"psych\", \"PerformanceAnalytics\", \"lubridate\"), verbose = FALSE, quiet = TRUE)"
   ]
  },
  {
   "cell_type": "code",
   "execution_count": null,
   "id": "0902f5eb",
   "metadata": {
    "vscode": {
     "languageId": "r"
    }
   },
   "outputs": [
    {
     "name": "stderr",
     "output_type": "stream",
     "text": [
      "\n",
      "Adjuntando el paquete: 'dplyr'\n",
      "\n",
      "\n",
      "The following objects are masked from 'package:stats':\n",
      "\n",
      "    filter, lag\n",
      "\n",
      "\n",
      "The following objects are masked from 'package:base':\n",
      "\n",
      "    intersect, setdiff, setequal, union\n",
      "\n",
      "\n",
      "Cargando paquete requerido: carData\n",
      "\n",
      "\n",
      "Adjuntando el paquete: 'car'\n",
      "\n",
      "\n",
      "The following object is masked from 'package:dplyr':\n",
      "\n",
      "    recode\n",
      "\n",
      "\n",
      "\n",
      "Adjuntando el paquete: 'gridExtra'\n",
      "\n",
      "\n",
      "The following object is masked from 'package:dplyr':\n",
      "\n",
      "    combine\n",
      "\n",
      "\n",
      "Cargando paquete requerido: xts\n",
      "\n",
      "Cargando paquete requerido: zoo\n",
      "\n",
      "\n",
      "Adjuntando el paquete: 'zoo'\n",
      "\n",
      "\n",
      "The following objects are masked from 'package:base':\n",
      "\n",
      "    as.Date, as.Date.numeric\n",
      "\n",
      "\n",
      "\n",
      "######################### Warning from 'xts' package ##########################\n",
      "#                                                                             #\n",
      "# The dplyr lag() function breaks how base R's lag() function is supposed to  #\n",
      "# work, which breaks lag(my_xts). Calls to lag(my_xts) that you type or       #\n",
      "# source() into this session won't work correctly.                            #\n",
      "#                                                                             #\n",
      "# Use stats::lag() to make sure you're not using dplyr::lag(), or you can add #\n",
      "# conflictRules('dplyr', exclude = 'lag') to your .Rprofile to stop           #\n",
      "# dplyr from breaking base R's lag() function.                                #\n",
      "#                                                                             #\n",
      "# Code in packages is not affected. It's protected by R's namespace mechanism #\n",
      "# Set `options(xts.warn_dplyr_breaks_lag = FALSE)` to suppress this warning.  #\n",
      "#                                                                             #\n",
      "###############################################################################\n",
      "\n",
      "\n",
      "Adjuntando el paquete: 'xts'\n",
      "\n",
      "\n",
      "The following objects are masked from 'package:dplyr':\n",
      "\n",
      "    first, last\n",
      "\n",
      "\n",
      "\n",
      "Adjuntando el paquete: 'PerformanceAnalytics'\n",
      "\n",
      "\n",
      "The following object is masked from 'package:graphics':\n",
      "\n",
      "    legend\n",
      "\n",
      "\n"
     ]
    }
   ],
   "source": [
    "library(readr) # para leer los datos\n",
    "library(dplyr) # para manipulación de datos\n",
    "library(ggplot2) # para visualización de los datos\n",
    "library(car) # para análisis de regresión lineal\n",
    "library(GGally) # para gráficos correlacionales\n",
    "library(gridExtra) # para organizar múltiples gráficos\n",
    "library(PerformanceAnalytics) # para análisis de correlación avanzada\n",
    "library(lubridate) # para manipulación de fechas y horas"
   ]
  },
  {
   "cell_type": "markdown",
   "id": "13bf5de4",
   "metadata": {},
   "source": [
    "##\n",
    "<div style=\"display:flex; align-items:flex-start; gap:12px; background:linear-gradient(90deg,#ea580c,#f97316); padding:16px; border-radius:10px; box-shadow:0 6px 15px rgba(234,88,12,0.2); color:#fff; max-width:fit-content; width:min(850px,100%); margin:12px auto; margin-left:40px; box-sizing:border-box;\">\n",
    "    <div style=\"width:32px; height:32px; display:flex; align-items:center; justify-content:center; background:rgba(255,255,255,0.15); border-radius:6px; font-size:1.45rem; line-height:1;\">🔍</div>\n",
    "    <div>\n",
    "        <div style=\"font-weight:800; font-size:1.35rem; letter-spacing:0.3px;\">Carga de los datos y estructura del dataset</div>\n",
    "    </div>\n",
    "</div>"
   ]
  },
  {
   "cell_type": "code",
   "execution_count": 3,
   "id": "e84c34cc",
   "metadata": {
    "vscode": {
     "languageId": "r"
    }
   },
   "outputs": [],
   "source": [
    "datos <- readRDS(\"datos.rds\") "
   ]
  },
  {
   "cell_type": "code",
   "execution_count": 4,
   "id": "28c4a136",
   "metadata": {
    "vscode": {
     "languageId": "r"
    }
   },
   "outputs": [
    {
     "data": {
      "text/html": [
       "<table class=\"dataframe\">\n",
       "<caption>A tibble: 6 × 20</caption>\n",
       "<thead>\n",
       "\t<tr><th scope=col>VendorID</th><th scope=col>tpep_pickup_datetime</th><th scope=col>tpep_dropoff_datetime</th><th scope=col>passenger_count</th><th scope=col>trip_distance</th><th scope=col>pickup_longitude</th><th scope=col>pickup_latitude</th><th scope=col>RateCodeID</th><th scope=col>store_and_fwd_flag</th><th scope=col>dropoff_longitude</th><th scope=col>dropoff_latitude</th><th scope=col>payment_type</th><th scope=col>fare_amount</th><th scope=col>extra</th><th scope=col>mta_tax</th><th scope=col>tip_amount</th><th scope=col>tolls_amount</th><th scope=col>improvement_surcharge</th><th scope=col>total_amount</th><th scope=col>RatecodeID</th></tr>\n",
       "\t<tr><th scope=col>&lt;dbl&gt;</th><th scope=col>&lt;dttm&gt;</th><th scope=col>&lt;dttm&gt;</th><th scope=col>&lt;dbl&gt;</th><th scope=col>&lt;dbl&gt;</th><th scope=col>&lt;dbl&gt;</th><th scope=col>&lt;dbl&gt;</th><th scope=col>&lt;dbl&gt;</th><th scope=col>&lt;chr&gt;</th><th scope=col>&lt;dbl&gt;</th><th scope=col>&lt;dbl&gt;</th><th scope=col>&lt;dbl&gt;</th><th scope=col>&lt;dbl&gt;</th><th scope=col>&lt;dbl&gt;</th><th scope=col>&lt;dbl&gt;</th><th scope=col>&lt;dbl&gt;</th><th scope=col>&lt;dbl&gt;</th><th scope=col>&lt;dbl&gt;</th><th scope=col>&lt;dbl&gt;</th><th scope=col>&lt;dbl&gt;</th></tr>\n",
       "</thead>\n",
       "<tbody>\n",
       "\t<tr><td>2</td><td>2016-03-27 21:14:57</td><td>2016-03-27 21:20:27</td><td>1</td><td>1.12</td><td>-73.98667</td><td>40.72813</td><td>NA</td><td>N</td><td>-73.98641</td><td>40.73848</td><td>1</td><td> 6.0</td><td>0.5</td><td>0.5</td><td>1.46</td><td>0</td><td>0.3</td><td> 8.76</td><td> 1</td></tr>\n",
       "\t<tr><td>2</td><td>2016-02-20 18:15:45</td><td>2016-02-20 18:46:13</td><td>1</td><td>3.80</td><td>-73.98663</td><td>40.77701</td><td>NA</td><td>N</td><td>-74.00238</td><td>40.73035</td><td>1</td><td>19.5</td><td>0.0</td><td>0.5</td><td>1.50</td><td>0</td><td>0.3</td><td>21.80</td><td> 1</td></tr>\n",
       "\t<tr><td>2</td><td>2016-01-02 17:26:54</td><td>2016-01-02 17:31:58</td><td>2</td><td>0.73</td><td>-73.97395</td><td>40.76041</td><td>NA</td><td>N</td><td>-73.96369</td><td>40.75890</td><td>1</td><td> 5.5</td><td>0.0</td><td>0.5</td><td>1.00</td><td>0</td><td>0.3</td><td> 7.30</td><td> 1</td></tr>\n",
       "\t<tr><td>1</td><td>2016-01-29 14:13:50</td><td>2016-01-29 14:29:41</td><td>1</td><td>2.00</td><td>-73.98127</td><td>40.75839</td><td>NA</td><td>N</td><td>-73.98635</td><td>40.77897</td><td>1</td><td>11.5</td><td>0.0</td><td>0.5</td><td>1.50</td><td>0</td><td>0.3</td><td>13.80</td><td> 1</td></tr>\n",
       "\t<tr><td>2</td><td>2015-01-04 19:55:27</td><td>2015-01-04 20:00:53</td><td>1</td><td>0.78</td><td>-74.00253</td><td>40.75269</td><td> 1</td><td>N</td><td>-73.99132</td><td>40.75177</td><td>1</td><td> 5.5</td><td>0.0</td><td>0.5</td><td>1.10</td><td>0</td><td>0.3</td><td> 7.40</td><td>NA</td></tr>\n",
       "\t<tr><td>1</td><td>2015-01-15 13:23:40</td><td>2015-01-15 13:35:18</td><td>1</td><td>1.90</td><td>-73.98387</td><td>40.78062</td><td> 1</td><td>N</td><td>-73.96466</td><td>40.76981</td><td>1</td><td> 9.5</td><td>0.0</td><td>0.5</td><td>2.05</td><td>0</td><td>0.3</td><td>12.35</td><td>NA</td></tr>\n",
       "</tbody>\n",
       "</table>\n"
      ],
      "text/latex": [
       "A tibble: 6 × 20\n",
       "\\begin{tabular}{llllllllllllllllllll}\n",
       " VendorID & tpep\\_pickup\\_datetime & tpep\\_dropoff\\_datetime & passenger\\_count & trip\\_distance & pickup\\_longitude & pickup\\_latitude & RateCodeID & store\\_and\\_fwd\\_flag & dropoff\\_longitude & dropoff\\_latitude & payment\\_type & fare\\_amount & extra & mta\\_tax & tip\\_amount & tolls\\_amount & improvement\\_surcharge & total\\_amount & RatecodeID\\\\\n",
       " <dbl> & <dttm> & <dttm> & <dbl> & <dbl> & <dbl> & <dbl> & <dbl> & <chr> & <dbl> & <dbl> & <dbl> & <dbl> & <dbl> & <dbl> & <dbl> & <dbl> & <dbl> & <dbl> & <dbl>\\\\\n",
       "\\hline\n",
       "\t 2 & 2016-03-27 21:14:57 & 2016-03-27 21:20:27 & 1 & 1.12 & -73.98667 & 40.72813 & NA & N & -73.98641 & 40.73848 & 1 &  6.0 & 0.5 & 0.5 & 1.46 & 0 & 0.3 &  8.76 &  1\\\\\n",
       "\t 2 & 2016-02-20 18:15:45 & 2016-02-20 18:46:13 & 1 & 3.80 & -73.98663 & 40.77701 & NA & N & -74.00238 & 40.73035 & 1 & 19.5 & 0.0 & 0.5 & 1.50 & 0 & 0.3 & 21.80 &  1\\\\\n",
       "\t 2 & 2016-01-02 17:26:54 & 2016-01-02 17:31:58 & 2 & 0.73 & -73.97395 & 40.76041 & NA & N & -73.96369 & 40.75890 & 1 &  5.5 & 0.0 & 0.5 & 1.00 & 0 & 0.3 &  7.30 &  1\\\\\n",
       "\t 1 & 2016-01-29 14:13:50 & 2016-01-29 14:29:41 & 1 & 2.00 & -73.98127 & 40.75839 & NA & N & -73.98635 & 40.77897 & 1 & 11.5 & 0.0 & 0.5 & 1.50 & 0 & 0.3 & 13.80 &  1\\\\\n",
       "\t 2 & 2015-01-04 19:55:27 & 2015-01-04 20:00:53 & 1 & 0.78 & -74.00253 & 40.75269 &  1 & N & -73.99132 & 40.75177 & 1 &  5.5 & 0.0 & 0.5 & 1.10 & 0 & 0.3 &  7.40 & NA\\\\\n",
       "\t 1 & 2015-01-15 13:23:40 & 2015-01-15 13:35:18 & 1 & 1.90 & -73.98387 & 40.78062 &  1 & N & -73.96466 & 40.76981 & 1 &  9.5 & 0.0 & 0.5 & 2.05 & 0 & 0.3 & 12.35 & NA\\\\\n",
       "\\end{tabular}\n"
      ],
      "text/markdown": [
       "\n",
       "A tibble: 6 × 20\n",
       "\n",
       "| VendorID &lt;dbl&gt; | tpep_pickup_datetime &lt;dttm&gt; | tpep_dropoff_datetime &lt;dttm&gt; | passenger_count &lt;dbl&gt; | trip_distance &lt;dbl&gt; | pickup_longitude &lt;dbl&gt; | pickup_latitude &lt;dbl&gt; | RateCodeID &lt;dbl&gt; | store_and_fwd_flag &lt;chr&gt; | dropoff_longitude &lt;dbl&gt; | dropoff_latitude &lt;dbl&gt; | payment_type &lt;dbl&gt; | fare_amount &lt;dbl&gt; | extra &lt;dbl&gt; | mta_tax &lt;dbl&gt; | tip_amount &lt;dbl&gt; | tolls_amount &lt;dbl&gt; | improvement_surcharge &lt;dbl&gt; | total_amount &lt;dbl&gt; | RatecodeID &lt;dbl&gt; |\n",
       "|---|---|---|---|---|---|---|---|---|---|---|---|---|---|---|---|---|---|---|---|\n",
       "| 2 | 2016-03-27 21:14:57 | 2016-03-27 21:20:27 | 1 | 1.12 | -73.98667 | 40.72813 | NA | N | -73.98641 | 40.73848 | 1 |  6.0 | 0.5 | 0.5 | 1.46 | 0 | 0.3 |  8.76 |  1 |\n",
       "| 2 | 2016-02-20 18:15:45 | 2016-02-20 18:46:13 | 1 | 3.80 | -73.98663 | 40.77701 | NA | N | -74.00238 | 40.73035 | 1 | 19.5 | 0.0 | 0.5 | 1.50 | 0 | 0.3 | 21.80 |  1 |\n",
       "| 2 | 2016-01-02 17:26:54 | 2016-01-02 17:31:58 | 2 | 0.73 | -73.97395 | 40.76041 | NA | N | -73.96369 | 40.75890 | 1 |  5.5 | 0.0 | 0.5 | 1.00 | 0 | 0.3 |  7.30 |  1 |\n",
       "| 1 | 2016-01-29 14:13:50 | 2016-01-29 14:29:41 | 1 | 2.00 | -73.98127 | 40.75839 | NA | N | -73.98635 | 40.77897 | 1 | 11.5 | 0.0 | 0.5 | 1.50 | 0 | 0.3 | 13.80 |  1 |\n",
       "| 2 | 2015-01-04 19:55:27 | 2015-01-04 20:00:53 | 1 | 0.78 | -74.00253 | 40.75269 |  1 | N | -73.99132 | 40.75177 | 1 |  5.5 | 0.0 | 0.5 | 1.10 | 0 | 0.3 |  7.40 | NA |\n",
       "| 1 | 2015-01-15 13:23:40 | 2015-01-15 13:35:18 | 1 | 1.90 | -73.98387 | 40.78062 |  1 | N | -73.96466 | 40.76981 | 1 |  9.5 | 0.0 | 0.5 | 2.05 | 0 | 0.3 | 12.35 | NA |\n",
       "\n"
      ],
      "text/plain": [
       "  VendorID tpep_pickup_datetime tpep_dropoff_datetime passenger_count\n",
       "1 2        2016-03-27 21:14:57  2016-03-27 21:20:27   1              \n",
       "2 2        2016-02-20 18:15:45  2016-02-20 18:46:13   1              \n",
       "3 2        2016-01-02 17:26:54  2016-01-02 17:31:58   2              \n",
       "4 1        2016-01-29 14:13:50  2016-01-29 14:29:41   1              \n",
       "5 2        2015-01-04 19:55:27  2015-01-04 20:00:53   1              \n",
       "6 1        2015-01-15 13:23:40  2015-01-15 13:35:18   1              \n",
       "  trip_distance pickup_longitude pickup_latitude RateCodeID store_and_fwd_flag\n",
       "1 1.12          -73.98667        40.72813        NA         N                 \n",
       "2 3.80          -73.98663        40.77701        NA         N                 \n",
       "3 0.73          -73.97395        40.76041        NA         N                 \n",
       "4 2.00          -73.98127        40.75839        NA         N                 \n",
       "5 0.78          -74.00253        40.75269         1         N                 \n",
       "6 1.90          -73.98387        40.78062         1         N                 \n",
       "  dropoff_longitude dropoff_latitude payment_type fare_amount extra mta_tax\n",
       "1 -73.98641         40.73848         1             6.0        0.5   0.5    \n",
       "2 -74.00238         40.73035         1            19.5        0.0   0.5    \n",
       "3 -73.96369         40.75890         1             5.5        0.0   0.5    \n",
       "4 -73.98635         40.77897         1            11.5        0.0   0.5    \n",
       "5 -73.99132         40.75177         1             5.5        0.0   0.5    \n",
       "6 -73.96466         40.76981         1             9.5        0.0   0.5    \n",
       "  tip_amount tolls_amount improvement_surcharge total_amount RatecodeID\n",
       "1 1.46       0            0.3                    8.76         1        \n",
       "2 1.50       0            0.3                   21.80         1        \n",
       "3 1.00       0            0.3                    7.30         1        \n",
       "4 1.50       0            0.3                   13.80         1        \n",
       "5 1.10       0            0.3                    7.40        NA        \n",
       "6 2.05       0            0.3                   12.35        NA        "
      ]
     },
     "metadata": {},
     "output_type": "display_data"
    }
   ],
   "source": [
    "head(datos) # muestra las primeras filas del dataset"
   ]
  },
  {
   "cell_type": "markdown",
   "id": "1f8dc660",
   "metadata": {},
   "source": [
    "###\n",
    "<div style=\"display:flex; align-items:flex-start; gap:12px; background:linear-gradient(90deg,#7c3aed,#a855f7); padding:14px; border-radius:8px; box-shadow:0 4px 12px rgba(124,58,237,0.15); color:#fff; max-width:fit-content; width:min(800px,100%); margin:10px auto; margin-left:80px; box-sizing:border-box;\">\n",
    "    <div style=\"width:28px; height:28px; display:flex; align-items:center; justify-content:center; background:rgba(255,255,255,0.15); border-radius:6px; font-size:1.2rem; line-height:1;\">⚙️</div>\n",
    "    <div>\n",
    "        <div style=\"font-weight:700; font-size:1.15rem;\">Estructura del dataset</div>\n",
    "    </div>\n",
    "</div>"
   ]
  },
  {
   "cell_type": "code",
   "execution_count": 5,
   "id": "fe9f5b68",
   "metadata": {
    "vscode": {
     "languageId": "r"
    }
   },
   "outputs": [
    {
     "name": "stdout",
     "output_type": "stream",
     "text": [
      "Rows: 1,000,000\n",
      "Columns: 20\n",
      "$ VendorID              \u001b[3m\u001b[90m<dbl>\u001b[39m\u001b[23m 2\u001b[90m, \u001b[39m2\u001b[90m, \u001b[39m2\u001b[90m, \u001b[39m1\u001b[90m, \u001b[39m2\u001b[90m, \u001b[39m1\u001b[90m, \u001b[39m…\n",
      "$ tpep_pickup_datetime  \u001b[3m\u001b[90m<dttm>\u001b[39m\u001b[23m 2016-03-27 21:14:…\n",
      "$ tpep_dropoff_datetime \u001b[3m\u001b[90m<dttm>\u001b[39m\u001b[23m 2016-03-27 21:20:…\n",
      "$ passenger_count       \u001b[3m\u001b[90m<dbl>\u001b[39m\u001b[23m 1\u001b[90m, \u001b[39m1\u001b[90m, \u001b[39m2\u001b[90m, \u001b[39m1\u001b[90m, \u001b[39m1\u001b[90m, \u001b[39m1\u001b[90m, \u001b[39m…\n",
      "$ trip_distance         \u001b[3m\u001b[90m<dbl>\u001b[39m\u001b[23m 1.12\u001b[90m, \u001b[39m3.80\u001b[90m, \u001b[39m0.73\u001b[90m, \u001b[39m…\n",
      "$ pickup_longitude      \u001b[3m\u001b[90m<dbl>\u001b[39m\u001b[23m -73.98667\u001b[90m, \u001b[39m-73.986…\n",
      "$ pickup_latitude       \u001b[3m\u001b[90m<dbl>\u001b[39m\u001b[23m 40.72813\u001b[90m, \u001b[39m40.77701…\n",
      "$ RateCodeID            \u001b[3m\u001b[90m<dbl>\u001b[39m\u001b[23m \u001b[31mNA\u001b[39m\u001b[90m, \u001b[39m\u001b[31mNA\u001b[39m\u001b[90m, \u001b[39m\u001b[31mNA\u001b[39m\u001b[90m, \u001b[39m\u001b[31mNA\u001b[39m\u001b[90m, \u001b[39m1\u001b[90m,\u001b[39m…\n",
      "$ store_and_fwd_flag    \u001b[3m\u001b[90m<chr>\u001b[39m\u001b[23m \"N\"\u001b[90m, \u001b[39m\"N\"\u001b[90m, \u001b[39m\"N\"\u001b[90m, \u001b[39m\"N\"…\n",
      "$ dropoff_longitude     \u001b[3m\u001b[90m<dbl>\u001b[39m\u001b[23m -73.98641\u001b[90m, \u001b[39m-74.002…\n",
      "$ dropoff_latitude      \u001b[3m\u001b[90m<dbl>\u001b[39m\u001b[23m 40.73848\u001b[90m, \u001b[39m40.73035…\n",
      "$ payment_type          \u001b[3m\u001b[90m<dbl>\u001b[39m\u001b[23m 1\u001b[90m, \u001b[39m1\u001b[90m, \u001b[39m1\u001b[90m, \u001b[39m1\u001b[90m, \u001b[39m1\u001b[90m, \u001b[39m1\u001b[90m, \u001b[39m…\n",
      "$ fare_amount           \u001b[3m\u001b[90m<dbl>\u001b[39m\u001b[23m 6.0\u001b[90m, \u001b[39m19.5\u001b[90m, \u001b[39m5.5\u001b[90m, \u001b[39m11…\n",
      "$ extra                 \u001b[3m\u001b[90m<dbl>\u001b[39m\u001b[23m 0.5\u001b[90m, \u001b[39m0.0\u001b[90m, \u001b[39m0.0\u001b[90m, \u001b[39m0.0…\n",
      "$ mta_tax               \u001b[3m\u001b[90m<dbl>\u001b[39m\u001b[23m 0.5\u001b[90m, \u001b[39m0.5\u001b[90m, \u001b[39m0.5\u001b[90m, \u001b[39m0.5…\n",
      "$ tip_amount            \u001b[3m\u001b[90m<dbl>\u001b[39m\u001b[23m 1.46\u001b[90m, \u001b[39m1.50\u001b[90m, \u001b[39m1.00\u001b[90m, \u001b[39m…\n",
      "$ tolls_amount          \u001b[3m\u001b[90m<dbl>\u001b[39m\u001b[23m 0\u001b[90m, \u001b[39m0\u001b[90m, \u001b[39m0\u001b[90m, \u001b[39m0\u001b[90m, \u001b[39m0\u001b[90m, \u001b[39m0\u001b[90m, \u001b[39m…\n",
      "$ improvement_surcharge \u001b[3m\u001b[90m<dbl>\u001b[39m\u001b[23m 0.3\u001b[90m, \u001b[39m0.3\u001b[90m, \u001b[39m0.3\u001b[90m, \u001b[39m0.3…\n",
      "$ total_amount          \u001b[3m\u001b[90m<dbl>\u001b[39m\u001b[23m 8.76\u001b[90m, \u001b[39m21.80\u001b[90m, \u001b[39m7.30\u001b[90m,\u001b[39m…\n",
      "$ RatecodeID            \u001b[3m\u001b[90m<dbl>\u001b[39m\u001b[23m 1\u001b[90m, \u001b[39m1\u001b[90m, \u001b[39m1\u001b[90m, \u001b[39m1\u001b[90m, \u001b[39m\u001b[31mNA\u001b[39m\u001b[90m, \u001b[39m\u001b[31mNA\u001b[39m…\n"
     ]
    }
   ],
   "source": [
    "glimpse(datos, width = 50)"
   ]
  },
  {
   "cell_type": "markdown",
   "id": "6061f1f9",
   "metadata": {},
   "source": [
    "###\n",
    "<div style=\"display:flex; align-items:flex-start; gap:12px; background:linear-gradient(90deg,#7c3aed,#a855f7); padding:14px; border-radius:8px; box-shadow:0 4px 12px rgba(124,58,237,0.15); color:#fff; max-width:fit-content; width:min(800px,100%); margin:10px auto; margin-left:80px; box-sizing:border-box;\">\n",
    "    <div style=\"width:28px; height:28px; display:flex; align-items:center; justify-content:center; background:rgba(255,255,255,0.15); border-radius:6px; font-size:1.2rem; line-height:1;\">⚙️</div>\n",
    "    <div>\n",
    "        <div style=\"font-weight:700; font-size:1.15rem;\">Resumen rapido de las estadisticas descriptivas</div>\n",
    "    </div>\n",
    "</div>"
   ]
  },
  {
   "cell_type": "code",
   "execution_count": 6,
   "id": "eaf351b8",
   "metadata": {
    "vscode": {
     "languageId": "r"
    }
   },
   "outputs": [
    {
     "data": {
      "text/plain": [
       "    VendorID    tpep_pickup_datetime          tpep_dropoff_datetime        \n",
       " Min.   :1.00   Min.   :2015-01-01 00:00:00   Min.   :2015-01-01 00:00:00  \n",
       " 1st Qu.:1.00   1st Qu.:2015-01-30 06:39:53   1st Qu.:2015-01-30 06:51:04  \n",
       " Median :2.00   Median :2016-01-31 18:54:32   Median :2016-01-31 19:10:51  \n",
       " Mean   :1.53   Mean   :2015-11-01 14:02:52   Mean   :2015-11-01 14:17:54  \n",
       " 3rd Qu.:2.00   3rd Qu.:2016-03-02 01:08:12   3rd Qu.:2016-03-02 01:23:22  \n",
       " Max.   :2.00   Max.   :2016-03-31 23:59:54   Max.   :2016-06-07 14:27:58  \n",
       "                                                                           \n",
       " passenger_count trip_distance       pickup_longitude  pickup_latitude\n",
       " Min.   :0.000   Min.   :     0.00   Min.   :-131.82   Min.   : 0.00  \n",
       " 1st Qu.:1.000   1st Qu.:     1.00   1st Qu.: -73.99   1st Qu.:40.74  \n",
       " Median :1.000   Median :     1.69   Median : -73.98   Median :40.75  \n",
       " Mean   :1.667   Mean   :     4.00   Mean   : -72.77   Mean   :40.09  \n",
       " 3rd Qu.:2.000   3rd Qu.:     3.09   3rd Qu.: -73.97   3rd Qu.:40.77  \n",
       " Max.   :9.000   Max.   :833180.00   Max.   :   0.00   Max.   :60.91  \n",
       "                                                                      \n",
       "   RateCodeID     store_and_fwd_flag dropoff_longitude dropoff_latitude\n",
       " Min.   : 1.00    Length:1000000     Min.   :-121.93   Min.   : 0.00   \n",
       " 1st Qu.: 1.00    Class :character   1st Qu.: -73.99   1st Qu.:40.73   \n",
       " Median : 1.00    Mode  :character   Median : -73.98   Median :40.75   \n",
       " Mean   : 1.04                       Mean   : -72.83   Mean   :40.12   \n",
       " 3rd Qu.: 1.00                       3rd Qu.: -73.96   3rd Qu.:40.77   \n",
       " Max.   :99.00                       Max.   :   0.00   Max.   :43.68   \n",
       " NA's   :729645                                                        \n",
       "  payment_type    fare_amount          extra            mta_tax       \n",
       " Min.   :1.000   Min.   :-245.00   Min.   :-4.5000   Min.   :-0.5000  \n",
       " 1st Qu.:1.000   1st Qu.:   6.50   1st Qu.: 0.0000   1st Qu.: 0.5000  \n",
       " Median :1.000   Median :   9.00   Median : 0.0000   Median : 0.5000  \n",
       " Mean   :1.352   Mean   :  12.36   Mean   : 0.3246   Mean   : 0.4977  \n",
       " 3rd Qu.:2.000   3rd Qu.:  14.00   3rd Qu.: 0.5000   3rd Qu.: 0.5000  \n",
       " Max.   :4.000   Max.   :4008.00   Max.   : 8.0000   Max.   : 0.5000  \n",
       "                                                                      \n",
       "   tip_amount       tolls_amount      improvement_surcharge  total_amount    \n",
       " Min.   : -2.700   Min.   : -5.5400   Min.   :-0.3000       Min.   :-245.30  \n",
       " 1st Qu.:  0.000   1st Qu.:  0.0000   1st Qu.: 0.3000       1st Qu.:   8.30  \n",
       " Median :  1.250   Median :  0.0000   Median : 0.3000       Median :  11.60  \n",
       " Mean   :  1.708   Mean   :  0.2854   Mean   : 0.2953       Mean   :  15.47  \n",
       " 3rd Qu.:  2.260   3rd Qu.:  0.0000   3rd Qu.: 0.3000       3rd Qu.:  17.15  \n",
       " Max.   :297.350   Max.   :755.5400   Max.   : 0.3000       Max.   :4009.30  \n",
       "                                                                             \n",
       "   RatecodeID    \n",
       " Min.   : 1.000  \n",
       " 1st Qu.: 1.000  \n",
       " Median : 1.000  \n",
       " Mean   : 1.039  \n",
       " 3rd Qu.: 1.000  \n",
       " Max.   :99.000  \n",
       " NA's   :270355  "
      ]
     },
     "metadata": {},
     "output_type": "display_data"
    }
   ],
   "source": [
    "summary(datos)"
   ]
  },
  {
   "cell_type": "markdown",
   "id": "a38e1b39",
   "metadata": {},
   "source": [
    "#\n",
    "<div style=\"display:flex; align-items:flex-start; gap:14px; background:linear-gradient(90deg,#1e3a8a,#3b82f6); padding:20px; border-radius:12px; box-shadow:0 8px 20px rgba(30,58,138,0.25); color:#fff; max-width:fit-content; width:min(900px,100%); margin:16px auto; box-sizing:border-box;\">\n",
    "    <div style=\"width:40px; height:40px; display:flex; align-items:center; justify-content:center; background:rgba(255,255,255,0.1); border-radius:8px; font-size:1.8rem; line-height:1;\">🧹</div>\n",
    "        <div>\n",
    "            <div style=\"font-weight:900; font-size:1.8rem; letter-spacing:0.5px;\">Preparación y Limpieza de Datos</div>\n",
    "            <div style=\"opacity:0.9; font-size:0.95rem; margin-top:6px;\">Identificación de valores faltantes, fusión de columnas duplicadas y transformación de datos para preparar el dataset antes del análisis de regresión lineal múltiple.</div>\n",
    "        </div>\n",
    "</div>"
   ]
  },
  {
   "cell_type": "markdown",
   "id": "2dd3a70d",
   "metadata": {},
   "source": [
    "\n",
    "##\n",
    "<div style=\"display:flex; align-items:flex-start; gap:12px; background:linear-gradient(90deg,#ea580c,#f97316); padding:16px; border-radius:10px; box-shadow:0 6px 15px rgba(234,88,12,0.2); color:#fff; max-width:fit-content; width:min(850px,100%); margin:12px auto; margin-left:40px; box-sizing:border-box;\">\n",
    "    <div style=\"width:32px; height:32px; display:flex; align-items:center; justify-content:center; background:rgba(255,255,255,0.15); border-radius:6px; font-size:1.45rem; line-height:1;\">🔍</div>\n",
    "    <div>\n",
    "        <div style=\"font-weight:700; font-size:1.15rem;\">Revisar los N/A de cada columna</div>\n",
    "    </div>\n",
    "</div>"
   ]
  },
  {
   "cell_type": "code",
   "execution_count": 7,
   "id": "78abd7a1",
   "metadata": {
    "vscode": {
     "languageId": "r"
    }
   },
   "outputs": [
    {
     "data": {
      "text/html": [
       "<table class=\"dataframe\">\n",
       "<caption>A data.frame: 20 × 1</caption>\n",
       "<thead>\n",
       "\t<tr><th></th><th scope=col>Missing_Values</th></tr>\n",
       "\t<tr><th></th><th scope=col>&lt;dbl&gt;</th></tr>\n",
       "</thead>\n",
       "<tbody>\n",
       "\t<tr><th scope=row>VendorID</th><td>     0</td></tr>\n",
       "\t<tr><th scope=row>tpep_pickup_datetime</th><td>     0</td></tr>\n",
       "\t<tr><th scope=row>tpep_dropoff_datetime</th><td>     0</td></tr>\n",
       "\t<tr><th scope=row>passenger_count</th><td>     0</td></tr>\n",
       "\t<tr><th scope=row>trip_distance</th><td>     0</td></tr>\n",
       "\t<tr><th scope=row>pickup_longitude</th><td>     0</td></tr>\n",
       "\t<tr><th scope=row>pickup_latitude</th><td>     0</td></tr>\n",
       "\t<tr><th scope=row>RateCodeID</th><td>729645</td></tr>\n",
       "\t<tr><th scope=row>store_and_fwd_flag</th><td>     0</td></tr>\n",
       "\t<tr><th scope=row>dropoff_longitude</th><td>     0</td></tr>\n",
       "\t<tr><th scope=row>dropoff_latitude</th><td>     0</td></tr>\n",
       "\t<tr><th scope=row>payment_type</th><td>     0</td></tr>\n",
       "\t<tr><th scope=row>fare_amount</th><td>     0</td></tr>\n",
       "\t<tr><th scope=row>extra</th><td>     0</td></tr>\n",
       "\t<tr><th scope=row>mta_tax</th><td>     0</td></tr>\n",
       "\t<tr><th scope=row>tip_amount</th><td>     0</td></tr>\n",
       "\t<tr><th scope=row>tolls_amount</th><td>     0</td></tr>\n",
       "\t<tr><th scope=row>improvement_surcharge</th><td>     0</td></tr>\n",
       "\t<tr><th scope=row>total_amount</th><td>     0</td></tr>\n",
       "\t<tr><th scope=row>RatecodeID</th><td>270355</td></tr>\n",
       "</tbody>\n",
       "</table>\n"
      ],
      "text/latex": [
       "A data.frame: 20 × 1\n",
       "\\begin{tabular}{r|l}\n",
       "  & Missing\\_Values\\\\\n",
       "  & <dbl>\\\\\n",
       "\\hline\n",
       "\tVendorID &      0\\\\\n",
       "\ttpep\\_pickup\\_datetime &      0\\\\\n",
       "\ttpep\\_dropoff\\_datetime &      0\\\\\n",
       "\tpassenger\\_count &      0\\\\\n",
       "\ttrip\\_distance &      0\\\\\n",
       "\tpickup\\_longitude &      0\\\\\n",
       "\tpickup\\_latitude &      0\\\\\n",
       "\tRateCodeID & 729645\\\\\n",
       "\tstore\\_and\\_fwd\\_flag &      0\\\\\n",
       "\tdropoff\\_longitude &      0\\\\\n",
       "\tdropoff\\_latitude &      0\\\\\n",
       "\tpayment\\_type &      0\\\\\n",
       "\tfare\\_amount &      0\\\\\n",
       "\textra &      0\\\\\n",
       "\tmta\\_tax &      0\\\\\n",
       "\ttip\\_amount &      0\\\\\n",
       "\ttolls\\_amount &      0\\\\\n",
       "\timprovement\\_surcharge &      0\\\\\n",
       "\ttotal\\_amount &      0\\\\\n",
       "\tRatecodeID & 270355\\\\\n",
       "\\end{tabular}\n"
      ],
      "text/markdown": [
       "\n",
       "A data.frame: 20 × 1\n",
       "\n",
       "| <!--/--> | Missing_Values &lt;dbl&gt; |\n",
       "|---|---|\n",
       "| VendorID |      0 |\n",
       "| tpep_pickup_datetime |      0 |\n",
       "| tpep_dropoff_datetime |      0 |\n",
       "| passenger_count |      0 |\n",
       "| trip_distance |      0 |\n",
       "| pickup_longitude |      0 |\n",
       "| pickup_latitude |      0 |\n",
       "| RateCodeID | 729645 |\n",
       "| store_and_fwd_flag |      0 |\n",
       "| dropoff_longitude |      0 |\n",
       "| dropoff_latitude |      0 |\n",
       "| payment_type |      0 |\n",
       "| fare_amount |      0 |\n",
       "| extra |      0 |\n",
       "| mta_tax |      0 |\n",
       "| tip_amount |      0 |\n",
       "| tolls_amount |      0 |\n",
       "| improvement_surcharge |      0 |\n",
       "| total_amount |      0 |\n",
       "| RatecodeID | 270355 |\n",
       "\n"
      ],
      "text/plain": [
       "                      Missing_Values\n",
       "VendorID                   0        \n",
       "tpep_pickup_datetime       0        \n",
       "tpep_dropoff_datetime      0        \n",
       "passenger_count            0        \n",
       "trip_distance              0        \n",
       "pickup_longitude           0        \n",
       "pickup_latitude            0        \n",
       "RateCodeID            729645        \n",
       "store_and_fwd_flag         0        \n",
       "dropoff_longitude          0        \n",
       "dropoff_latitude           0        \n",
       "payment_type               0        \n",
       "fare_amount                0        \n",
       "extra                      0        \n",
       "mta_tax                    0        \n",
       "tip_amount                 0        \n",
       "tolls_amount               0        \n",
       "improvement_surcharge      0        \n",
       "total_amount               0        \n",
       "RatecodeID            270355        "
      ]
     },
     "metadata": {},
     "output_type": "display_data"
    }
   ],
   "source": [
    "data.frame(Missing_Values = colSums(is.na(datos)))"
   ]
  },
  {
   "cell_type": "markdown",
   "id": "764a7310",
   "metadata": {},
   "source": [
    "###\n",
    "<div style=\"display:flex; align-items:flex-start; gap:12px; background:linear-gradient(90deg,#7c3aed,#a855f7); padding:14px; border-radius:8px; box-shadow:0 4px 12px rgba(124,58,237,0.15); color:#fff; max-width:fit-content; width:min(800px,100%); margin:10px auto; margin-left:80px; box-sizing:border-box;\">\n",
    "    <div style=\"width:28px; height:28px; display:flex; align-items:center; justify-content:center; background:rgba(255,255,255,0.15); border-radius:6px; font-size:1.2rem; line-height:1;\">⚙️</div>\n",
    "    <div>\n",
    "        <div style=\"font-weight:700; font-size:1.15rem;\">Unificar columnas</div>\n",
    "        <div style=\"opacity:0.9; font-size:0.85rem; margin-top:3px;\">Existen dos columnas duplicadas que se pueden combinar, contienen datos en una columna que no están en la otra.</div>\n",
    "    </div>\n",
    "</div>"
   ]
  },
  {
   "cell_type": "code",
   "execution_count": 8,
   "id": "1a559569",
   "metadata": {
    "vscode": {
     "languageId": "r"
    }
   },
   "outputs": [],
   "source": [
    "datos <- datos %>%\n",
    "    mutate(RateCodeID = coalesce(RateCodeID, RatecodeID)) %>%\n",
    "    select(-RateCodeID, -RatecodeID)"
   ]
  },
  {
   "cell_type": "markdown",
   "id": "d88e496f",
   "metadata": {},
   "source": [
    "####\n",
    "<div style=\"display:flex; align-items:flex-start; gap:12px; background:linear-gradient(90deg,#059669,#10b981); padding:12px; border-radius:8px; box-shadow:0 4px 12px rgba(5,150,105,0.15); color:#fff; max-width:fit-content; width:min(750px,100%); margin:8px auto; margin-left:120px; box-sizing:border-box;\">\n",
    "    <div style=\"width:24px; height:24px; display:flex; align-items:center; justify-content:center; background:rgba(255,255,255,0.15); border-radius:4px; font-size:1rem; line-height:1;\">✅</div>\n",
    "    <div>\n",
    "        <div style=\"font-weight:600; font-size:1rem;\">Verificacion de que no existan valores faltantes</div>\n",
    "    </div>\n",
    "</div>"
   ]
  },
  {
   "cell_type": "code",
   "execution_count": 9,
   "id": "544cb741",
   "metadata": {
    "vscode": {
     "languageId": "r"
    }
   },
   "outputs": [
    {
     "data": {
      "text/html": [
       "<table class=\"dataframe\">\n",
       "<caption>A data.frame: 18 × 1</caption>\n",
       "<thead>\n",
       "\t<tr><th></th><th scope=col>Missing_Values</th></tr>\n",
       "\t<tr><th></th><th scope=col>&lt;dbl&gt;</th></tr>\n",
       "</thead>\n",
       "<tbody>\n",
       "\t<tr><th scope=row>VendorID</th><td>0</td></tr>\n",
       "\t<tr><th scope=row>tpep_pickup_datetime</th><td>0</td></tr>\n",
       "\t<tr><th scope=row>tpep_dropoff_datetime</th><td>0</td></tr>\n",
       "\t<tr><th scope=row>passenger_count</th><td>0</td></tr>\n",
       "\t<tr><th scope=row>trip_distance</th><td>0</td></tr>\n",
       "\t<tr><th scope=row>pickup_longitude</th><td>0</td></tr>\n",
       "\t<tr><th scope=row>pickup_latitude</th><td>0</td></tr>\n",
       "\t<tr><th scope=row>store_and_fwd_flag</th><td>0</td></tr>\n",
       "\t<tr><th scope=row>dropoff_longitude</th><td>0</td></tr>\n",
       "\t<tr><th scope=row>dropoff_latitude</th><td>0</td></tr>\n",
       "\t<tr><th scope=row>payment_type</th><td>0</td></tr>\n",
       "\t<tr><th scope=row>fare_amount</th><td>0</td></tr>\n",
       "\t<tr><th scope=row>extra</th><td>0</td></tr>\n",
       "\t<tr><th scope=row>mta_tax</th><td>0</td></tr>\n",
       "\t<tr><th scope=row>tip_amount</th><td>0</td></tr>\n",
       "\t<tr><th scope=row>tolls_amount</th><td>0</td></tr>\n",
       "\t<tr><th scope=row>improvement_surcharge</th><td>0</td></tr>\n",
       "\t<tr><th scope=row>total_amount</th><td>0</td></tr>\n",
       "</tbody>\n",
       "</table>\n"
      ],
      "text/latex": [
       "A data.frame: 18 × 1\n",
       "\\begin{tabular}{r|l}\n",
       "  & Missing\\_Values\\\\\n",
       "  & <dbl>\\\\\n",
       "\\hline\n",
       "\tVendorID & 0\\\\\n",
       "\ttpep\\_pickup\\_datetime & 0\\\\\n",
       "\ttpep\\_dropoff\\_datetime & 0\\\\\n",
       "\tpassenger\\_count & 0\\\\\n",
       "\ttrip\\_distance & 0\\\\\n",
       "\tpickup\\_longitude & 0\\\\\n",
       "\tpickup\\_latitude & 0\\\\\n",
       "\tstore\\_and\\_fwd\\_flag & 0\\\\\n",
       "\tdropoff\\_longitude & 0\\\\\n",
       "\tdropoff\\_latitude & 0\\\\\n",
       "\tpayment\\_type & 0\\\\\n",
       "\tfare\\_amount & 0\\\\\n",
       "\textra & 0\\\\\n",
       "\tmta\\_tax & 0\\\\\n",
       "\ttip\\_amount & 0\\\\\n",
       "\ttolls\\_amount & 0\\\\\n",
       "\timprovement\\_surcharge & 0\\\\\n",
       "\ttotal\\_amount & 0\\\\\n",
       "\\end{tabular}\n"
      ],
      "text/markdown": [
       "\n",
       "A data.frame: 18 × 1\n",
       "\n",
       "| <!--/--> | Missing_Values &lt;dbl&gt; |\n",
       "|---|---|\n",
       "| VendorID | 0 |\n",
       "| tpep_pickup_datetime | 0 |\n",
       "| tpep_dropoff_datetime | 0 |\n",
       "| passenger_count | 0 |\n",
       "| trip_distance | 0 |\n",
       "| pickup_longitude | 0 |\n",
       "| pickup_latitude | 0 |\n",
       "| store_and_fwd_flag | 0 |\n",
       "| dropoff_longitude | 0 |\n",
       "| dropoff_latitude | 0 |\n",
       "| payment_type | 0 |\n",
       "| fare_amount | 0 |\n",
       "| extra | 0 |\n",
       "| mta_tax | 0 |\n",
       "| tip_amount | 0 |\n",
       "| tolls_amount | 0 |\n",
       "| improvement_surcharge | 0 |\n",
       "| total_amount | 0 |\n",
       "\n"
      ],
      "text/plain": [
       "                      Missing_Values\n",
       "VendorID              0             \n",
       "tpep_pickup_datetime  0             \n",
       "tpep_dropoff_datetime 0             \n",
       "passenger_count       0             \n",
       "trip_distance         0             \n",
       "pickup_longitude      0             \n",
       "pickup_latitude       0             \n",
       "store_and_fwd_flag    0             \n",
       "dropoff_longitude     0             \n",
       "dropoff_latitude      0             \n",
       "payment_type          0             \n",
       "fare_amount           0             \n",
       "extra                 0             \n",
       "mta_tax               0             \n",
       "tip_amount            0             \n",
       "tolls_amount          0             \n",
       "improvement_surcharge 0             \n",
       "total_amount          0             "
      ]
     },
     "metadata": {},
     "output_type": "display_data"
    }
   ],
   "source": [
    "data.frame(Missing_Values = colSums(is.na(datos)))"
   ]
  },
  {
   "cell_type": "code",
   "execution_count": 10,
   "id": "b4b87de8",
   "metadata": {
    "vscode": {
     "languageId": "r"
    }
   },
   "outputs": [
    {
     "data": {
      "text/html": [
       "<table class=\"dataframe\">\n",
       "<caption>A tibble: 6 × 18</caption>\n",
       "<thead>\n",
       "\t<tr><th scope=col>VendorID</th><th scope=col>tpep_pickup_datetime</th><th scope=col>tpep_dropoff_datetime</th><th scope=col>passenger_count</th><th scope=col>trip_distance</th><th scope=col>pickup_longitude</th><th scope=col>pickup_latitude</th><th scope=col>store_and_fwd_flag</th><th scope=col>dropoff_longitude</th><th scope=col>dropoff_latitude</th><th scope=col>payment_type</th><th scope=col>fare_amount</th><th scope=col>extra</th><th scope=col>mta_tax</th><th scope=col>tip_amount</th><th scope=col>tolls_amount</th><th scope=col>improvement_surcharge</th><th scope=col>total_amount</th></tr>\n",
       "\t<tr><th scope=col>&lt;dbl&gt;</th><th scope=col>&lt;dttm&gt;</th><th scope=col>&lt;dttm&gt;</th><th scope=col>&lt;dbl&gt;</th><th scope=col>&lt;dbl&gt;</th><th scope=col>&lt;dbl&gt;</th><th scope=col>&lt;dbl&gt;</th><th scope=col>&lt;chr&gt;</th><th scope=col>&lt;dbl&gt;</th><th scope=col>&lt;dbl&gt;</th><th scope=col>&lt;dbl&gt;</th><th scope=col>&lt;dbl&gt;</th><th scope=col>&lt;dbl&gt;</th><th scope=col>&lt;dbl&gt;</th><th scope=col>&lt;dbl&gt;</th><th scope=col>&lt;dbl&gt;</th><th scope=col>&lt;dbl&gt;</th><th scope=col>&lt;dbl&gt;</th></tr>\n",
       "</thead>\n",
       "<tbody>\n",
       "\t<tr><td>2</td><td>2016-03-27 21:14:57</td><td>2016-03-27 21:20:27</td><td>1</td><td>1.12</td><td>-73.98667</td><td>40.72813</td><td>N</td><td>-73.98641</td><td>40.73848</td><td>1</td><td> 6.0</td><td>0.5</td><td>0.5</td><td>1.46</td><td>0</td><td>0.3</td><td> 8.76</td></tr>\n",
       "\t<tr><td>2</td><td>2016-02-20 18:15:45</td><td>2016-02-20 18:46:13</td><td>1</td><td>3.80</td><td>-73.98663</td><td>40.77701</td><td>N</td><td>-74.00238</td><td>40.73035</td><td>1</td><td>19.5</td><td>0.0</td><td>0.5</td><td>1.50</td><td>0</td><td>0.3</td><td>21.80</td></tr>\n",
       "\t<tr><td>2</td><td>2016-01-02 17:26:54</td><td>2016-01-02 17:31:58</td><td>2</td><td>0.73</td><td>-73.97395</td><td>40.76041</td><td>N</td><td>-73.96369</td><td>40.75890</td><td>1</td><td> 5.5</td><td>0.0</td><td>0.5</td><td>1.00</td><td>0</td><td>0.3</td><td> 7.30</td></tr>\n",
       "\t<tr><td>1</td><td>2016-01-29 14:13:50</td><td>2016-01-29 14:29:41</td><td>1</td><td>2.00</td><td>-73.98127</td><td>40.75839</td><td>N</td><td>-73.98635</td><td>40.77897</td><td>1</td><td>11.5</td><td>0.0</td><td>0.5</td><td>1.50</td><td>0</td><td>0.3</td><td>13.80</td></tr>\n",
       "\t<tr><td>2</td><td>2015-01-04 19:55:27</td><td>2015-01-04 20:00:53</td><td>1</td><td>0.78</td><td>-74.00253</td><td>40.75269</td><td>N</td><td>-73.99132</td><td>40.75177</td><td>1</td><td> 5.5</td><td>0.0</td><td>0.5</td><td>1.10</td><td>0</td><td>0.3</td><td> 7.40</td></tr>\n",
       "\t<tr><td>1</td><td>2015-01-15 13:23:40</td><td>2015-01-15 13:35:18</td><td>1</td><td>1.90</td><td>-73.98387</td><td>40.78062</td><td>N</td><td>-73.96466</td><td>40.76981</td><td>1</td><td> 9.5</td><td>0.0</td><td>0.5</td><td>2.05</td><td>0</td><td>0.3</td><td>12.35</td></tr>\n",
       "</tbody>\n",
       "</table>\n"
      ],
      "text/latex": [
       "A tibble: 6 × 18\n",
       "\\begin{tabular}{llllllllllllllllll}\n",
       " VendorID & tpep\\_pickup\\_datetime & tpep\\_dropoff\\_datetime & passenger\\_count & trip\\_distance & pickup\\_longitude & pickup\\_latitude & store\\_and\\_fwd\\_flag & dropoff\\_longitude & dropoff\\_latitude & payment\\_type & fare\\_amount & extra & mta\\_tax & tip\\_amount & tolls\\_amount & improvement\\_surcharge & total\\_amount\\\\\n",
       " <dbl> & <dttm> & <dttm> & <dbl> & <dbl> & <dbl> & <dbl> & <chr> & <dbl> & <dbl> & <dbl> & <dbl> & <dbl> & <dbl> & <dbl> & <dbl> & <dbl> & <dbl>\\\\\n",
       "\\hline\n",
       "\t 2 & 2016-03-27 21:14:57 & 2016-03-27 21:20:27 & 1 & 1.12 & -73.98667 & 40.72813 & N & -73.98641 & 40.73848 & 1 &  6.0 & 0.5 & 0.5 & 1.46 & 0 & 0.3 &  8.76\\\\\n",
       "\t 2 & 2016-02-20 18:15:45 & 2016-02-20 18:46:13 & 1 & 3.80 & -73.98663 & 40.77701 & N & -74.00238 & 40.73035 & 1 & 19.5 & 0.0 & 0.5 & 1.50 & 0 & 0.3 & 21.80\\\\\n",
       "\t 2 & 2016-01-02 17:26:54 & 2016-01-02 17:31:58 & 2 & 0.73 & -73.97395 & 40.76041 & N & -73.96369 & 40.75890 & 1 &  5.5 & 0.0 & 0.5 & 1.00 & 0 & 0.3 &  7.30\\\\\n",
       "\t 1 & 2016-01-29 14:13:50 & 2016-01-29 14:29:41 & 1 & 2.00 & -73.98127 & 40.75839 & N & -73.98635 & 40.77897 & 1 & 11.5 & 0.0 & 0.5 & 1.50 & 0 & 0.3 & 13.80\\\\\n",
       "\t 2 & 2015-01-04 19:55:27 & 2015-01-04 20:00:53 & 1 & 0.78 & -74.00253 & 40.75269 & N & -73.99132 & 40.75177 & 1 &  5.5 & 0.0 & 0.5 & 1.10 & 0 & 0.3 &  7.40\\\\\n",
       "\t 1 & 2015-01-15 13:23:40 & 2015-01-15 13:35:18 & 1 & 1.90 & -73.98387 & 40.78062 & N & -73.96466 & 40.76981 & 1 &  9.5 & 0.0 & 0.5 & 2.05 & 0 & 0.3 & 12.35\\\\\n",
       "\\end{tabular}\n"
      ],
      "text/markdown": [
       "\n",
       "A tibble: 6 × 18\n",
       "\n",
       "| VendorID &lt;dbl&gt; | tpep_pickup_datetime &lt;dttm&gt; | tpep_dropoff_datetime &lt;dttm&gt; | passenger_count &lt;dbl&gt; | trip_distance &lt;dbl&gt; | pickup_longitude &lt;dbl&gt; | pickup_latitude &lt;dbl&gt; | store_and_fwd_flag &lt;chr&gt; | dropoff_longitude &lt;dbl&gt; | dropoff_latitude &lt;dbl&gt; | payment_type &lt;dbl&gt; | fare_amount &lt;dbl&gt; | extra &lt;dbl&gt; | mta_tax &lt;dbl&gt; | tip_amount &lt;dbl&gt; | tolls_amount &lt;dbl&gt; | improvement_surcharge &lt;dbl&gt; | total_amount &lt;dbl&gt; |\n",
       "|---|---|---|---|---|---|---|---|---|---|---|---|---|---|---|---|---|---|\n",
       "| 2 | 2016-03-27 21:14:57 | 2016-03-27 21:20:27 | 1 | 1.12 | -73.98667 | 40.72813 | N | -73.98641 | 40.73848 | 1 |  6.0 | 0.5 | 0.5 | 1.46 | 0 | 0.3 |  8.76 |\n",
       "| 2 | 2016-02-20 18:15:45 | 2016-02-20 18:46:13 | 1 | 3.80 | -73.98663 | 40.77701 | N | -74.00238 | 40.73035 | 1 | 19.5 | 0.0 | 0.5 | 1.50 | 0 | 0.3 | 21.80 |\n",
       "| 2 | 2016-01-02 17:26:54 | 2016-01-02 17:31:58 | 2 | 0.73 | -73.97395 | 40.76041 | N | -73.96369 | 40.75890 | 1 |  5.5 | 0.0 | 0.5 | 1.00 | 0 | 0.3 |  7.30 |\n",
       "| 1 | 2016-01-29 14:13:50 | 2016-01-29 14:29:41 | 1 | 2.00 | -73.98127 | 40.75839 | N | -73.98635 | 40.77897 | 1 | 11.5 | 0.0 | 0.5 | 1.50 | 0 | 0.3 | 13.80 |\n",
       "| 2 | 2015-01-04 19:55:27 | 2015-01-04 20:00:53 | 1 | 0.78 | -74.00253 | 40.75269 | N | -73.99132 | 40.75177 | 1 |  5.5 | 0.0 | 0.5 | 1.10 | 0 | 0.3 |  7.40 |\n",
       "| 1 | 2015-01-15 13:23:40 | 2015-01-15 13:35:18 | 1 | 1.90 | -73.98387 | 40.78062 | N | -73.96466 | 40.76981 | 1 |  9.5 | 0.0 | 0.5 | 2.05 | 0 | 0.3 | 12.35 |\n",
       "\n"
      ],
      "text/plain": [
       "  VendorID tpep_pickup_datetime tpep_dropoff_datetime passenger_count\n",
       "1 2        2016-03-27 21:14:57  2016-03-27 21:20:27   1              \n",
       "2 2        2016-02-20 18:15:45  2016-02-20 18:46:13   1              \n",
       "3 2        2016-01-02 17:26:54  2016-01-02 17:31:58   2              \n",
       "4 1        2016-01-29 14:13:50  2016-01-29 14:29:41   1              \n",
       "5 2        2015-01-04 19:55:27  2015-01-04 20:00:53   1              \n",
       "6 1        2015-01-15 13:23:40  2015-01-15 13:35:18   1              \n",
       "  trip_distance pickup_longitude pickup_latitude store_and_fwd_flag\n",
       "1 1.12          -73.98667        40.72813        N                 \n",
       "2 3.80          -73.98663        40.77701        N                 \n",
       "3 0.73          -73.97395        40.76041        N                 \n",
       "4 2.00          -73.98127        40.75839        N                 \n",
       "5 0.78          -74.00253        40.75269        N                 \n",
       "6 1.90          -73.98387        40.78062        N                 \n",
       "  dropoff_longitude dropoff_latitude payment_type fare_amount extra mta_tax\n",
       "1 -73.98641         40.73848         1             6.0        0.5   0.5    \n",
       "2 -74.00238         40.73035         1            19.5        0.0   0.5    \n",
       "3 -73.96369         40.75890         1             5.5        0.0   0.5    \n",
       "4 -73.98635         40.77897         1            11.5        0.0   0.5    \n",
       "5 -73.99132         40.75177         1             5.5        0.0   0.5    \n",
       "6 -73.96466         40.76981         1             9.5        0.0   0.5    \n",
       "  tip_amount tolls_amount improvement_surcharge total_amount\n",
       "1 1.46       0            0.3                    8.76       \n",
       "2 1.50       0            0.3                   21.80       \n",
       "3 1.00       0            0.3                    7.30       \n",
       "4 1.50       0            0.3                   13.80       \n",
       "5 1.10       0            0.3                    7.40       \n",
       "6 2.05       0            0.3                   12.35       "
      ]
     },
     "metadata": {},
     "output_type": "display_data"
    }
   ],
   "source": [
    "head(datos)"
   ]
  },
  {
   "cell_type": "markdown",
   "id": "4284398c",
   "metadata": {},
   "source": [
    "##\n",
    "<div style=\"display:flex; align-items:flex-start; gap:12px; background:linear-gradient(90deg,#ea580c,#f97316); padding:16px; border-radius:10px; box-shadow:0 6px 15px rgba(234,88,12,0.2); color:#fff; max-width:fit-content; width:min(850px,100%); margin:12px auto; margin-left:40px; box-sizing:border-box;\">\n",
    "    <div style=\"width:32px; height:32px; display:flex; align-items:center; justify-content:center; background:rgba(255,255,255,0.15); border-radius:6px; font-size:1.45rem; line-height:1;\">🔍</div>\n",
    "    <div>\n",
    "        <div style=\"font-weight:800; font-size:1.35rem; letter-spacing:0.3px;\">Buscar columnas utiles</div>\n",
    "    </div>\n",
    "</div>"
   ]
  },
  {
   "cell_type": "markdown",
   "id": "9e37d24f",
   "metadata": {},
   "source": [
    "###\n",
    "<div style=\"display:flex; align-items:flex-start; gap:12px; background:linear-gradient(90deg,#7c3aed,#a855f7); padding:14px; border-radius:8px; box-shadow:0 4px 12px rgba(124,58,237,0.15); color:#fff; max-width:fit-content; width:min(800px,100%); margin:10px auto; margin-left:80px; box-sizing:border-box;\">\n",
    "    <div style=\"width:28px; height:28px; display:flex; align-items:center; justify-content:center; background:rgba(255,255,255,0.15); border-radius:6px; font-size:1.2rem; line-height:1;\">⚙️</div>\n",
    "    <div>\n",
    "        <div style=\"font-weight:700; font-size:1.15rem;\">Clasificar por tipo</div>\n",
    "    </div>\n",
    "</div>"
   ]
  },
  {
   "cell_type": "code",
   "execution_count": 11,
   "id": "d4e5a8b5",
   "metadata": {
    "vscode": {
     "languageId": "r"
    }
   },
   "outputs": [
    {
     "data": {
      "text/html": [
       "<style>\n",
       ".list-inline {list-style: none; margin:0; padding: 0}\n",
       ".list-inline>li {display: inline-block}\n",
       ".list-inline>li:not(:last-child)::after {content: \"\\00b7\"; padding: 0 .5ex}\n",
       "</style>\n",
       "<ol class=list-inline><li>'VendorID'</li><li>'passenger_count'</li><li>'trip_distance'</li><li>'pickup_longitude'</li><li>'pickup_latitude'</li><li>'dropoff_longitude'</li><li>'dropoff_latitude'</li><li>'payment_type'</li><li>'fare_amount'</li><li>'extra'</li><li>'mta_tax'</li><li>'tip_amount'</li><li>'tolls_amount'</li><li>'improvement_surcharge'</li><li>'total_amount'</li></ol>\n"
      ],
      "text/latex": [
       "\\begin{enumerate*}\n",
       "\\item 'VendorID'\n",
       "\\item 'passenger\\_count'\n",
       "\\item 'trip\\_distance'\n",
       "\\item 'pickup\\_longitude'\n",
       "\\item 'pickup\\_latitude'\n",
       "\\item 'dropoff\\_longitude'\n",
       "\\item 'dropoff\\_latitude'\n",
       "\\item 'payment\\_type'\n",
       "\\item 'fare\\_amount'\n",
       "\\item 'extra'\n",
       "\\item 'mta\\_tax'\n",
       "\\item 'tip\\_amount'\n",
       "\\item 'tolls\\_amount'\n",
       "\\item 'improvement\\_surcharge'\n",
       "\\item 'total\\_amount'\n",
       "\\end{enumerate*}\n"
      ],
      "text/markdown": [
       "1. 'VendorID'\n",
       "2. 'passenger_count'\n",
       "3. 'trip_distance'\n",
       "4. 'pickup_longitude'\n",
       "5. 'pickup_latitude'\n",
       "6. 'dropoff_longitude'\n",
       "7. 'dropoff_latitude'\n",
       "8. 'payment_type'\n",
       "9. 'fare_amount'\n",
       "10. 'extra'\n",
       "11. 'mta_tax'\n",
       "12. 'tip_amount'\n",
       "13. 'tolls_amount'\n",
       "14. 'improvement_surcharge'\n",
       "15. 'total_amount'\n",
       "\n",
       "\n"
      ],
      "text/plain": [
       " [1] \"VendorID\"              \"passenger_count\"       \"trip_distance\"        \n",
       " [4] \"pickup_longitude\"      \"pickup_latitude\"       \"dropoff_longitude\"    \n",
       " [7] \"dropoff_latitude\"      \"payment_type\"          \"fare_amount\"          \n",
       "[10] \"extra\"                 \"mta_tax\"               \"tip_amount\"           \n",
       "[13] \"tolls_amount\"          \"improvement_surcharge\" \"total_amount\"         "
      ]
     },
     "metadata": {},
     "output_type": "display_data"
    }
   ],
   "source": [
    "# variables solo numericas\n",
    "datos %>% select(where(is.numeric)) %>% names()"
   ]
  },
  {
   "cell_type": "code",
   "execution_count": 12,
   "id": "3da9dad6",
   "metadata": {
    "vscode": {
     "languageId": "r"
    }
   },
   "outputs": [
    {
     "data": {
      "text/html": [
       "'store_and_fwd_flag'"
      ],
      "text/latex": [
       "'store\\_and\\_fwd\\_flag'"
      ],
      "text/markdown": [
       "'store_and_fwd_flag'"
      ],
      "text/plain": [
       "[1] \"store_and_fwd_flag\""
      ]
     },
     "metadata": {},
     "output_type": "display_data"
    }
   ],
   "source": [
    "# variables solo categoricas\n",
    "datos %>% select(where(is.character)) %>% names()"
   ]
  },
  {
   "cell_type": "code",
   "execution_count": 13,
   "id": "797b411d",
   "metadata": {
    "vscode": {
     "languageId": "r"
    }
   },
   "outputs": [
    {
     "data": {
      "text/html": [
       "<style>\n",
       ".list-inline {list-style: none; margin:0; padding: 0}\n",
       ".list-inline>li {display: inline-block}\n",
       ".list-inline>li:not(:last-child)::after {content: \"\\00b7\"; padding: 0 .5ex}\n",
       "</style>\n",
       "<ol class=list-inline><li>'tpep_pickup_datetime'</li><li>'tpep_dropoff_datetime'</li></ol>\n"
      ],
      "text/latex": [
       "\\begin{enumerate*}\n",
       "\\item 'tpep\\_pickup\\_datetime'\n",
       "\\item 'tpep\\_dropoff\\_datetime'\n",
       "\\end{enumerate*}\n"
      ],
      "text/markdown": [
       "1. 'tpep_pickup_datetime'\n",
       "2. 'tpep_dropoff_datetime'\n",
       "\n",
       "\n"
      ],
      "text/plain": [
       "[1] \"tpep_pickup_datetime\"  \"tpep_dropoff_datetime\""
      ]
     },
     "metadata": {},
     "output_type": "display_data"
    }
   ],
   "source": [
    "# variables solo temporales\n",
    "datos %>% select(where(lubridate::is.POSIXct)) %>% names()"
   ]
  },
  {
   "cell_type": "markdown",
   "id": "9a961c15",
   "metadata": {},
   "source": [
    "###\n",
    "<div style=\"display:inline-flex; align-items:flex-start; gap:12px; background:linear-gradient(90deg,#7c3aed,#a855f7); padding:14px; border-radius:8px; box-shadow:0 4px 12px rgba(124,58,237,0.15); color:#fff; max-width:fit-content; width:min(800px,100%); margin:10px auto; margin-left:80px; box-sizing:border-box;\">\n",
    "    <div style=\"width:28px; height:28px; display:flex; align-items:center; justify-content:center; background:rgba(255,255,255,0.15); border-radius:6px; font-size:1.2rem; line-height:1;\">⚙️</div>\n",
    "    <div>\n",
    "        <div style=\"font-weight:700; font-size:1.15rem;\">Calcular la correlacion para entender con que columnas nos quedamos</div>\n",
    "    </div>\n",
    "</div>"
   ]
  },
  {
   "cell_type": "markdown",
   "id": "aaf9c498",
   "metadata": {},
   "source": [
    "####\n",
    "<div style=\"display:inline-flex; align-items:flex-start; gap:12px; background:linear-gradient(90deg,#059669,#10b981); padding:12px; border-radius:8px; box-shadow:0 4px 12px rgba(5,150,105,0.15); color:#fff; max-width:fit-content; margin:8px auto; margin-left:120px; box-sizing:border-box;\">\n",
    "    <div style=\"width:24px; height:24px; display:flex; align-items:center; justify-content:center; background:rgba(255,255,255,0.15); border-radius:4px; font-size:1rem; line-height:1;\">✅</div>\n",
    "    <div>\n",
    "        <div style=\"font-weight:600; font-size:1rem;\">seleccionar columnas numericas</div>\n",
    "    </div>\n",
    "</div>"
   ]
  },
  {
   "cell_type": "code",
   "execution_count": 14,
   "id": "01f088f4",
   "metadata": {
    "vscode": {
     "languageId": "r"
    }
   },
   "outputs": [],
   "source": [
    "datos_numericos <- datos %>% select(where(is.numeric))"
   ]
  },
  {
   "cell_type": "markdown",
   "id": "d22f78d4",
   "metadata": {},
   "source": [
    "####\n",
    "<div style=\"display:flex; align-items:flex-start; gap:12px; background:linear-gradient(90deg,#059669,#10b981); padding:12px; border-radius:8px; box-shadow:0 4px 12px rgba(5,150,105,0.15); color:#fff; max-width:fit-content; width:min(750px,100%); margin:8px auto; margin-left:120px; box-sizing:border-box;\">\n",
    "    <div style=\"width:24px; height:24px; display:flex; align-items:center; justify-content:center; background:rgba(255,255,255,0.15); border-radius:4px; font-size:1rem; line-height:1;\">✅</div>\n",
    "    <div>\n",
    "        <div style=\"font-weight:600; font-size:1rem;\">Calcular correlación</div>\n",
    "    </div>\n",
    "</div>"
   ]
  },
  {
   "cell_type": "code",
   "execution_count": 15,
   "id": "e1c7c32a",
   "metadata": {
    "vscode": {
     "languageId": "r"
    }
   },
   "outputs": [],
   "source": [
    "correlaciones <- cor(datos_numericos, method = \"pearson\")\n",
    "# filtrar para mostrar solo las relacionadas con total_amount\n",
    "corr_total <- correlaciones[\"total_amount\", ]"
   ]
  },
  {
   "cell_type": "markdown",
   "id": "9c5036cd",
   "metadata": {},
   "source": [
    "####\n",
    "<div style=\"display:flex; align-items:flex-start; gap:12px; background:linear-gradient(90deg,#059669,#10b981); padding:12px; border-radius:8px; box-shadow:0 4px 12px rgba(5,150,105,0.15); color:#fff; max-width:fit-content; width:min(750px,100%); margin:8px auto; margin-left:120px; box-sizing:border-box;\">\n",
    "    <div style=\"width:24px; height:24px; display:flex; align-items:center; justify-content:center; background:rgba(255,255,255,0.15); border-radius:4px; font-size:1rem; line-height:1;\">✅</div>\n",
    "    <div>\n",
    "        <div style=\"font-weight:600; font-size:1rem;\">Mostrar correlaciones</div>\n",
    "    </div>\n",
    "</div>"
   ]
  },
  {
   "cell_type": "code",
   "execution_count": 16,
   "id": "30349302",
   "metadata": {
    "vscode": {
     "languageId": "r"
    }
   },
   "outputs": [
    {
     "data": {
      "text/html": [
       "<table class=\"dataframe\">\n",
       "<caption>A data.frame: 14 × 2</caption>\n",
       "<thead>\n",
       "\t<tr><th scope=col>Variable</th><th scope=col>Correlacion</th></tr>\n",
       "\t<tr><th scope=col>&lt;chr&gt;</th><th scope=col>&lt;dbl&gt;</th></tr>\n",
       "</thead>\n",
       "<tbody>\n",
       "\t<tr><td>fare_amount          </td><td> 0.976436703</td></tr>\n",
       "\t<tr><td>tip_amount           </td><td> 0.650791067</td></tr>\n",
       "\t<tr><td>tolls_amount         </td><td> 0.492992473</td></tr>\n",
       "\t<tr><td>extra                </td><td> 0.049042163</td></tr>\n",
       "\t<tr><td>improvement_surcharge</td><td> 0.013093721</td></tr>\n",
       "\t<tr><td>VendorID             </td><td> 0.011503210</td></tr>\n",
       "\t<tr><td>pickup_longitude     </td><td> 0.010134694</td></tr>\n",
       "\t<tr><td>passenger_count      </td><td> 0.007967019</td></tr>\n",
       "\t<tr><td>dropoff_longitude    </td><td> 0.006631592</td></tr>\n",
       "\t<tr><td>trip_distance        </td><td> 0.002789734</td></tr>\n",
       "\t<tr><td>dropoff_latitude     </td><td>-0.006613016</td></tr>\n",
       "\t<tr><td>pickup_latitude      </td><td>-0.009699654</td></tr>\n",
       "\t<tr><td>payment_type         </td><td>-0.144000675</td></tr>\n",
       "\t<tr><td>mta_tax              </td><td>-0.196739510</td></tr>\n",
       "</tbody>\n",
       "</table>\n"
      ],
      "text/latex": [
       "A data.frame: 14 × 2\n",
       "\\begin{tabular}{ll}\n",
       " Variable & Correlacion\\\\\n",
       " <chr> & <dbl>\\\\\n",
       "\\hline\n",
       "\t fare\\_amount           &  0.976436703\\\\\n",
       "\t tip\\_amount            &  0.650791067\\\\\n",
       "\t tolls\\_amount          &  0.492992473\\\\\n",
       "\t extra                 &  0.049042163\\\\\n",
       "\t improvement\\_surcharge &  0.013093721\\\\\n",
       "\t VendorID              &  0.011503210\\\\\n",
       "\t pickup\\_longitude      &  0.010134694\\\\\n",
       "\t passenger\\_count       &  0.007967019\\\\\n",
       "\t dropoff\\_longitude     &  0.006631592\\\\\n",
       "\t trip\\_distance         &  0.002789734\\\\\n",
       "\t dropoff\\_latitude      & -0.006613016\\\\\n",
       "\t pickup\\_latitude       & -0.009699654\\\\\n",
       "\t payment\\_type          & -0.144000675\\\\\n",
       "\t mta\\_tax               & -0.196739510\\\\\n",
       "\\end{tabular}\n"
      ],
      "text/markdown": [
       "\n",
       "A data.frame: 14 × 2\n",
       "\n",
       "| Variable &lt;chr&gt; | Correlacion &lt;dbl&gt; |\n",
       "|---|---|\n",
       "| fare_amount           |  0.976436703 |\n",
       "| tip_amount            |  0.650791067 |\n",
       "| tolls_amount          |  0.492992473 |\n",
       "| extra                 |  0.049042163 |\n",
       "| improvement_surcharge |  0.013093721 |\n",
       "| VendorID              |  0.011503210 |\n",
       "| pickup_longitude      |  0.010134694 |\n",
       "| passenger_count       |  0.007967019 |\n",
       "| dropoff_longitude     |  0.006631592 |\n",
       "| trip_distance         |  0.002789734 |\n",
       "| dropoff_latitude      | -0.006613016 |\n",
       "| pickup_latitude       | -0.009699654 |\n",
       "| payment_type          | -0.144000675 |\n",
       "| mta_tax               | -0.196739510 |\n",
       "\n"
      ],
      "text/plain": [
       "   Variable              Correlacion \n",
       "1  fare_amount            0.976436703\n",
       "2  tip_amount             0.650791067\n",
       "3  tolls_amount           0.492992473\n",
       "4  extra                  0.049042163\n",
       "5  improvement_surcharge  0.013093721\n",
       "6  VendorID               0.011503210\n",
       "7  pickup_longitude       0.010134694\n",
       "8  passenger_count        0.007967019\n",
       "9  dropoff_longitude      0.006631592\n",
       "10 trip_distance          0.002789734\n",
       "11 dropoff_latitude      -0.006613016\n",
       "12 pickup_latitude       -0.009699654\n",
       "13 payment_type          -0.144000675\n",
       "14 mta_tax               -0.196739510"
      ]
     },
     "metadata": {},
     "output_type": "display_data"
    }
   ],
   "source": [
    "corr_df <- data.frame(\n",
    "    Variable = names(corr_total),\n",
    "    Correlacion = as.numeric(corr_total)\n",
    ") %>%\n",
    "    filter(Variable != \"total_amount\") %>%\n",
    "    arrange(desc(Correlacion))\n",
    "corr_df"
   ]
  },
  {
   "cell_type": "markdown",
   "id": "46c18a55",
   "metadata": {},
   "source": [
    "###\n",
    "<div style=\"display:flex; align-items:flex-start; gap:12px; background:linear-gradient(90deg,#7c3aed,#a855f7); padding:14px; border-radius:8px; box-shadow:0 4px 12px rgba(124,58,237,0.15); color:#fff; max-width:fit-content; width:min(800px,100%); margin:10px auto; margin-left:80px; box-sizing:border-box;\">\n",
    "    <div style=\"width:28px; height:28px; display:flex; align-items:center; justify-content:center; background:rgba(255,255,255,0.15); border-radius:6px; font-size:1.2rem; line-height:1;\">⚙️</div>\n",
    "    <div>\n",
    "        <div style=\"font-weight:700; font-size:1.15rem;\">Convertir variables categóricas a numéricas</div>\n",
    "        <div style=\"opacity:0.9; font-size:0.85rem; margin-top:3px;\">Las variables de texto (character) no pueden usarse directamente en el modelo de regresión. Se convierten a números: Y=1, N=0.</div>\n",
    "    </div>\n",
    "</div>"
   ]
  },
  {
   "cell_type": "code",
   "execution_count": null,
   "id": "77731456",
   "metadata": {
    "vscode": {
     "languageId": "r"
    }
   },
   "outputs": [],
   "source": [
    "# Convertir store_and_fwd_flag de texto (Y/N) a numérico (1/0)\n",
    "datos <- datos %>%\n",
    "  mutate(store_and_fwd = ifelse(store_and_fwd_flag == \"Y\", 1, 0)) %>%\n",
    "  select(-store_and_fwd_flag)  # Eliminar la original"
   ]
  },
  {
   "cell_type": "markdown",
   "id": "ca120909",
   "metadata": {},
   "source": [
    "###\n",
    "<div style=\"display:flex; align-items:flex-start; gap:12px; background:linear-gradient(90deg,#7c3aed,#a855f7); padding:14px; border-radius:8px; box-shadow:0 4px 12px rgba(124,58,237,0.15); color:#fff; max-width:fit-content; width:min(800px,100%); margin:10px auto; margin-left:80px; box-sizing:border-box;\">\n",
    "    <div style=\"width:28px; height:28px; display:flex; align-items:center; justify-content:center; background:rgba(255,255,255,0.15); border-radius:6px; font-size:1.2rem; line-height:1;\">⚙️</div>\n",
    "    <div>\n",
    "        <div style=\"font-weight:700; font-size:1.15rem;\">Crear variables numéricas desde fechas (Feature Engineering)</div>\n",
    "        <div style=\"opacity:0.9; font-size:0.85rem; margin-top:3px;\">Las fechas no se usan directamente. Se extraen características útiles: hora del día, día de la semana, si es fin de semana, si es hora pico.</div>\n",
    "    </div>\n",
    "</div>"
   ]
  },
  {
   "cell_type": "code",
   "execution_count": null,
   "id": "957b7391",
   "metadata": {
    "vscode": {
     "languageId": "r"
    }
   },
   "outputs": [],
   "source": [
    "# Extraer características numéricas desde tpep_pickup_datetime\n",
    "datos <- datos %>%\n",
    "  mutate(\n",
    "    pickup_hour = hour(tpep_pickup_datetime),\n",
    "    day_of_week = wday(tpep_pickup_datetime, week_start = 1),\n",
    "    is_weekend = ifelse(day_of_week %in% c(6, 7), 1, 0),\n",
    "    is_peak_hour = ifelse((pickup_hour >= 7 & pickup_hour <= 10) | \n",
    "                          (pickup_hour >= 17 & pickup_hour <= 20), 1, 0)\n",
    "  ) %>%\n",
    "  select(-tpep_pickup_datetime, -tpep_dropoff_datetime)\n"
   ]
  }
 ],
 "metadata": {
  "kernelspec": {
   "display_name": "R",
   "language": "R",
   "name": "ir"
  },
  "language_info": {
   "codemirror_mode": "r",
   "file_extension": ".r",
   "mimetype": "text/x-r-source",
   "name": "R",
   "pygments_lexer": "r",
   "version": "4.5.1"
  }
 },
 "nbformat": 4,
 "nbformat_minor": 5
}
