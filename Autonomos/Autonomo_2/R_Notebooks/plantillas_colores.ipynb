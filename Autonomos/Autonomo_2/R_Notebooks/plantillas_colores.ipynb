{
 "cells": [
  {
   "cell_type": "markdown",
   "id": "d275f842",
   "metadata": {},
   "source": [
    "# 🎨 PLANTILLAS DE COLORES - COPIAR Y PEGAR\n",
    "\n",
    "---\n",
    "\n",
    "## 📋 NIVEL 1: ETAPA PRINCIPAL (AZUL)"
   ]
  },
  {
   "cell_type": "markdown",
   "id": "9d7634f0",
   "metadata": {},
   "source": [
    "#\n",
    "<div style=\"display:flex; align-items:flex-start; gap:14px; background:linear-gradient(90deg,#1e3a8a,#3b82f6); padding:20px; border-radius:12px; box-shadow:0 8px 20px rgba(30,58,138,0.25); color:#fff; max-width:fit-content; width:min(900px,100%); margin:16px auto; box-sizing:border-box;\">\n",
    "    <div style=\"width:40px; height:40px; display:flex; align-items:center; justify-content:center; background:rgba(255,255,255,0.1); border-radius:8px; font-size:1.8rem; line-height:1;\">📋</div>\n",
    "    <div>\n",
    "        <div style=\"font-weight:900; font-size:1.8rem; letter-spacing:0.5px;\">ETAPA 1: Título de la Etapa Principal</div>\n",
    "        <div style=\"opacity:0.9; font-size:0.95rem; margin-top:6px;\">Descripción breve de lo que hace esta etapa principal del análisis.</div>\n",
    "    </div>\n",
    "</div>"
   ]
  },
  {
   "cell_type": "markdown",
   "id": "c85be95c",
   "metadata": {},
   "source": [
    "---\n",
    "\n",
    "## 🔧 NIVEL 2: SUBETAPA (NARANJA)"
   ]
  },
  {
   "cell_type": "markdown",
   "id": "e2c60850",
   "metadata": {},
   "source": [
    "##\n",
    "<div style=\"display:inline-flex; align-items:flex-start; gap:12px; background:linear-gradient(90deg,#ea580c,#f97316); padding:16px; border-radius:10px; box-shadow:0 6px 15px rgba(234,88,12,0.2); color:#fff; max-width:fit-content; width:min(850px,100%); margin:12px auto; margin-left:40px; box-sizing:border-box;\">\n",
    "    <div style=\"width:32px; height:32px; display:flex; align-items:center; justify-content:center; background:rgba(255,255,255,0.15); border-radius:6px; font-size:1.45rem; line-height:1;\">🔍</div>\n",
    "    <div>\n",
    "        <div style=\"font-weight:800; font-size:1.35rem; letter-spacing:0.3px;\">1.1 Título de la Subetapa</div>\n",
    "        <div style=\"opacity:0.92; font-size:0.9rem; margin-top:4px;\">Descripción de la tarea importante dentro de la etapa principal.</div>\n",
    "    </div>\n",
    "</div>"
   ]
  },
  {
   "cell_type": "markdown",
   "id": "8fcaa723",
   "metadata": {},
   "source": [
    "---\n",
    "\n",
    "## ⚙️ NIVEL 3: SUBTAREA (PÚRPURA)"
   ]
  },
  {
   "cell_type": "markdown",
   "id": "f46edb15",
   "metadata": {},
   "source": [
    "###\n",
    "<div style=\"display:inline-flex; align-items:flex-start; gap:12px; background:linear-gradient(90deg,#7c3aed,#a855f7); padding:14px; border-radius:8px; box-shadow:0 4px 12px rgba(124,58,237,0.15); color:#fff; max-width:fit-content; width:min(800px,100%); margin:10px auto; margin-left:80px; box-sizing:border-box;\">\n",
    "    <div style=\"width:28px; height:28px; display:flex; align-items:center; justify-content:center; background:rgba(255,255,255,0.15); border-radius:6px; font-size:1.2rem; line-height:1;\">⚙️</div>\n",
    "    <div>\n",
    "        <div style=\"font-weight:700; font-size:1.15rem;\">Paso 1.1.1: Acción Específica</div>\n",
    "        <div style=\"opacity:0.9; font-size:0.85rem; margin-top:3px;\">Descripción de una acción específica dentro de la subetapa.</div>\n",
    "    </div>\n",
    "</div>"
   ]
  },
  {
   "cell_type": "markdown",
   "id": "de4a4ce1",
   "metadata": {},
   "source": [
    "---\n",
    "\n",
    "## ✅ NIVEL 4: VALIDACIÓN (VERDE)"
   ]
  },
  {
   "cell_type": "markdown",
   "id": "44f3ba78",
   "metadata": {},
   "source": [
    "####\n",
    "<div style=\"display:inline-flex; align-items:flex-start; gap:12px; background:linear-gradient(90deg,#059669,#10b981); padding:12px; border-radius:8px; box-shadow:0 4px 12px rgba(5,150,105,0.15); color:#fff; max-width:fit-content; width:min(750px,100%); margin:8px auto; margin-left:120px; box-sizing:border-box;\">\n",
    "    <div style=\"width:24px; height:24px; display:flex; align-items:center; justify-content:center; background:rgba(255,255,255,0.15); border-radius:4px; font-size:1rem; line-height:1;\">✅</div>\n",
    "    <div>\n",
    "        <div style=\"font-weight:600; font-size:1rem;\">Verificación: Resultado validado</div>\n",
    "        <div style=\"opacity:0.85; font-size:0.8rem; margin-top:2px;\">Confirmación de que el paso se completó correctamente.</div>\n",
    "    </div>\n",
    "</div>"
   ]
  },
  {
   "cell_type": "markdown",
   "id": "660a23dc",
   "metadata": {},
   "source": [
    "---\n",
    "\n",
    "## 🚨 ETAPA PRINCIPAL ALTERNATIVA (ROJO) - Para secciones críticas"
   ]
  },
  {
   "cell_type": "markdown",
   "id": "f5fc7375",
   "metadata": {},
   "source": [
    "<div style=\"display:inline-flex; align-items:flex-start; gap:14px; background:linear-gradient(90deg,#991b1b,#dc2626); padding:20px; border-radius:12px; box-shadow:0 8px 20px rgba(153,27,27,0.25); color:#fff; max-width:fit-content; width:min(900px,100%); margin:16px auto; box-sizing:border-box;\">\n",
    "    <div style=\"width:40px; height:40px; display:flex; align-items:center; justify-content:center; background:rgba(255,255,255,0.1); border-radius:8px; font-size:1.8rem; line-height:1;\">📊</div>\n",
    "    <div>\n",
    "        <div style=\"font-weight:900; font-size:1.8rem; letter-spacing:0.5px;\">ETAPA 2: Análisis Exploratorio de Datos</div>\n",
    "        <div style=\"opacity:0.9; font-size:0.95rem; margin-top:6px;\">Explorar distribuciones, patrones, correlaciones y anomalías en los datos.</div>\n",
    "    </div>\n",
    "</div>"
   ]
  },
  {
   "cell_type": "markdown",
   "id": "3246aed7",
   "metadata": {},
   "source": [
    "---\n",
    "\n",
    "## 🔨 ETAPA PRINCIPAL ALTERNATIVA (VERDE) - Para construcción/creación"
   ]
  },
  {
   "cell_type": "markdown",
   "id": "96a2b534",
   "metadata": {},
   "source": [
    "<div style=\"display:flex; align-items:flex-start; gap:14px; background:linear-gradient(90deg,#065f46,#059669); padding:20px; border-radius:12px; box-shadow:0 8px 20px rgba(6,95,70,0.25); color:#fff; max-width:900px; width:min(900px,100%); margin:16px auto; box-sizing:border-box;\">\n",
    "    <div style=\"width:40px; height:40px; display:flex; align-items:center; justify-content:center; background:rgba(255,255,255,0.1); border-radius:8px; font-size:1.8rem; line-height:1;\">🔨</div>\n",
    "    <div>\n",
    "        <div style=\"font-weight:900; font-size:1.8rem; letter-spacing:0.5px;\">ETAPA 3: Ingeniería de Características</div>\n",
    "        <div style=\"opacity:0.9; font-size:0.95rem; margin-top:6px;\">Crear, transformar y seleccionar variables para mejorar el modelo predictivo.</div>\n",
    "    </div>\n",
    "</div>"
   ]
  },
  {
   "cell_type": "markdown",
   "id": "3a5ef3a9",
   "metadata": {},
   "source": [
    "---\n",
    "\n",
    "## 🎯 SUBETAPA ALTERNATIVA (CYAN) - Para análisis técnico"
   ]
  },
  {
   "cell_type": "markdown",
   "id": "2023e023",
   "metadata": {},
   "source": [
    "<div style=\"display:flex; align-items:flex-start; gap:12px; background:linear-gradient(90deg,#0e7490,#06b6d4); padding:16px; border-radius:10px; box-shadow:0 6px 15px rgba(14,116,144,0.2); color:#fff; max-width:fit-content; width:min(850px,100%); margin:12px auto; margin-left:40px; box-sizing:border-box;\">\n",
    "    <div style=\"width:32px; height:32px; display:flex; align-items:center; justify-content:center; background:rgba(255,255,255,0.15); border-radius:6px; font-size:1.45rem; line-height:1;\">📐</div>\n",
    "    <div>\n",
    "        <div style=\"font-weight:800; font-size:1.35rem; letter-spacing:0.3px;\">2.1 Análisis de Correlaciones</div>\n",
    "        <div style=\"opacity:0.92; font-size:0.9rem; margin-top:4px;\">Identificar relaciones lineales entre variables mediante matrices de correlación.</div>\n",
    "    </div>\n",
    "</div>"
   ]
  },
  {
   "cell_type": "markdown",
   "id": "4ac8c7f7",
   "metadata": {},
   "source": [
    "---\n",
    "\n",
    "## ⚠️ VALIDACIÓN ALTERNATIVA (AMARILLO) - Para advertencias"
   ]
  },
  {
   "cell_type": "markdown",
   "id": "de44ca43",
   "metadata": {},
   "source": [
    "<div style=\"display:flex; align-items:flex-start; gap:12px; background:linear-gradient(90deg,#ca8a04,#eab308); padding:12px; border-radius:8px; box-shadow:0 4px 12px rgba(202,138,4,0.15); color:#fff; max-width:fit-content; width:min(750px,100%); margin:8px auto; margin-left:120px; box-sizing:border-box;\">\n",
    "    <div style=\"width:24px; height:24px; display:flex; align-items:center; justify-content:center; background:rgba(255,255,255,0.15); border-radius:4px; font-size:1rem; line-height:1;\">⚠️</div>\n",
    "    <div>\n",
    "        <div style=\"font-weight:600; font-size:1rem;\">Advertencia: Revisar valores atípicos</div>\n",
    "        <div style=\"opacity:0.85; font-size:0.8rem; margin-top:2px;\">Se detectaron outliers que requieren análisis antes de continuar.</div>\n",
    "    </div>\n",
    "</div>"
   ]
  }
 ],
 "metadata": {
  "language_info": {
   "name": "python"
  }
 },
 "nbformat": 4,
 "nbformat_minor": 5
}
