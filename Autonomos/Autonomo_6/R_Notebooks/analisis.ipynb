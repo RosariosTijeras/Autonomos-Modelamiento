{
 "cells": [
  {
   "cell_type": "markdown",
   "id": "26187e76",
   "metadata": {},
   "source": [
    "# Universidad Nacional de Chimborazo\n",
    "\n",
    "**Facultad:** Facultad de Ingeniería  \n",
    "**Carrera:** Ciencia de Datos e IA  \n",
    "**Materia:** Modelamiento  \n",
    "**Docente:** Estalin Mejia H.  \n",
    "**Semestre:** Tercero\n",
    "\n",
    "---\n",
    "\n",
    "## Trabajo Autónomo 2\n",
    "\n",
    "### [Título del Trabajo]\n",
    "\n",
    "**Autores:**  \n",
    "- Alisson Atupaña\n",
    "- Mario Camacho\n",
    "- Lenin Lopez\n",
    "\n",
    "**Fecha:** [Fecha]\n",
    "\n",
    "**Riobamba - Ecuador**\n",
    "\n",
    "---"
   ]
  }
 ],
 "metadata": {
  "language_info": {
   "name": "python"
  }
 },
 "nbformat": 4,
 "nbformat_minor": 5
}
